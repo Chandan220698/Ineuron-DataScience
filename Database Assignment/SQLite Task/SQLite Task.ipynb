{
 "cells": [
  {
   "cell_type": "markdown",
   "id": "7165286b",
   "metadata": {},
   "source": [
    "Task for today : dataset - https://archive.ics.uci.edu/ml/datasets/Bag+of+Words\n",
    "\n",
    "q1 = try to find out a count of each and every word in a respective file return a list of tuple with word and its respective count<br>\n",
    "   sample example -  [('sudh', 6 ) , ('kumar',3)]\n",
    "    \n",
    "    \n",
    "q2 = try to perform a reduce operation to get a count of all the word starting with same alphabet<br>\n",
    "    sample examle = [(a,56) , (b,34),...........]\n",
    "    \n",
    "    \n",
    "q3 = Try to filter out all the words from dataset . <br>\n",
    ".001.abstract = abstract\n",
    "=.002 = delete\n",
    "\n",
    "\n",
    "q4 = create a tuple set of all the records avaialble in all the five file and then store it in sqllite DB .<br> \n",
    "(aah,>=,354,fdsf,wer)"
   ]
  },
  {
   "cell_type": "markdown",
   "id": "2d4fd394",
   "metadata": {},
   "source": [
    "--------------------\n",
    "## Data Analysis:\n",
    "----------------------------------------\n",
    "\n",
    "### Each Text Collection has:\n",
    "\n",
    " - D is the number of documents\n",
    " - W is the number of words in the vocabulary\n",
    " - N is the total number of words in the collection\n",
    " \n",
    "### Five Text Collections:\n",
    " \n",
    "- Enron\n",
    "- NIPS\n",
    "- KOS\n",
    "- NYTimes\n",
    "- PubMed"
   ]
  },
  {
   "cell_type": "markdown",
   "id": "629ab568",
   "metadata": {},
   "source": [
    "## Five Text Collections:\n",
    "\n",
    "#### 1. Enron Emails:\n",
    "- D=39861\n",
    "- W=28102<br>\n",
    "- N=6,400,000 (approx)\n",
    "\n",
    "\n",
    "#### 2. NIPS full papers:\n",
    "- D=1500<br>\n",
    "- W=12419<br>\n",
    "- N=1,900,000 (approx)\n",
    "\n",
    "\n",
    "#### 3. KOS blog entries:<br>\n",
    "- D=3430<br>\n",
    "- W=6906<br>\n",
    "- N=467714\n",
    "\n",
    "\n",
    "#### 4. NYTimes news articles:<br>\n",
    "- D=300000<br>\n",
    "- W=102660<br>\n",
    "- N=100,000,000 (approx)\n",
    "\n",
    "\n",
    "#### 5. PubMed abstracts:<br>\n",
    "- D=8200000<br>\n",
    "- W=141043<br>\n",
    "- N=730,000,000 (approx)"
   ]
  },
  {
   "cell_type": "markdown",
   "id": "3b879459",
   "metadata": {},
   "source": [
    "---------------------"
   ]
  },
  {
   "cell_type": "code",
   "execution_count": 1,
   "id": "14d6b7ae",
   "metadata": {},
   "outputs": [],
   "source": [
    "import logging \n",
    "\n",
    "## Creating logging config\n",
    "\n",
    "logging.basicConfig(filename='vocab_logfile.log',\n",
    "                    filemode='a',\n",
    "                    level = logging.INFO,\n",
    "                    format='%(asctime)s %(levelname)s-%(message)s',\n",
    "                    datefmt='%Y-%m-%d %H:%M:%S'\n",
    "                    )\n",
    "\n",
    "## Creating Logger Object\n",
    "logger = logging.getLogger()\n",
    "logger.setLevel(logging.DEBUG)"
   ]
  },
  {
   "cell_type": "markdown",
   "id": "d278fb05",
   "metadata": {},
   "source": [
    "## Task 1: \n",
    "q1 = try to find out a count of each and every word in a respective file return a list of tuple with word and its respective count<br>\n",
    "   sample example -  [('sudh', 6 ) , ('kumar',3)]"
   ]
  },
  {
   "cell_type": "code",
   "execution_count": 2,
   "id": "40c0ca9d",
   "metadata": {},
   "outputs": [],
   "source": [
    "import csv\n",
    "\n",
    "def wordCount(*args):\n",
    "    \"\"\"\n",
    "    wordCount(file1, file2, ... filen)\n",
    "    wordCount(*args)\n",
    "\n",
    "    This function take file(s) as argument and return word with occurence count.\n",
    "\n",
    "    :param:\n",
    "        *args: file(s).\n",
    "    :return: ('word', count(word)) : list(tuples)\n",
    "    \"\"\"\n",
    "    words = []\n",
    "    \n",
    "    try:\n",
    "        for file in args:\n",
    "            with open(file, 'r', encoding=\"utf8\") as f:\n",
    "                data = csv.reader(f)\n",
    "                for row_data in data:\n",
    "                    words.append(row_data[0])\n",
    "    except Exception as e:\n",
    "        logger.error('Error in reading files: ' + str(e))\n",
    "    else:\n",
    "        word_count = []\n",
    "        unique_words = list(set(words))\n",
    "        unique_words.sort()\n",
    "\n",
    "        for i in unique_words:\n",
    "            word_count.append((i, words.count(i)))\n",
    "            #yield (i, words.count(i))\n",
    "        logger.info('Word count for records: ' +  str(len(word_count)) + ' from ' + str(len(args)) + 'Datasets')\n",
    "        \n",
    "        return word_count\n",
    "        "
   ]
  },
  {
   "cell_type": "code",
   "execution_count": 5,
   "id": "a36d47fe",
   "metadata": {},
   "outputs": [],
   "source": [
    "### Feteching records for data 'vocab.enron.txt' and 'vocab.kos.txt'"
   ]
  },
  {
   "cell_type": "code",
   "execution_count": 3,
   "id": "fb06ce27",
   "metadata": {},
   "outputs": [],
   "source": [
    "task1 = wordCount('vocab.enron.txt', 'vocab.kos.txt')"
   ]
  },
  {
   "cell_type": "markdown",
   "id": "c6b08d58",
   "metadata": {},
   "source": [
    "### Feteching top 20 data"
   ]
  },
  {
   "cell_type": "code",
   "execution_count": 6,
   "id": "c163f2a1",
   "metadata": {},
   "outputs": [
    {
     "data": {
      "text/plain": [
       "[('aaa', 1),\n",
       " ('aaas', 1),\n",
       " ('aactive', 1),\n",
       " ('aadvantage', 1),\n",
       " ('aaker', 1),\n",
       " ('aap', 1),\n",
       " ('aapg', 1),\n",
       " ('aaron', 1),\n",
       " ('aarp', 2),\n",
       " ('aas', 1),\n",
       " ('aau', 1),\n",
       " ('ab1890', 1),\n",
       " ('ab1x', 1),\n",
       " ('ab31x', 1),\n",
       " ('aba', 1),\n",
       " ('abacus', 1),\n",
       " ('abag', 1),\n",
       " ('abalone', 1),\n",
       " ('abandon', 2),\n",
       " ('abandoned', 2)]"
      ]
     },
     "execution_count": 6,
     "metadata": {},
     "output_type": "execute_result"
    }
   ],
   "source": [
    "task1[0:20]"
   ]
  },
  {
   "cell_type": "markdown",
   "id": "3ed3c8f6",
   "metadata": {},
   "source": [
    "## Task 2:\n",
    "q2 = try to perform a reduce operation to get a count of all the word starting with same alphabet<br>\n",
    "    sample examle = [(a,56) , (b,34),...........]"
   ]
  },
  {
   "cell_type": "code",
   "execution_count": 7,
   "id": "0ce4dc6e",
   "metadata": {},
   "outputs": [],
   "source": [
    "import csv\n",
    "\n",
    "def wordCount_reduce(*args):\n",
    "    \"\"\"\n",
    "    wordCount_reduce(file1, file2, ... filen)\n",
    "    wordCount_reduce(*args)\n",
    "\n",
    "    This function take file(s) as argument and return alphabets with occurence count.\n",
    "\n",
    "    :param:\n",
    "        *args: file(s).\n",
    "    :return: ('alphabets', count(alphabets)) : list(tuples)\n",
    "    \"\"\"\n",
    "    words = []\n",
    "    \n",
    "    try:\n",
    "        for file in args:\n",
    "            with open(file, 'r', encoding=\"utf8\") as f:\n",
    "                data = csv.reader(f)\n",
    "                for row_data in data:\n",
    "                    if row_data[0][0] >= 'a' and row_data[0][0] <= 'z' or row_data[0][0] >= 'A' and row_data[0][0] <= 'Z':\n",
    "                        words.append(row_data[0][0])\n",
    "                        \n",
    "    except Exception as e:\n",
    "        logger.error('Error in reading files: ' + str(e))\n",
    "    \n",
    "    else:\n",
    "        word_count = []\n",
    "        unique_words = list(set(words))\n",
    "        unique_words.sort()\n",
    "\n",
    "\n",
    "        for i in unique_words:\n",
    "            word_count.append((i, words.count(i)))\n",
    "        \n",
    "        logger.info('Data record count : ' +  str(len(word_count)) + ' from ' + str(len(args)) + 'Datasets')\n",
    "        \n",
    "        return word_count"
   ]
  },
  {
   "cell_type": "code",
   "execution_count": 8,
   "id": "abe3b4ec",
   "metadata": {},
   "outputs": [],
   "source": [
    "### Feteching records for data 'vocab.enron.txt' and 'vocab.kos.txt'"
   ]
  },
  {
   "cell_type": "code",
   "execution_count": 9,
   "id": "b04d132d",
   "metadata": {},
   "outputs": [
    {
     "data": {
      "text/plain": [
       "[('a', 12501),\n",
       " ('b', 7046),\n",
       " ('c', 15155),\n",
       " ('d', 8388),\n",
       " ('e', 7143),\n",
       " ('f', 5642),\n",
       " ('g', 5150),\n",
       " ('h', 7418),\n",
       " ('i', 7097),\n",
       " ('j', 933),\n",
       " ('k', 1855),\n",
       " ('l', 5716),\n",
       " ('m', 10734),\n",
       " ('n', 7647),\n",
       " ('o', 4026),\n",
       " ('p', 15247),\n",
       " ('q', 634),\n",
       " ('r', 7620),\n",
       " ('s', 13603),\n",
       " ('t', 8447),\n",
       " ('u', 2908),\n",
       " ('v', 2784),\n",
       " ('w', 2289),\n",
       " ('x', 425),\n",
       " ('y', 412),\n",
       " ('z', 477)]"
      ]
     },
     "execution_count": 9,
     "metadata": {},
     "output_type": "execute_result"
    }
   ],
   "source": [
    "wordCount_reduce('vocab.enron.txt', 'vocab.pubmed.txt')"
   ]
  },
  {
   "cell_type": "markdown",
   "id": "79974995",
   "metadata": {},
   "source": [
    "## Task 3:\n",
    "q3 = Try to filter out all the words from dataset . <br>\n",
    ".001.abstract = abstract\n",
    "=.002 = delete"
   ]
  },
  {
   "cell_type": "code",
   "execution_count": 10,
   "id": "a7f920b6",
   "metadata": {},
   "outputs": [],
   "source": [
    "import csv\n",
    "\n",
    "def filter_word(*args):\n",
    "    \"\"\"\n",
    "    filter_word(file1, file2, ... filen)\n",
    "    filter_word(*args)\n",
    "\n",
    "    This function take file(s) as argument extract only the letters and return  as list.\n",
    "\n",
    "    :param:\n",
    "        *args: file(s).\n",
    "    :return: ('characters') : list(strings)\n",
    "    \"\"\"\n",
    "    words = []\n",
    "    \n",
    "    try:\n",
    "        for file in args:\n",
    "            with open(file, 'r', encoding=\"utf8\") as f:\n",
    "                data = csv.reader(f)\n",
    "                for row_data in data:\n",
    "                    current_word = \"\"\n",
    "                    for char in row_data[0]:\n",
    "                        if char >= 'a' and char <= 'z' or char[0][0] >= 'A' and char[0][0] <= 'Z':\n",
    "                            current_word += char\n",
    "                    words.append(current_word)\n",
    "\n",
    "    except Exception as e:\n",
    "        logger.error('Error in reading files: ' + str(e))\n",
    "        \n",
    "    else:\n",
    "        alpha = []\n",
    "        unique_words = list(set(words))\n",
    "        unique_words.sort()\n",
    "\n",
    "\n",
    "        for i in unique_words:\n",
    "             #yield (i)\n",
    "            if len(i) > 0:\n",
    "                alpha.append(i)\n",
    "                \n",
    "        logger.info('Total filter records: ' +  str(len(alpha)) + ' from ' + str(len(args)) + 'Datasets')\n",
    "        \n",
    "        return alpha"
   ]
  },
  {
   "cell_type": "code",
   "execution_count": 13,
   "id": "e8d6512d",
   "metadata": {},
   "outputs": [],
   "source": [
    "### Feteching records for data 'vocab.pubmed.txt'"
   ]
  },
  {
   "cell_type": "code",
   "execution_count": 14,
   "id": "adb999cb",
   "metadata": {},
   "outputs": [],
   "source": [
    "filter_words = filter_word('vocab.pubmed.txt')"
   ]
  },
  {
   "cell_type": "markdown",
   "id": "3b3c0c83",
   "metadata": {},
   "source": [
    "### Fetching top 10 records"
   ]
  },
  {
   "cell_type": "code",
   "execution_count": 16,
   "id": "a78f6ec3",
   "metadata": {},
   "outputs": [
    {
     "data": {
      "text/plain": [
       "['a',\n",
       " 'aa',\n",
       " 'aaa',\n",
       " 'aaaa',\n",
       " 'aaad',\n",
       " 'aaamyloidosis',\n",
       " 'aaar',\n",
       " 'aaas',\n",
       " 'aab',\n",
       " 'aabb']"
      ]
     },
     "execution_count": 16,
     "metadata": {},
     "output_type": "execute_result"
    }
   ],
   "source": [
    "filter_words[:10]"
   ]
  },
  {
   "cell_type": "markdown",
   "id": "a2eae398",
   "metadata": {},
   "source": [
    "### Task 4:\n",
    "q4 = create a tuple set of all the records avaialble in all the five file and then store it in sqllite DB .<br> \n",
    "(aah,>=,354,fdsf,wer)"
   ]
  },
  {
   "cell_type": "markdown",
   "id": "6e7de2a1",
   "metadata": {},
   "source": [
    "### Function to fetch records from n collections"
   ]
  },
  {
   "cell_type": "code",
   "execution_count": 17,
   "id": "c4d52f27",
   "metadata": {},
   "outputs": [],
   "source": [
    "import csv\n",
    "\n",
    "def task4(*args):\n",
    "    \"\"\"\n",
    "    task4(file1, file2, ... filen)\n",
    "    task4(*args)\n",
    "\n",
    "    This function take file(s) as argument and return list of list.\n",
    "\n",
    "    :param:\n",
    "        *args: file(s).\n",
    "    :return: ('string') : list(strings)\n",
    "    \"\"\"\n",
    "    combine_words = []\n",
    "    try:\n",
    "        for file in args:\n",
    "            with open(file, 'r', encoding=\"utf8\") as f:\n",
    "                data = csv.reader(f)\n",
    "                words = []\n",
    "                for row_data in data:\n",
    "                    words.append(row_data[0])\n",
    "                combine_words.append(words)\n",
    "    \n",
    "    except Exception as e:\n",
    "        logger.error('Error in reading files: ' + str(e))\n",
    "    else:\n",
    "        logger.info('Success Return of list of list')\n",
    "                \n",
    "        return combine_words\n",
    "    "
   ]
  },
  {
   "cell_type": "markdown",
   "id": "3c67d005",
   "metadata": {},
   "source": [
    "### fetching data from all 5 collections"
   ]
  },
  {
   "cell_type": "code",
   "execution_count": 18,
   "id": "af0f1f72",
   "metadata": {},
   "outputs": [],
   "source": [
    "file = task4('vocab.enron.txt', 'vocab.kos.txt', 'vocab.nips.txt', 'vocab.nytimes.txt', 'vocab.pubmed.txt')"
   ]
  },
  {
   "cell_type": "markdown",
   "id": "6721d5a0",
   "metadata": {},
   "source": [
    "### Spliting the data into 5 parts"
   ]
  },
  {
   "cell_type": "code",
   "execution_count": 20,
   "id": "86f5153d",
   "metadata": {},
   "outputs": [],
   "source": [
    "f1 = file[0]\n",
    "f2 = file[1]\n",
    "f3 = file[2]\n",
    "f4 = file[3]\n",
    "f5 = file[4]"
   ]
  },
  {
   "cell_type": "markdown",
   "id": "e62ce420",
   "metadata": {},
   "source": [
    "### Using zip function and create a final list for dumping data into SQLite"
   ]
  },
  {
   "cell_type": "code",
   "execution_count": 21,
   "id": "3f2350ce",
   "metadata": {},
   "outputs": [],
   "source": [
    "final_zip_list = list(zip(f1, f2, f3, f4, f5))"
   ]
  },
  {
   "cell_type": "markdown",
   "id": "4f5649ff",
   "metadata": {},
   "source": [
    "### Preview of final list data to dump into the SQLite DB"
   ]
  },
  {
   "cell_type": "code",
   "execution_count": 23,
   "id": "81f2f85f",
   "metadata": {},
   "outputs": [
    {
     "data": {
      "text/plain": [
       "[('aaa', 'aarp', 'a2i', 'aah', '>='),\n",
       " ('aaas', 'abandon', 'aaa', 'aahed', '>>'),\n",
       " ('aactive', 'abandoned', 'aaai', 'aaron', '>>>'),\n",
       " ('aadvantage', 'abandoning', 'aapo', 'aback', '>/='),\n",
       " ('aaker', 'abb', 'aat', 'abacus', '->'),\n",
       " ('aap', 'abc', 'aazhang', 'abajo', '--'),\n",
       " ('aapg', 'abcs', 'abandonment', 'abalone', '-->'),\n",
       " ('aaron', 'abdullah', 'abbott', 'abandon', '-/-'),\n",
       " ('aarp', 'ability', 'abbreviated', 'abandoned', '-/+'),\n",
       " ('aas', 'aboard', 'abcde', 'abandoning', '/-'),\n",
       " ('aau', 'abortion', 'abe', 'abandonment', '/+-'),\n",
       " ('ab1890', 'abortions', 'abeles', 'abandono', '..'),\n",
       " ('ab1x', 'abraham', 'abi', 'abarnard', '...'),\n",
       " ('ab31x', 'abrams', 'abilistic', 'abashed', '+-'),\n",
       " ('aba', 'abroad', 'abilities', 'abate', '+/')]"
      ]
     },
     "execution_count": 23,
     "metadata": {},
     "output_type": "execute_result"
    }
   ],
   "source": [
    "final_zip_list[:15]"
   ]
  },
  {
   "cell_type": "markdown",
   "id": "97aff65c",
   "metadata": {},
   "source": [
    "### SQLite Database and Table Creation \n",
    "### Dumping the above data into the Table"
   ]
  },
  {
   "cell_type": "code",
   "execution_count": 24,
   "id": "94554901",
   "metadata": {},
   "outputs": [],
   "source": [
    "import sqlite3\n",
    "\n",
    "try:\n",
    "    db = sqlite3.connect('vocab_database.db')\n",
    "    logger.info('Database Created: ' +  str(db))\n",
    "    cursor = db.cursor()\n",
    "    query = \"CREATE TABLE main_table(file1 text, file2 text, file3 text, file4 text, file5 text)\"\n",
    "    cursor.execute(query)\n",
    "\n",
    "    record_count = 0 \n",
    "    for record in final_zip_list:\n",
    "        query = \"INSERT INTO main_table VALUES {}\".format(tuple(record))\n",
    "        cursor.execute(query)\n",
    "        record_count += 1\n",
    "        \n",
    "    db.commit()\n",
    "    \n",
    "    logger.info('Total records inserted: ' +  str(record_count))\n",
    "        \n",
    "except Exception as e:\n",
    "    logger.error('Error: ' + str(e))\n",
    "finally:\n",
    "    db.close()"
   ]
  },
  {
   "cell_type": "code",
   "execution_count": 25,
   "id": "cec67669",
   "metadata": {},
   "outputs": [],
   "source": [
    "import sqlite3\n",
    "db = sqlite3.connect('vocab_database.db')\n",
    "cursor = db.cursor()"
   ]
  },
  {
   "cell_type": "markdown",
   "id": "54549d1a",
   "metadata": {},
   "source": [
    "### Fetching the top 20 records from SQLite Table"
   ]
  },
  {
   "cell_type": "code",
   "execution_count": 27,
   "id": "5af96c88",
   "metadata": {},
   "outputs": [
    {
     "data": {
      "text/plain": [
       "[('aaa', 'aarp', 'a2i', 'aah', '>='),\n",
       " ('aaas', 'abandon', 'aaa', 'aahed', '>>'),\n",
       " ('aactive', 'abandoned', 'aaai', 'aaron', '>>>'),\n",
       " ('aadvantage', 'abandoning', 'aapo', 'aback', '>/='),\n",
       " ('aaker', 'abb', 'aat', 'abacus', '->'),\n",
       " ('aap', 'abc', 'aazhang', 'abajo', '--'),\n",
       " ('aapg', 'abcs', 'abandonment', 'abalone', '-->'),\n",
       " ('aaron', 'abdullah', 'abbott', 'abandon', '-/-'),\n",
       " ('aarp', 'ability', 'abbreviated', 'abandoned', '-/+'),\n",
       " ('aas', 'aboard', 'abcde', 'abandoning', '/-'),\n",
       " ('aau', 'abortion', 'abe', 'abandonment', '/+-'),\n",
       " ('ab1890', 'abortions', 'abeles', 'abandono', '..'),\n",
       " ('ab1x', 'abraham', 'abi', 'abarnard', '...'),\n",
       " ('ab31x', 'abrams', 'abilistic', 'abashed', '+-'),\n",
       " ('aba', 'abroad', 'abilities', 'abate', '+/'),\n",
       " ('abacus', 'absence', 'ability', 'abated', '+/--'),\n",
       " ('abag', 'absent', 'abl', 'abatement', '+/?'),\n",
       " ('abalone', 'absentee', 'able', 'abating', '+/+'),\n",
       " ('abandon', 'absolute', 'ables', 'abbey', '++'),\n",
       " ('abandoned', 'absolutely', 'ablex', 'abbot', '+++')]"
      ]
     },
     "execution_count": 27,
     "metadata": {},
     "output_type": "execute_result"
    }
   ],
   "source": [
    "data = cursor.execute(\"select * from main_table limit 20\")\n",
    "[i for i in data]"
   ]
  },
  {
   "attachments": {
    "image.png": {
     "image/png": "[encoded data removed]"
    }
   },
   "cell_type": "markdown",
   "id": "34825fab",
   "metadata": {},
   "source": [
    "### Log File Preview\n",
    "![image.png](attachment:image.png)"
   ]
  },
  {
   "cell_type": "code",
   "execution_count": null,
   "id": "c843b360",
   "metadata": {},
   "outputs": [],
   "source": []
  }
 ],
 "metadata": {
  "kernelspec": {
   "display_name": "Python 3 (ipykernel)",
   "language": "python",
   "name": "python3"
  },
  "language_info": {
   "codemirror_mode": {
    "name": "ipython",
    "version": 3
   },
   "file_extension": ".py",
   "mimetype": "text/x-python",
   "name": "python",
   "nbconvert_exporter": "python",
   "pygments_lexer": "ipython3",
   "version": "3.9.7"
  }
 },
 "nbformat": 4,
 "nbformat_minor": 5
}
