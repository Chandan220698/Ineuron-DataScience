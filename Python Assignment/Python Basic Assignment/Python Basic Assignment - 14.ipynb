{
 "cells": [
  {
   "cell_type": "markdown",
   "id": "5dabee1c",
   "metadata": {},
   "source": [
    "## Python Basic Assignment 14\n",
    "------------"
   ]
  },
  {
   "cell_type": "markdown",
   "id": "1d7b902a",
   "metadata": {},
   "source": [
    "### 1. What does RGBA stand for?\n",
    "\n",
    "##### Ans:\n",
    "\n",
    "RGBA: Red-Green-Blue-Alpha"
   ]
  },
  {
   "cell_type": "markdown",
   "id": "5fae8ceb",
   "metadata": {},
   "source": [
    "### 2.From the Pillow module, how do you get the RGBA value of any images?\n",
    "\n",
    "##### Ans:\n",
    "\n",
    "from PIL import ImageColor\n",
    "\n",
    "ImageColor.getcolor(color_name, 'RGBA')"
   ]
  },
  {
   "cell_type": "markdown",
   "id": "b648ad08",
   "metadata": {},
   "source": [
    "### 3.What is a box tuple, and how does it work?\n",
    "\n",
    "##### Ans:\n",
    "\n",
    "Many Pillow's function take box tuple argument. This means pillow is taking a tuple of four integer coordinates that expecting a rectangular region in image. The four integers are in order left, top, right, bottom."
   ]
  },
  {
   "cell_type": "markdown",
   "id": "e6a688ee",
   "metadata": {},
   "source": [
    "### 4.Use your image and load in notebook then, How can you find out the width and height of an Image object?\n",
    "\n",
    "##### Sol:"
   ]
  },
  {
   "cell_type": "code",
   "execution_count": 2,
   "id": "378eef86",
   "metadata": {},
   "outputs": [
    {
     "name": "stdout",
     "output_type": "stream",
     "text": [
      "width= 1920\n",
      "height= 1160\n"
     ]
    }
   ],
   "source": [
    "from PIL import Image\n",
    "im=Image.open(\"image.jpg\")\n",
    "width, height = im.size\n",
    "print(\"width=\", width)\n",
    "print(\"height=\", height)"
   ]
  },
  {
   "cell_type": "markdown",
   "id": "29df869c",
   "metadata": {},
   "source": [
    "### 5.What method would you call to get Image object for a 100×100 image, excluding the lower-left quarter of it?\n",
    "\n",
    "##### Ans:\n",
    "\n",
    "from PIL import Image\n",
    "\n",
    "Image.new('RGBA', (100,100))"
   ]
  },
  {
   "cell_type": "markdown",
   "id": "bebf90ef",
   "metadata": {},
   "source": [
    "### 6.After making changes to an Image object, how could you save it as an image file?\n",
    "\n",
    "##### Ans:\n",
    "\n",
    "save(filename)"
   ]
  },
  {
   "cell_type": "markdown",
   "id": "36b89eec",
   "metadata": {},
   "source": [
    "### 7.What module contains Pillow’s shape-drawing code?\n",
    "\n",
    "##### Ans:\n",
    "\n",
    "ImageDraw"
   ]
  },
  {
   "cell_type": "markdown",
   "id": "aa1d6c88",
   "metadata": {},
   "source": [
    "### 8.Image objects do not have drawing methods. What kind of object does? How do you get this kind of object?\n",
    "\n",
    "##### Ans:\n",
    "\n",
    "wand.drawing.Drawing object has drawing methods.\n",
    "\n",
    "It can be got this way:\n",
    "\n",
    "from wand.drawing import Drawing"
   ]
  },
  {
   "cell_type": "code",
   "execution_count": null,
   "id": "cd81e307",
   "metadata": {},
   "outputs": [],
   "source": []
  }
 ],
 "metadata": {
  "kernelspec": {
   "display_name": "Python 3 (ipykernel)",
   "language": "python",
   "name": "python3"
  },
  "language_info": {
   "codemirror_mode": {
    "name": "ipython",
    "version": 3
   },
   "file_extension": ".py",
   "mimetype": "text/x-python",
   "name": "python",
   "nbconvert_exporter": "python",
   "pygments_lexer": "ipython3",
   "version": "3.9.7"
  }
 },
 "nbformat": 4,
 "nbformat_minor": 5
}
