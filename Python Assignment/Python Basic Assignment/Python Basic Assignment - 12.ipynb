{
 "cells": [
  {
   "cell_type": "markdown",
   "id": "058ebb3c",
   "metadata": {},
   "source": [
    "### Python Basic Assignment 12\n",
    "-----------------"
   ]
  },
  {
   "cell_type": "markdown",
   "id": "89bf1411",
   "metadata": {},
   "source": [
    "### 1.In what modes should the PdfFileReader() and PdfFileWriter() File objects will be opened?\n",
    "\n",
    "PdfFileReader() should be opened in read-binary mode. PdfFileWriter() should be opened in write-binary mode.\n",
    "\n",
    "### 2.From a PdfFileReader object, how do you get a Page object for page 5?\n",
    "\n",
    "PdfFileReader.getPage(5)\n",
    "\n",
    "### 3.What PdfFileReader variable stores the number of pages in the PDF document?\n",
    "\n",
    "numPages\n",
    "\n",
    "### 4.If a PdfFileReader object’s PDF is encrypted with the password swordfish, what must you do before you can obtain Page objects from it?\n",
    "\n",
    "obj.decrypt(\"swordfish\")\n",
    "\n",
    "### 5.What methods do you use to rotate a page?\n",
    "\n",
    "rotateClockwise() and rotateCounterClockwise()\n",
    "\n",
    "### 6.What is the difference between a Run object and a Paragraph object?\n",
    "\n",
    "paragraps object is needed to get paragraph from a document, runs object is needed whenever text style changes in a paragraph.\n",
    "\n",
    "### 7.How do you obtain a list of Paragraph objects for a Document object that’s stored in a variable named doc?\n",
    "\n",
    "doc.paragraphs\n",
    "\n",
    "### 8.What type of object has bold, underline, italic, strike, and outline variables?\n",
    "\n",
    "runs\n",
    "\n",
    "### 9.What is the difference between False, True, and None for the bold variable?\n",
    "\n",
    "True = bold is always enabled no matter what other styles are applied to the run, False = bold is always disabled, None = defaults to whatever the run's style set to\n",
    "\n",
    "### 10.How do you create a Document object for a new Word document?\n",
    "\n",
    "import docx\n",
    "\n",
    "doc=docx.Document(.docx file name)\n",
    "\n",
    "### 11.How do you add a paragraph with the text 'Hello, there!' to a Document object stored in a variable named doc?\n",
    "\n",
    "doc.add_paragraph(\"Hello, there!\")\n",
    "\n",
    "### 12.What integers represent the levels of headings available in Word documents?\n",
    "\n",
    "0 to 4"
   ]
  },
  {
   "cell_type": "code",
   "execution_count": null,
   "id": "fb57356b",
   "metadata": {},
   "outputs": [],
   "source": []
  }
 ],
 "metadata": {
  "kernelspec": {
   "display_name": "Python 3 (ipykernel)",
   "language": "python",
   "name": "python3"
  },
  "language_info": {
   "codemirror_mode": {
    "name": "ipython",
    "version": 3
   },
   "file_extension": ".py",
   "mimetype": "text/x-python",
   "name": "python",
   "nbconvert_exporter": "python",
   "pygments_lexer": "ipython3",
   "version": "3.9.7"
  }
 },
 "nbformat": 4,
 "nbformat_minor": 5
}
