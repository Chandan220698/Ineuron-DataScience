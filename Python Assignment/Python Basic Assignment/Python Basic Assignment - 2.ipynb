{
 "cells": [
  {
   "cell_type": "markdown",
   "id": "5958046d",
   "metadata": {},
   "source": [
    "# Python Basic Assignment\n",
    "## Assignment - 2"
   ]
  },
  {
   "cell_type": "markdown",
   "id": "72da9141",
   "metadata": {},
   "source": [
    "------------------------------------"
   ]
  },
  {
   "cell_type": "markdown",
   "id": "4006c54d",
   "metadata": {},
   "source": [
    "#### 1.What are the two values of the Boolean data type? How do you write them?\n",
    "##### Ans:\n",
    "There are 2 values of Boolean Data Type\n",
    "1. True 2. False\n",
    "\n",
    "Syntax: True, False"
   ]
  },
  {
   "cell_type": "code",
   "execution_count": 1,
   "id": "06945930",
   "metadata": {},
   "outputs": [
    {
     "name": "stdout",
     "output_type": "stream",
     "text": [
      "a:  True\n",
      "b:  False\n"
     ]
    }
   ],
   "source": [
    "a = True\n",
    "b = False\n",
    "print('a: ', a)\n",
    "print('b: ', b)"
   ]
  },
  {
   "cell_type": "markdown",
   "id": "52e7b2ac",
   "metadata": {},
   "source": [
    "--------------------------------"
   ]
  },
  {
   "cell_type": "markdown",
   "id": "8ce8572b",
   "metadata": {},
   "source": [
    "#### 2. What are the three different types of Boolean operators?\n",
    "\n",
    "##### Ans:\n",
    "There different types of Boolean operators are:\n",
    "1. AND\n",
    "2. OR\n",
    "3. NOT"
   ]
  },
  {
   "cell_type": "markdown",
   "id": "63055b2c",
   "metadata": {},
   "source": [
    "-------------------------------------"
   ]
  },
  {
   "cell_type": "markdown",
   "id": "45998885",
   "metadata": {},
   "source": [
    "#### 3. Make a list of each Boolean operator's truth tables <br> (i.e. every possible combination of Boolean values for the operator and what it evaluate ).\n",
    "\n",
    "\n",
    "##### Ans:"
   ]
  },
  {
   "cell_type": "code",
   "execution_count": 2,
   "id": "571c4387",
   "metadata": {},
   "outputs": [
    {
     "data": {
      "text/plain": [
       "[1, 0, 0, 0]"
      ]
     },
     "execution_count": 2,
     "metadata": {},
     "output_type": "execute_result"
    }
   ],
   "source": [
    "list_AND = [1 and 1, 1 and 0, 0 and 1, 0 and 0]\n",
    "list_AND"
   ]
  },
  {
   "cell_type": "code",
   "execution_count": 3,
   "id": "b715e86d",
   "metadata": {},
   "outputs": [
    {
     "data": {
      "text/plain": [
       "[1, 1, 1, 0]"
      ]
     },
     "execution_count": 3,
     "metadata": {},
     "output_type": "execute_result"
    }
   ],
   "source": [
    "list_OR = [1 or 1, 1 or 0, 0 or 1, 0 or 0]\n",
    "list_OR"
   ]
  },
  {
   "cell_type": "code",
   "execution_count": 4,
   "id": "55b19c98",
   "metadata": {},
   "outputs": [
    {
     "data": {
      "text/plain": [
       "[False, True]"
      ]
     },
     "execution_count": 4,
     "metadata": {},
     "output_type": "execute_result"
    }
   ],
   "source": [
    "list_NOT = [not 1, not 0]\n",
    "list_NOT"
   ]
  },
  {
   "cell_type": "markdown",
   "id": "16ec49e1",
   "metadata": {},
   "source": [
    "----------------------"
   ]
  },
  {
   "cell_type": "markdown",
   "id": "1b8d7d48",
   "metadata": {},
   "source": [
    "#### 4. What are the values of the following expressions?\n",
    "    (5 > 4) and (3 == 5)\n",
    "    not (5 > 4)\n",
    "    (5 > 4) or (3 == 5)\n",
    "    not ((5 > 4) or (3 == 5))\n",
    "    (True and True) and (True == False)\n",
    "    (not False) or (not True)\n",
    "\n",
    "##### Ans:\n",
    "    1. (5 > 4) and (3 == 5)                   = False\n",
    "    2. not (5 > 4)                            = False\n",
    "    3. (5 > 4) or (3 == 5)                    = True\n",
    "    4. not ((5 > 4) or (3 == 5))              = False \n",
    "    5. (True and True) and (True == False)    = False\n",
    "    6. (not False) or (not True)              = True  "
   ]
  },
  {
   "cell_type": "code",
   "execution_count": 5,
   "id": "6045e43d",
   "metadata": {},
   "outputs": [
    {
     "name": "stdout",
     "output_type": "stream",
     "text": [
      "False False True False False True\n"
     ]
    }
   ],
   "source": [
    "print((5 > 4) and (3 == 5),\n",
    "      not (5 > 4),\n",
    "      (5 > 4) or (3 == 5),\n",
    "      not ((5 > 4) or (3 == 5)),\n",
    "      (True and True) and (True == False),\n",
    "      (not False) or (not True)\n",
    "     )"
   ]
  },
  {
   "cell_type": "markdown",
   "id": "61ff09ff",
   "metadata": {},
   "source": [
    "--------------------------------------"
   ]
  },
  {
   "cell_type": "markdown",
   "id": "bba91466",
   "metadata": {},
   "source": [
    "#### 5. What are the six comparison operators?\n",
    "\n",
    "##### ans:\n",
    "1. ==  : is equal to\n",
    "2. !=  : is not equal to\n",
    "3. \\>   : is greater than\n",
    "4. \\>=  : is greater than or equal to\n",
    "5. <   : is less than\n",
    "6. <=  : is less than or equal to"
   ]
  },
  {
   "cell_type": "markdown",
   "id": "2ee2ecba",
   "metadata": {},
   "source": [
    "---------------------"
   ]
  },
  {
   "cell_type": "markdown",
   "id": "9fe6a98b",
   "metadata": {},
   "source": [
    "#### 6. How do you tell the difference between the equal to and assignment operators?Describe a condition and when you would use one.\n",
    "\n",
    "##### ans:\n",
    "- ' = '  : single equals to sign is used for the assignment operation.\n",
    "- ' == ' : double equals to sign is used for the equal to condition check.\n",
    "<br/>\n",
    "- When we want to assign something (eg. a = 10) we use the assignment operator. whereas when we want to check some condition (eg. 10 == 100) we use the equal to condition check operator. "
   ]
  },
  {
   "cell_type": "markdown",
   "id": "900b8008",
   "metadata": {},
   "source": [
    "-----------------------"
   ]
  },
  {
   "cell_type": "markdown",
   "id": "24a3e35b",
   "metadata": {},
   "source": [
    "#### 7. Identify the three blocks in this code:\n",
    "\n",
    "spam = 0 <br>\n",
    "if spam == 10: <br>\n",
    "print('eggs')<br>\n",
    "if spam > 5:<br>\n",
    "print('bacon')<br>\n",
    "else:<br>\n",
    "print('ham')<br>\n",
    "print('spam')<br>\n",
    "print('spam')\n",
    "\n",
    "##### ans:"
   ]
  },
  {
   "cell_type": "code",
   "execution_count": 6,
   "id": "63ca351f",
   "metadata": {},
   "outputs": [
    {
     "name": "stdout",
     "output_type": "stream",
     "text": [
      "ham\n",
      "spam\n",
      "spam\n"
     ]
    }
   ],
   "source": [
    "spam = 0\n",
    "\n",
    "if spam == 10:  ## Block 1\n",
    "    print('eggs')\n",
    "    \n",
    "if spam > 5:    ## Block 2\n",
    "    print('bacon')\n",
    "else:           ## Block 3\n",
    "    print('ham')\n",
    "    \n",
    "print('spam')\n",
    "print('spam')"
   ]
  },
  {
   "cell_type": "markdown",
   "id": "7865d7ae",
   "metadata": {},
   "source": [
    "--------------------------------------"
   ]
  },
  {
   "cell_type": "markdown",
   "id": "2f8641d3",
   "metadata": {},
   "source": [
    "#### 8. Write code that prints Hello if 1 is stored in spam, prints Howdy if 2 is stored in spam, and prints Greetings! if anything else is stored in spam.\n",
    "\n",
    "\n",
    "##### Code:"
   ]
  },
  {
   "cell_type": "code",
   "execution_count": 7,
   "id": "4ddc7fb2",
   "metadata": {},
   "outputs": [
    {
     "name": "stdout",
     "output_type": "stream",
     "text": [
      "Hello\n"
     ]
    }
   ],
   "source": [
    "spam = 1\n",
    "\n",
    "if spam == 1:\n",
    "    print('Hello')\n",
    "elif spam == 2:\n",
    "    print('Howdy')\n",
    "else:\n",
    "    print('Greetings!')"
   ]
  },
  {
   "cell_type": "markdown",
   "id": "d93fb5c7",
   "metadata": {},
   "source": [
    "---------------"
   ]
  },
  {
   "cell_type": "markdown",
   "id": "36b815f0",
   "metadata": {},
   "source": [
    "#### 9.If your programme is stuck in an endless loop, what keys you’ll press?\n",
    "\n",
    "##### ans:\n",
    "1. Press Ctrl + C on the command line.\n",
    "2. Restart the kernal"
   ]
  },
  {
   "cell_type": "markdown",
   "id": "c58657e0",
   "metadata": {},
   "source": [
    "---------------------"
   ]
  },
  {
   "cell_type": "markdown",
   "id": "e1cdcb56",
   "metadata": {},
   "source": [
    "#### 10. How can you tell the difference between break and continue?\n",
    "##### ans:\n",
    "- Break:    It is used to break the loop and exit from the loop\n",
    "- continue: It is used to skip the current iteration of the loop and continue with the next iteration."
   ]
  },
  {
   "cell_type": "markdown",
   "id": "d9dedc58",
   "metadata": {},
   "source": [
    "-----------------"
   ]
  },
  {
   "cell_type": "markdown",
   "id": "a62dd49b",
   "metadata": {},
   "source": [
    "#### 11. In a for loop, what is the difference between range(10), range(0, 10), and range(0, 10, 1)?\n",
    "##### ans:\n",
    "\n",
    "There is no difference "
   ]
  },
  {
   "cell_type": "code",
   "execution_count": 8,
   "id": "52e4c5c7",
   "metadata": {},
   "outputs": [
    {
     "name": "stdout",
     "output_type": "stream",
     "text": [
      "0 1 2 3 4 5 6 7 8 9 "
     ]
    }
   ],
   "source": [
    "for i in range(10):\n",
    "    print(i, end = ' ')"
   ]
  },
  {
   "cell_type": "code",
   "execution_count": 9,
   "id": "ff1c357c",
   "metadata": {},
   "outputs": [
    {
     "name": "stdout",
     "output_type": "stream",
     "text": [
      "0 1 2 3 4 5 6 7 8 9 "
     ]
    }
   ],
   "source": [
    "for i in range(0, 10):\n",
    "    print(i, end = ' ')"
   ]
  },
  {
   "cell_type": "code",
   "execution_count": 10,
   "id": "7cae3c8d",
   "metadata": {},
   "outputs": [
    {
     "name": "stdout",
     "output_type": "stream",
     "text": [
      "0 1 2 3 4 5 6 7 8 9 "
     ]
    }
   ],
   "source": [
    "for i in range(0, 10, 1):\n",
    "    print(i, end = ' ')"
   ]
  },
  {
   "cell_type": "markdown",
   "id": "eb6e6b93",
   "metadata": {},
   "source": [
    "-------------"
   ]
  },
  {
   "cell_type": "markdown",
   "id": "d7ba2bf6",
   "metadata": {},
   "source": [
    "#### 12. Write a short program that prints the numbers 1 to 10 using a for loop. Then write an equivalent program that prints the numbers 1 to 10 using a while loop.\n",
    "\n",
    "##### Code:"
   ]
  },
  {
   "cell_type": "code",
   "execution_count": 13,
   "id": "880892e8",
   "metadata": {},
   "outputs": [
    {
     "name": "stdout",
     "output_type": "stream",
     "text": [
      "1 2 3 4 5 6 7 8 9 10 "
     ]
    }
   ],
   "source": [
    "## Using for loop\n",
    "\n",
    "for i in range(1, 11):\n",
    "    print(i, end = ' ')"
   ]
  },
  {
   "cell_type": "code",
   "execution_count": 14,
   "id": "44828cad",
   "metadata": {},
   "outputs": [
    {
     "name": "stdout",
     "output_type": "stream",
     "text": [
      "1 2 3 4 5 6 7 8 9 10 "
     ]
    }
   ],
   "source": [
    "## Using while loop\n",
    "\n",
    "i = 1\n",
    "while i < 11:\n",
    "    print(i, end = ' ')\n",
    "    i += 1\n",
    "    "
   ]
  },
  {
   "cell_type": "markdown",
   "id": "067e81fa",
   "metadata": {},
   "source": [
    "-------------------"
   ]
  },
  {
   "cell_type": "markdown",
   "id": "1b2d9e83",
   "metadata": {},
   "source": [
    "#### 13. If you had a function named bacon() inside a module named spam, how would you call it after importing spam?\n",
    "\n",
    "##### ans:\n",
    "\n",
    "import spam<br>\n",
    "spam.bacon()"
   ]
  },
  {
   "cell_type": "markdown",
   "id": "dccaba3e",
   "metadata": {},
   "source": [
    "--------------"
   ]
  },
  {
   "cell_type": "code",
   "execution_count": null,
   "id": "638a0e1f",
   "metadata": {},
   "outputs": [],
   "source": []
  }
 ],
 "metadata": {
  "kernelspec": {
   "display_name": "Python 3 (ipykernel)",
   "language": "python",
   "name": "python3"
  },
  "language_info": {
   "codemirror_mode": {
    "name": "ipython",
    "version": 3
   },
   "file_extension": ".py",
   "mimetype": "text/x-python",
   "name": "python",
   "nbconvert_exporter": "python",
   "pygments_lexer": "ipython3",
   "version": "3.9.7"
  }
 },
 "nbformat": 4,
 "nbformat_minor": 5
}
