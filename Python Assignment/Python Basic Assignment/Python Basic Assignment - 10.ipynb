{
 "cells": [
  {
   "cell_type": "markdown",
   "id": "e8365c3a",
   "metadata": {},
   "source": [
    "### Python Basic Assignment 10\n",
    "-------------"
   ]
  },
  {
   "cell_type": "markdown",
   "id": "7dddc849",
   "metadata": {},
   "source": [
    "### 1. How do you distinguish between shutil.copy() and shutil.copytree()?\n",
    "\n",
    "##### Ans:\n",
    "\n",
    "shutil.copy() will copy a single file and shutil.copytree() will copy an entire folder and every folder and file contained in it."
   ]
  },
  {
   "cell_type": "markdown",
   "id": "78e0f925",
   "metadata": {},
   "source": [
    "### 2. What function is used to rename files??\n",
    "\n",
    "##### Ans:\n",
    "\n",
    "os.rename()\n",
    "\n"
   ]
  },
  {
   "cell_type": "markdown",
   "id": "f38c16f7",
   "metadata": {},
   "source": [
    "### 3. What is the difference between the delete functions in the send2trash and shutil modules?\n",
    "\n",
    "##### Ans:\n",
    "\n",
    "send2trash function move a file or folder to the recycle bin, while shutil function permanently delete file or folder.\n",
    "\n"
   ]
  },
  {
   "cell_type": "markdown",
   "id": "e4133ffa",
   "metadata": {},
   "source": [
    "### 4. ZipFile objects have a close() method just like File objects’ close() method. What ZipFile method is equivalent to File objects’ open() method?\n",
    "\n",
    "##### Ans:\n",
    "\n",
    "ZipFile\n"
   ]
  },
  {
   "cell_type": "markdown",
   "id": "36ef7113",
   "metadata": {},
   "source": [
    "### 5. Create a programme that searches a folder tree for files with a certain file extension (such as .pdf or .jpg). Copy these files from whatever location they are in to a new folder.\n",
    "\n",
    "##### Sol."
   ]
  },
  {
   "cell_type": "code",
   "execution_count": 1,
   "id": "f1966b1c",
   "metadata": {},
   "outputs": [
    {
     "name": "stdout",
     "output_type": "stream",
     "text": [
      "Files have been successfully copied from G:\\Ineuron Data Science to G:\\Ineuron Data Science\\New folder\n"
     ]
    }
   ],
   "source": [
    "def copyFile(src,dst,ext):\n",
    "    try:\n",
    "        import os,shutil\n",
    "        for file in os.listdir(src):\n",
    "            if file.endswith(ext):\n",
    "                shutil.copy(os.path.join(src,file),dst)\n",
    "        print(f'Files have been successfully copied from {src} to {dst}')\n",
    "    except Exception as e:\n",
    "        print(e)\n",
    "\n",
    "copyFile(r'G:\\Ineuron Data Science', r'G:\\Ineuron Data Science\\New folder', '.pdf')"
   ]
  },
  {
   "cell_type": "code",
   "execution_count": null,
   "id": "f2f38668",
   "metadata": {},
   "outputs": [],
   "source": []
  }
 ],
 "metadata": {
  "kernelspec": {
   "display_name": "Python 3 (ipykernel)",
   "language": "python",
   "name": "python3"
  },
  "language_info": {
   "codemirror_mode": {
    "name": "ipython",
    "version": 3
   },
   "file_extension": ".py",
   "mimetype": "text/x-python",
   "name": "python",
   "nbconvert_exporter": "python",
   "pygments_lexer": "ipython3",
   "version": "3.9.7"
  }
 },
 "nbformat": 4,
 "nbformat_minor": 5
}
