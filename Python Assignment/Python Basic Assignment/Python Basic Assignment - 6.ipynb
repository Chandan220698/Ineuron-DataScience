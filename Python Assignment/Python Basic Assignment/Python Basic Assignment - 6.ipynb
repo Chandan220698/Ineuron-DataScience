{
 "cells": [
  {
   "cell_type": "markdown",
   "id": "4dc383ab",
   "metadata": {},
   "source": [
    "## Python Basic Assignment - 6\n",
    "-------------------"
   ]
  },
  {
   "cell_type": "markdown",
   "id": "7cc82dff",
   "metadata": {},
   "source": [
    "### 1. What are escape characters, and how do you use them?"
   ]
  },
  {
   "cell_type": "markdown",
   "id": "76a67910",
   "metadata": {},
   "source": [
    "- In Python strings, the backslash(\\) is a special character, also called the \"escape\" character. It is used in representing certain whitespace characters: \"\\t\" is a tab, \"\\n\" is a newline, and \"\\r\" is a carriage return\n",
    "- prefixing a special character with(\\) turns it into an ordinary character. This is called \"escaping\". For example, \" \\\\' \" is the single quote character. 'It\\'s Sunday' therefore is a valid string and equivalent to \"It's Sunday\"."
   ]
  },
  {
   "cell_type": "markdown",
   "id": "fdebcdf2",
   "metadata": {},
   "source": [
    "---------------------\n",
    "### 2. What do the escape characters n and t stand for?"
   ]
  },
  {
   "cell_type": "markdown",
   "id": "bd3de544",
   "metadata": {},
   "source": [
    "- \"\\t\" is for tab space, \"\\n\" is for a newline"
   ]
  },
  {
   "cell_type": "markdown",
   "id": "3a607d76",
   "metadata": {},
   "source": [
    "-----------------------\n",
    "### 3. What is the way to include backslash characters in a string?"
   ]
  },
  {
   "cell_type": "markdown",
   "id": "0678d679",
   "metadata": {},
   "source": [
    "You need to append backslash with another backslash to include the backslash in your strings\n",
    "\n",
    "eg"
   ]
  },
  {
   "cell_type": "code",
   "execution_count": 4,
   "id": "8c3a2924",
   "metadata": {},
   "outputs": [
    {
     "name": "stdout",
     "output_type": "stream",
     "text": [
      "it's a back slash \\ in a sentence\n"
     ]
    }
   ],
   "source": [
    "print(\"it's a back slash \\ in a sentence\")"
   ]
  },
  {
   "cell_type": "code",
   "execution_count": 5,
   "id": "bc5e58ea",
   "metadata": {},
   "outputs": [
    {
     "name": "stdout",
     "output_type": "stream",
     "text": [
      "it's a back slash \\ in a sentence\n"
     ]
    }
   ],
   "source": [
    "print(\"it's a back slash \\\\ in a sentence\")"
   ]
  },
  {
   "cell_type": "code",
   "execution_count": 6,
   "id": "a877a326",
   "metadata": {},
   "outputs": [
    {
     "name": "stdout",
     "output_type": "stream",
     "text": [
      "it's a back slash \\\\ in a sentence\n"
     ]
    }
   ],
   "source": [
    "print(\"it's a back slash \\\\\\ in a sentence\")"
   ]
  },
  {
   "cell_type": "markdown",
   "id": "1c6e7eb3",
   "metadata": {},
   "source": [
    "----------------\n",
    "### 4. The string \"Howl's Moving Castle\" is a correct value. Why isn't the single quote character in the word Howl's not escaped a problem?"
   ]
  },
  {
   "cell_type": "markdown",
   "id": "b7f17e07",
   "metadata": {},
   "source": [
    "The string \"Howl's Moving Castle\" is a correct value. Why isn't the single quote character in the word Howl's not escaped a problem?"
   ]
  },
  {
   "cell_type": "markdown",
   "id": "74215fee",
   "metadata": {},
   "source": [
    "--------------\n",
    "### 5. How do you write a string of newlines if you don't want to use the n character?"
   ]
  },
  {
   "cell_type": "markdown",
   "id": "f4fb6fac",
   "metadata": {},
   "source": [
    "we can use Pythons multi line strings that done using triple quotes\n",
    "\n",
    "Example:"
   ]
  },
  {
   "cell_type": "code",
   "execution_count": 10,
   "id": "12d9c5fa",
   "metadata": {},
   "outputs": [],
   "source": [
    "string_multiline = \"\"\"This is my\n",
    "multi line\n",
    "string by\n",
    "name string_multiline\"\"\""
   ]
  },
  {
   "cell_type": "code",
   "execution_count": 11,
   "id": "06e6a796",
   "metadata": {},
   "outputs": [
    {
     "data": {
      "text/plain": [
       "'This is my\\nmulti line\\nstring by\\nname string_multiline'"
      ]
     },
     "execution_count": 11,
     "metadata": {},
     "output_type": "execute_result"
    }
   ],
   "source": [
    "string_multiline"
   ]
  },
  {
   "cell_type": "markdown",
   "id": "fd688ae4",
   "metadata": {},
   "source": [
    "-------------\n",
    "### 6. What are the values of the given expressions?\n",
    "\n",
    "- 'Hello, world!'[1] 'e'\n",
    "- 'Hello, world!'[0:5] 'Hello'\n",
    "- 'Hello, world!'[:5] 'Hello'\n",
    "- 'Hello, world!'[3:] 'lo, world!'"
   ]
  },
  {
   "cell_type": "code",
   "execution_count": 13,
   "id": "90354412",
   "metadata": {},
   "outputs": [
    {
     "data": {
      "text/plain": [
       "'e'"
      ]
     },
     "execution_count": 13,
     "metadata": {},
     "output_type": "execute_result"
    }
   ],
   "source": [
    "'Hello, world!'[1]"
   ]
  },
  {
   "cell_type": "code",
   "execution_count": 14,
   "id": "c3f70f05",
   "metadata": {},
   "outputs": [
    {
     "data": {
      "text/plain": [
       "'Hello'"
      ]
     },
     "execution_count": 14,
     "metadata": {},
     "output_type": "execute_result"
    }
   ],
   "source": [
    "'Hello, world!'[0:5]"
   ]
  },
  {
   "cell_type": "code",
   "execution_count": 15,
   "id": "02a5e80b",
   "metadata": {},
   "outputs": [
    {
     "data": {
      "text/plain": [
       "'Hello'"
      ]
     },
     "execution_count": 15,
     "metadata": {},
     "output_type": "execute_result"
    }
   ],
   "source": [
    "'Hello, world!'[:5]"
   ]
  },
  {
   "cell_type": "code",
   "execution_count": 16,
   "id": "3aac8d10",
   "metadata": {},
   "outputs": [
    {
     "data": {
      "text/plain": [
       "'lo, world!'"
      ]
     },
     "execution_count": 16,
     "metadata": {},
     "output_type": "execute_result"
    }
   ],
   "source": [
    "'Hello, world!'[3:]"
   ]
  },
  {
   "cell_type": "markdown",
   "id": "014d4e35",
   "metadata": {},
   "source": [
    "----------\n",
    "### 7. What are the values of the following expressions?"
   ]
  },
  {
   "cell_type": "markdown",
   "id": "83f39241",
   "metadata": {},
   "source": [
    "- 'Hello'.upper() -> 'HELLO'\n",
    "- 'Hello'.upper().isupper() -> True\n",
    "- 'Hello'.upper().lower() -> 'hello'"
   ]
  },
  {
   "cell_type": "code",
   "execution_count": 17,
   "id": "20920ad6",
   "metadata": {},
   "outputs": [
    {
     "data": {
      "text/plain": [
       "'HELLO'"
      ]
     },
     "execution_count": 17,
     "metadata": {},
     "output_type": "execute_result"
    }
   ],
   "source": [
    "'Hello'.upper() "
   ]
  },
  {
   "cell_type": "code",
   "execution_count": 18,
   "id": "4b373b55",
   "metadata": {},
   "outputs": [
    {
     "data": {
      "text/plain": [
       "True"
      ]
     },
     "execution_count": 18,
     "metadata": {},
     "output_type": "execute_result"
    }
   ],
   "source": [
    "'Hello'.upper().isupper()"
   ]
  },
  {
   "cell_type": "code",
   "execution_count": 19,
   "id": "5e7ad1c9",
   "metadata": {},
   "outputs": [
    {
     "data": {
      "text/plain": [
       "'hello'"
      ]
     },
     "execution_count": 19,
     "metadata": {},
     "output_type": "execute_result"
    }
   ],
   "source": [
    "'Hello'.upper().lower()"
   ]
  },
  {
   "cell_type": "markdown",
   "id": "c240d3d5",
   "metadata": {},
   "source": [
    "-------------\n",
    "### 8. What are the values of the following expressions?"
   ]
  },
  {
   "cell_type": "markdown",
   "id": "2ca57a3f",
   "metadata": {},
   "source": [
    "- 'Remember, remember, the fifth of July.'.split() -> ['Remember,', 'remember,', 'the', 'fifth', 'of', 'July.']\n",
    "\n",
    "\n",
    "- '-'.join('There can only one.'.split()) -> 'There-can-only-one.'"
   ]
  },
  {
   "cell_type": "code",
   "execution_count": 20,
   "id": "eccc176d",
   "metadata": {},
   "outputs": [
    {
     "data": {
      "text/plain": [
       "['Remember,', 'remember,', 'the', 'fifth', 'of', 'July.']"
      ]
     },
     "execution_count": 20,
     "metadata": {},
     "output_type": "execute_result"
    }
   ],
   "source": [
    "'Remember, remember, the fifth of July.'.split()"
   ]
  },
  {
   "cell_type": "code",
   "execution_count": 22,
   "id": "985a22b1",
   "metadata": {},
   "outputs": [
    {
     "data": {
      "text/plain": [
       "'There-can-only-one.'"
      ]
     },
     "execution_count": 22,
     "metadata": {},
     "output_type": "execute_result"
    }
   ],
   "source": [
    "'-'.join('There can only one.'.split())"
   ]
  },
  {
   "cell_type": "markdown",
   "id": "c2c79218",
   "metadata": {},
   "source": [
    "-----------------------\n",
    "### 9. What are the methods for right-justifying, left-justifying, and centering a string?"
   ]
  },
  {
   "cell_type": "code",
   "execution_count": 30,
   "id": "99991b44",
   "metadata": {},
   "outputs": [
    {
     "data": {
      "text/plain": [
       "'Data Scienctist;;;;'"
      ]
     },
     "execution_count": 30,
     "metadata": {},
     "output_type": "execute_result"
    }
   ],
   "source": [
    "# left justified\n",
    "str1 =\"Data Scienctist\"\n",
    "str1.ljust(19,\";\")"
   ]
  },
  {
   "cell_type": "code",
   "execution_count": 32,
   "id": "e27a0cdd",
   "metadata": {},
   "outputs": [
    {
     "data": {
      "text/plain": [
       "'-------Data Scienctist'"
      ]
     },
     "execution_count": 32,
     "metadata": {},
     "output_type": "execute_result"
    }
   ],
   "source": [
    "# right justified\n",
    "str1 =\"Data Scienctist\"\n",
    "str1.rjust(22,\"-\")"
   ]
  },
  {
   "cell_type": "code",
   "execution_count": 33,
   "id": "6b75caab",
   "metadata": {},
   "outputs": [
    {
     "data": {
      "text/plain": [
       "'*****************Center*****************'"
      ]
     },
     "execution_count": 33,
     "metadata": {},
     "output_type": "execute_result"
    }
   ],
   "source": [
    "# center justified\n",
    "str1 =\"Center\"\n",
    "str1.center(40,'*')"
   ]
  },
  {
   "cell_type": "markdown",
   "id": "4c19f96b",
   "metadata": {},
   "source": [
    "---------------------\n",
    "### 10. What is the best way to remove whitespace characters from the start or end?"
   ]
  },
  {
   "cell_type": "markdown",
   "id": "711f4605",
   "metadata": {},
   "source": [
    "We can use:\n",
    "    \n",
    "- lstrip() -> removes white spaces from left of the string\n",
    "- rstrip() -> removes whitespaces from right of the string"
   ]
  },
  {
   "cell_type": "code",
   "execution_count": 36,
   "id": "8f922777",
   "metadata": {},
   "outputs": [
    {
     "name": "stdout",
     "output_type": "stream",
     "text": [
      "                    hello         \n",
      "hello         \n"
     ]
    }
   ],
   "source": [
    "str1 = \"                    hello         \"\n",
    "print(str1)\n",
    "print(str1.lstrip())"
   ]
  },
  {
   "cell_type": "code",
   "execution_count": 38,
   "id": "8be9f742",
   "metadata": {},
   "outputs": [
    {
     "name": "stdout",
     "output_type": "stream",
     "text": [
      "hello                \n",
      "hello\n"
     ]
    }
   ],
   "source": [
    "str1 = \"hello                \"\n",
    "print(str1)\n",
    "print(str1.rstrip())"
   ]
  },
  {
   "cell_type": "code",
   "execution_count": null,
   "id": "12a90c40",
   "metadata": {},
   "outputs": [],
   "source": []
  }
 ],
 "metadata": {
  "kernelspec": {
   "display_name": "Python 3 (ipykernel)",
   "language": "python",
   "name": "python3"
  },
  "language_info": {
   "codemirror_mode": {
    "name": "ipython",
    "version": 3
   },
   "file_extension": ".py",
   "mimetype": "text/x-python",
   "name": "python",
   "nbconvert_exporter": "python",
   "pygments_lexer": "ipython3",
   "version": "3.9.7"
  }
 },
 "nbformat": 4,
 "nbformat_minor": 5
}
