{
 "cells": [
  {
   "cell_type": "markdown",
   "id": "07f1ad0f",
   "metadata": {},
   "source": [
    "## Python Basic Assignment - 22\n",
    "----------------"
   ]
  },
  {
   "cell_type": "markdown",
   "id": "b35b8007",
   "metadata": {},
   "source": [
    "### 1. What is the result of the code, and explain?"
   ]
  },
  {
   "cell_type": "markdown",
   "id": "2d38775f",
   "metadata": {},
   "source": [
    ">>> X = 'iNeuron'\n",
    ">>> def func():\n",
    "print(X)\n",
    "\n",
    "\n",
    ">>> func()"
   ]
  },
  {
   "cell_type": "markdown",
   "id": "e28a809b",
   "metadata": {},
   "source": [
    "The above program will print iNeuron to the console as there is no local variable X in the function and the global variable X will be called"
   ]
  },
  {
   "cell_type": "markdown",
   "id": "0ba357ea",
   "metadata": {},
   "source": [
    "### 2. What is the result of the code, and explain?"
   ]
  },
  {
   "cell_type": "markdown",
   "id": "e92096cb",
   "metadata": {},
   "source": [
    ">>> X = 'iNeuron'\n",
    ">>> def func():\n",
    "X = 'NI!'\n",
    "\n",
    "\n",
    ">>> func()\n",
    ">>> print(X)"
   ]
  },
  {
   "cell_type": "markdown",
   "id": "9c8ebdaf",
   "metadata": {},
   "source": [
    "The above program will print iNeuron to the console\n",
    "\n",
    "As the statement X='NI!' will be updating the local value X, but the global variable X will be unchanged"
   ]
  },
  {
   "cell_type": "markdown",
   "id": "66646708",
   "metadata": {},
   "source": [
    "### 3. What does this code print, and why?"
   ]
  },
  {
   "cell_type": "markdown",
   "id": "9e4f840a",
   "metadata": {},
   "source": [
    ">>> X = 'iNeuron'\n",
    ">>> def func():\n",
    "X = 'NI'\n",
    "print(X)\n",
    "\n",
    "\n",
    ">>> func()\n",
    ">>> print(X)"
   ]
  },
  {
   "cell_type": "markdown",
   "id": "48d87b04",
   "metadata": {},
   "source": [
    "The above program will print NI followed by iNeuron to the console as the statement X='NI' will be updating the local value X and then printing it to the console, but the global variable X will be unchanged, therefore the next print statement will print the global variable X value which is iNeuron"
   ]
  },
  {
   "cell_type": "markdown",
   "id": "b6248962",
   "metadata": {},
   "source": [
    "### 4. What output does this code produce? Why?"
   ]
  },
  {
   "cell_type": "markdown",
   "id": "697401ef",
   "metadata": {},
   "source": [
    ">>> X = 'iNeuron'\n",
    ">>> def func():\n",
    "global X\n",
    "X = 'NI'\n",
    "\n",
    "\n",
    ">>> func()\n",
    ">>> print(X)"
   ]
  },
  {
   "cell_type": "markdown",
   "id": "e596165c",
   "metadata": {},
   "source": [
    "The above program will print NI to the console. The statement global X will ensure the func function uses the global variable instead of a local variable with name X. Hence the assignment statement updates the global varaible X value to NI"
   ]
  },
  {
   "cell_type": "markdown",
   "id": "f6133b02",
   "metadata": {},
   "source": [
    "### 5. What about this code—what’s the output, and why?"
   ]
  },
  {
   "cell_type": "markdown",
   "id": "1e96c83e",
   "metadata": {},
   "source": [
    ">>> X = 'iNeuron'\n",
    ">>> def func():\n",
    "X = 'NI'\n",
    "def nested():\n",
    "print(X)\n",
    "nested()\n",
    "\n",
    "\n",
    ">>> func()\n",
    ">>> X"
   ]
  },
  {
   "cell_type": "markdown",
   "id": "20731c67",
   "metadata": {},
   "source": [
    "The above code will print NI followed by iNeuron, this is because the global varaible X is unchanged and the method nested has access to the X declared in its enclosing function func"
   ]
  },
  {
   "cell_type": "markdown",
   "id": "6e100960",
   "metadata": {},
   "source": [
    "### 6. How about this code: what is its output in Python 3, and explain?"
   ]
  },
  {
   "cell_type": "markdown",
   "id": "3ebb7f5f",
   "metadata": {},
   "source": [
    ">>> def func():\n",
    "X = 'NI'\n",
    "def nested():\n",
    "nonlocal X\n",
    "X = 'Spam'\n",
    "nested()\n",
    "print(X)\n",
    "\n",
    "\n",
    ">>> func()"
   ]
  },
  {
   "cell_type": "markdown",
   "id": "462c41cf",
   "metadata": {},
   "source": [
    "The above code will print Spam to the console, as they keyword nonlocal helps the function nested() to access the variable X from the function func"
   ]
  },
  {
   "cell_type": "code",
   "execution_count": null,
   "id": "3b84df8e",
   "metadata": {},
   "outputs": [],
   "source": []
  }
 ],
 "metadata": {
  "kernelspec": {
   "display_name": "Python 3 (ipykernel)",
   "language": "python",
   "name": "python3"
  },
  "language_info": {
   "codemirror_mode": {
    "name": "ipython",
    "version": 3
   },
   "file_extension": ".py",
   "mimetype": "text/x-python",
   "name": "python",
   "nbconvert_exporter": "python",
   "pygments_lexer": "ipython3",
   "version": "3.9.7"
  }
 },
 "nbformat": 4,
 "nbformat_minor": 5
}
