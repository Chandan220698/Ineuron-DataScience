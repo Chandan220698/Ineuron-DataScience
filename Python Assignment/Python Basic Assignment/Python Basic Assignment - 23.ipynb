{
 "cells": [
  {
   "cell_type": "markdown",
   "id": "442604fe",
   "metadata": {},
   "source": [
    "## Python Basic Assignment - 23\n",
    "----------------"
   ]
  },
  {
   "cell_type": "code",
   "execution_count": null,
   "id": "072b6382",
   "metadata": {},
   "outputs": [],
   "source": [
    "1. What is the result of the code, and why?\n",
    ">>> def func(a, b=6, c=8):\n",
    "print(a, b, c)\n",
    ">>> func(1, 2)"
   ]
  },
  {
   "cell_type": "markdown",
   "id": "0b03c4a3",
   "metadata": {},
   "source": [
    "func(1, 2) will print 1 2 8 on the console because as per the function func definition, the value of third parameter c is by default 8 if not passed explicitly"
   ]
  },
  {
   "cell_type": "code",
   "execution_count": null,
   "id": "6d6d7a73",
   "metadata": {},
   "outputs": [],
   "source": [
    "2. What is the result of this code, and why?\n",
    ">>> def func(a, b, c=5):\n",
    "print(a, b, c)\n",
    ">>> func(1, c=3, b=2)"
   ]
  },
  {
   "cell_type": "markdown",
   "id": "aeb753ec",
   "metadata": {},
   "source": [
    "Thus the value passed to a is 1, b is 2, c is 3 irrespective of the order of values c and b passed, as long as you are using named arguments\n"
   ]
  },
  {
   "cell_type": "code",
   "execution_count": null,
   "id": "954c6964",
   "metadata": {},
   "outputs": [],
   "source": [
    "3. How about this code: what is its result, and why?\n",
    ">>> def func(a, *pargs):\n",
    "print(a, pargs)\n",
    ">>> func(1, 2, 3)"
   ]
  },
  {
   "cell_type": "markdown",
   "id": "2ef865bf",
   "metadata": {},
   "source": [
    "func(1, 2, 3) will prit 1 (2, 3) to the console, because the first parameter passed to the func function will be assigned to parameter a. Any other following arguments will be assigned to arbitary argument pargs which will be an iterable object of type tuple\n"
   ]
  },
  {
   "cell_type": "code",
   "execution_count": null,
   "id": "0f8c74b4",
   "metadata": {},
   "outputs": [],
   "source": [
    "4. What does this code print, and why?\n",
    ">>> def func(a, **kargs):\n",
    "print(a, kargs)\n",
    ">>> func(a=1, c=3, b=2)"
   ]
  },
  {
   "cell_type": "markdown",
   "id": "09376bf3",
   "metadata": {},
   "source": [
    "func(a=1, c=3, b=2) will print 1 {'c': 3, 'b': 2} because the return type of kargs is a dictionary object"
   ]
  },
  {
   "cell_type": "code",
   "execution_count": null,
   "id": "b31b9e9e",
   "metadata": {},
   "outputs": [],
   "source": [
    "5. What gets printed by this, and explain?\n",
    ">>> def func(a, b, c=8, d=5): print(a, b, c, d)\n",
    ">>> func(1, *(5, 6))"
   ]
  },
  {
   "cell_type": "markdown",
   "id": "3d152dcc",
   "metadata": {},
   "source": [
    "func(1, *(5, 6)) will print 1 5 6 5 to the console. a will take the value of 1, d will default to 5 as it is not passed. *(5, 6) will be read as comma seperated values and assigned to b, c respectively"
   ]
  },
  {
   "cell_type": "code",
   "execution_count": null,
   "id": "03f8b873",
   "metadata": {},
   "outputs": [],
   "source": [
    "6. what is the result of this, and explain?\n",
    ">>> def func(a, b, c): a = 2; b[0] = 'x'; c['a'] = 'y'\n",
    ">>> l=1; m=[1]; n={'a':0}\n",
    ">>> func(l, m, n)\n",
    ">>> l, m, n"
   ]
  },
  {
   "cell_type": "markdown",
   "id": "764d7be4",
   "metadata": {},
   "source": [
    "The values of l, m, n will be unchanged as the func updates the copies of these values but not the original values. So console output will be: (1, [1], {'a': 0})"
   ]
  },
  {
   "cell_type": "code",
   "execution_count": null,
   "id": "fa6e3158",
   "metadata": {},
   "outputs": [],
   "source": []
  }
 ],
 "metadata": {
  "kernelspec": {
   "display_name": "Python 3 (ipykernel)",
   "language": "python",
   "name": "python3"
  },
  "language_info": {
   "codemirror_mode": {
    "name": "ipython",
    "version": 3
   },
   "file_extension": ".py",
   "mimetype": "text/x-python",
   "name": "python",
   "nbconvert_exporter": "python",
   "pygments_lexer": "ipython3",
   "version": "3.9.7"
  }
 },
 "nbformat": 4,
 "nbformat_minor": 5
}
