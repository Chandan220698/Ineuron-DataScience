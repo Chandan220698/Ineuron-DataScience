{
 "cells": [
  {
   "cell_type": "markdown",
   "id": "63dda309",
   "metadata": {},
   "source": [
    "## Python Basic Assignment - 21\n",
    "-------------"
   ]
  },
  {
   "cell_type": "markdown",
   "id": "494709de",
   "metadata": {},
   "source": [
    "### 1. Add the current date to the text file today.txt as a string."
   ]
  },
  {
   "cell_type": "code",
   "execution_count": 3,
   "id": "a9fa5e98",
   "metadata": {},
   "outputs": [
    {
     "name": "stdout",
     "output_type": "stream",
     "text": [
      "2022-03-28\n"
     ]
    }
   ],
   "source": [
    "from datetime import date\n",
    "\n",
    "with open('today.txt', 'w') as txt:\n",
    "    txt.write(date.today().isoformat())\n",
    "print(date.today().isoformat())"
   ]
  },
  {
   "cell_type": "markdown",
   "id": "398f3477",
   "metadata": {},
   "source": [
    "### 2. Read the text file today.txt into the string today_string"
   ]
  },
  {
   "cell_type": "code",
   "execution_count": 4,
   "id": "f7cfe178",
   "metadata": {},
   "outputs": [
    {
     "name": "stdout",
     "output_type": "stream",
     "text": [
      "Reading text: 2022-03-28\n"
     ]
    }
   ],
   "source": [
    "today_string = \"\"\n",
    "with open('today.txt', 'r') as txt:\n",
    "    today_string = txt.readline()\n",
    "print(f\"Reading text: {today_string}\")"
   ]
  },
  {
   "cell_type": "markdown",
   "id": "7665b979",
   "metadata": {},
   "source": [
    "### 3. Parse the date from today_string.\n"
   ]
  },
  {
   "cell_type": "code",
   "execution_count": 6,
   "id": "90e2eb3a",
   "metadata": {},
   "outputs": [
    {
     "name": "stdout",
     "output_type": "stream",
     "text": [
      "2022-03-28 00:00:00\n"
     ]
    }
   ],
   "source": [
    "from datetime import datetime\n",
    "print(datetime.strptime(today_string, '%Y-%m-%d'))"
   ]
  },
  {
   "cell_type": "markdown",
   "id": "015e0af0",
   "metadata": {},
   "source": [
    "### 4. List the files in your current directory"
   ]
  },
  {
   "cell_type": "code",
   "execution_count": 9,
   "id": "b2e97111",
   "metadata": {},
   "outputs": [
    {
     "data": {
      "text/plain": [
       "['.ipynb_checkpoints',\n",
       " 'books.csv',\n",
       " 'books.db',\n",
       " 'image.jpg',\n",
       " 'Python Basic Assignment - 1.ipynb',\n",
       " 'Python Basic Assignment - 10.ipynb',\n",
       " 'Python Basic Assignment - 11.ipynb',\n",
       " 'Python Basic Assignment - 12.ipynb',\n",
       " 'Python Basic Assignment - 13.ipynb',\n",
       " 'Python Basic Assignment - 14.ipynb',\n",
       " 'Python Basic Assignment - 15.ipynb',\n",
       " 'Python Basic Assignment - 16.ipynb',\n",
       " 'Python Basic Assignment - 17.ipynb',\n",
       " 'Python Basic Assignment - 18.ipynb',\n",
       " 'Python Basic Assignment - 19.ipynb',\n",
       " 'Python Basic Assignment - 2.ipynb',\n",
       " 'Python Basic Assignment - 20.ipynb',\n",
       " 'Python Basic Assignment - 3.ipynb',\n",
       " 'Python Basic Assignment - 4.ipynb',\n",
       " 'Python Basic Assignment - 5.ipynb',\n",
       " 'Python Basic Assignment - 6.ipynb',\n",
       " 'Python Basic Assignment - 7.ipynb',\n",
       " 'Python Basic Assignment - 8.ipynb',\n",
       " 'Python Basic Assignment - 9.ipynb',\n",
       " 'test.txt',\n",
       " 'today.txt',\n",
       " 'Untitled.ipynb',\n",
       " 'zoo.py',\n",
       " '__pycache__']"
      ]
     },
     "execution_count": 9,
     "metadata": {},
     "output_type": "execute_result"
    }
   ],
   "source": [
    "import os\n",
    "os.listdir('.')"
   ]
  },
  {
   "cell_type": "markdown",
   "id": "3fbf5ccd",
   "metadata": {},
   "source": [
    "### 5. Create a list of all of the files in your parent directory (minimum five files should be available).\n"
   ]
  },
  {
   "cell_type": "code",
   "execution_count": 10,
   "id": "35692faf",
   "metadata": {},
   "outputs": [
    {
     "name": "stdout",
     "output_type": "stream",
     "text": [
      "<class 'list'>\n",
      "['.ipynb_checkpoints', 'Car Data SQL Assignment.ipynb', 'car.data', 'Database Assignment', 'Python Advance Programming Assignment', 'Python Basic Assignment', 'Python Programming Basic Assignment']\n",
      "Number of files: 7\n"
     ]
    }
   ],
   "source": [
    "lst_files = os.listdir('..')\n",
    "print(type(lst_files))\n",
    "print(lst_files)\n",
    "print(f\"Number of files: {len(lst_files)}\")"
   ]
  },
  {
   "cell_type": "markdown",
   "id": "39250893",
   "metadata": {},
   "source": [
    "### 6. Use multiprocessing to create three separate processes. Make each one wait a random number of seconds between one and five, print the current time, and then exit.\n"
   ]
  },
  {
   "cell_type": "code",
   "execution_count": 11,
   "id": "e0acff23",
   "metadata": {},
   "outputs": [
    {
     "name": "stdout",
     "output_type": "stream",
     "text": [
      "starting processes\n",
      "Process 0 will sleep for 9\n",
      "starting processes\n",
      "Process 1 will sleep for 7\n",
      "starting processes\n",
      "Process 2 will sleep for 4\n"
     ]
    }
   ],
   "source": [
    "import multiprocessing\n",
    "from datetime import datetime \n",
    "from time import sleep \n",
    "import random\n",
    "\n",
    "def now_sleep(seconds): \n",
    "    print('wait', seconds, 'seconds, time is', datetime.utcnow())\n",
    "    sleep(seconds) \n",
    "    print(\"Finished Process!\")\n",
    "\n",
    "if __name__ == '__main__':\n",
    "    for n in range(3): \n",
    "        print(\"starting processes\")\n",
    "        seconds = random.randint(1, 10) \n",
    "        print(f\"Process {n} will sleep for {seconds}\")\n",
    "        proc = multiprocessing.Process(target=now_sleep, args=(seconds,)) \n",
    "        proc.start()\n",
    "        \n",
    "# Note: this file is saved as multiprocessing.py in local file system"
   ]
  },
  {
   "cell_type": "markdown",
   "id": "f84c6016",
   "metadata": {},
   "source": [
    "### 7. Create a date object of your day of birth.\n"
   ]
  },
  {
   "cell_type": "code",
   "execution_count": 12,
   "id": "924d082e",
   "metadata": {},
   "outputs": [
    {
     "name": "stdout",
     "output_type": "stream",
     "text": [
      "1998-06-22\n"
     ]
    }
   ],
   "source": [
    "my_birthday = date(1998, 6, 22)\n",
    "print(my_birthday)"
   ]
  },
  {
   "cell_type": "markdown",
   "id": "b5729ded",
   "metadata": {},
   "source": [
    "### 8. What day of the week was your day of birth?\n"
   ]
  },
  {
   "cell_type": "code",
   "execution_count": 13,
   "id": "9f68d44e",
   "metadata": {},
   "outputs": [
    {
     "name": "stdout",
     "output_type": "stream",
     "text": [
      "My birthday was on 1th day of the week\n"
     ]
    }
   ],
   "source": [
    "print(f\"My birthday was on {my_birthday.isoweekday()}th day of the week\")"
   ]
  },
  {
   "cell_type": "markdown",
   "id": "732e0da1",
   "metadata": {},
   "source": [
    "### 9. When will you be (or when were you) 10,000 days old?\n"
   ]
  },
  {
   "cell_type": "code",
   "execution_count": 14,
   "id": "94d7d04c",
   "metadata": {},
   "outputs": [
    {
     "name": "stdout",
     "output_type": "stream",
     "text": [
      "2025-11-07\n"
     ]
    }
   ],
   "source": [
    "from datetime import timedelta\n",
    "\n",
    "thousand_days = my_birthday + timedelta(days=10000)\n",
    "print(thousand_days)"
   ]
  },
  {
   "cell_type": "code",
   "execution_count": null,
   "id": "fa63f190",
   "metadata": {},
   "outputs": [],
   "source": []
  }
 ],
 "metadata": {
  "kernelspec": {
   "display_name": "Python 3 (ipykernel)",
   "language": "python",
   "name": "python3"
  },
  "language_info": {
   "codemirror_mode": {
    "name": "ipython",
    "version": 3
   },
   "file_extension": ".py",
   "mimetype": "text/x-python",
   "name": "python",
   "nbconvert_exporter": "python",
   "pygments_lexer": "ipython3",
   "version": "3.9.7"
  }
 },
 "nbformat": 4,
 "nbformat_minor": 5
}
