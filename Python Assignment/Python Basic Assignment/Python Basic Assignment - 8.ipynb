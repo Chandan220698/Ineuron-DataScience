{
 "cells": [
  {
   "cell_type": "markdown",
   "id": "be090f22",
   "metadata": {},
   "source": [
    "## Python Basic Assignment - 8\n",
    "-----------------"
   ]
  },
  {
   "cell_type": "markdown",
   "id": "2042ba65",
   "metadata": {},
   "source": [
    "### 1. Is the Python Standard Library included with PyInputPlus?"
   ]
  },
  {
   "cell_type": "markdown",
   "id": "e9346203",
   "metadata": {},
   "source": [
    "PyInputPlus is not a part of the Python Standard Library, so we need to install it separately using Pip\n",
    "- pip install PyInputPlus"
   ]
  },
  {
   "cell_type": "markdown",
   "id": "948d3254",
   "metadata": {},
   "source": [
    "--------------\n",
    "### 2. Why is PyInputPlus commonly imported with import pyinputplus as pypi?"
   ]
  },
  {
   "cell_type": "markdown",
   "id": "c0881e32",
   "metadata": {},
   "source": [
    "pypi is alias of PyInputPlus. The as pyip code in the import statement saves us from typing pyinputplus each time we want to call a PyInputPlus function. Instead we can use the shorter pyip name\n",
    "- import PyInputPlus as pypi"
   ]
  },
  {
   "cell_type": "markdown",
   "id": "0c0ff9f0",
   "metadata": {},
   "source": [
    "-------------\n",
    "### 3. How do you distinguish between inputInt() and inputFloat()?"
   ]
  },
  {
   "cell_type": "markdown",
   "id": "176156e3",
   "metadata": {},
   "source": [
    "inputInt() : Accepts an integer value, and returns int value \n",
    "    \n",
    "inputFloat() : Accepts integer/floating point value and returns float value \n",
    "    \n",
    "- Both takes additional parameters ‘min’, ‘max’, ‘greaterThan’ and ‘lessThan’ for bounds"
   ]
  },
  {
   "cell_type": "markdown",
   "id": "663bafb9",
   "metadata": {},
   "source": [
    "-----------------\n",
    "### 4. Using PyInputPlus, how do you ensure that the user enters a whole number between 0 and 99?\n"
   ]
  },
  {
   "cell_type": "markdown",
   "id": "c7d09c39",
   "metadata": {},
   "source": [
    "In the inputint function we can set the min = 0 and max =99 to ensure user enters number between 0 and 99\n",
    "\n",
    "- pyip.inputInt(min = 0, max =99)"
   ]
  },
  {
   "cell_type": "markdown",
   "id": "2c3ddb23",
   "metadata": {},
   "source": [
    "----------------\n",
    "### 5. What is transferred to the keyword arguments allowRegexes and blockRegexes?\n"
   ]
  },
  {
   "cell_type": "markdown",
   "id": "bf0bb163",
   "metadata": {},
   "source": [
    "We can use regular expressions to specify whether an input is allowed or not.\n",
    "\n",
    "The allowRegexes and blockRegexes keyword arguments take a list of regular expression strings to determine what the PyInputPlus function will accept or reject as valid input.\n",
    "\n",
    "Example:\n",
    "- pyip.inputNum(allowRegexes=[r'(I|V|X|L|C|D|M)+', r'zero']) # it allowes roman letters as numbers too\n",
    "- pyip.inputNum(blockRegexes=[r\"[02468]$\"])# blocks the even numbers\n"
   ]
  },
  {
   "cell_type": "markdown",
   "id": "f83abf07",
   "metadata": {},
   "source": [
    "---------------\n",
    "### 6. If a blank input is entered three times, what does inputStr(limit=3) do?\n"
   ]
  },
  {
   "cell_type": "markdown",
   "id": "3ce638ab",
   "metadata": {},
   "source": [
    "inputStr(limit=3) will throw RetryLimitException exception.\n",
    "\n"
   ]
  },
  {
   "cell_type": "markdown",
   "id": "eff82e6d",
   "metadata": {},
   "source": [
    "---------------\n",
    "### 7. If blank input is entered three times, what does inputStr(limit=3, default='hello') do?\n"
   ]
  },
  {
   "cell_type": "markdown",
   "id": "fcd5e952",
   "metadata": {},
   "source": [
    "When you use limit keyword arguments and also pass a default keyword argument, the function returns the default value instead of raising an exception"
   ]
  },
  {
   "cell_type": "code",
   "execution_count": null,
   "id": "043b2183",
   "metadata": {},
   "outputs": [],
   "source": []
  }
 ],
 "metadata": {
  "kernelspec": {
   "display_name": "Python 3 (ipykernel)",
   "language": "python",
   "name": "python3"
  },
  "language_info": {
   "codemirror_mode": {
    "name": "ipython",
    "version": 3
   },
   "file_extension": ".py",
   "mimetype": "text/x-python",
   "name": "python",
   "nbconvert_exporter": "python",
   "pygments_lexer": "ipython3",
   "version": "3.9.7"
  }
 },
 "nbformat": 4,
 "nbformat_minor": 5
}
