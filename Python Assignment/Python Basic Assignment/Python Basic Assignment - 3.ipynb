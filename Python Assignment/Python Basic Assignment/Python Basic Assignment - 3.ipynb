{
 "cells": [
  {
   "cell_type": "markdown",
   "id": "bf30dbc0",
   "metadata": {},
   "source": [
    "# Python Basic Assignment\n",
    "## Assignment - 3"
   ]
  },
  {
   "cell_type": "markdown",
   "id": "67bcaa04",
   "metadata": {},
   "source": [
    "---------------"
   ]
  },
  {
   "cell_type": "markdown",
   "id": "50c79383",
   "metadata": {},
   "source": [
    "#### 1. Why are functions advantageous to have in your programs?\n",
    "##### Ans:\n",
    "\n",
    "Advantages:\n",
    "1. Increase modularity\n",
    "2. Increase code reusibility\n",
    "3. Reduce amount of code"
   ]
  },
  {
   "cell_type": "markdown",
   "id": "ba595536",
   "metadata": {},
   "source": [
    "-----------------\n",
    "#### 2. When does the code in a function run: when it's specified or when it's called?\n",
    "##### Ans:\n",
    "\n",
    "The function run(or execute) when it is called. When function is called the control flow which go to first line of code present inside the function."
   ]
  },
  {
   "cell_type": "markdown",
   "id": "3c49c194",
   "metadata": {},
   "source": [
    "-----------------\n",
    "#### 3. What statement creates a function?\n",
    "##### Ans:\n",
    "\n",
    "def(keyword) followed by function_name then parentheses.<br>\n",
    "def function_name():"
   ]
  },
  {
   "cell_type": "code",
   "execution_count": 3,
   "id": "24079732",
   "metadata": {},
   "outputs": [],
   "source": [
    "def function3():\n",
    "    pass"
   ]
  },
  {
   "cell_type": "markdown",
   "id": "e8290811",
   "metadata": {},
   "source": [
    "-----------------\n",
    "#### 4. What is the difference between a function and a function call?\n",
    "##### Ans:\n",
    "\n",
    "- Function: Function is set of codes which produce some result. Function is useless unless it is invoked or called.\n",
    "- Function Call: Function call is used to invoke or execute set of codes present inside the function."
   ]
  },
  {
   "cell_type": "code",
   "execution_count": 4,
   "id": "166b51fd",
   "metadata": {},
   "outputs": [
    {
     "data": {
      "text/plain": [
       "'Inside the function 4'"
      ]
     },
     "execution_count": 4,
     "metadata": {},
     "output_type": "execute_result"
    }
   ],
   "source": [
    "def function4():        # Function\n",
    "    return \"Inside the function 4\"\n",
    "\n",
    "function4()             # Function call"
   ]
  },
  {
   "cell_type": "markdown",
   "id": "da2492a9",
   "metadata": {},
   "source": [
    "-----------------\n",
    "#### 5. How many global scopes are there in a Python program? How many local scopes?\n",
    "##### Ans:\n",
    "\n",
    "There are 1 global scopes and 1 local scope in the python program."
   ]
  },
  {
   "cell_type": "markdown",
   "id": "37d9f67f",
   "metadata": {},
   "source": [
    "-----------------\n",
    "#### 6. What happens to variables in a local scope when the function call returns?\n",
    "##### Ans:\n",
    "\n",
    "The local variables are destroyed when function call returns."
   ]
  },
  {
   "cell_type": "markdown",
   "id": "9e8ecf37",
   "metadata": {},
   "source": [
    "-----------------\n",
    "#### 7. What is the concept of a return value? Is it possible to have a return value in an expression?\n",
    "##### Ans:\n",
    "\n",
    "Return value is value, varible or expression which a function can return.\n",
    "<br>\n",
    "Yes function return value can be an expression"
   ]
  },
  {
   "cell_type": "code",
   "execution_count": 9,
   "id": "7d9d7f60",
   "metadata": {},
   "outputs": [
    {
     "data": {
      "text/plain": [
       "40"
      ]
     },
     "execution_count": 9,
     "metadata": {},
     "output_type": "execute_result"
    }
   ],
   "source": [
    "def function7(a,b):\n",
    "    return a+b+10  ## Returning the expression\n",
    "\n",
    "function7(10, 20)"
   ]
  },
  {
   "cell_type": "markdown",
   "id": "a5204ad4",
   "metadata": {},
   "source": [
    "-----------------\n",
    "#### 8. If a function does not have a return statement, what is the return value of a call to that function?\n",
    "##### Ans:\n",
    "\n",
    "If a function does not have a return statement that means the function is not returning any values.\n",
    "<br>\n",
    "In this case after function is executed completly it will return a NoneType."
   ]
  },
  {
   "cell_type": "code",
   "execution_count": 18,
   "id": "91e9e753",
   "metadata": {},
   "outputs": [
    {
     "data": {
      "text/plain": [
       "NoneType"
      ]
     },
     "execution_count": 18,
     "metadata": {},
     "output_type": "execute_result"
    }
   ],
   "source": [
    "def function8():\n",
    "    a = 10\n",
    "    b = 80\n",
    "    \n",
    "type(function8())"
   ]
  },
  {
   "cell_type": "markdown",
   "id": "2f209b53",
   "metadata": {},
   "source": [
    "-----------------\n",
    "#### 9. How do you make a function variable refer to the global variable?\n",
    "##### Ans:\n",
    "\n",
    "This can be achieved by using global keyword to redefine the variable and make the changes of variable as global change."
   ]
  },
  {
   "cell_type": "code",
   "execution_count": 30,
   "id": "0d4c42f2",
   "metadata": {},
   "outputs": [
    {
     "name": "stdout",
     "output_type": "stream",
     "text": [
      "0\n",
      "10\n"
     ]
    }
   ],
   "source": [
    "var1 = 0\n",
    "def function9():\n",
    "    global var1\n",
    "    var1 = 10\n",
    "    \n",
    "print(var1)\n",
    "function9()\n",
    "print(var1)"
   ]
  },
  {
   "cell_type": "markdown",
   "id": "40acd9bf",
   "metadata": {},
   "source": [
    "-----------------\n",
    "#### 10. What is the data type of None?\n",
    "##### Ans:\n",
    "\n",
    "None data type is a null variable or null object. The null object is a data type of class NoneType."
   ]
  },
  {
   "cell_type": "markdown",
   "id": "ab1c7b3e",
   "metadata": {},
   "source": [
    "-----------------\n",
    "#### 11. What does the sentence import areallyourpetsnamederic do?\n",
    "##### Ans:\n",
    "\n",
    "The statement \"import areallyourpetsnamederic\" will import the module or package areallyourpetsnamederic."
   ]
  },
  {
   "cell_type": "markdown",
   "id": "757f2573",
   "metadata": {},
   "source": [
    "-----------------\n",
    "#### 12. If you had a bacon() feature in a spam module, what would you call it after importing spam?\n",
    "##### Ans:\n",
    "\n",
    "After import the spam.\n",
    "<br>\n",
    "spam.bacon()"
   ]
  },
  {
   "cell_type": "code",
   "execution_count": 33,
   "id": "a1e4d456",
   "metadata": {},
   "outputs": [],
   "source": [
    "# import spam\n",
    "# spam.bacon()"
   ]
  },
  {
   "cell_type": "markdown",
   "id": "41a17c28",
   "metadata": {},
   "source": [
    "-----------------\n",
    "#### 13. What can you do to save a programme from crashing if it encounters an error?\n",
    "##### Ans:\n",
    "\n",
    "To save the program from crashing over a runtime error we can use the try and except statement.\n",
    "<br>\n",
    "It will save from only the runtime error not the compile time error."
   ]
  },
  {
   "cell_type": "code",
   "execution_count": 35,
   "id": "70b6f5ee",
   "metadata": {},
   "outputs": [],
   "source": [
    "try:\n",
    "    pass\n",
    "except:\n",
    "    pass"
   ]
  },
  {
   "cell_type": "markdown",
   "id": "407f00a4",
   "metadata": {},
   "source": [
    "-----------------\n",
    "#### 14. What is the purpose of the try clause? What is the purpose of the except clause?\n",
    "##### Ans:\n",
    "\n",
    "- Together try and except block is used to save programme from crashing when an error is encountered.\n",
    "- Try: Try block is used for any suspicious code which can throw a runtime error.\n",
    "- Except: Except block is used to catch error if any encountered inside try block."
   ]
  },
  {
   "cell_type": "code",
   "execution_count": null,
   "id": "87ac4ae7",
   "metadata": {},
   "outputs": [],
   "source": []
  }
 ],
 "metadata": {
  "kernelspec": {
   "display_name": "Python 3 (ipykernel)",
   "language": "python",
   "name": "python3"
  },
  "language_info": {
   "codemirror_mode": {
    "name": "ipython",
    "version": 3
   },
   "file_extension": ".py",
   "mimetype": "text/x-python",
   "name": "python",
   "nbconvert_exporter": "python",
   "pygments_lexer": "ipython3",
   "version": "3.9.7"
  }
 },
 "nbformat": 4,
 "nbformat_minor": 5
}
