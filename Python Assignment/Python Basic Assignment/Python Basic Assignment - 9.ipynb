{
 "cells": [
  {
   "cell_type": "markdown",
   "id": "77122938",
   "metadata": {},
   "source": [
    "## Python Basic Assignment - 9\n",
    "-------------------"
   ]
  },
  {
   "cell_type": "markdown",
   "id": "6f155ed2",
   "metadata": {},
   "source": [
    "### 1. To what does a relative path refer?\n",
    "\n",
    "\n",
    "Relative paths are relative to the current working directory. When using relative path, we need to provide the absolute/complete path of file from the root directory, instead we can give the partial/relative path to indicate the file location."
   ]
  },
  {
   "cell_type": "markdown",
   "id": "ed49393e",
   "metadata": {},
   "source": [
    "------------------\n",
    "### 2. What does an absolute path start with your operating system?\n",
    "\n",
    "<br>\n",
    "I am using Windows Operating System with Single Hard drive, so my absolute path starts with C:\\"
   ]
  },
  {
   "cell_type": "markdown",
   "id": "7607bc55",
   "metadata": {},
   "source": [
    "--------------\n",
    "### 3. What do the functions os.getcwd() and os.chdir() do?\n",
    "\n",
    "\n",
    "- os.getcwd() returns you the current working directory path\n",
    "- os.chdir() is used to change the current working directory while running the program"
   ]
  },
  {
   "cell_type": "markdown",
   "id": "b920159f",
   "metadata": {},
   "source": [
    "------------------\n",
    "### 4. What are the . and .. folders?\n",
    "\n",
    "\n",
    "- . single dot means the current folder\n",
    "- .. double dot means the parent folder"
   ]
  },
  {
   "cell_type": "markdown",
   "id": "d1b91813",
   "metadata": {},
   "source": [
    "-----------------\n",
    "### 5. In C:\\bacon\\eggs\\spam.txt, which part is the dir name, and which part is the base name?\n",
    "\n",
    "\n",
    "- C:\\bacon\\eggs is the dir name\n",
    "- spam.txt is the base name"
   ]
  },
  {
   "cell_type": "markdown",
   "id": "095d94ae",
   "metadata": {},
   "source": [
    "--------------------\n",
    "### 6. What are the three “mode” arguments that can be passed to the open() function?\n",
    "\n",
    "\n",
    "The three mode arguments that can be passed to the open() function are:\n",
    "\n",
    "\n",
    "- 'r' for read mode\n",
    "- 'w' for write mode\n",
    "- 'a' for append mode."
   ]
  },
  {
   "cell_type": "markdown",
   "id": "dc205e61",
   "metadata": {},
   "source": [
    "-------------\n",
    "### 7. What happens if an existing file is opened in write mode?\n",
    "\n",
    "- If an existing file is opened in write mode, then all the existing content from the file is erased and the new content will be added.\n",
    "- This might result in loss of data if you wanted to have both existing and new data to existing in the file"
   ]
  },
  {
   "cell_type": "markdown",
   "id": "30b6e81f",
   "metadata": {},
   "source": [
    "------------\n",
    "### 8. How do you tell the difference between read() and readlines()?\n",
    "\n",
    "- The read() method returns the file’s entire contents as a single string value.\n",
    "- The readlines() method returns a list of strings, where each string is a line from the file’s contents."
   ]
  },
  {
   "cell_type": "markdown",
   "id": "f758662c",
   "metadata": {},
   "source": [
    "-----------\n",
    "### 9. What data structure does a shelf value resemble?\n",
    "\n",
    "A shelf value resembles a dictionary value; it has keys and values, along with keys() and values() methods that work similarly to the dictionary methods of the same names."
   ]
  },
  {
   "cell_type": "code",
   "execution_count": null,
   "id": "5744d63e",
   "metadata": {},
   "outputs": [],
   "source": []
  }
 ],
 "metadata": {
  "kernelspec": {
   "display_name": "Python 3 (ipykernel)",
   "language": "python",
   "name": "python3"
  },
  "language_info": {
   "codemirror_mode": {
    "name": "ipython",
    "version": 3
   },
   "file_extension": ".py",
   "mimetype": "text/x-python",
   "name": "python",
   "nbconvert_exporter": "python",
   "pygments_lexer": "ipython3",
   "version": "3.9.7"
  }
 },
 "nbformat": 4,
 "nbformat_minor": 5
}
