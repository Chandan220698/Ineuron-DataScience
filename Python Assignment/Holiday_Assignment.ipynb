{
 "cells": [
  {
   "cell_type": "markdown",
   "id": "41850257",
   "metadata": {},
   "source": [
    "### 1. Write a function which return the len of string (Without using inbuilt len function)"
   ]
  },
  {
   "cell_type": "code",
   "execution_count": 3,
   "id": "792b33f8",
   "metadata": {},
   "outputs": [],
   "source": [
    "def str_len(s):\n",
    "    s = str(s)\n",
    "    length = 0\n",
    "    \n",
    "    for i in s:\n",
    "        length += 1\n",
    "        \n",
    "    return \"length of {}: {}\".format(s, length)"
   ]
  },
  {
   "cell_type": "code",
   "execution_count": 4,
   "id": "4df4a2b7",
   "metadata": {},
   "outputs": [
    {
     "data": {
      "text/plain": [
       "'length of QWERTY: 6'"
      ]
     },
     "execution_count": 4,
     "metadata": {},
     "output_type": "execute_result"
    }
   ],
   "source": [
    "str_len(\"QWERTY\")"
   ]
  },
  {
   "cell_type": "code",
   "execution_count": 5,
   "id": "c8a3dce4",
   "metadata": {},
   "outputs": [
    {
     "data": {
      "text/plain": [
       "'length of 12341: 5'"
      ]
     },
     "execution_count": 5,
     "metadata": {},
     "output_type": "execute_result"
    }
   ],
   "source": [
    "str_len(12341)"
   ]
  },
  {
   "cell_type": "markdown",
   "id": "0f454124",
   "metadata": {},
   "source": [
    "------------\n",
    "### 2. Write a function which returns index of all primitive elements"
   ]
  },
  {
   "cell_type": "code",
   "execution_count": 9,
   "id": "6f3f618a",
   "metadata": {},
   "outputs": [],
   "source": [
    "def print_index(data):\n",
    "    itr = 0\n",
    "    for i in data:\n",
    "        if (type(i) == int or type(i) == float or type(i) == str or type(i) == bool):\n",
    "            print(\"Index: {} and Element: {}\".format(itr, i))\n",
    "        itr += 1"
   ]
  },
  {
   "cell_type": "code",
   "execution_count": 10,
   "id": "46119fdf",
   "metadata": {},
   "outputs": [
    {
     "name": "stdout",
     "output_type": "stream",
     "text": [
      "Index: 0 and Element: 2\n",
      "Index: 1 and Element: 3\n",
      "Index: 3 and Element: asd\n"
     ]
    }
   ],
   "source": [
    "print_index([2,3, 5+7j, 'asd'])"
   ]
  },
  {
   "cell_type": "code",
   "execution_count": 11,
   "id": "7f243b89",
   "metadata": {},
   "outputs": [
    {
     "name": "stdout",
     "output_type": "stream",
     "text": [
      "Index: 0 and Element: data\n",
      "Index: 3 and Element: 23.13\n"
     ]
    }
   ],
   "source": [
    "print_index(['data', 2+3j, [2,3,4], 23.13, (66,7,8)])"
   ]
  },
  {
   "cell_type": "code",
   "execution_count": 12,
   "id": "435b2d72",
   "metadata": {},
   "outputs": [
    {
     "name": "stdout",
     "output_type": "stream",
     "text": [
      "Index: 0 and Element: D\n",
      "Index: 1 and Element: a\n",
      "Index: 2 and Element: t\n",
      "Index: 3 and Element: a\n"
     ]
    }
   ],
   "source": [
    "print_index('Data')"
   ]
  },
  {
   "cell_type": "markdown",
   "id": "1fc82ac0",
   "metadata": {},
   "source": [
    "------------\n",
    "### 3. Function which take dict as input and return all the values as list (for nested dict also)"
   ]
  },
  {
   "cell_type": "code",
   "execution_count": 57,
   "id": "a1fca670",
   "metadata": {},
   "outputs": [
    {
     "data": {
      "text/plain": [
       "[1, 'data k2', (1, 2, 3), (3+5j), [6, 7, 8]]"
      ]
     },
     "execution_count": 57,
     "metadata": {},
     "output_type": "execute_result"
    }
   ],
   "source": [
    "value_list = []\n",
    "def values(d):\n",
    "    for i in d:\n",
    "        if type(d[i]) == dict:   ## Checking if the value is dict\n",
    "            values(d[i])         ## Calling function itself if  value is dict\n",
    "        else:\n",
    "            value_list.append(d[i])\n",
    "            \n",
    "    return value_list\n",
    "\n",
    "\n",
    "d = {'k1': 1, 'k2': 'data k2', 'k3':{'k3a': (1,2,3), 'k3b':{'k3b1': 3+5j, 'k3b2': [6,7,8]}}}\n",
    "values(d)"
   ]
  },
  {
   "cell_type": "markdown",
   "id": "08b16e51",
   "metadata": {},
   "source": [
    "------------\n",
    "### 4. Function that takes another function as input and return the output"
   ]
  },
  {
   "cell_type": "code",
   "execution_count": 85,
   "id": "92cc1baa",
   "metadata": {},
   "outputs": [
    {
     "data": {
      "text/plain": [
       "-220"
      ]
     },
     "execution_count": 85,
     "metadata": {},
     "output_type": "execute_result"
    }
   ],
   "source": [
    "def func_A(numA):\n",
    "    return numA*10\n",
    "\n",
    "def func_B(numB):\n",
    "    return numB*(-11)\n",
    "\n",
    "\n",
    "ans = func_B(func_A(2))\n",
    "ans"
   ]
  },
  {
   "cell_type": "markdown",
   "id": "273eeecd",
   "metadata": {},
   "source": [
    "------------\n",
    "### 5. Function that take multiple list as argument and return concatination of all elements"
   ]
  },
  {
   "cell_type": "code",
   "execution_count": 91,
   "id": "504988f0",
   "metadata": {},
   "outputs": [],
   "source": [
    "def concat_elements(*args):\n",
    "    out_list = []\n",
    "    for i in args:\n",
    "        out_list.append(i)\n",
    "        \n",
    "    return out_list"
   ]
  },
  {
   "cell_type": "code",
   "execution_count": 93,
   "id": "92bd66f6",
   "metadata": {},
   "outputs": [
    {
     "data": {
      "text/plain": [
       "[[1, 2, 3], [-2, 4, -9.34], [(3+5j), True, 'Data']]"
      ]
     },
     "execution_count": 93,
     "metadata": {},
     "output_type": "execute_result"
    }
   ],
   "source": [
    "concat_elements([1,2,3], [-2,4, -9.34], [3+5j, True, 'Data'])"
   ]
  },
  {
   "cell_type": "markdown",
   "id": "ade15183",
   "metadata": {},
   "source": [
    "---------------------\n",
    "### 6. Function that take list as argument and return index of all elements"
   ]
  },
  {
   "cell_type": "code",
   "execution_count": 94,
   "id": "599aa7b7",
   "metadata": {},
   "outputs": [],
   "source": [
    "def task6_index(l):\n",
    "    itr = 0\n",
    "    for i in l:\n",
    "        print(\"Index: {} and Element: {}\".format(itr, i))\n",
    "        itr += 1"
   ]
  },
  {
   "cell_type": "code",
   "execution_count": 95,
   "id": "d6f023dc",
   "metadata": {},
   "outputs": [
    {
     "name": "stdout",
     "output_type": "stream",
     "text": [
      "Index: 0 and Element: 2\n",
      "Index: 1 and Element: 3\n",
      "Index: 2 and Element: 1\n",
      "Index: 3 and Element: [7, 6, 5]\n"
     ]
    }
   ],
   "source": [
    "task6_index([2,3,1, [7,6,5]])"
   ]
  },
  {
   "cell_type": "markdown",
   "id": "2fa32390",
   "metadata": {},
   "source": [
    "---------------------\n",
    "### 7. Function that will return list of all the file name from directory"
   ]
  },
  {
   "cell_type": "code",
   "execution_count": 1,
   "id": "e74e80c3",
   "metadata": {},
   "outputs": [],
   "source": [
    "import os"
   ]
  },
  {
   "cell_type": "code",
   "execution_count": 12,
   "id": "b53ce449",
   "metadata": {},
   "outputs": [],
   "source": [
    "def task7_ls(path):\n",
    "    os.chdir(path)\n",
    "    print(\"current working directory: \", os.getcwd())\n",
    "    \n",
    "    return os.listdir()"
   ]
  },
  {
   "cell_type": "code",
   "execution_count": 13,
   "id": "906dc7d3",
   "metadata": {},
   "outputs": [
    {
     "name": "stdout",
     "output_type": "stream",
     "text": [
      "current working directory:  G:\\eclipse-workspace\\Java Programming\n"
     ]
    },
    {
     "data": {
      "text/plain": [
       "['.metadata',\n",
       " '.project',\n",
       " '10-BinarySearch',\n",
       " '11-Sorting',\n",
       " '4-First_Program',\n",
       " '5-Conditions_and_Loops',\n",
       " '7-Functions_and_Methods',\n",
       " '8-Array',\n",
       " '9-Linear_Search',\n",
       " 'Demo']"
      ]
     },
     "execution_count": 13,
     "metadata": {},
     "output_type": "execute_result"
    }
   ],
   "source": [
    "path = 'G:\\eclipse-workspace\\Java Programming'\n",
    "task7_ls(path)"
   ]
  },
  {
   "cell_type": "markdown",
   "id": "46917375",
   "metadata": {},
   "source": [
    "---------------------\n",
    "### 8. Function that will display system configuration"
   ]
  },
  {
   "cell_type": "code",
   "execution_count": 15,
   "id": "0bab3496",
   "metadata": {},
   "outputs": [
    {
     "name": "stdout",
     "output_type": "stream",
     "text": [
      "Note: you may need to restart the kernel to use updated packages.\n"
     ]
    },
    {
     "name": "stderr",
     "output_type": "stream",
     "text": [
      "ERROR: Could not find a version that satisfies the requirement platform (from versions: none)\n",
      "ERROR: No matching distribution found for platform\n"
     ]
    }
   ],
   "source": [
    "pip install platform"
   ]
  },
  {
   "cell_type": "code",
   "execution_count": 43,
   "id": "5c654f8b",
   "metadata": {},
   "outputs": [],
   "source": [
    "import platform\n",
    "import psutil\n",
    "\n",
    "def task8_sysconfig():\n",
    "    sys_info = platform.uname()\n",
    "    \n",
    "    print('Node: ', sys_info.node)\n",
    "    print('Processor: ', sys_info.processor)\n",
    "    print('OS: ', sys_info.system)\n",
    "    print('GPU: ', sys_info.machine)  \n",
    "    print('CPU Count: ', psutil.cpu_count())\n",
    "    print('Virtual Memory: ', psutil.virtual_memory())\n",
    "    "
   ]
  },
  {
   "cell_type": "code",
   "execution_count": 44,
   "id": "64257908",
   "metadata": {},
   "outputs": [
    {
     "name": "stdout",
     "output_type": "stream",
     "text": [
      "Node:  DESKTOP-OF0J6DM\n",
      "Processor:  Intel64 Family 6 Model 78 Stepping 3, GenuineIntel\n",
      "OS:  Windows\n",
      "GPU:  AMD64\n",
      "CPU Count:  4\n",
      "Virtual Memory:  svmem(total=4180676608, available=307785728, percent=92.6, used=3872890880, free=307785728)\n"
     ]
    }
   ],
   "source": [
    "task8_sysconfig()"
   ]
  },
  {
   "cell_type": "markdown",
   "id": "de2addb8",
   "metadata": {},
   "source": [
    "---------------------\n",
    "### 9. Function that will display date and time"
   ]
  },
  {
   "cell_type": "code",
   "execution_count": 61,
   "id": "b8998bec",
   "metadata": {},
   "outputs": [],
   "source": [
    "from datetime import datetime\n",
    "\n",
    "def task9_datetime():\n",
    "    dt = datetime.now()\n",
    "    dt = str(dt)   ## Type converstion into str\n",
    "    \n",
    "    dt = dt.split(' ')\n",
    "    print('Date: ', dt[0])\n",
    "    print('Time: ', dt[1])"
   ]
  },
  {
   "cell_type": "code",
   "execution_count": 62,
   "id": "28e9e5dd",
   "metadata": {},
   "outputs": [
    {
     "name": "stdout",
     "output_type": "stream",
     "text": [
      "Date:  2022-01-05\n",
      "Time:  12:34:27.488464\n"
     ]
    }
   ],
   "source": [
    "task9_datetime()"
   ]
  },
  {
   "cell_type": "markdown",
   "id": "9e2eac66",
   "metadata": {},
   "source": [
    "---------------------\n",
    "### 10. Function that will read and display the image"
   ]
  },
  {
   "cell_type": "code",
   "execution_count": 66,
   "id": "915d243a",
   "metadata": {},
   "outputs": [
    {
     "name": "stdout",
     "output_type": "stream",
     "text": [
      "Requirement already satisfied: opencv-python in c:\\users\\chandan kumar\\anaconda3\\lib\\site-packages (4.5.5.62)\n",
      "Requirement already satisfied: numpy>=1.14.5 in c:\\users\\chandan kumar\\anaconda3\\lib\\site-packages (from opencv-python) (1.20.3)\n"
     ]
    }
   ],
   "source": [
    "!pip install opencv-python"
   ]
  },
  {
   "cell_type": "code",
   "execution_count": 3,
   "id": "275a929e",
   "metadata": {},
   "outputs": [],
   "source": [
    "import cv2\n",
    "\n",
    "def task10_img(img_path):\n",
    "    \n",
    "    img = cv2.imread(img_path)\n",
    "    cv2.imshow('Image :', img)\n",
    "    cv2.waitKey(0) # waits until a key is pressed\n",
    "    cv2.destroyAllWindows()"
   ]
  },
  {
   "cell_type": "code",
   "execution_count": 5,
   "id": "8b296260",
   "metadata": {},
   "outputs": [],
   "source": [
    "img_path = 'image.png'\n",
    "\n",
    "task10_img(img_path)\n",
    "\n",
    "## Showing image in other tab"
   ]
  },
  {
   "cell_type": "markdown",
   "id": "2f82c4ac",
   "metadata": {},
   "source": [
    "---------------------\n",
    "### 11. Function that will read and display the video"
   ]
  },
  {
   "cell_type": "code",
   "execution_count": 3,
   "id": "88ef6edd",
   "metadata": {},
   "outputs": [],
   "source": [
    "import cv2\n",
    "\n",
    "def task11_video(video_path):\n",
    "    video = cv2.VideoCapture(video_path)\n",
    "    \n",
    "    while(video.isOpened()):\n",
    "      # Capturing the video frame-by-frame\n",
    "        ret, frame = video.read()\n",
    "        if ret == True:\n",
    "            cv2.imshow('Frame',frame) #Showing the display of current frame\n",
    "            if cv2.waitKey(25) & 0xFF == ord('x'):  ## Press x for exit the video\n",
    "                break\n",
    "        else:\n",
    "            break\n",
    "    video.release()\n",
    "    cv2.destroyAllWindows()"
   ]
  },
  {
   "cell_type": "code",
   "execution_count": 4,
   "id": "c5354781",
   "metadata": {},
   "outputs": [],
   "source": [
    "task11_video('video.mp4')"
   ]
  },
  {
   "cell_type": "markdown",
   "id": "6b2d6887",
   "metadata": {},
   "source": [
    "---------------------\n",
    "### 12. Function that will move a file from one directory to another"
   ]
  },
  {
   "cell_type": "code",
   "execution_count": 11,
   "id": "b18d3340",
   "metadata": {},
   "outputs": [],
   "source": [
    "import shutil\n",
    "\n",
    "def task12_move(source, target):\n",
    "    shutil.move(source, target)\n",
    "    print(\"File moved\\nFrom {} to {}\".format(source, target))"
   ]
  },
  {
   "cell_type": "code",
   "execution_count": 12,
   "id": "8e0fef26",
   "metadata": {},
   "outputs": [
    {
     "name": "stdout",
     "output_type": "stream",
     "text": [
      "File moved\n",
      "From C:\\Users\\Chandan Kumar\\Documents\\Ineuron Data Science\\Live Class\\Python\\task12.txt to G:\\Data Science\n"
     ]
    }
   ],
   "source": [
    "source = r'C:\\Users\\Chandan Kumar\\Documents\\Ineuron Data Science\\Live Class\\Python\\task12.txt'\n",
    "target = r'G:\\Data Science'\n",
    "\n",
    "task12_move(source, target)"
   ]
  },
  {
   "cell_type": "markdown",
   "id": "f0b1517f",
   "metadata": {},
   "source": [
    "---------------------\n",
    "### 13. Function to shutdown the system"
   ]
  },
  {
   "cell_type": "code",
   "execution_count": 13,
   "id": "11706603",
   "metadata": {},
   "outputs": [],
   "source": [
    "import os\n",
    "\n",
    "def task13_shutdown():\n",
    "    os.system('shutdown /s')"
   ]
  },
  {
   "cell_type": "markdown",
   "id": "39ec622c",
   "metadata": {},
   "source": [
    "---------------------\n",
    "### 14. Function to access the mail"
   ]
  },
  {
   "cell_type": "code",
   "execution_count": 2,
   "id": "51c2c067",
   "metadata": {},
   "outputs": [
    {
     "name": "stdout",
     "output_type": "stream",
     "text": [
      "Collecting easyimap\n",
      "  Downloading easyimap-0.7.0-py3-none-any.whl (6.2 kB)\n",
      "Requirement already satisfied: chardet>=2.3.0 in c:\\users\\chandan kumar\\anaconda3\\lib\\site-packages (from easyimap) (4.0.0)\n",
      "Installing collected packages: easyimap\n",
      "Successfully installed easyimap-0.7.0\n"
     ]
    }
   ],
   "source": [
    "!pip install easyimap"
   ]
  },
  {
   "cell_type": "code",
   "execution_count": 37,
   "id": "0440103d",
   "metadata": {},
   "outputs": [],
   "source": [
    "import easyimap as e\n",
    "\n",
    "def task14_emailAccess(user, passwd, mailNo=0):\n",
    "    '''\n",
    "    mailNo[optional]: mail id, 0 for latest, 1 for second latest and so on. By default 0\n",
    "    In order to establish the connection we need to allow the less secure access:\n",
    "    https://myaccount.google.com/lesssecureapps?pli=1&rapt=AEjHL4MxmEFG95x8NccLO3ixua11TmiXtZy-CofzTsE0BqPrLaBPgZYilKEmH_daV8K1JuA9_E8AapH2pFU56PLMyTZkoMOa7w\n",
    "    '''\n",
    "    server = e.connect('imap.gmail.com', user, passwd)  ## Establish the connection between gmail and python\n",
    "    mail = server.mail(server.listids()[mailNo])  ## Fetching the id of latest mail\n",
    "\n",
    "    print('Sender:\\n', mail.from_addr)\n",
    "    print('\\nTitle:\\n', mail.title)\n",
    "    print('\\nBody:\\n', mail.body)"
   ]
  },
  {
   "cell_type": "code",
   "execution_count": 38,
   "id": "25b656b4",
   "metadata": {},
   "outputs": [
    {
     "name": "stdout",
     "output_type": "stream",
     "text": [
      "Sender:\n",
      " Chandan Kumar <kumarchndan07@gmail.com>\n",
      "\n",
      "Title:\n",
      " Mail Title\n",
      "\n",
      "Body:\n",
      " Hello,\r\n",
      "This is regarding the access mail through python.\r\n",
      "\r\n",
      "Thanks\r\n",
      "abcd\r\n",
      "\n"
     ]
    }
   ],
   "source": [
    "user = 'Mike2473565@gmail.com'\n",
    "passwd = ''\n",
    "\n",
    "task14_emailAccess(user, passwd)"
   ]
  },
  {
   "cell_type": "code",
   "execution_count": 41,
   "id": "38d4f0fd",
   "metadata": {},
   "outputs": [
    {
     "name": "stdout",
     "output_type": "stream",
     "text": [
      "Sender:\n",
      " Chandan Kumar <kumarchndan07@gmail.com>\n",
      "\n",
      "Title:\n",
      " Testing\n",
      "\n",
      "Body:\n",
      " Hello,\r\n",
      "\r\n",
      "body of  mail\r\n",
      "\n"
     ]
    }
   ],
   "source": [
    "task14_emailAccess(user, passwd, mailNo=3)"
   ]
  },
  {
   "cell_type": "markdown",
   "id": "ef26f9ef",
   "metadata": {},
   "source": [
    "---------------------\n",
    "### 15. Function to write a mail"
   ]
  },
  {
   "cell_type": "code",
   "execution_count": 42,
   "id": "36f3316e",
   "metadata": {},
   "outputs": [],
   "source": [
    "import smtplib"
   ]
  },
  {
   "cell_type": "code",
   "execution_count": 48,
   "id": "da8c302f",
   "metadata": {},
   "outputs": [],
   "source": [
    "def task15_writeMail(user, passwd):\n",
    "    server = smtplib.SMTP('smtp.gmail.com', 587)\n",
    "    server.starttls()  ## creating a connection between gmail and python using tls(transport layer security)\n",
    "    server.login(user,passwd)  ## Login into the gmail account\n",
    "    rx_mail = input(\"Enter receiver mail id: \")\n",
    "    msg = input('Enter the mail(body): ')\n",
    "    server.sendmail(user, rx_mail, msg)\n",
    "    server.close()\n",
    "    print('Mail Sent')"
   ]
  },
  {
   "cell_type": "code",
   "execution_count": 49,
   "id": "9d87d8d0",
   "metadata": {},
   "outputs": [
    {
     "name": "stdout",
     "output_type": "stream",
     "text": [
      "Enter receiver mail id: ck220698@gmail.com\n",
      "Enter the mail(body): Hello sending mail via python.\n",
      "Mail Sent\n"
     ]
    }
   ],
   "source": [
    "user = 'Mike2473565@gmail.com'\n",
    "passwd = ''\n",
    "\n",
    "task15_writeMail(user, passwd)"
   ]
  },
  {
   "attachments": {
    "image.png": {
     "image/png": "[encoded data removed]"
    }
   },
   "cell_type": "markdown",
   "id": "dd2fdf53",
   "metadata": {},
   "source": [
    "![image.png](attachment:image.png)"
   ]
  },
  {
   "cell_type": "markdown",
   "id": "28b57a96",
   "metadata": {},
   "source": [
    "---------------------\n",
    "### 16. Function to read the pdf file"
   ]
  },
  {
   "cell_type": "code",
   "execution_count": 2,
   "id": "803ae7b8",
   "metadata": {},
   "outputs": [
    {
     "name": "stdout",
     "output_type": "stream",
     "text": [
      "Collecting PyPDF2\n",
      "  Downloading PyPDF2-1.26.0.tar.gz (77 kB)\n",
      "Building wheels for collected packages: PyPDF2\n",
      "  Building wheel for PyPDF2 (setup.py): started\n",
      "  Building wheel for PyPDF2 (setup.py): finished with status 'done'\n",
      "  Created wheel for PyPDF2: filename=PyPDF2-1.26.0-py3-none-any.whl size=61101 sha256=7d47cea6bc849fadf89e3586ac025bef9ca49adfe7ca4bf3c6ca1fb6f2e544db\n",
      "  Stored in directory: c:\\users\\chandan kumar\\appdata\\local\\pip\\cache\\wheels\\d9\\dc\\ec\\72da68331f30074b9950c1737c23cb8a67484e61498bc9713d\n",
      "Successfully built PyPDF2\n",
      "Installing collected packages: PyPDF2\n",
      "Successfully installed PyPDF2-1.26.0\n"
     ]
    }
   ],
   "source": [
    "!pip install PyPDF2"
   ]
  },
  {
   "cell_type": "code",
   "execution_count": 9,
   "id": "42289ff7",
   "metadata": {},
   "outputs": [],
   "source": [
    "import PyPDF2\n",
    "\n",
    "def task16_readPDF(pdf_path):\n",
    "    pdfFileObj = open(pdf_path, 'rb')\n",
    "    pdfReader = PyPDF2.PdfFileReader(pdfFileObj)\n",
    "    print(\"Number of pages: \", pdfReader.numPages)\n",
    "    \n",
    "    for i in range(0,pdfReader.numPages):\n",
    "        print(\"\\nPageNo. \", i)\n",
    "        pageObj = pdfReader.getPage(i)\n",
    "        print(pageObj.extractText())\n",
    "        \n",
    "    pdfFileObj.close()\n"
   ]
  },
  {
   "cell_type": "code",
   "execution_count": 10,
   "id": "1e7f77ae",
   "metadata": {
    "scrolled": true
   },
   "outputs": [
    {
     "name": "stdout",
     "output_type": "stream",
     "text": [
      "Number of pages:  16\n",
      "\n",
      "PageNo.  0\n",
      "Working with MySQL and Python\n",
      " \n",
      " \n",
      " \n",
      "Installing MySQL Workbench\n",
      " \n",
      "\n",
      " \n",
      "Download MYSQL application. Go to page : \n",
      "https://dev.mysql.com/downloads/installer/\n",
      " \n",
      "\n",
      " \n",
      "Click on the link highlighted below.\n",
      " \n",
      " \n",
      " \n",
      "\n",
      " \n",
      "Once \n",
      "downloaded\n",
      ", install the application. \n",
      "Follow the instructions and continue with \n",
      "installation.\n",
      " \n",
      " \n",
      "\n",
      "\n",
      "PageNo.  1\n",
      "\n",
      " \n",
      "Select Standalone MySQL server option\n",
      " \n",
      " \n",
      "\n",
      " \n",
      "\n",
      " \n",
      " \n",
      "\n",
      "\n",
      "PageNo.  2\n",
      " \n",
      "\n",
      " \n",
      "Finish the installation by pressing next.\n",
      " \n",
      " \n",
      "\n",
      " \n",
      "Once the install\n",
      "ation is complete, o\n",
      "pen the MYSQL workbench and click on the local instance \n",
      "connection.\n",
      " \n",
      "The window will look something like this:\n",
      " \n",
      " \n",
      " \n",
      "\n",
      "\n",
      "PageNo.  3\n",
      " \n",
      " \n",
      "\n",
      " \n",
      "Provide the password that you setup during installation:\n",
      " \n",
      " \n",
      " \n",
      " \n",
      "Remember the user name mentioned above as we will need it to connect python to Mysql.\n",
      " \n",
      "\n",
      " \n",
      "Once the connecti\n",
      "on is established, you will see a window like this:\n",
      " \n",
      " \n",
      " \n",
      "\n",
      "\n",
      "PageNo.  4\n",
      " \n",
      "Connecting MySql With Python\n",
      " \n",
      "\n",
      " \n",
      "\n",
      " \n",
      "First we need to ins\n",
      "\n",
      "-\n",
      "connector\n",
      "-\n",
      "\n",
      "Mysql.\n",
      " \n",
      "\n",
      "-\n",
      "conector\n",
      "-\n",
      "\n",
      " \n",
      " \n",
      " \n",
      " \n",
      "\n",
      " \n",
      "Once the package is installed, we can go ahead with establishing the connection.\n",
      " \n",
      " \n",
      " \n",
      "\n",
      " \n",
      "Enter the details as shown above, your mysql server is r\n",
      "unning locally so \n",
      "host\n",
      " \n",
      "\n",
      " \n",
      "               \n",
      "e\n",
      "nter the \n",
      "username\n",
      " \n",
      "and \n",
      "password\n",
      " \n",
      "as was setup during installation.\n",
      " \n",
      "\n",
      " \n",
      "to user pure python connection \n",
      "instead of C extensions which leads to SSL error.\n",
      " \n",
      "\n",
      " \n",
      "To check if the connection is established, we can \n",
      "use \n",
      "print \n",
      "(\n",
      "mydb.is_connected\n",
      ")\n",
      ". It will \n",
      "return \n",
      "TRUE\n",
      " \n",
      "if the connection is established else \n",
      "FALSE\n",
      ".\n",
      " \n",
      "\n",
      "\n",
      "PageNo.  5\n",
      " \n",
      "\n",
      " \n",
      "Our connection is \n",
      "established now.\n",
      " \n",
      "\n",
      " \n",
      "\n",
      " \n",
      "start with creating a database with name Student.\n",
      " \n",
      " \n",
      " \n",
      " \n",
      " \n",
      "\n",
      "\n",
      "PageNo.  6\n",
      "\n",
      " \n",
      "\n",
      "MySQL\n",
      " \n",
      "Workbench\n",
      ".\n",
      " \n",
      " \n",
      "\n",
      " \n",
      "Great! Database is created. \n",
      " \n",
      "\n",
      " \n",
      "\n",
      " \n",
      "\n",
      "rkbench \n",
      "so that we can view the tables\n",
      ", once we create them from python\n",
      ".\n",
      " \n",
      " \n",
      "\n",
      " \n",
      "Give the database name:\n",
      " \n",
      " \n",
      "\n",
      "\n",
      "PageNo.  7\n",
      "\n",
      " \n",
      "\n",
      " \n",
      " \n",
      "\n",
      " \n",
      "We need to pass an \n",
      "additional parameter, database name, while \n",
      "connecting to server\n",
      ". We \n",
      "\n",
      " \n",
      " \n",
      "\n",
      " \n",
      "\n",
      " \n",
      " \n",
      "\n",
      " \n",
      "Our ta\n",
      "ble is now created in the mentioned database.\n",
      " \n",
      " \n",
      " \n",
      " \n",
      " \n",
      " \n",
      "\n",
      "\n",
      "PageNo.  8\n",
      " \n",
      "\n",
      " \n",
      "\n",
      "table:\n",
      " \n",
      " \n",
      " \n",
      " \n",
      " \n",
      " \n",
      "\n",
      " \n",
      "\n",
      " \n",
      " \n",
      "\n",
      "\n",
      "PageNo.  9\n",
      " \n",
      "\n",
      " \n",
      "\n",
      "insert values into a new table in a new database from a file\n",
      ".\n",
      " \n",
      "\n",
      " \n",
      "\n",
      "glass. Data\n",
      "\n",
      " \n",
      "\n",
      " \n",
      "\n",
      "Glass Data\n",
      "\n",
      "\n",
      "Glass Data\n",
      "\n",
      " \n",
      "\n",
      " \n",
      "We are reading each row from the file and inserting into the table.\n",
      " \n",
      " \n",
      " \n",
      " \n",
      " \n",
      "\n",
      " \n",
      "\n",
      " \n",
      "\n",
      "\n",
      "PageNo.  10\n",
      " \n",
      " \n",
      "\n",
      " \n",
      "The values are inserted.\n",
      " \n",
      "\n",
      " \n",
      "1)\n",
      " \n",
      "Selecting from table\n",
      " \n",
      " \n",
      "Result:\n",
      " \n",
      "\n",
      "\n",
      "PageNo.  11\n",
      " \n",
      " \n",
      "\n",
      " \n",
      "\n",
      "try to store all the select values into a Dataframe.\n",
      " \n",
      " \n",
      "We can use \n",
      "pandas.read_sql\n",
      "  \n",
      "to store the values in a dataframe.\n",
      " \n",
      " \n",
      " \n",
      " \n",
      " \n",
      " \n",
      "\n",
      "\n",
      "PageNo.  12\n",
      "\n",
      " \n",
      " \n",
      " \n",
      " \n",
      "2)\n",
      " \n",
      "Update statement\n",
      " \n",
      " \n",
      " \n",
      "\n",
      "\n",
      "PageNo.  13\n",
      " \n",
      " \n",
      "\n",
      " \n",
      "\n",
      " \n",
      " \n",
      "3)\n",
      " \n",
      "Delete statement\n",
      " \n",
      " \n",
      "\n",
      "\n",
      "PageNo.  14\n",
      "\n",
      " \n",
      "\n",
      " \n",
      "workbench:\n",
      " \n",
      " \n",
      " \n",
      "4)\n",
      " \n",
      "Group by, Order by\n",
      " \n",
      " \n",
      " \n",
      " \n",
      "\n",
      "\n",
      "PageNo.  15\n",
      " \n",
      " \n",
      " \n",
      " \n",
      " \n",
      " \n",
      " \n",
      " \n",
      " \n",
      " \n",
      " \n",
      " \n",
      " \n",
      " \n",
      " \n",
      " \n",
      "\n"
     ]
    }
   ],
   "source": [
    "task16_readPDF(\"MYSQL.pdf\")"
   ]
  },
  {
   "cell_type": "markdown",
   "id": "c9838f18",
   "metadata": {},
   "source": [
    "---------------------\n",
    "### 17. Function to read the word file"
   ]
  },
  {
   "cell_type": "code",
   "execution_count": 15,
   "id": "ad0e9cd8",
   "metadata": {},
   "outputs": [
    {
     "name": "stdout",
     "output_type": "stream",
     "text": [
      "Collecting python-docx\n",
      "  Downloading python-docx-0.8.11.tar.gz (5.6 MB)\n",
      "Requirement already satisfied: lxml>=2.3.2 in c:\\users\\chandan kumar\\anaconda3\\lib\\site-packages (from python-docx) (4.6.3)\n",
      "Building wheels for collected packages: python-docx\n",
      "  Building wheel for python-docx (setup.py): started\n",
      "  Building wheel for python-docx (setup.py): finished with status 'done'\n",
      "  Created wheel for python-docx: filename=python_docx-0.8.11-py3-none-any.whl size=184508 sha256=e8ab2f820e6929c7ed3010431625cb6feb2ebde683bffdf80e2112dfbc1fd6ca\n",
      "  Stored in directory: c:\\users\\chandan kumar\\appdata\\local\\pip\\cache\\wheels\\83\\8b\\7c\\09ae60c42c7ba4ed2dddaf2b8b9186cb105255856d6ed3dba5\n",
      "Successfully built python-docx\n",
      "Installing collected packages: python-docx\n",
      "Successfully installed python-docx-0.8.11\n"
     ]
    }
   ],
   "source": [
    "!pip install python-docx"
   ]
  },
  {
   "cell_type": "code",
   "execution_count": 7,
   "id": "79b058fd",
   "metadata": {},
   "outputs": [],
   "source": [
    "import docx\n",
    "\n",
    "def readtxt(filename):\n",
    "    doc = docx.Document(filename)\n",
    "    word_text = []\n",
    "    for para in doc.paragraphs:\n",
    "        word_text.append(para.text)\n",
    "    return '\\n'.join(word_text)\n"
   ]
  },
  {
   "cell_type": "code",
   "execution_count": 8,
   "id": "f6431cf3",
   "metadata": {
    "scrolled": true
   },
   "outputs": [
    {
     "name": "stdout",
     "output_type": "stream",
     "text": [
      "1. Write a function that takes a list of lists and returns the value of all of the symbols in it, where each symbol adds or takes something from the total score. Symbol values:\n",
      "\n",
      "# = 5\n",
      "O = 3\n",
      "X = 1\n",
      "! = -1\n",
      "!! = -3\n",
      "!!! = -5\n",
      "\n",
      "A list of lists containing 2 #s, a O, and a !!! would equal (0 + 5 + 5 + 3 - 5) 8.\n",
      "\n",
      "If the final score is negative, return 0 (e.g. 3 #s, 3 !!s, 2 !!!s and a X would be (0 + 5 + 5 + 5 - 3 - 3 - 3 - 5 - 5 + 1) -3, so return 0.\n",
      "\n",
      "Examples\n",
      "\n",
      "check_score([\n",
      "  [\"#\", \"!\"],\n",
      "  [\"!!\", \"X\"]\n",
      "]) ➞ 2\n",
      "\n",
      "check_score([\n",
      "  [\"!!!\", \"O\", \"!\"],\n",
      "  [\"X\", \"#\", \"!!!\"],\n",
      "  [\"!!\", \"X\", \"O\"]\n",
      "]) ➞ 0\n",
      "\n",
      "2. Create a function that takes a variable number of arguments, each argument representing the number of items in a group, and returns the number of permutations (combinations) of items that you could get by taking one item from each group.\n",
      "\n",
      "Examples\n",
      "\n",
      "combinations(2, 3) ➞ 6\n",
      "\n",
      "combinations(3, 7, 4) ➞ 84\n",
      "\n",
      "combinations(2, 3, 4, 5) ➞ 120\n",
      "\n",
      "\n",
      "\n",
      "\n",
      "3. Create a function that takes a string as an argument and returns the Morse code equivalent.\n",
      "\n",
      "Examples\n",
      "\n",
      "encode_morse(\"EDABBIT CHALLENGE\") ➞ \". -.. .- -... -... .. -   -.-. .... .- .-.. .-.. . -. --. .\"\n",
      "\n",
      "encode_morse(\"HELP ME !\") ➞ \".... . .-.. .--.   -- .   -.-.--\"\n",
      "\n",
      "This dictionary can be used for coding:\n",
      "\n",
      "char_to_dots = {\n",
      "  'A': '.-', 'B': '-...', 'C': '-.-.', 'D': '-..', 'E': '.', 'F': '..-.',\n",
      "  'G': '--.', 'H': '....', 'I': '..', 'J': '.---', 'K': '-.-', 'L': '.-..',\n",
      "  'M': '--', 'N': '-.', 'O': '---', 'P': '.--.', 'Q': '--.-', 'R': '.-.',\n",
      "  'S': '...', 'T': '-', 'U': '..-', 'V': '...-', 'W': '.--', 'X': '-..-',\n",
      "  'Y': '-.--', 'Z': '--..', ' ': ' ', '0': '-----',\n",
      "  '1': '.----', '2': '..---', '3': '...--', '4': '....-', '5': '.....',\n",
      "  '6': '-....', '7': '--...', '8': '---..', '9': '----.',\n",
      "  '&': '.-...', \"'\": '.----.', '@': '.--.-.', ')': '-.--.-', '(': '-.--.',\n",
      "  ':': '---...', ',': '--..--', '=': '-...-', '!': '-.-.--', '.': '.-.-.-',\n",
      "  '-': '-....-', '+': '.-.-.', '\"': '.-..-.', '?': '..--..', '/': '-..-.'\n",
      "}\n",
      "\n",
      "4.  Write a function that takes a number and returns True if it's a prime; False otherwise. The number can be 2^64-1 (2 to the power of 63, not XOR). With the standard technique it would be O(2^64-1), which is much too large for the 10 second time limit.\n",
      "\n",
      "Examples\n",
      "\n",
      "prime(7) ➞ True\n",
      "\n",
      "prime(56963) ➞ True\n",
      "\n",
      "prime(5151512515524) ➞ False\n",
      "\n",
      "\n",
      "\n",
      "\n",
      "\n",
      "\n",
      "\n",
      "5.  Create a function that converts a word to a bitstring and then to a boolean list based on the following criteria:\n",
      "\n",
      "    1. Locate the position of the letter in the English alphabet (from 1 to 26).\n",
      "    2. Odd positions will be represented as 1 and 0 otherwise.\n",
      "    3. Convert the represented positions to boolean values, 1 for True and 0 for False.\n",
      "    4. Store the conversions into an array.\n",
      "\n",
      " Examples\n",
      "\n",
      "to_boolean_list(\"deep\") ➞ [False, True, True, False]\n",
      "# deep converts to 0110\n",
      "# d is the 4th alphabet - 0\n",
      "# e is the 5th alphabet - 1\n",
      "# e is the 5th alphabet - 1\n",
      "# p is the 16th alphabet - 0\n",
      "\n",
      "to_boolean_list(\"loves\") ➞ [False, True, False, True, True]\n",
      "\n",
      "to_boolean_list(\"tesh\") ➞ [False, True, True, False]\n",
      "\n"
     ]
    }
   ],
   "source": [
    "print(readtxt('Assignment1.docx'))"
   ]
  },
  {
   "cell_type": "markdown",
   "id": "1a3d0ef5",
   "metadata": {},
   "source": [
    "---------------------\n",
    "### 18. Function to extract word file from a directory"
   ]
  },
  {
   "cell_type": "code",
   "execution_count": 7,
   "id": "70bb2ae0",
   "metadata": {},
   "outputs": [],
   "source": [
    "def task18_listDocx(dict_path = os.getcwd()):\n",
    "    os.chdir(dict_path)\n",
    "    \n",
    "    files = os.listdir()  ## Contains all the file name \n",
    "\n",
    "    for i in files:\n",
    "        file_details = os.path.splitext(i)   ## Spliting the file from the extension\n",
    "        if file_details[1] == '.docx':\n",
    "            print(file_details[0], file_details[1])"
   ]
  },
  {
   "cell_type": "code",
   "execution_count": 8,
   "id": "dad3b1e9",
   "metadata": {},
   "outputs": [
    {
     "name": "stdout",
     "output_type": "stream",
     "text": [
      "Assignment1 .docx\n"
     ]
    }
   ],
   "source": [
    "task18_listDocx()"
   ]
  },
  {
   "cell_type": "code",
   "execution_count": 10,
   "id": "aeedad16",
   "metadata": {},
   "outputs": [
    {
     "name": "stdout",
     "output_type": "stream",
     "text": [
      "Assignment1 .docx\n",
      "Introduction to MySQL (4) .docx\n"
     ]
    }
   ],
   "source": [
    "dict_path = r'C:\\Users\\Chandan Kumar\\Downloads'\n",
    "task18_listDocx(dict_path)"
   ]
  },
  {
   "cell_type": "markdown",
   "id": "4b79179d",
   "metadata": {},
   "source": [
    "---------------------\n",
    "### 19. Function to display the ip address"
   ]
  },
  {
   "cell_type": "code",
   "execution_count": 16,
   "id": "6666eff1",
   "metadata": {},
   "outputs": [],
   "source": [
    "# Python Program to Get IP Address\n",
    "import socket\n",
    "\n",
    "def task19_displayIP():\n",
    "    host = socket.gethostname()\n",
    "    IPAddr = socket.gethostbyname(host)\n",
    "    \n",
    "    return \"HostName: {} | IP Address: {}\".format(host, IPAddr)"
   ]
  },
  {
   "cell_type": "code",
   "execution_count": 17,
   "id": "ba3e8e6b",
   "metadata": {},
   "outputs": [
    {
     "data": {
      "text/plain": [
       "'HostName: DESKTOP-OF0J6DM | IP Address: 192.168.1.26'"
      ]
     },
     "execution_count": 17,
     "metadata": {},
     "output_type": "execute_result"
    }
   ],
   "source": [
    "task19_displayIP()"
   ]
  },
  {
   "cell_type": "markdown",
   "id": "7a1b2eb3",
   "metadata": {},
   "source": [
    "---------------------\n",
    "### 20. Function to merge 2 pdf files"
   ]
  },
  {
   "cell_type": "code",
   "execution_count": 6,
   "id": "4256a0dc",
   "metadata": {},
   "outputs": [],
   "source": [
    "import PyPDF2 \n",
    "\n",
    "def task20_mergePDF(file1, file2):\n",
    "    mergeFile = PyPDF2.PdfFileMerger()\n",
    "    mergeFile.append(PyPDF2.PdfFileReader(file1, 'rb'))\n",
    "    mergeFile.append(PyPDF2.PdfFileReader(file2, 'rb'))\n",
    "    mergeFile.write(\"NewPDF.pdf\")\n",
    "    print('Merge done.')"
   ]
  },
  {
   "cell_type": "code",
   "execution_count": 7,
   "id": "bcc602b7",
   "metadata": {},
   "outputs": [
    {
     "name": "stdout",
     "output_type": "stream",
     "text": [
      "Merge done.\n"
     ]
    }
   ],
   "source": [
    "file1 = 'MYSQL.pdf'\n",
    "file2 = 'pdf2.pdf'\n",
    "task20_mergePDF(file1, file2)"
   ]
  },
  {
   "cell_type": "code",
   "execution_count": null,
   "id": "985cb06f",
   "metadata": {},
   "outputs": [],
   "source": []
  }
 ],
 "metadata": {
  "kernelspec": {
   "display_name": "Python 3 (ipykernel)",
   "language": "python",
   "name": "python3"
  },
  "language_info": {
   "codemirror_mode": {
    "name": "ipython",
    "version": 3
   },
   "file_extension": ".py",
   "mimetype": "text/x-python",
   "name": "python",
   "nbconvert_exporter": "python",
   "pygments_lexer": "ipython3",
   "version": "3.9.7"
  }
 },
 "nbformat": 4,
 "nbformat_minor": 5
}
