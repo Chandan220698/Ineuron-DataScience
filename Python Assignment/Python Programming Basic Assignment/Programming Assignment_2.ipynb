{
 "cells": [
  {
   "cell_type": "markdown",
   "id": "08c66ea5",
   "metadata": {},
   "source": [
    "## Programming Assignment_2\n",
    "-------------"
   ]
  },
  {
   "cell_type": "markdown",
   "id": "4e50cf42",
   "metadata": {},
   "source": [
    "### 1. Write a Python program to convert kilometers to miles?\n",
    "##### Sol."
   ]
  },
  {
   "cell_type": "code",
   "execution_count": 9,
   "id": "8d5eb295",
   "metadata": {},
   "outputs": [
    {
     "name": "stdout",
     "output_type": "stream",
     "text": [
      "For 6km equivalent distance in miles = 3.7282364198988405\n"
     ]
    }
   ],
   "source": [
    "km = 6\n",
    "\n",
    "miles = km/1.60934\n",
    "\n",
    "print(\"For {}km equivalent distance in miles = {}\".format(km, miles))"
   ]
  },
  {
   "cell_type": "markdown",
   "id": "0df4e6bf",
   "metadata": {},
   "source": [
    "### 2.Write a Python program to convert Celsius to Fahrenheit?\n",
    "##### Sol."
   ]
  },
  {
   "cell_type": "code",
   "execution_count": 4,
   "id": "b26052b8",
   "metadata": {},
   "outputs": [
    {
     "name": "stdout",
     "output_type": "stream",
     "text": [
      "For Celsius = 35 equivalent Fahrenheit = 95.0\n"
     ]
    }
   ],
   "source": [
    "c = 35\n",
    "\n",
    "f = (9*c/5)+32\n",
    "\n",
    "print(\"For Celsius = {} equivalent Fahrenheit = {}\".format(c, f))"
   ]
  },
  {
   "cell_type": "markdown",
   "id": "46129b8e",
   "metadata": {},
   "source": [
    "### 3. Write a Python program to display calendar?\n",
    "##### Sol."
   ]
  },
  {
   "cell_type": "code",
   "execution_count": 11,
   "id": "57b648c9",
   "metadata": {},
   "outputs": [],
   "source": [
    "import calendar"
   ]
  },
  {
   "cell_type": "code",
   "execution_count": 13,
   "id": "195356fe",
   "metadata": {},
   "outputs": [
    {
     "name": "stdout",
     "output_type": "stream",
     "text": [
      "   December 2021\n",
      "Mo Tu We Th Fr Sa Su\n",
      "       1  2  3  4  5\n",
      " 6  7  8  9 10 11 12\n",
      "13 14 15 16 17 18 19\n",
      "20 21 22 23 24 25 26\n",
      "27 28 29 30 31\n",
      "\n"
     ]
    }
   ],
   "source": [
    "year = 2021\n",
    "month = 12\n",
    "\n",
    "print(calendar.month(year, month))"
   ]
  },
  {
   "cell_type": "code",
   "execution_count": 14,
   "id": "28f5a42c",
   "metadata": {},
   "outputs": [
    {
     "name": "stdout",
     "output_type": "stream",
     "text": [
      "                                  2022\n",
      "\n",
      "      January                   February                   March\n",
      "Mo Tu We Th Fr Sa Su      Mo Tu We Th Fr Sa Su      Mo Tu We Th Fr Sa Su\n",
      "                1  2          1  2  3  4  5  6          1  2  3  4  5  6\n",
      " 3  4  5  6  7  8  9       7  8  9 10 11 12 13       7  8  9 10 11 12 13\n",
      "10 11 12 13 14 15 16      14 15 16 17 18 19 20      14 15 16 17 18 19 20\n",
      "17 18 19 20 21 22 23      21 22 23 24 25 26 27      21 22 23 24 25 26 27\n",
      "24 25 26 27 28 29 30      28                        28 29 30 31\n",
      "31\n",
      "\n",
      "       April                      May                       June\n",
      "Mo Tu We Th Fr Sa Su      Mo Tu We Th Fr Sa Su      Mo Tu We Th Fr Sa Su\n",
      "             1  2  3                         1             1  2  3  4  5\n",
      " 4  5  6  7  8  9 10       2  3  4  5  6  7  8       6  7  8  9 10 11 12\n",
      "11 12 13 14 15 16 17       9 10 11 12 13 14 15      13 14 15 16 17 18 19\n",
      "18 19 20 21 22 23 24      16 17 18 19 20 21 22      20 21 22 23 24 25 26\n",
      "25 26 27 28 29 30         23 24 25 26 27 28 29      27 28 29 30\n",
      "                          30 31\n",
      "\n",
      "        July                     August                  September\n",
      "Mo Tu We Th Fr Sa Su      Mo Tu We Th Fr Sa Su      Mo Tu We Th Fr Sa Su\n",
      "             1  2  3       1  2  3  4  5  6  7                1  2  3  4\n",
      " 4  5  6  7  8  9 10       8  9 10 11 12 13 14       5  6  7  8  9 10 11\n",
      "11 12 13 14 15 16 17      15 16 17 18 19 20 21      12 13 14 15 16 17 18\n",
      "18 19 20 21 22 23 24      22 23 24 25 26 27 28      19 20 21 22 23 24 25\n",
      "25 26 27 28 29 30 31      29 30 31                  26 27 28 29 30\n",
      "\n",
      "      October                   November                  December\n",
      "Mo Tu We Th Fr Sa Su      Mo Tu We Th Fr Sa Su      Mo Tu We Th Fr Sa Su\n",
      "                1  2          1  2  3  4  5  6                1  2  3  4\n",
      " 3  4  5  6  7  8  9       7  8  9 10 11 12 13       5  6  7  8  9 10 11\n",
      "10 11 12 13 14 15 16      14 15 16 17 18 19 20      12 13 14 15 16 17 18\n",
      "17 18 19 20 21 22 23      21 22 23 24 25 26 27      19 20 21 22 23 24 25\n",
      "24 25 26 27 28 29 30      28 29 30                  26 27 28 29 30 31\n",
      "31\n",
      "\n"
     ]
    }
   ],
   "source": [
    "year = 2022\n",
    "\n",
    "print(calendar.calendar(year))"
   ]
  },
  {
   "cell_type": "markdown",
   "id": "db2bf0f7",
   "metadata": {},
   "source": [
    "### 4. Write a Python program to solve quadratic equation?\n",
    "##### Sol."
   ]
  },
  {
   "cell_type": "code",
   "execution_count": 31,
   "id": "66aa2e8b",
   "metadata": {},
   "outputs": [
    {
     "name": "stdout",
     "output_type": "stream",
     "text": [
      "ax^2 + bx^1 + c = 0\n",
      "Enter the coeff a, b and constant c\n",
      "Enter the coeff a: 1\n",
      "Enter the coeff b: -9\n",
      "Enter the constant c: 14\n",
      "\n",
      "For quad eq. 1x^2 + (-9)x^1 + 14\n",
      "The solutions are: 7.0 and 2.0\n"
     ]
    }
   ],
   "source": [
    "\n",
    "import math\n",
    "\n",
    "print(\"ax^2 + bx^1 + c = 0\")\n",
    "print(\"Enter the coeff a, b and constant c\")\n",
    "\n",
    "a = int(input((\"Enter the coeff a: \")))\n",
    "b = int(input((\"Enter the coeff b: \")))\n",
    "c = int(input((\"Enter the constant c: \")))\n",
    "\n",
    "d = (b**2) - (4*a*c)\n",
    "\n",
    "root1 = ((-1*b)+(math.sqrt(d))) / (2*a)\n",
    "root2 = ((-1*b)-(math.sqrt(d))) / (2*a)\n",
    "\n",
    "print('\\nFor quad eq. {}x^2 + ({})x^1 + {}'.format(a,b,c))\n",
    "print('The solutions are: {} and {}'.format(root1, root2))"
   ]
  },
  {
   "cell_type": "markdown",
   "id": "f70f74c9",
   "metadata": {},
   "source": [
    "### 5. Write a Python program to swap two variables without temp variable?\n",
    "##### Sol."
   ]
  },
  {
   "cell_type": "code",
   "execution_count": 30,
   "id": "58514b20",
   "metadata": {},
   "outputs": [
    {
     "name": "stdout",
     "output_type": "stream",
     "text": [
      "Before swap:\n",
      "var1 = 6 and var2 = 4\n",
      "\n",
      "After swap:\n",
      "var1 = 4 and var2 = 6\n"
     ]
    }
   ],
   "source": [
    "var1 = 6\n",
    "var2 = 4\n",
    "\n",
    "print('Before swap:\\nvar1 = {} and var2 = {}'.format(var1, var2))\n",
    "var2 = var1 + var2\n",
    "var1 = var2 - var1\n",
    "var2 = var2 - var1\n",
    "\n",
    "print('\\nAfter swap:\\nvar1 = {} and var2 = {}'.format(var1, var2))"
   ]
  },
  {
   "cell_type": "code",
   "execution_count": null,
   "id": "3fbe6786",
   "metadata": {},
   "outputs": [],
   "source": []
  }
 ],
 "metadata": {
  "kernelspec": {
   "display_name": "Python 3 (ipykernel)",
   "language": "python",
   "name": "python3"
  },
  "language_info": {
   "codemirror_mode": {
    "name": "ipython",
    "version": 3
   },
   "file_extension": ".py",
   "mimetype": "text/x-python",
   "name": "python",
   "nbconvert_exporter": "python",
   "pygments_lexer": "ipython3",
   "version": "3.9.7"
  }
 },
 "nbformat": 4,
 "nbformat_minor": 5
}
