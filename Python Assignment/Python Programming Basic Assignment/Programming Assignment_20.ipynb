{
 "cells": [
  {
   "cell_type": "markdown",
   "id": "d756b1d7",
   "metadata": {},
   "source": [
    "## Python Basic Programming Assignment 20\n",
    "-------------"
   ]
  },
  {
   "cell_type": "markdown",
   "id": "9f6b1bfc",
   "metadata": {},
   "source": [
    "### 1. Create a function that takes a list of strings and integers, and filters out the list so that it returns a list of integers only. Examples filter_list([1, 2, 3, 'a', 'b', 4]) ➞ [1, 2, 3, 4] filter_list(['A', 0, 'Edabit', 1729, 'Python', '1729']) ➞ [0, 1729] filter_list(['Nothing', 'here']) ➞ []"
   ]
  },
  {
   "cell_type": "code",
   "execution_count": 1,
   "id": "a2aba6cd",
   "metadata": {},
   "outputs": [
    {
     "name": "stdout",
     "output_type": "stream",
     "text": [
      "[1, 2, 3, 4]\n",
      "[0, 1729]\n",
      "[]\n"
     ]
    }
   ],
   "source": [
    "def filter_list(lst: list) -> list:\n",
    "    return [i for i in lst if type(i) == int]\n",
    "\n",
    "print(filter_list([1, 2, 3, 'a', 'b', 4]))\n",
    "print(filter_list(['A', 0, 'Edabit', 1729, 'Python', '1729']))\n",
    "print(filter_list(['Nothing', 'here']))"
   ]
  },
  {
   "cell_type": "markdown",
   "id": "6af97d67",
   "metadata": {},
   "source": [
    "### 2. Given a list of numbers, create a function which returns the list but with each element's index in the list added to itself. This means you add 0 to the number at index 0, add 1 to the number at index 1, etc... Examples add_indexes([0, 0, 0, 0, 0]) ➞ [0, 1, 2, 3, 4] add_indexes([1, 2, 3, 4, 5]) ➞ [1, 3, 5, 7, 9] add_indexes([5, 4, 3, 2, 1]) ➞ [5, 5, 5, 5, 5]"
   ]
  },
  {
   "cell_type": "code",
   "execution_count": 2,
   "id": "71dc0bea",
   "metadata": {},
   "outputs": [],
   "source": [
    "def add_indexes(lst):\n",
    "    for i in range(len(lst)):\n",
    "        lst[i] = lst[i] + i\n",
    "        \n",
    "    return lst"
   ]
  },
  {
   "cell_type": "code",
   "execution_count": 3,
   "id": "82b2111a",
   "metadata": {},
   "outputs": [
    {
     "name": "stdout",
     "output_type": "stream",
     "text": [
      "[0, 1, 2, 3, 4]\n",
      "[1, 3, 5, 7, 9]\n",
      "[5, 5, 5, 5, 5]\n"
     ]
    }
   ],
   "source": [
    "print(add_indexes([0, 0, 0, 0, 0]))\n",
    "print(add_indexes([1, 2, 3, 4, 5]))\n",
    "print(add_indexes([5, 4, 3, 2, 1]))"
   ]
  },
  {
   "cell_type": "markdown",
   "id": "13bf4e6c",
   "metadata": {},
   "source": [
    "### 3. Create a function that takes the height and radius of a cone as arguments and returns the volume of the cone rounded to the nearest hundredth. See the resources tab for the formula."
   ]
  },
  {
   "cell_type": "code",
   "execution_count": 4,
   "id": "74e12e1a",
   "metadata": {},
   "outputs": [
    {
     "name": "stdout",
     "output_type": "stream",
     "text": [
      "12.57\n",
      "565.49\n",
      "0.0\n"
     ]
    }
   ],
   "source": [
    "import math\n",
    "\n",
    "def cone_volume(height, radius):\n",
    "    return round((1/3) * math.pi * (radius ** 2) * height, 2)\n",
    "\n",
    "print(cone_volume(3, 2))\n",
    "print(cone_volume(15, 6))\n",
    "print(cone_volume(18, 0))"
   ]
  },
  {
   "cell_type": "markdown",
   "id": "bf75b5f0",
   "metadata": {},
   "source": [
    "### 4. This Triangular Number Sequence is generated from a pattern of dots that form a triangle. The first 5 numbers of the sequence, or dots, are: 1, 3, 6, 10, 15 "
   ]
  },
  {
   "cell_type": "code",
   "execution_count": 7,
   "id": "f939deaa",
   "metadata": {},
   "outputs": [],
   "source": [
    "def triangle(n):\n",
    "    return int(n*(n+1)*0.5)"
   ]
  },
  {
   "cell_type": "code",
   "execution_count": 8,
   "id": "2b3b184c",
   "metadata": {},
   "outputs": [
    {
     "name": "stdout",
     "output_type": "stream",
     "text": [
      "1\n",
      "21\n",
      "23220\n"
     ]
    }
   ],
   "source": [
    "print(triangle(1))\n",
    "print(triangle(6))\n",
    "print(triangle(215))"
   ]
  },
  {
   "cell_type": "markdown",
   "id": "ed723e3e",
   "metadata": {},
   "source": [
    "### 5. Create a function that takes a list of numbers between 1 and 10 (excluding one number) and returns the missing number. Examples missing_num([1, 2, 3, 4, 6, 7, 8, 9, 10]) ➞ 5 missing_num([7, 2, 3, 6, 5, 9, 1, 4, 8]) ➞ 10 missing_num([10, 5, 1, 2, 4, 6, 8, 3, 9]) ➞ 7"
   ]
  },
  {
   "cell_type": "code",
   "execution_count": 9,
   "id": "8fc56c0b",
   "metadata": {},
   "outputs": [],
   "source": [
    "def missing_num(lst):\n",
    "    total = 10*(11)/2\n",
    "    return int(total - sum(lst))"
   ]
  },
  {
   "cell_type": "code",
   "execution_count": 10,
   "id": "b21e0a41",
   "metadata": {},
   "outputs": [
    {
     "name": "stdout",
     "output_type": "stream",
     "text": [
      "5\n",
      "10\n",
      "7\n"
     ]
    }
   ],
   "source": [
    "print(missing_num([1, 2, 3, 4, 6, 7, 8, 9, 10]))\n",
    "print(missing_num([7, 2, 3, 6, 5, 9, 1, 4, 8]))\n",
    "print(missing_num([10, 5, 1, 2, 4, 6, 8, 3, 9]))"
   ]
  },
  {
   "cell_type": "code",
   "execution_count": null,
   "id": "7ed7fe80",
   "metadata": {},
   "outputs": [],
   "source": []
  }
 ],
 "metadata": {
  "kernelspec": {
   "display_name": "Python 3 (ipykernel)",
   "language": "python",
   "name": "python3"
  },
  "language_info": {
   "codemirror_mode": {
    "name": "ipython",
    "version": 3
   },
   "file_extension": ".py",
   "mimetype": "text/x-python",
   "name": "python",
   "nbconvert_exporter": "python",
   "pygments_lexer": "ipython3",
   "version": "3.9.7"
  }
 },
 "nbformat": 4,
 "nbformat_minor": 5
}
