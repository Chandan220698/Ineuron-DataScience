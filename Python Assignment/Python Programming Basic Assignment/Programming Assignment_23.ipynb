{
 "cells": [
  {
   "cell_type": "markdown",
   "id": "a6d4ab5d",
   "metadata": {},
   "source": [
    "## Python Basic Programming Assignment 23\n",
    "---------"
   ]
  },
  {
   "cell_type": "markdown",
   "id": "d854c1a4",
   "metadata": {},
   "source": [
    "### 1. Create a function that takes a number as an argument and returns True or False depending on whether the number is symmetrical or not. A number is symmetrical when it is the same as its reverse."
   ]
  },
  {
   "cell_type": "code",
   "execution_count": 3,
   "id": "f9c49fad",
   "metadata": {},
   "outputs": [],
   "source": [
    "def is_symmetrical(num):\n",
    "    currentDigit = reversedDigit = 0\n",
    "    remainingNum = num\n",
    "    while(remainingNum != 0):\n",
    "        currentDigit = remainingNum % 10\n",
    "        reversedDigit = reversedDigit * 10 + currentDigit\n",
    "        remainingNum = remainingNum // 10\n",
    "\n",
    "    if reversedDigit == num:\n",
    "        return True\n",
    "    else:\n",
    "        return False"
   ]
  },
  {
   "cell_type": "code",
   "execution_count": 6,
   "id": "c280f573",
   "metadata": {},
   "outputs": [
    {
     "name": "stdout",
     "output_type": "stream",
     "text": [
      "True\n",
      "False\n",
      "True\n",
      "False\n",
      "True\n"
     ]
    }
   ],
   "source": [
    "print(is_symmetrical(7227))\n",
    "print(is_symmetrical(12567))\n",
    "print(is_symmetrical(44444444))\n",
    "print(is_symmetrical(9939))\n",
    "print(is_symmetrical(1112111))"
   ]
  },
  {
   "cell_type": "markdown",
   "id": "04af8b2a",
   "metadata": {},
   "source": [
    "### 2. Given a string of numbers separated by a comma and space, return the product of the numbers."
   ]
  },
  {
   "cell_type": "code",
   "execution_count": 7,
   "id": "11a96b92",
   "metadata": {},
   "outputs": [],
   "source": [
    "def multiply_nums(s):\n",
    "    product = 1\n",
    "    for i in s.split(','):\n",
    "        product = product * int(i)\n",
    "    return product"
   ]
  },
  {
   "cell_type": "code",
   "execution_count": 8,
   "id": "2e3416a1",
   "metadata": {},
   "outputs": [
    {
     "name": "stdout",
     "output_type": "stream",
     "text": [
      "6\n",
      "24\n",
      "0\n",
      "-20\n"
     ]
    }
   ],
   "source": [
    "print(multiply_nums('2, 3'))\n",
    "print(multiply_nums('1, 2, 3, 4'))\n",
    "print(multiply_nums('54, 75, 453, 0'))\n",
    "print(multiply_nums('10, -2'))"
   ]
  },
  {
   "cell_type": "markdown",
   "id": "5295a875",
   "metadata": {},
   "source": [
    "### 3. Create a function that squares every digit of a number."
   ]
  },
  {
   "cell_type": "code",
   "execution_count": 11,
   "id": "1ce6ce0e",
   "metadata": {},
   "outputs": [],
   "source": [
    "def square_digits(num):\n",
    "    res = \"\"\n",
    "    for c in str(num):\n",
    "        res += str(int(c)**2)\n",
    "    return int(res)"
   ]
  },
  {
   "cell_type": "code",
   "execution_count": 12,
   "id": "e30886e0",
   "metadata": {},
   "outputs": [
    {
     "name": "stdout",
     "output_type": "stream",
     "text": [
      "811181\n",
      "416649\n",
      "9414\n"
     ]
    }
   ],
   "source": [
    "print(square_digits(9119))\n",
    "print(square_digits(2483))\n",
    "print(square_digits(3212))"
   ]
  },
  {
   "cell_type": "markdown",
   "id": "95c39b94",
   "metadata": {},
   "source": [
    "### 4. Create a function that sorts a list and removes all duplicate items from it.\n"
   ]
  },
  {
   "cell_type": "code",
   "execution_count": 13,
   "id": "f9f49d09",
   "metadata": {},
   "outputs": [],
   "source": [
    "def setify(lst):\n",
    "    return list(set(lst))"
   ]
  },
  {
   "cell_type": "code",
   "execution_count": 14,
   "id": "e4852126",
   "metadata": {},
   "outputs": [
    {
     "name": "stdout",
     "output_type": "stream",
     "text": [
      "[1, 3, 5]\n",
      "[4]\n",
      "[5, 7, 8, 9, 10, 15]\n",
      "[1, 2, 3]\n"
     ]
    }
   ],
   "source": [
    "print(setify([1, 3, 3, 5, 5]))\n",
    "print(setify([4, 4, 4, 4]))\n",
    "print(setify([5, 7, 8, 9, 10, 15]))\n",
    "print(setify([3, 3, 3, 2, 1]))"
   ]
  },
  {
   "cell_type": "markdown",
   "id": "7ee48f2b",
   "metadata": {},
   "source": [
    "### 5. Create a function that returns the mean of all digits."
   ]
  },
  {
   "cell_type": "code",
   "execution_count": 15,
   "id": "13fe2426",
   "metadata": {},
   "outputs": [],
   "source": [
    "def mean(n): \n",
    "    N = len(str(n)) \n",
    "    sum = mean = 0\n",
    "    \n",
    "    for digit in str(n):\n",
    "        sum += int(digit)       \n",
    "    return int(sum/N)"
   ]
  },
  {
   "cell_type": "code",
   "execution_count": 16,
   "id": "917bbfba",
   "metadata": {},
   "outputs": [
    {
     "name": "stdout",
     "output_type": "stream",
     "text": [
      "3\n",
      "3\n",
      "6\n"
     ]
    }
   ],
   "source": [
    "print(mean(42))\n",
    "print(mean(12345))\n",
    "print(mean(666))"
   ]
  },
  {
   "cell_type": "code",
   "execution_count": null,
   "id": "60745bef",
   "metadata": {},
   "outputs": [],
   "source": []
  }
 ],
 "metadata": {
  "kernelspec": {
   "display_name": "Python 3 (ipykernel)",
   "language": "python",
   "name": "python3"
  },
  "language_info": {
   "codemirror_mode": {
    "name": "ipython",
    "version": 3
   },
   "file_extension": ".py",
   "mimetype": "text/x-python",
   "name": "python",
   "nbconvert_exporter": "python",
   "pygments_lexer": "ipython3",
   "version": "3.9.7"
  }
 },
 "nbformat": 4,
 "nbformat_minor": 5
}
