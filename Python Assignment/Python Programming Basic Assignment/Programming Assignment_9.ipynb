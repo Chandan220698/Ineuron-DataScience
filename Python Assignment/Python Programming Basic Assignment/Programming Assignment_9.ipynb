{
 "cells": [
  {
   "cell_type": "markdown",
   "id": "47b9bb99",
   "metadata": {},
   "source": [
    "## Programming Assignment_9\n",
    "----------------"
   ]
  },
  {
   "cell_type": "markdown",
   "id": "c725f7a9",
   "metadata": {},
   "source": [
    "### 1. Write a Python program to check if the given number is a Disarium Number?\n",
    "##### ans:"
   ]
  },
  {
   "cell_type": "code",
   "execution_count": 48,
   "id": "00495e5f",
   "metadata": {},
   "outputs": [],
   "source": [
    "def task1(num):\n",
    "    \n",
    "    try:\n",
    "        if type(num) != int:\n",
    "            raise Exception(\"Not an integer\")\n",
    "            \n",
    "        num = str(num)\n",
    "        total = 0\n",
    "        for i in range(0, len(num)):\n",
    "            n = int(num[i])\n",
    "            n = n**(i+1)\n",
    "            total = total + n\n",
    "\n",
    "        if total == int(num):\n",
    "            return True\n",
    "        else:\n",
    "            return False\n",
    "\n",
    "    except Exception as e:\n",
    "        print(e)\n",
    "        "
   ]
  },
  {
   "cell_type": "code",
   "execution_count": 49,
   "id": "66cea9d7",
   "metadata": {},
   "outputs": [
    {
     "data": {
      "text/plain": [
       "False"
      ]
     },
     "execution_count": 49,
     "metadata": {},
     "output_type": "execute_result"
    }
   ],
   "source": [
    "task1(147)"
   ]
  },
  {
   "cell_type": "code",
   "execution_count": 52,
   "id": "eb99b411",
   "metadata": {},
   "outputs": [
    {
     "data": {
      "text/plain": [
       "True"
      ]
     },
     "execution_count": 52,
     "metadata": {},
     "output_type": "execute_result"
    }
   ],
   "source": [
    "task1(135)"
   ]
  },
  {
   "cell_type": "markdown",
   "id": "f0064401",
   "metadata": {},
   "source": [
    "---------------------------\n",
    "### 2. Write a Python program to print all disarium numbers between 1 to 100?\n",
    "##### ans:"
   ]
  },
  {
   "cell_type": "code",
   "execution_count": 54,
   "id": "78e6ba38",
   "metadata": {},
   "outputs": [
    {
     "name": "stdout",
     "output_type": "stream",
     "text": [
      "1 2 3 4 5 6 7 8 9 89 "
     ]
    }
   ],
   "source": [
    "for i in range(1, 101):\n",
    "    if task1(i) == True:\n",
    "        print(i, end = ' ')"
   ]
  },
  {
   "cell_type": "markdown",
   "id": "31df1e4a",
   "metadata": {},
   "source": [
    "---------------------------\n",
    "### 3. Write a Python program to check if the given number is Happy Number?\n",
    "##### ans:"
   ]
  },
  {
   "cell_type": "code",
   "execution_count": 64,
   "id": "c274693d",
   "metadata": {},
   "outputs": [],
   "source": [
    "def task3(num):\n",
    "\n",
    "    res = num; \n",
    "    def isHappy(num):    \n",
    "        r = 0;  \n",
    "        s = 0\n",
    "        while(num > 0):    \n",
    "            r = num%10    \n",
    "            s += r**2  \n",
    "            num //= 10    \n",
    "        return s     \n",
    "\n",
    "    while(res != 1 and res != 4):    \n",
    "        res = isHappy(res)    \n",
    "\n",
    "    if(res == 1):    \n",
    "        return True\n",
    "    elif(res == 4):    \n",
    "        return False"
   ]
  },
  {
   "cell_type": "code",
   "execution_count": 65,
   "id": "ccd2f0ac",
   "metadata": {},
   "outputs": [
    {
     "data": {
      "text/plain": [
       "True"
      ]
     },
     "execution_count": 65,
     "metadata": {},
     "output_type": "execute_result"
    }
   ],
   "source": [
    "task3(100)"
   ]
  },
  {
   "cell_type": "code",
   "execution_count": 66,
   "id": "e85174db",
   "metadata": {},
   "outputs": [
    {
     "data": {
      "text/plain": [
       "False"
      ]
     },
     "execution_count": 66,
     "metadata": {},
     "output_type": "execute_result"
    }
   ],
   "source": [
    "task3(4)"
   ]
  },
  {
   "cell_type": "markdown",
   "id": "51b265e3",
   "metadata": {},
   "source": [
    "---------------------------\n",
    "### 4. Write a Python program to print all happy numbers between 1 and 100?\n",
    "##### ans:"
   ]
  },
  {
   "cell_type": "code",
   "execution_count": 68,
   "id": "dd776994",
   "metadata": {},
   "outputs": [
    {
     "name": "stdout",
     "output_type": "stream",
     "text": [
      "1 7 10 13 19 23 28 31 32 44 49 68 70 79 82 86 91 94 97 100 "
     ]
    }
   ],
   "source": [
    "for i in range(1, 101):\n",
    "    if task3(i) == True:\n",
    "        print(i, end = ' ')"
   ]
  },
  {
   "cell_type": "markdown",
   "id": "6a190ee0",
   "metadata": {},
   "source": [
    "---------------------------\n",
    "### 5. Write a Python program to determine whether the given number is a Harshad Number?\n",
    "##### ans:"
   ]
  },
  {
   "cell_type": "code",
   "execution_count": 70,
   "id": "9a8d5472",
   "metadata": {},
   "outputs": [],
   "source": [
    "def task5(num):\n",
    "    temp = num\n",
    "    total = 0\n",
    "    while (temp > 0):\n",
    "        total = total + (temp%10)\n",
    "        temp = temp//10\n",
    "        \n",
    "    if num%total==0:\n",
    "        print(\"Harshad Number\")\n",
    "    else:\n",
    "        print(\"Not Harshad Number\")"
   ]
  },
  {
   "cell_type": "code",
   "execution_count": 71,
   "id": "41926598",
   "metadata": {},
   "outputs": [
    {
     "name": "stdout",
     "output_type": "stream",
     "text": [
      "Harshad Number\n"
     ]
    }
   ],
   "source": [
    "task5(156)"
   ]
  },
  {
   "cell_type": "code",
   "execution_count": 74,
   "id": "1d1e9a6f",
   "metadata": {},
   "outputs": [
    {
     "name": "stdout",
     "output_type": "stream",
     "text": [
      "Not Harshad Number\n"
     ]
    }
   ],
   "source": [
    "task5(113)"
   ]
  },
  {
   "cell_type": "markdown",
   "id": "7a7ea92e",
   "metadata": {},
   "source": [
    "---------------------------\n",
    "### 6. Write a Python program to print all pronic numbers between 1 and 100?\n",
    "##### ans:"
   ]
  },
  {
   "cell_type": "code",
   "execution_count": 2,
   "id": "936ca4b3",
   "metadata": {},
   "outputs": [
    {
     "name": "stdout",
     "output_type": "stream",
     "text": [
      "0 2 6 12 20 30 42 56 72 90 "
     ]
    }
   ],
   "source": [
    "i = 0\n",
    "while True:\n",
    "    pronicNum = i*(i+1)\n",
    "    i = i + 1\n",
    "    if pronicNum > 100:\n",
    "        break\n",
    "    print(pronicNum, end = ' ')\n",
    "    "
   ]
  },
  {
   "cell_type": "code",
   "execution_count": null,
   "id": "05a27075",
   "metadata": {},
   "outputs": [],
   "source": []
  }
 ],
 "metadata": {
  "kernelspec": {
   "display_name": "Python 3 (ipykernel)",
   "language": "python",
   "name": "python3"
  },
  "language_info": {
   "codemirror_mode": {
    "name": "ipython",
    "version": 3
   },
   "file_extension": ".py",
   "mimetype": "text/x-python",
   "name": "python",
   "nbconvert_exporter": "python",
   "pygments_lexer": "ipython3",
   "version": "3.9.7"
  }
 },
 "nbformat": 4,
 "nbformat_minor": 5
}
