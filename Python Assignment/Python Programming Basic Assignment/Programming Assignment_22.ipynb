{
 "cells": [
  {
   "cell_type": "markdown",
   "id": "785bba25",
   "metadata": {},
   "source": [
    "### Python Basic Programming Assignment 22\n",
    "----------------"
   ]
  },
  {
   "cell_type": "markdown",
   "id": "5192f80e",
   "metadata": {},
   "source": [
    "### 1. Create a function that takes three parameters where:\n",
    "- x is the start of the range (inclusive).\n",
    "- y is the end of the range (inclusive).\n",
    "- n is the divisor to be checked against."
   ]
  },
  {
   "cell_type": "code",
   "execution_count": 1,
   "id": "890b649c",
   "metadata": {},
   "outputs": [],
   "source": [
    "def list_operation(x, y, z):\n",
    "    return [i for i in range(x, y+1) if i%z == 0]"
   ]
  },
  {
   "cell_type": "code",
   "execution_count": 2,
   "id": "6c099da6",
   "metadata": {},
   "outputs": [
    {
     "name": "stdout",
     "output_type": "stream",
     "text": [
      "[3, 6, 9]\n",
      "[8]\n",
      "[]\n"
     ]
    }
   ],
   "source": [
    "print(list_operation(1, 10, 3))\n",
    "print(list_operation(7, 9, 2))\n",
    "print(list_operation(15, 20, 7))"
   ]
  },
  {
   "cell_type": "markdown",
   "id": "8b456a85",
   "metadata": {},
   "source": [
    "### 2. Create a function that takes in two lists and returns True if the second list follows the first list by one element, and False otherwise. In other words, determine if the second list is the first list shifted to the right by 1."
   ]
  },
  {
   "cell_type": "code",
   "execution_count": 3,
   "id": "a2796862",
   "metadata": {},
   "outputs": [],
   "source": [
    "def simon_says(lst1: list, lst2: list) -> bool:\n",
    "    lst1 = lst1[:-1]\n",
    "    lst2 = lst2[1:]\n",
    "    if lst1 == lst2:\n",
    "        return True\n",
    "    return False"
   ]
  },
  {
   "cell_type": "code",
   "execution_count": 4,
   "id": "ae750dca",
   "metadata": {},
   "outputs": [
    {
     "name": "stdout",
     "output_type": "stream",
     "text": [
      "True\n",
      "False\n",
      "True\n",
      "False\n"
     ]
    }
   ],
   "source": [
    "print(simon_says([1, 2], [5, 1]))\n",
    "print(simon_says([1, 2], [5, 5]))\n",
    "print(simon_says([1, 2, 3, 4, 5], [0, 1, 2, 3, 4]))\n",
    "print(simon_says([1, 2, 3, 4, 5], [5, 5, 1, 2, 3]))"
   ]
  },
  {
   "cell_type": "markdown",
   "id": "13641219",
   "metadata": {},
   "source": [
    "### 3. A group of friends have decided to start a secret society. The name will be the first letter of each of their names, sorted in alphabetical order."
   ]
  },
  {
   "cell_type": "code",
   "execution_count": 7,
   "id": "a6f6b4b0",
   "metadata": {},
   "outputs": [],
   "source": [
    "def society_name(lst: list):\n",
    "    name = ''\n",
    "    for i in lst:\n",
    "        name += i[0]\n",
    "    return ''.join(sorted(name))"
   ]
  },
  {
   "cell_type": "code",
   "execution_count": 8,
   "id": "2bbcc7a4",
   "metadata": {},
   "outputs": [
    {
     "name": "stdout",
     "output_type": "stream",
     "text": [
      "AMS\n",
      "CHLN\n",
      "CJMPRR\n"
     ]
    }
   ],
   "source": [
    "print(society_name([\"Adam\", \"Sarah\", \"Malcolm\"]))\n",
    "print(society_name([\"Harry\", \"Newt\", \"Luna\", \"Cho\"]))\n",
    "print(society_name([\"Phoebe\", \"Chandler\", \"Rachel\", \"Ross\", \"Monica\", \"Joey\"]))"
   ]
  },
  {
   "cell_type": "markdown",
   "id": "2379fca3",
   "metadata": {},
   "source": [
    "### 4. An isogram is a word that has no duplicate letters. Create a function that takes a string and returns either True or False depending on whether or not it's an \"isogram\"."
   ]
  },
  {
   "cell_type": "code",
   "execution_count": 13,
   "id": "300e21a0",
   "metadata": {},
   "outputs": [],
   "source": [
    "def is_isogram(string: str) -> bool:\n",
    "    return True if len(list(string)) == len(set(string)) else False"
   ]
  },
  {
   "cell_type": "code",
   "execution_count": 15,
   "id": "504b0598",
   "metadata": {},
   "outputs": [
    {
     "name": "stdout",
     "output_type": "stream",
     "text": [
      "True\n",
      "True\n",
      "False\n"
     ]
    }
   ],
   "source": [
    "print(is_isogram(\"Algorism\"))\n",
    "print(is_isogram(\"PasSword\"))\n",
    "print(is_isogram(\"Password\"))"
   ]
  },
  {
   "cell_type": "markdown",
   "id": "6a702be6",
   "metadata": {},
   "source": [
    "### 5. Create a function that takes a string and returns True or False, depending on whether the characters are in order or not."
   ]
  },
  {
   "cell_type": "code",
   "execution_count": 17,
   "id": "51eb6b03",
   "metadata": {},
   "outputs": [],
   "source": [
    "def is_in_order(string: str) -> bool:\n",
    "    return True if list(string) == sorted(list(string)) else False"
   ]
  },
  {
   "cell_type": "code",
   "execution_count": 18,
   "id": "ab624c33",
   "metadata": {},
   "outputs": [
    {
     "name": "stdout",
     "output_type": "stream",
     "text": [
      "True\n",
      "False\n",
      "True\n",
      "True\n"
     ]
    }
   ],
   "source": [
    "print(is_in_order(\"abc\"))\n",
    "print(is_in_order(\"edabit\"))\n",
    "print(is_in_order(\"123\"))\n",
    "print(is_in_order(\"xyzz\"))"
   ]
  },
  {
   "cell_type": "code",
   "execution_count": null,
   "id": "d1b039dd",
   "metadata": {},
   "outputs": [],
   "source": []
  }
 ],
 "metadata": {
  "kernelspec": {
   "display_name": "Python 3 (ipykernel)",
   "language": "python",
   "name": "python3"
  },
  "language_info": {
   "codemirror_mode": {
    "name": "ipython",
    "version": 3
   },
   "file_extension": ".py",
   "mimetype": "text/x-python",
   "name": "python",
   "nbconvert_exporter": "python",
   "pygments_lexer": "ipython3",
   "version": "3.9.7"
  }
 },
 "nbformat": 4,
 "nbformat_minor": 5
}
