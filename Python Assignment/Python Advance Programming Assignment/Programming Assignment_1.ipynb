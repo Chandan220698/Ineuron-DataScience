{
 "cells": [
  {
   "cell_type": "markdown",
   "id": "3825689d",
   "metadata": {},
   "source": [
    "## Python Advance Programming Assignment \n",
    "### Programming Assignment_1"
   ]
  },
  {
   "cell_type": "markdown",
   "id": "311605e8",
   "metadata": {},
   "source": [
    "#### 1. Write a function that takes a list of lists and returns the value of all of the symbols in it, where each symbol adds or takes something from the total score. Symbol values:"
   ]
  },
  {
   "cell_type": "code",
   "execution_count": 1,
   "id": "8b172f11",
   "metadata": {},
   "outputs": [],
   "source": [
    "# # = 5\n",
    "# O = 3\n",
    "# X = 1\n",
    "# ! = -1\n",
    "# !! = -3\n",
    "# !!! = -5"
   ]
  },
  {
   "cell_type": "code",
   "execution_count": 2,
   "id": "d37bd456",
   "metadata": {},
   "outputs": [],
   "source": [
    "def check_score(ls):\n",
    "    score = 0\n",
    "    for i in ls:\n",
    "        for j in i:\n",
    "            if j == '#':\n",
    "                score += 5\n",
    "            elif j == 'O':\n",
    "                score += 3\n",
    "            elif j == 'X':\n",
    "                score += 1\n",
    "            elif j == '!':\n",
    "                score += -1\n",
    "            elif j == '!!':\n",
    "                score += -3\n",
    "            elif j == '!!!':\n",
    "                score += -5\n",
    "            \n",
    "    if score < 0:\n",
    "        return 0\n",
    "    else:\n",
    "        return score"
   ]
  },
  {
   "cell_type": "code",
   "execution_count": 3,
   "id": "d356602d",
   "metadata": {},
   "outputs": [
    {
     "data": {
      "text/plain": [
       "2"
      ]
     },
     "execution_count": 3,
     "metadata": {},
     "output_type": "execute_result"
    }
   ],
   "source": [
    "# test1\n",
    "\n",
    "test1 = [['#', '!'], ['!!', 'X']]\n",
    "\n",
    "check_score(test1)"
   ]
  },
  {
   "cell_type": "code",
   "execution_count": 4,
   "id": "226ecf17",
   "metadata": {},
   "outputs": [
    {
     "data": {
      "text/plain": [
       "0"
      ]
     },
     "execution_count": 4,
     "metadata": {},
     "output_type": "execute_result"
    }
   ],
   "source": [
    "# test2\n",
    "\n",
    "test2 = [['!!!', 'O', '!'], ['X', '#', '!!!'], ['!!', 'X', 'O']]\n",
    "\n",
    "check_score(test2)"
   ]
  },
  {
   "cell_type": "markdown",
   "id": "eb6ebb5e",
   "metadata": {},
   "source": [
    "------------\n",
    "#### 2. Create a function that takes a variable number of arguments, each argument representing the number of items in a group, and returns the number of permutations (combinations) of items that you could get by taking one item from each group.\n",
    "\n",
    "##### Sol."
   ]
  },
  {
   "cell_type": "code",
   "execution_count": 5,
   "id": "07656bf5",
   "metadata": {},
   "outputs": [],
   "source": [
    "def combination(*args):\n",
    "    result = 1\n",
    "    for i in args:\n",
    "        result = result * i\n",
    "        \n",
    "    return result"
   ]
  },
  {
   "cell_type": "code",
   "execution_count": 6,
   "id": "d31952cd",
   "metadata": {},
   "outputs": [
    {
     "data": {
      "text/plain": [
       "6"
      ]
     },
     "execution_count": 6,
     "metadata": {},
     "output_type": "execute_result"
    }
   ],
   "source": [
    "combination(2,3)"
   ]
  },
  {
   "cell_type": "code",
   "execution_count": 7,
   "id": "4ebe22a3",
   "metadata": {},
   "outputs": [
    {
     "data": {
      "text/plain": [
       "84"
      ]
     },
     "execution_count": 7,
     "metadata": {},
     "output_type": "execute_result"
    }
   ],
   "source": [
    "combination(3, 7, 4)"
   ]
  },
  {
   "cell_type": "code",
   "execution_count": 8,
   "id": "ea9627ea",
   "metadata": {},
   "outputs": [
    {
     "data": {
      "text/plain": [
       "120"
      ]
     },
     "execution_count": 8,
     "metadata": {},
     "output_type": "execute_result"
    }
   ],
   "source": [
    "combination(2, 3, 4, 5)"
   ]
  },
  {
   "cell_type": "code",
   "execution_count": 9,
   "id": "2c0dec53",
   "metadata": {},
   "outputs": [
    {
     "data": {
      "text/plain": [
       "1200"
      ]
     },
     "execution_count": 9,
     "metadata": {},
     "output_type": "execute_result"
    }
   ],
   "source": [
    "combination(2, 3, 4, 5, 10)"
   ]
  },
  {
   "cell_type": "markdown",
   "id": "98b7cb31",
   "metadata": {},
   "source": [
    "---------\n",
    "#### 3. Create a function that takes a string as an argument and returns the Morse code equivalent.\n",
    "\n",
    "##### Sol."
   ]
  },
  {
   "cell_type": "code",
   "execution_count": 10,
   "id": "8fca6782",
   "metadata": {},
   "outputs": [],
   "source": [
    "char_to_dots = {\n",
    "  'A': '.-', 'B': '-...', 'C': '-.-.', 'D': '-..', 'E': '.', 'F': '..-.',\n",
    "  'G': '--.', 'H': '....', 'I': '..', 'J': '.---', 'K': '-.-', 'L': '.-..',\n",
    "  'M': '--', 'N': '-.', 'O': '---', 'P': '.--.', 'Q': '--.-', 'R': '.-.',\n",
    "  'S': '...', 'T': '-', 'U': '..-', 'V': '...-', 'W': '.--', 'X': '-..-',\n",
    "  'Y': '-.--', 'Z': '--..', ' ': ' ', '0': '-----',\n",
    "  '1': '.----', '2': '..---', '3': '...--', '4': '....-', '5': '.....',\n",
    "  '6': '-....', '7': '--...', '8': '---..', '9': '----.',\n",
    "  '&': '.-...', \"'\": '.----.', '@': '.--.-.', ')': '-.--.-', '(': '-.--.',\n",
    "  ':': '---...', ',': '--..--', '=': '-...-', '!': '-.-.--', '.': '.-.-.-',\n",
    "  '-': '-....-', '+': '.-.-.', '\"': '.-..-.', '?': '..--..', '/': '-..-.'\n",
    "}\n"
   ]
  },
  {
   "cell_type": "code",
   "execution_count": 11,
   "id": "5cfb22ca",
   "metadata": {},
   "outputs": [],
   "source": [
    "def encode_morse(code):\n",
    "    encode = \"\" \n",
    "    for i in code:\n",
    "        encode = encode + char_to_dots[i]\n",
    "        \n",
    "    return encode"
   ]
  },
  {
   "cell_type": "code",
   "execution_count": 12,
   "id": "a1a18b9f",
   "metadata": {},
   "outputs": [
    {
     "data": {
      "text/plain": [
       "'.-...--...-.....- -.-......-.-...-...-.--..'"
      ]
     },
     "execution_count": 12,
     "metadata": {},
     "output_type": "execute_result"
    }
   ],
   "source": [
    "encode_morse(\"EDABBIT CHALLENGE\")"
   ]
  },
  {
   "cell_type": "code",
   "execution_count": 13,
   "id": "79dd7dbe",
   "metadata": {},
   "outputs": [
    {
     "data": {
      "text/plain": [
       "'......-...--. --. -.-.--'"
      ]
     },
     "execution_count": 13,
     "metadata": {},
     "output_type": "execute_result"
    }
   ],
   "source": [
    "encode_morse(\"HELP ME !\")"
   ]
  },
  {
   "cell_type": "markdown",
   "id": "6a14ac78",
   "metadata": {},
   "source": [
    "--------------\n",
    "#### 4.  Write a function that takes a number and returns True if it's a prime; False otherwise. The number can be 2^64-1 (2 to the power of 63, not XOR). With the standard technique it would be O(2^64-1), which is much too large for the 10 second time limit.\n"
   ]
  },
  {
   "cell_type": "code",
   "execution_count": 14,
   "id": "a689f815",
   "metadata": {},
   "outputs": [],
   "source": [
    "def prime(num):\n",
    "    \n",
    "    isPrime = True\n",
    "    d = 2\n",
    "    while(d*d <= num):\n",
    "        if(num%d==0):\n",
    "            isPrime = False\n",
    "            break\n",
    "        d = d + 1\n",
    "\n",
    "    return isPrime"
   ]
  },
  {
   "cell_type": "code",
   "execution_count": 15,
   "id": "1b99436e",
   "metadata": {},
   "outputs": [
    {
     "data": {
      "text/plain": [
       "True"
      ]
     },
     "execution_count": 15,
     "metadata": {},
     "output_type": "execute_result"
    }
   ],
   "source": [
    "prime(7)"
   ]
  },
  {
   "cell_type": "code",
   "execution_count": 16,
   "id": "d80fb928",
   "metadata": {},
   "outputs": [
    {
     "data": {
      "text/plain": [
       "True"
      ]
     },
     "execution_count": 16,
     "metadata": {},
     "output_type": "execute_result"
    }
   ],
   "source": [
    "prime(56963)"
   ]
  },
  {
   "cell_type": "code",
   "execution_count": 17,
   "id": "33639024",
   "metadata": {},
   "outputs": [
    {
     "data": {
      "text/plain": [
       "False"
      ]
     },
     "execution_count": 17,
     "metadata": {},
     "output_type": "execute_result"
    }
   ],
   "source": [
    "prime(5151512515524)"
   ]
  },
  {
   "cell_type": "markdown",
   "id": "d163052e",
   "metadata": {},
   "source": [
    "---------------\n",
    "#### 5.  Create a function that converts a word to a bitstring and then to a boolean list based on the following criteria:\n",
    "\n",
    "##### Sol."
   ]
  },
  {
   "cell_type": "code",
   "execution_count": 18,
   "id": "54cddc50",
   "metadata": {},
   "outputs": [],
   "source": [
    "def to_boolean_list(word):\n",
    "    word_list = []\n",
    "    word_bool = []\n",
    "    for i in word:\n",
    "        word_list.append(ord(i)%2)\n",
    "        word_bool.append(bool(ord(i)%2))\n",
    "        \n",
    "    print(word_list)\n",
    "    print(word_bool)"
   ]
  },
  {
   "cell_type": "code",
   "execution_count": 19,
   "id": "6debcd9c",
   "metadata": {},
   "outputs": [
    {
     "name": "stdout",
     "output_type": "stream",
     "text": [
      "[0, 1, 1, 0]\n",
      "[False, True, True, False]\n"
     ]
    }
   ],
   "source": [
    "# to_boolean_list(\"deep\") ➞ [False, True, True, False]\n",
    "to_boolean_list(\"deep\")"
   ]
  },
  {
   "cell_type": "code",
   "execution_count": 20,
   "id": "a54bc1fa",
   "metadata": {},
   "outputs": [
    {
     "name": "stdout",
     "output_type": "stream",
     "text": [
      "[0, 1, 0, 1, 1]\n",
      "[False, True, False, True, True]\n"
     ]
    }
   ],
   "source": [
    "# to_boolean_list(\"loves\") ➞ [False, True, False, True, True]\n",
    "to_boolean_list(\"loves\")"
   ]
  },
  {
   "cell_type": "code",
   "execution_count": 21,
   "id": "06e70bb4",
   "metadata": {},
   "outputs": [
    {
     "name": "stdout",
     "output_type": "stream",
     "text": [
      "[0, 1, 1, 0]\n",
      "[False, True, True, False]\n"
     ]
    }
   ],
   "source": [
    "# to_boolean_list(\"tesh\") ➞ [False, True, True, False]\n",
    "to_boolean_list(\"tesh\")"
   ]
  },
  {
   "cell_type": "code",
   "execution_count": null,
   "id": "a527efd9",
   "metadata": {},
   "outputs": [],
   "source": []
  },
  {
   "cell_type": "code",
   "execution_count": null,
   "id": "e30ad101",
   "metadata": {},
   "outputs": [],
   "source": []
  }
 ],
 "metadata": {
  "kernelspec": {
   "display_name": "Python 3 (ipykernel)",
   "language": "python",
   "name": "python3"
  },
  "language_info": {
   "codemirror_mode": {
    "name": "ipython",
    "version": 3
   },
   "file_extension": ".py",
   "mimetype": "text/x-python",
   "name": "python",
   "nbconvert_exporter": "python",
   "pygments_lexer": "ipython3",
   "version": "3.9.7"
  }
 },
 "nbformat": 4,
 "nbformat_minor": 5
}
