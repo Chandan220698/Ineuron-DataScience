{
 "cells": [
  {
   "cell_type": "markdown",
   "id": "06910cce",
   "metadata": {},
   "source": [
    "## Python Advance Programming Assignment \n",
    "### Programming Assignment_2"
   ]
  },
  {
   "cell_type": "markdown",
   "id": "5ca01137",
   "metadata": {},
   "source": [
    "### 1. Write a function that takes a positive integer num and calculates how many dots exist in a pentagonal shape around the center dot on the Nth iteration.\n",
    "\n",
    "#### In the image below you can see the first iteration is only a single dot. On the second, there are 6 dots. On the third, there are 16 dots, and on the fourth there are 31 dots.\n"
   ]
  },
  {
   "cell_type": "code",
   "execution_count": 18,
   "id": "7af08442",
   "metadata": {},
   "outputs": [],
   "source": [
    "def pentangon(n):\n",
    "    if n==1:\n",
    "        return 1\n",
    "    else:\n",
    "        return 5*(n-1)+pentangon(n-1)"
   ]
  },
  {
   "cell_type": "code",
   "execution_count": 25,
   "id": "f63bde6a",
   "metadata": {},
   "outputs": [
    {
     "data": {
      "text/plain": [
       "1"
      ]
     },
     "execution_count": 25,
     "metadata": {},
     "output_type": "execute_result"
    }
   ],
   "source": [
    "pentangon(1)"
   ]
  },
  {
   "cell_type": "code",
   "execution_count": 26,
   "id": "e1f5a661",
   "metadata": {},
   "outputs": [
    {
     "data": {
      "text/plain": [
       "6"
      ]
     },
     "execution_count": 26,
     "metadata": {},
     "output_type": "execute_result"
    }
   ],
   "source": [
    "pentangon(2)"
   ]
  },
  {
   "cell_type": "code",
   "execution_count": 27,
   "id": "f311d9b0",
   "metadata": {},
   "outputs": [
    {
     "data": {
      "text/plain": [
       "16"
      ]
     },
     "execution_count": 27,
     "metadata": {},
     "output_type": "execute_result"
    }
   ],
   "source": [
    "pentangon(3)"
   ]
  },
  {
   "cell_type": "code",
   "execution_count": 28,
   "id": "90f04b71",
   "metadata": {},
   "outputs": [
    {
     "data": {
      "text/plain": [
       "141"
      ]
     },
     "execution_count": 28,
     "metadata": {},
     "output_type": "execute_result"
    }
   ],
   "source": [
    "pentangon(8)"
   ]
  },
  {
   "cell_type": "markdown",
   "id": "21f24503",
   "metadata": {},
   "source": [
    "### 2.  Make a function that encrypts a given input with these steps:\n"
   ]
  },
  {
   "cell_type": "code",
   "execution_count": 35,
   "id": "d5b02662",
   "metadata": {},
   "outputs": [],
   "source": [
    "def encrypt(msg):\n",
    "    \n",
    "    if type(msg)!= str:\n",
    "        raise Exception(\"msg is not in string format\")\n",
    "    else:\n",
    "        msg = msg[::-1]\n",
    "        msg = msg.replace('a', '0')\n",
    "        msg = msg.replace('e', '1')\n",
    "        msg = msg.replace('i', '2')\n",
    "        msg = msg.replace('o', '3')\n",
    "        msg = msg.replace('u', '4')\n",
    "        \n",
    "        msg += 'aca'\n",
    "        \n",
    "    return msg"
   ]
  },
  {
   "cell_type": "code",
   "execution_count": 36,
   "id": "9c1658a6",
   "metadata": {},
   "outputs": [
    {
     "data": {
      "text/plain": [
       "'1lpp0aca'"
      ]
     },
     "execution_count": 36,
     "metadata": {},
     "output_type": "execute_result"
    }
   ],
   "source": [
    "encrypt('apple')"
   ]
  },
  {
   "cell_type": "code",
   "execution_count": 37,
   "id": "5350986d",
   "metadata": {},
   "outputs": [
    {
     "data": {
      "text/plain": [
       "'0n0n0baca'"
      ]
     },
     "execution_count": 37,
     "metadata": {},
     "output_type": "execute_result"
    }
   ],
   "source": [
    "encrypt(\"banana\")"
   ]
  },
  {
   "cell_type": "code",
   "execution_count": 38,
   "id": "99d076f8",
   "metadata": {},
   "outputs": [
    {
     "data": {
      "text/plain": [
       "'0c0r0kaca'"
      ]
     },
     "execution_count": 38,
     "metadata": {},
     "output_type": "execute_result"
    }
   ],
   "source": [
    "encrypt(\"karaca\")"
   ]
  },
  {
   "cell_type": "code",
   "execution_count": 34,
   "id": "350b549a",
   "metadata": {},
   "outputs": [
    {
     "data": {
      "text/plain": [
       "'1pple1c1'"
      ]
     },
     "execution_count": 34,
     "metadata": {},
     "output_type": "execute_result"
    }
   ],
   "source": [
    "m.replace('a', '1')"
   ]
  },
  {
   "cell_type": "markdown",
   "id": "a44fd027",
   "metadata": {},
   "source": [
    "### 3. Given the month and year as numbers, return whether that month contains a Friday 13th.(i.e You can check Python's datetime module)\n"
   ]
  },
  {
   "cell_type": "code",
   "execution_count": 39,
   "id": "02eeb6f6",
   "metadata": {},
   "outputs": [],
   "source": [
    "import datetime\n",
    "from datetime import datetime\n",
    "import calendar\n",
    "\n",
    "def has_friday_13(month, year):\n",
    "    date = f'{month} 13 {year}'.format()\n",
    "    spooky = datetime.strptime(date, '%m %d %Y').weekday()\n",
    "    return (calendar.day_name[spooky]) == \"Friday\""
   ]
  },
  {
   "cell_type": "code",
   "execution_count": 40,
   "id": "ae8f733b",
   "metadata": {},
   "outputs": [
    {
     "data": {
      "text/plain": [
       "True"
      ]
     },
     "execution_count": 40,
     "metadata": {},
     "output_type": "execute_result"
    }
   ],
   "source": [
    "has_friday_13(3, 2020)"
   ]
  },
  {
   "cell_type": "code",
   "execution_count": 41,
   "id": "a929f02b",
   "metadata": {},
   "outputs": [
    {
     "data": {
      "text/plain": [
       "True"
      ]
     },
     "execution_count": 41,
     "metadata": {},
     "output_type": "execute_result"
    }
   ],
   "source": [
    "has_friday_13(10, 2017)"
   ]
  },
  {
   "cell_type": "code",
   "execution_count": 42,
   "id": "2d9cdb61",
   "metadata": {},
   "outputs": [
    {
     "data": {
      "text/plain": [
       "False"
      ]
     },
     "execution_count": 42,
     "metadata": {},
     "output_type": "execute_result"
    }
   ],
   "source": [
    "has_friday_13(1, 1985)"
   ]
  },
  {
   "cell_type": "markdown",
   "id": "c0353254",
   "metadata": {},
   "source": [
    "### 4. Write a regular expression that will help us count how many bad cookies are produced every day. You must use RegEx negative lookbehind.\n"
   ]
  },
  {
   "cell_type": "code",
   "execution_count": 52,
   "id": "d37ee23b",
   "metadata": {},
   "outputs": [],
   "source": [
    "import re\n",
    "lst = [\"bad cookie\", \"good cookie\", \"bad cookie\", \"good cookie\", \"good cookie\"]\n",
    "pattern = \"bad cookie\""
   ]
  },
  {
   "cell_type": "code",
   "execution_count": 53,
   "id": "4bd3256d",
   "metadata": {},
   "outputs": [
    {
     "data": {
      "text/plain": [
       "2"
      ]
     },
     "execution_count": 53,
     "metadata": {},
     "output_type": "execute_result"
    }
   ],
   "source": [
    "len(re.findall('bad cookie', \", \".join(lst)))"
   ]
  },
  {
   "cell_type": "markdown",
   "id": "65674084",
   "metadata": {},
   "source": [
    "### 5. Given a list of words in the singular form, return a set of those words in the plural form if they appear more than once in the list.\n"
   ]
  },
  {
   "cell_type": "code",
   "execution_count": 67,
   "id": "467e29b8",
   "metadata": {},
   "outputs": [],
   "source": [
    "def pluralize(lst):\n",
    "    result = set()\n",
    "    for i in lst:\n",
    "        if l.count(i) > 1:\n",
    "            result.add(i+'s')\n",
    "        else:\n",
    "            result.add(i)\n",
    "            \n",
    "    return result"
   ]
  },
  {
   "cell_type": "code",
   "execution_count": 71,
   "id": "4359053c",
   "metadata": {},
   "outputs": [
    {
     "data": {
      "text/plain": [
       "{'cows', 'pig'}"
      ]
     },
     "execution_count": 71,
     "metadata": {},
     "output_type": "execute_result"
    }
   ],
   "source": [
    "pluralize([\"cow\", \"pig\", \"cow\", \"cow\"])"
   ]
  },
  {
   "cell_type": "code",
   "execution_count": 72,
   "id": "e38bf9a7",
   "metadata": {},
   "outputs": [
    {
     "data": {
      "text/plain": [
       "{'table'}"
      ]
     },
     "execution_count": 72,
     "metadata": {},
     "output_type": "execute_result"
    }
   ],
   "source": [
    "pluralize([\"table\", \"table\", \"table\"])"
   ]
  },
  {
   "cell_type": "code",
   "execution_count": 73,
   "id": "e84bdaa0",
   "metadata": {},
   "outputs": [
    {
     "data": {
      "text/plain": [
       "{'arm', 'chair', 'pencil'}"
      ]
     },
     "execution_count": 73,
     "metadata": {},
     "output_type": "execute_result"
    }
   ],
   "source": [
    "pluralize([\"chair\", \"pencil\", \"arm\"])"
   ]
  }
 ],
 "metadata": {
  "kernelspec": {
   "display_name": "Python 3 (ipykernel)",
   "language": "python",
   "name": "python3"
  },
  "language_info": {
   "codemirror_mode": {
    "name": "ipython",
    "version": 3
   },
   "file_extension": ".py",
   "mimetype": "text/x-python",
   "name": "python",
   "nbconvert_exporter": "python",
   "pygments_lexer": "ipython3",
   "version": "3.9.7"
  }
 },
 "nbformat": 4,
 "nbformat_minor": 5
}
