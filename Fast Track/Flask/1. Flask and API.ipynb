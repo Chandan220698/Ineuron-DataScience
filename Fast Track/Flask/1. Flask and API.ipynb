{
 "cells": [
  {
   "cell_type": "code",
   "execution_count": 3,
   "id": "688fc9a7",
   "metadata": {},
   "outputs": [],
   "source": [
    "def math_operation_via_postman(operation, num1, num2):\n",
    "    if(operation=='add'):\n",
    "        r=num1+num2\n",
    "        result= 'the sum of '+str(num1)+' and '+str(num2) +' is '+str(r)\n",
    "    if (operation == 'subtract'):\n",
    "        r = num1 - num2\n",
    "        result = 'the difference of ' + str(num1) + ' and ' + str(num2) + ' is ' + str(r)\n",
    "    if (operation == 'multiply'):\n",
    "        r = num1 * num2\n",
    "        result = 'the product of ' + str(num1) + ' and ' + str(num2) + ' is ' + str(r)\n",
    "    if (operation == 'divide'):\n",
    "        r = num1 / num2\n",
    "        result = 'the quotient when ' + str(num1) + ' is divided by ' + str(num2) + ' is ' + str(r)\n",
    "    return result"
   ]
  },
  {
   "cell_type": "code",
   "execution_count": 4,
   "id": "ade9c571",
   "metadata": {},
   "outputs": [
    {
     "data": {
      "text/plain": [
       "'the sum of 34 and 2 is 36'"
      ]
     },
     "execution_count": 4,
     "metadata": {},
     "output_type": "execute_result"
    }
   ],
   "source": [
    "math_operation_via_postman('add', 34, 2)"
   ]
  },
  {
   "cell_type": "code",
   "execution_count": null,
   "id": "9b2c24cf",
   "metadata": {},
   "outputs": [
    {
     "name": "stdout",
     "output_type": "stream",
     "text": [
      " * Serving Flask app \"__main__\" (lazy loading)\n",
      " * Environment: production\n",
      "\u001b[31m   WARNING: This is a development server. Do not use it in a production deployment.\u001b[0m\n",
      "\u001b[2m   Use a production WSGI server instead.\u001b[0m\n",
      " * Debug mode: off\n"
     ]
    },
    {
     "name": "stderr",
     "output_type": "stream",
     "text": [
      " * Running on http://127.0.0.1:5000/ (Press CTRL+C to quit)\n",
      "127.0.0.1 - - [01/Jan/2022 15:37:58] \"GET / HTTP/1.1\" 404 -\n",
      "127.0.0.1 - - [01/Jan/2022 15:39:01] \"GET / HTTP/1.1\" 404 -\n",
      "127.0.0.1 - - [01/Jan/2022 15:39:24] \"GET / HTTP/1.1\" 404 -\n",
      "127.0.0.1 - - [01/Jan/2022 16:01:19] \"GET / HTTP/1.1\" 404 -\n",
      "127.0.0.1 - - [01/Jan/2022 16:04:04] \"POST /via_postman HTTP/1.1\" 200 -\n",
      "127.0.0.1 - - [01/Jan/2022 16:04:47] \"POST /via_postman HTTP/1.1\" 200 -\n",
      "127.0.0.1 - - [01/Jan/2022 16:04:56] \"POST /via_postman HTTP/1.1\" 200 -\n",
      "127.0.0.1 - - [01/Jan/2022 16:05:37] \"POST /via_postman HTTP/1.1\" 200 -\n",
      "127.0.0.1 - - [01/Jan/2022 16:05:39] \"POST /via_postman HTTP/1.1\" 200 -\n",
      "127.0.0.1 - - [01/Jan/2022 16:05:46] \"POST /via_postman HTTP/1.1\" 200 -\n",
      "127.0.0.1 - - [01/Jan/2022 16:06:45] \"GET /via_postman HTTP/1.1\" 405 -\n",
      "127.0.0.1 - - [01/Jan/2022 16:06:51] \"POST /via_postman HTTP/1.1\" 200 -\n",
      "127.0.0.1 - - [01/Jan/2022 16:11:17] \"POST /route1 HTTP/1.1\" 404 -\n",
      "127.0.0.1 - - [01/Jan/2022 16:11:32] \"POST /route1 HTTP/1.1\" 404 -\n",
      "127.0.0.1 - - [01/Jan/2022 16:11:44] \"POST /route1 HTTP/1.1\" 404 -\n",
      "127.0.0.1 - - [01/Jan/2022 16:11:48] \"POST /route1 HTTP/1.1\" 404 -\n",
      "127.0.0.1 - - [01/Jan/2022 16:12:07] \"POST /route1 HTTP/1.1\" 404 -\n",
      "127.0.0.1 - - [01/Jan/2022 16:13:23] \"POST /route1 HTTP/1.1\" 404 -\n"
     ]
    }
   ],
   "source": [
    "from flask import Flask, render_template, request, jsonify\n",
    "\n",
    "app = Flask(__name__)\n",
    "\n",
    "@app.route('/via_postman', methods=['POST']) # for calling the API from Postman/SOAPUI\n",
    "def math_operation_via_postman():\n",
    "    if (request.method=='POST'):\n",
    "        operation=request.json['operation']\n",
    "        num1=int(request.json['num1'])\n",
    "        num2 = int(request.json['num2'])\n",
    "        if(operation=='add'):\n",
    "            r=num1+num2\n",
    "            result= 'the sum of '+str(num1)+' and '+str(num2) +' is '+str(r)\n",
    "        if (operation == 'subtract'):\n",
    "            r = num1 - num2\n",
    "            result = 'the difference of ' + str(num1) + ' and ' + str(num2) + ' is ' + str(r)\n",
    "        if (operation == 'multiply'):\n",
    "            r = num1 * num2\n",
    "            result = 'the product of ' + str(num1) + ' and ' + str(num2) + ' is ' + str(r)\n",
    "        if (operation == 'divide'):\n",
    "            r = num1 / num2\n",
    "            result = 'the quotient when ' + str(num1) + ' is divided by ' + str(num2) + ' is ' + str(r)\n",
    "        return jsonify(result)\n",
    "\n",
    "\n",
    "if __name__ == '__main__':\n",
    "    app.run()\n"
   ]
  },
  {
   "cell_type": "code",
   "execution_count": null,
   "id": "0a48bc36",
   "metadata": {},
   "outputs": [],
   "source": []
  }
 ],
 "metadata": {
  "kernelspec": {
   "display_name": "Python 3 (ipykernel)",
   "language": "python",
   "name": "python3"
  },
  "language_info": {
   "codemirror_mode": {
    "name": "ipython",
    "version": 3
   },
   "file_extension": ".py",
   "mimetype": "text/x-python",
   "name": "python",
   "nbconvert_exporter": "python",
   "pygments_lexer": "ipython3",
   "version": "3.9.7"
  }
 },
 "nbformat": 4,
 "nbformat_minor": 5
}
