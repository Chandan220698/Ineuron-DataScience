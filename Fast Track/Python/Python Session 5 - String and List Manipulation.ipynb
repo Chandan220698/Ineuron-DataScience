{
 "cells": [
  {
   "cell_type": "markdown",
   "id": "7ba3bd30",
   "metadata": {},
   "source": [
    "## String"
   ]
  },
  {
   "cell_type": "code",
   "execution_count": 1,
   "id": "a80d494c",
   "metadata": {},
   "outputs": [],
   "source": [
    "msg = \"This is my first class for full stack data science, thats why i joined the class\""
   ]
  },
  {
   "cell_type": "code",
   "execution_count": 2,
   "id": "515f0ed6",
   "metadata": {},
   "outputs": [
    {
     "data": {
      "text/plain": [
       "'This is my first class for full stack data science, thats why i joined the class'"
      ]
     },
     "execution_count": 2,
     "metadata": {},
     "output_type": "execute_result"
    }
   ],
   "source": [
    "msg"
   ]
  },
  {
   "cell_type": "code",
   "execution_count": 3,
   "id": "3cc87acc",
   "metadata": {},
   "outputs": [],
   "source": [
    "msg1 = \"This is my first class for full stack data science, that's why i joined the class\""
   ]
  },
  {
   "cell_type": "code",
   "execution_count": 4,
   "id": "f2eaaea9",
   "metadata": {},
   "outputs": [
    {
     "data": {
      "text/plain": [
       "\"This is my first class for full stack data science, that's why i joined the class\""
      ]
     },
     "execution_count": 4,
     "metadata": {},
     "output_type": "execute_result"
    }
   ],
   "source": [
    "msg1"
   ]
  },
  {
   "cell_type": "code",
   "execution_count": 5,
   "id": "37e7518d",
   "metadata": {},
   "outputs": [],
   "source": [
    "msg2 = 'his is my first class for full stack data science\" thats why i joined the class\"'"
   ]
  },
  {
   "cell_type": "code",
   "execution_count": 6,
   "id": "fd4ad061",
   "metadata": {},
   "outputs": [
    {
     "data": {
      "text/plain": [
       "'his is my first class for full stack data science\" thats why i joined the class\"'"
      ]
     },
     "execution_count": 6,
     "metadata": {},
     "output_type": "execute_result"
    }
   ],
   "source": [
    "msg2"
   ]
  },
  {
   "cell_type": "code",
   "execution_count": 7,
   "id": "610fd26f",
   "metadata": {},
   "outputs": [],
   "source": [
    "s = \"This is a Full Stack Class\""
   ]
  },
  {
   "cell_type": "code",
   "execution_count": 8,
   "id": "011f12e3",
   "metadata": {},
   "outputs": [
    {
     "data": {
      "text/plain": [
       "'This is a Full Stack Class'"
      ]
     },
     "execution_count": 8,
     "metadata": {},
     "output_type": "execute_result"
    }
   ],
   "source": [
    "s"
   ]
  },
  {
   "cell_type": "code",
   "execution_count": 9,
   "id": "8e11036c",
   "metadata": {},
   "outputs": [
    {
     "data": {
      "text/plain": [
       "'T'"
      ]
     },
     "execution_count": 9,
     "metadata": {},
     "output_type": "execute_result"
    }
   ],
   "source": [
    "s[0]"
   ]
  },
  {
   "cell_type": "code",
   "execution_count": 10,
   "id": "e68a575c",
   "metadata": {},
   "outputs": [
    {
     "data": {
      "text/plain": [
       "'s'"
      ]
     },
     "execution_count": 10,
     "metadata": {},
     "output_type": "execute_result"
    }
   ],
   "source": [
    "s[-1]"
   ]
  },
  {
   "cell_type": "code",
   "execution_count": 11,
   "id": "b08d083a",
   "metadata": {},
   "outputs": [
    {
     "ename": "IndexError",
     "evalue": "string index out of range",
     "output_type": "error",
     "traceback": [
      "\u001b[1;31m---------------------------------------------------------------------------\u001b[0m",
      "\u001b[1;31mIndexError\u001b[0m                                Traceback (most recent call last)",
      "\u001b[1;32m<ipython-input-11-2a138df92e52>\u001b[0m in \u001b[0;36m<module>\u001b[1;34m\u001b[0m\n\u001b[1;32m----> 1\u001b[1;33m \u001b[0ms\u001b[0m\u001b[1;33m[\u001b[0m\u001b[1;36m100\u001b[0m\u001b[1;33m]\u001b[0m\u001b[1;33m\u001b[0m\u001b[1;33m\u001b[0m\u001b[0m\n\u001b[0m",
      "\u001b[1;31mIndexError\u001b[0m: string index out of range"
     ]
    }
   ],
   "source": [
    "s[100]"
   ]
  },
  {
   "cell_type": "code",
   "execution_count": null,
   "id": "bc129a4d",
   "metadata": {},
   "outputs": [],
   "source": [
    "len(s)"
   ]
  },
  {
   "cell_type": "code",
   "execution_count": null,
   "id": "da4b58da",
   "metadata": {},
   "outputs": [],
   "source": [
    "s[len(s)]"
   ]
  },
  {
   "cell_type": "code",
   "execution_count": null,
   "id": "8b917448",
   "metadata": {},
   "outputs": [],
   "source": [
    "s[len(s)-1]"
   ]
  },
  {
   "cell_type": "code",
   "execution_count": null,
   "id": "87a92777",
   "metadata": {},
   "outputs": [],
   "source": [
    "s[4:14]"
   ]
  },
  {
   "cell_type": "code",
   "execution_count": null,
   "id": "e663168f",
   "metadata": {},
   "outputs": [],
   "source": [
    "s[4:14:1]"
   ]
  },
  {
   "cell_type": "code",
   "execution_count": null,
   "id": "ae3adeba",
   "metadata": {},
   "outputs": [],
   "source": [
    "s[4:14:2]"
   ]
  },
  {
   "cell_type": "code",
   "execution_count": null,
   "id": "bdd7f63e",
   "metadata": {},
   "outputs": [],
   "source": [
    "s[::-1]"
   ]
  },
  {
   "cell_type": "code",
   "execution_count": null,
   "id": "56ff45dd",
   "metadata": {},
   "outputs": [],
   "source": [
    "for i in s:\n",
    "    print(i)"
   ]
  },
  {
   "cell_type": "code",
   "execution_count": null,
   "id": "7ffeafd0",
   "metadata": {},
   "outputs": [],
   "source": [
    "for i in s:\n",
    "    print(i, end = ' ')"
   ]
  },
  {
   "cell_type": "code",
   "execution_count": null,
   "id": "0175404c",
   "metadata": {},
   "outputs": [],
   "source": [
    "for i in range(len(s)):\n",
    "    print(i, end = ' ')"
   ]
  },
  {
   "cell_type": "code",
   "execution_count": null,
   "id": "1619db2f",
   "metadata": {},
   "outputs": [],
   "source": [
    "s"
   ]
  },
  {
   "cell_type": "code",
   "execution_count": null,
   "id": "9c33b566",
   "metadata": {},
   "outputs": [],
   "source": [
    "s[0] = 'W'"
   ]
  },
  {
   "cell_type": "code",
   "execution_count": null,
   "id": "9e99ff2f",
   "metadata": {},
   "outputs": [],
   "source": [
    "l = ['Data', 123, 421.32, True]\n",
    "l"
   ]
  },
  {
   "cell_type": "code",
   "execution_count": null,
   "id": "ef3ec764",
   "metadata": {},
   "outputs": [],
   "source": [
    "l[0] = 'Data Science'\n",
    "l"
   ]
  },
  {
   "cell_type": "code",
   "execution_count": null,
   "id": "4ae1aa53",
   "metadata": {},
   "outputs": [],
   "source": [
    "l[0][5]"
   ]
  },
  {
   "cell_type": "code",
   "execution_count": null,
   "id": "8e4df158",
   "metadata": {},
   "outputs": [],
   "source": [
    "l[0][5] = 's'"
   ]
  },
  {
   "cell_type": "code",
   "execution_count": null,
   "id": "6ca17edd",
   "metadata": {},
   "outputs": [],
   "source": [
    "\"Chandan \" + \"Kumar\""
   ]
  },
  {
   "cell_type": "code",
   "execution_count": null,
   "id": "1a6fa055",
   "metadata": {},
   "outputs": [],
   "source": [
    "name = \"Chandan\"\n",
    "name"
   ]
  },
  {
   "cell_type": "code",
   "execution_count": null,
   "id": "bc84bb44",
   "metadata": {},
   "outputs": [],
   "source": [
    "name = name + \" Kumar\"\n",
    "name"
   ]
  },
  {
   "cell_type": "code",
   "execution_count": null,
   "id": "0521733a",
   "metadata": {},
   "outputs": [],
   "source": [
    "\"Data Science\" + 72312 "
   ]
  },
  {
   "cell_type": "code",
   "execution_count": null,
   "id": "8cd724a1",
   "metadata": {},
   "outputs": [],
   "source": [
    "\"Data Science \" + str(72312 )\n"
   ]
  },
  {
   "cell_type": "code",
   "execution_count": null,
   "id": "b2d2290a",
   "metadata": {},
   "outputs": [],
   "source": [
    "name"
   ]
  },
  {
   "cell_type": "code",
   "execution_count": null,
   "id": "1234348c",
   "metadata": {},
   "outputs": [],
   "source": [
    "name.find('K')"
   ]
  },
  {
   "cell_type": "code",
   "execution_count": null,
   "id": "927e0cf5",
   "metadata": {},
   "outputs": [],
   "source": [
    "name.find('k')"
   ]
  },
  {
   "cell_type": "code",
   "execution_count": null,
   "id": "642dd1c1",
   "metadata": {},
   "outputs": [],
   "source": [
    "name.find('o')"
   ]
  },
  {
   "cell_type": "code",
   "execution_count": null,
   "id": "0b055ee1",
   "metadata": {},
   "outputs": [],
   "source": [
    "name.find(\"Chan\")"
   ]
  },
  {
   "cell_type": "code",
   "execution_count": null,
   "id": "5e5cb33b",
   "metadata": {},
   "outputs": [],
   "source": [
    "name.find('a') ## First Occurence"
   ]
  },
  {
   "cell_type": "code",
   "execution_count": null,
   "id": "15cf857f",
   "metadata": {},
   "outputs": [],
   "source": [
    "name.find('Kumar')"
   ]
  },
  {
   "cell_type": "code",
   "execution_count": null,
   "id": "03794131",
   "metadata": {},
   "outputs": [],
   "source": [
    "name"
   ]
  },
  {
   "cell_type": "code",
   "execution_count": 13,
   "id": "47a23c38",
   "metadata": {},
   "outputs": [
    {
     "data": {
      "text/plain": [
       "False"
      ]
     },
     "execution_count": 13,
     "metadata": {},
     "output_type": "execute_result"
    }
   ],
   "source": [
    "string = \" asd dad vvasd\"\n",
    "string.isspace()"
   ]
  },
  {
   "cell_type": "code",
   "execution_count": null,
   "id": "e62b5306",
   "metadata": {},
   "outputs": [],
   "source": []
  }
 ],
 "metadata": {
  "kernelspec": {
   "display_name": "Python 3",
   "language": "python",
   "name": "python3"
  },
  "language_info": {
   "codemirror_mode": {
    "name": "ipython",
    "version": 3
   },
   "file_extension": ".py",
   "mimetype": "text/x-python",
   "name": "python",
   "nbconvert_exporter": "python",
   "pygments_lexer": "ipython3",
   "version": "3.8.8"
  }
 },
 "nbformat": 4,
 "nbformat_minor": 5
}
