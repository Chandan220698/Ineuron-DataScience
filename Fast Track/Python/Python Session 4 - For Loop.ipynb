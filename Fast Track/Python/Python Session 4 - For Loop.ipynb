{
 "cells": [
  {
   "cell_type": "code",
   "execution_count": 1,
   "id": "0d7d6f53",
   "metadata": {},
   "outputs": [
    {
     "name": "stdout",
     "output_type": "stream",
     "text": [
      "1\n",
      "2\n",
      "3\n",
      "4\n",
      "End of While loop!\n"
     ]
    }
   ],
   "source": [
    "notes = 5\n",
    "i = 1\n",
    "while i < notes:\n",
    "    print(i)\n",
    "    i += 1\n",
    "else:\n",
    "    print(\"End of While loop!\")"
   ]
  },
  {
   "cell_type": "code",
   "execution_count": 2,
   "id": "2a094cf8",
   "metadata": {},
   "outputs": [],
   "source": [
    "name = \"Chandan\""
   ]
  },
  {
   "cell_type": "code",
   "execution_count": 4,
   "id": "4b31ea02",
   "metadata": {},
   "outputs": [
    {
     "data": {
      "text/plain": [
       "'Chandan'"
      ]
     },
     "execution_count": 4,
     "metadata": {},
     "output_type": "execute_result"
    }
   ],
   "source": [
    "name"
   ]
  },
  {
   "cell_type": "code",
   "execution_count": 5,
   "id": "1a14b4e5",
   "metadata": {},
   "outputs": [
    {
     "data": {
      "text/plain": [
       "'C'"
      ]
     },
     "execution_count": 5,
     "metadata": {},
     "output_type": "execute_result"
    }
   ],
   "source": [
    "name[0]"
   ]
  },
  {
   "cell_type": "code",
   "execution_count": 6,
   "id": "d684eb48",
   "metadata": {},
   "outputs": [
    {
     "ename": "IndexError",
     "evalue": "string index out of range",
     "output_type": "error",
     "traceback": [
      "\u001b[1;31m---------------------------------------------------------------------------\u001b[0m",
      "\u001b[1;31mIndexError\u001b[0m                                Traceback (most recent call last)",
      "\u001b[1;32m<ipython-input-6-2f41c7d932f4>\u001b[0m in \u001b[0;36m<module>\u001b[1;34m\u001b[0m\n\u001b[1;32m----> 1\u001b[1;33m \u001b[0mname\u001b[0m\u001b[1;33m[\u001b[0m\u001b[1;36m123\u001b[0m\u001b[1;33m]\u001b[0m\u001b[1;33m\u001b[0m\u001b[1;33m\u001b[0m\u001b[0m\n\u001b[0m",
      "\u001b[1;31mIndexError\u001b[0m: string index out of range"
     ]
    }
   ],
   "source": [
    "name[123]"
   ]
  },
  {
   "cell_type": "code",
   "execution_count": 7,
   "id": "3e4d37ff",
   "metadata": {},
   "outputs": [],
   "source": [
    "s = \"My Job Profile is Data Science\""
   ]
  },
  {
   "cell_type": "code",
   "execution_count": 8,
   "id": "501781b5",
   "metadata": {},
   "outputs": [
    {
     "data": {
      "text/plain": [
       "'My Job Profile is Data Science'"
      ]
     },
     "execution_count": 8,
     "metadata": {},
     "output_type": "execute_result"
    }
   ],
   "source": [
    "s"
   ]
  },
  {
   "cell_type": "code",
   "execution_count": 10,
   "id": "69cd38e1",
   "metadata": {},
   "outputs": [
    {
     "data": {
      "text/plain": [
       "'J'"
      ]
     },
     "execution_count": 10,
     "metadata": {},
     "output_type": "execute_result"
    }
   ],
   "source": [
    "s[3]"
   ]
  },
  {
   "cell_type": "code",
   "execution_count": 13,
   "id": "d07a5690",
   "metadata": {},
   "outputs": [
    {
     "data": {
      "text/plain": [
       "'Job Pro'"
      ]
     },
     "execution_count": 13,
     "metadata": {},
     "output_type": "execute_result"
    }
   ],
   "source": [
    "s[3:10] ## Excuding 10"
   ]
  },
  {
   "cell_type": "code",
   "execution_count": 14,
   "id": "796413b2",
   "metadata": {},
   "outputs": [
    {
     "data": {
      "text/plain": [
       "'Job Profile is Data Science'"
      ]
     },
     "execution_count": 14,
     "metadata": {},
     "output_type": "execute_result"
    }
   ],
   "source": [
    "s[3:]"
   ]
  },
  {
   "cell_type": "code",
   "execution_count": 17,
   "id": "6e44f948",
   "metadata": {},
   "outputs": [
    {
     "data": {
      "text/plain": [
       "'JbPo'"
      ]
     },
     "execution_count": 17,
     "metadata": {},
     "output_type": "execute_result"
    }
   ],
   "source": [
    "## 3, 3+2, 5+2\n",
    "s[3:10:2] ## Start:Stop:StepSize"
   ]
  },
  {
   "cell_type": "code",
   "execution_count": 19,
   "id": "1cf5b65f",
   "metadata": {},
   "outputs": [
    {
     "data": {
      "text/plain": [
       "''"
      ]
     },
     "execution_count": 19,
     "metadata": {},
     "output_type": "execute_result"
    }
   ],
   "source": [
    "## No output because 10, 10+1, 11+1: string wont form\n",
    "s[10:3:1]"
   ]
  },
  {
   "cell_type": "code",
   "execution_count": 20,
   "id": "d2e2e59d",
   "metadata": {},
   "outputs": [
    {
     "data": {
      "text/plain": [
       "'forP bo'"
      ]
     },
     "execution_count": 20,
     "metadata": {},
     "output_type": "execute_result"
    }
   ],
   "source": [
    "s[10:3:-1]"
   ]
  },
  {
   "cell_type": "code",
   "execution_count": 21,
   "id": "95553bee",
   "metadata": {},
   "outputs": [
    {
     "data": {
      "text/plain": [
       "'ecneicS ataD si eliforP boJ yM'"
      ]
     },
     "execution_count": 21,
     "metadata": {},
     "output_type": "execute_result"
    }
   ],
   "source": [
    "s[::-1]"
   ]
  },
  {
   "cell_type": "code",
   "execution_count": 22,
   "id": "d1d82f78",
   "metadata": {},
   "outputs": [
    {
     "data": {
      "text/plain": [
       "'My Job Profile is Data Science'"
      ]
     },
     "execution_count": 22,
     "metadata": {},
     "output_type": "execute_result"
    }
   ],
   "source": [
    "s"
   ]
  },
  {
   "cell_type": "code",
   "execution_count": 24,
   "id": "460bb941",
   "metadata": {},
   "outputs": [
    {
     "name": "stdout",
     "output_type": "stream",
     "text": [
      "M\n",
      "y\n",
      " \n",
      "J\n",
      "o\n",
      "b\n",
      " \n",
      "P\n",
      "r\n",
      "o\n",
      "f\n",
      "i\n",
      "l\n",
      "e\n",
      " \n",
      "i\n",
      "s\n",
      " \n",
      "D\n",
      "a\n",
      "t\n",
      "a\n",
      " \n",
      "S\n",
      "c\n",
      "i\n",
      "e\n",
      "n\n",
      "c\n",
      "e\n"
     ]
    }
   ],
   "source": [
    "for word in s:\n",
    "    print(word)"
   ]
  },
  {
   "cell_type": "code",
   "execution_count": 25,
   "id": "56185cca",
   "metadata": {},
   "outputs": [
    {
     "name": "stdout",
     "output_type": "stream",
     "text": [
      "M\n",
      "y\n",
      " \n",
      "J\n",
      "o\n",
      "b\n",
      " \n",
      "P\n",
      "r\n",
      "o\n",
      "f\n",
      "i\n",
      "l\n",
      "e\n",
      " \n",
      "i\n",
      "I got 's' in string!\n",
      "s\n",
      " \n",
      "D\n",
      "a\n",
      "t\n",
      "a\n",
      " \n",
      "S\n",
      "c\n",
      "i\n",
      "e\n",
      "n\n",
      "c\n",
      "e\n"
     ]
    }
   ],
   "source": [
    "for word in s:\n",
    "    if word == 's':\n",
    "        print(\"I got 's' in string!\")\n",
    "    print(word)"
   ]
  },
  {
   "cell_type": "code",
   "execution_count": 27,
   "id": "fa6243d4",
   "metadata": {},
   "outputs": [
    {
     "name": "stdout",
     "output_type": "stream",
     "text": [
      "M\n",
      "y\n",
      " \n",
      "J\n",
      "o\n",
      "b\n",
      " \n",
      "P\n",
      "r\n",
      "o\n",
      "f\n",
      "i\n",
      "l\n",
      "e\n",
      " \n",
      "i\n",
      "s\n",
      " \n",
      "D\n",
      "a\n",
      "t\n",
      "a\n",
      " \n",
      "S\n",
      "c\n",
      "i\n",
      "e\n",
      "n\n",
      "c\n",
      "e\n",
      "\n",
      "End of For Loop\n"
     ]
    }
   ],
   "source": [
    "for word in s:\n",
    "    print(word)\n",
    "else:\n",
    "    print(\"\\nEnd of For Loop\")"
   ]
  },
  {
   "cell_type": "code",
   "execution_count": 30,
   "id": "7b410928",
   "metadata": {},
   "outputs": [
    {
     "name": "stdout",
     "output_type": "stream",
     "text": [
      "M\n",
      "y\n",
      " \n",
      "J\n",
      "o\n",
      "b\n",
      " \n",
      "P\n",
      "r\n",
      "o\n",
      "f\n",
      "i\n",
      "l\n",
      "e\n",
      " \n",
      "i\n",
      "s\n",
      " \n"
     ]
    }
   ],
   "source": [
    "## Else block wont get execute\n",
    "for word in s:\n",
    "    if word == 'D':\n",
    "        break\n",
    "    print(word)\n",
    "else:\n",
    "    print(\"\\nEnd of For Loop\")"
   ]
  },
  {
   "cell_type": "code",
   "execution_count": 32,
   "id": "669c7549",
   "metadata": {},
   "outputs": [
    {
     "name": "stdout",
     "output_type": "stream",
     "text": [
      "a\n",
      "b\n",
      "c\n",
      "d\n"
     ]
    }
   ],
   "source": [
    "## Else block wont get execute\n",
    "for word in \"abcde\":\n",
    "    if word == 'e':\n",
    "        break\n",
    "    print(word)\n",
    "else:\n",
    "    print(\"\\nEnd of For Loop\")"
   ]
  },
  {
   "cell_type": "code",
   "execution_count": 33,
   "id": "6cfff0fe",
   "metadata": {},
   "outputs": [
    {
     "name": "stdout",
     "output_type": "stream",
     "text": [
      "a\n",
      "b\n",
      "c\n",
      "d\n",
      "\n",
      "End of For Loop\n"
     ]
    }
   ],
   "source": [
    "## Else block will get execute\n",
    "for word in \"abcde\":\n",
    "    if word == 'e':\n",
    "        continue\n",
    "    print(word)\n",
    "else:\n",
    "    print(\"\\nEnd of For Loop\")"
   ]
  },
  {
   "cell_type": "markdown",
   "id": "a10123d0",
   "metadata": {},
   "source": [
    "### Nested - For Loop"
   ]
  },
  {
   "cell_type": "code",
   "execution_count": 37,
   "id": "727be5cc",
   "metadata": {},
   "outputs": [
    {
     "name": "stdout",
     "output_type": "stream",
     "text": [
      "+ \n",
      "\n",
      "+ + \n",
      "\n",
      "+ + + \n",
      "\n",
      "+ + + + \n",
      "\n",
      "+ + + + + \n",
      "\n",
      "+ + + + + + \n",
      "\n",
      "+ + + + + + + \n",
      "\n"
     ]
    }
   ],
   "source": [
    "n = 7\n",
    "for i in range(0, n):\n",
    "    for j in range(0, i+1):\n",
    "        print(\"+ \", end= \"\")\n",
    "    print(\"\\n\")"
   ]
  },
  {
   "cell_type": "code",
   "execution_count": 38,
   "id": "6dee32bc",
   "metadata": {},
   "outputs": [
    {
     "name": "stdout",
     "output_type": "stream",
     "text": [
      "+ \r\n",
      "+ + \r\n",
      "+ + + \r\n",
      "+ + + + \r\n",
      "+ + + + + \r\n",
      "+ + + + + + \r\n",
      "+ + + + + + + \r\n"
     ]
    }
   ],
   "source": [
    "n = 7\n",
    "for i in range(0, n):\n",
    "    for j in range(0, i+1):\n",
    "        print(\"+ \", end= \"\")\n",
    "    print(\"\\r\")"
   ]
  },
  {
   "cell_type": "code",
   "execution_count": null,
   "id": "064fee7b",
   "metadata": {},
   "outputs": [],
   "source": []
  }
 ],
 "metadata": {
  "kernelspec": {
   "display_name": "Python 3",
   "language": "python",
   "name": "python3"
  },
  "language_info": {
   "codemirror_mode": {
    "name": "ipython",
    "version": 3
   },
   "file_extension": ".py",
   "mimetype": "text/x-python",
   "name": "python",
   "nbconvert_exporter": "python",
   "pygments_lexer": "ipython3",
   "version": "3.8.8"
  }
 },
 "nbformat": 4,
 "nbformat_minor": 5
}
