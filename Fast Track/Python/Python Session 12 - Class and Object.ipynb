{
 "cells": [
  {
   "cell_type": "markdown",
   "id": "ec60cbd8",
   "metadata": {},
   "source": [
    "## Class and Object"
   ]
  },
  {
   "cell_type": "code",
   "execution_count": 1,
   "id": "08664e06",
   "metadata": {},
   "outputs": [],
   "source": [
    "class Car:\n",
    "    pass"
   ]
  },
  {
   "cell_type": "code",
   "execution_count": 2,
   "id": "86b76178",
   "metadata": {},
   "outputs": [],
   "source": [
    "audiA6 = Car()"
   ]
  },
  {
   "cell_type": "code",
   "execution_count": 3,
   "id": "b7f2c0a2",
   "metadata": {},
   "outputs": [
    {
     "data": {
      "text/plain": [
       "<__main__.Car at 0x272ce4f7550>"
      ]
     },
     "execution_count": 3,
     "metadata": {},
     "output_type": "execute_result"
    }
   ],
   "source": [
    "audiA6"
   ]
  },
  {
   "cell_type": "code",
   "execution_count": 6,
   "id": "3d405d8c",
   "metadata": {},
   "outputs": [],
   "source": [
    "audiA6.milage = 10\n",
    "audiA6.year = 2013\n",
    "audiA6.make = 101"
   ]
  },
  {
   "cell_type": "code",
   "execution_count": 7,
   "id": "fd9cfa1b",
   "metadata": {},
   "outputs": [
    {
     "data": {
      "text/plain": [
       "101"
      ]
     },
     "execution_count": 7,
     "metadata": {},
     "output_type": "execute_result"
    }
   ],
   "source": [
    "audiA6.make"
   ]
  },
  {
   "cell_type": "code",
   "execution_count": 8,
   "id": "1a7d4583",
   "metadata": {},
   "outputs": [
    {
     "data": {
      "text/plain": [
       "2013"
      ]
     },
     "execution_count": 8,
     "metadata": {},
     "output_type": "execute_result"
    }
   ],
   "source": [
    "audiA6.year"
   ]
  },
  {
   "cell_type": "code",
   "execution_count": 9,
   "id": "3db7ba35",
   "metadata": {},
   "outputs": [
    {
     "ename": "NameError",
     "evalue": "name 'year' is not defined",
     "output_type": "error",
     "traceback": [
      "\u001b[1;31m---------------------------------------------------------------------------\u001b[0m",
      "\u001b[1;31mNameError\u001b[0m                                 Traceback (most recent call last)",
      "\u001b[1;32mC:\\Users\\CHANDA~1\\AppData\\Local\\Temp/ipykernel_11624/47434723.py\u001b[0m in \u001b[0;36m<module>\u001b[1;34m\u001b[0m\n\u001b[1;32m----> 1\u001b[1;33m \u001b[0myear\u001b[0m\u001b[1;33m\u001b[0m\u001b[1;33m\u001b[0m\u001b[0m\n\u001b[0m",
      "\u001b[1;31mNameError\u001b[0m: name 'year' is not defined"
     ]
    }
   ],
   "source": [
    "year"
   ]
  },
  {
   "cell_type": "code",
   "execution_count": 10,
   "id": "0795780b",
   "metadata": {},
   "outputs": [],
   "source": [
    "tesla = Car()"
   ]
  },
  {
   "cell_type": "code",
   "execution_count": 11,
   "id": "38643d40",
   "metadata": {},
   "outputs": [],
   "source": [
    "## If want to define the milage, make and year of tesla object\n",
    "## We need to define all of them again"
   ]
  },
  {
   "cell_type": "code",
   "execution_count": 15,
   "id": "588c747f",
   "metadata": {},
   "outputs": [],
   "source": [
    "tesla.milage = 20\n",
    "tesla.year = 2017\n",
    "tesla.milage = 'T3'\n",
    "tesla.engineNo = 1111\n",
    "\n",
    "## To solve creating variable of an object again and again\n",
    "## We can use body of class"
   ]
  },
  {
   "cell_type": "code",
   "execution_count": 35,
   "id": "8b125413",
   "metadata": {},
   "outputs": [],
   "source": [
    "class Car:\n",
    "    ## First argument behave as a pointer of the class\n",
    "    def __init__(self, milage, year, make, mod):\n",
    "        self.milage = milage\n",
    "        self.year = year\n",
    "        self.make = make\n",
    "        self.model = mod\n",
    "        self.world = \"Earth\""
   ]
  },
  {
   "cell_type": "code",
   "execution_count": 36,
   "id": "22cf196a",
   "metadata": {},
   "outputs": [
    {
     "ename": "TypeError",
     "evalue": "__init__() missing 4 required positional arguments: 'milage', 'year', 'make', and 'mod'",
     "output_type": "error",
     "traceback": [
      "\u001b[1;31m---------------------------------------------------------------------------\u001b[0m",
      "\u001b[1;31mTypeError\u001b[0m                                 Traceback (most recent call last)",
      "\u001b[1;32mC:\\Users\\CHANDA~1\\AppData\\Local\\Temp/ipykernel_11624/1705918188.py\u001b[0m in \u001b[0;36m<module>\u001b[1;34m\u001b[0m\n\u001b[1;32m----> 1\u001b[1;33m \u001b[0mtata\u001b[0m \u001b[1;33m=\u001b[0m \u001b[0mCar\u001b[0m\u001b[1;33m(\u001b[0m\u001b[1;33m)\u001b[0m\u001b[1;33m\u001b[0m\u001b[1;33m\u001b[0m\u001b[0m\n\u001b[0m",
      "\u001b[1;31mTypeError\u001b[0m: __init__() missing 4 required positional arguments: 'milage', 'year', 'make', and 'mod'"
     ]
    }
   ],
   "source": [
    "tata = Car()"
   ]
  },
  {
   "cell_type": "code",
   "execution_count": 37,
   "id": "bfc05942",
   "metadata": {},
   "outputs": [],
   "source": [
    "tata = Car(20, 2001, 101, \"4c5f\")"
   ]
  },
  {
   "cell_type": "code",
   "execution_count": 38,
   "id": "522a5612",
   "metadata": {},
   "outputs": [
    {
     "data": {
      "text/plain": [
       "(101, 20, 2001, '4c5f')"
      ]
     },
     "execution_count": 38,
     "metadata": {},
     "output_type": "execute_result"
    }
   ],
   "source": [
    "tata.make, tata.milage, tata.year, tata.model"
   ]
  },
  {
   "cell_type": "code",
   "execution_count": 39,
   "id": "95cb94d7",
   "metadata": {},
   "outputs": [],
   "source": [
    "tata.make = 1111"
   ]
  },
  {
   "cell_type": "code",
   "execution_count": 40,
   "id": "629d91ad",
   "metadata": {},
   "outputs": [
    {
     "data": {
      "text/plain": [
       "(1111, 20, 2001, '4c5f')"
      ]
     },
     "execution_count": 40,
     "metadata": {},
     "output_type": "execute_result"
    }
   ],
   "source": [
    "tata.make, tata.milage, tata.year, tata.model"
   ]
  },
  {
   "cell_type": "code",
   "execution_count": 41,
   "id": "95ed2951",
   "metadata": {},
   "outputs": [
    {
     "data": {
      "text/plain": [
       "'Earth'"
      ]
     },
     "execution_count": 41,
     "metadata": {},
     "output_type": "execute_result"
    }
   ],
   "source": [
    "tata.world"
   ]
  },
  {
   "cell_type": "code",
   "execution_count": 69,
   "id": "8823419f",
   "metadata": {},
   "outputs": [],
   "source": [
    "class Car:\n",
    "    ## First argument behave as a pointer of the class\n",
    "    def __init__(self, milage, year, make, mod):\n",
    "        self.milage = milage\n",
    "        self.year = year\n",
    "        self.make = make\n",
    "        self.model = mod\n",
    "        self.world = \"Earth\"\n",
    "        \n",
    "    def age(self, current_year):\n",
    "        return current_year - self.year\n",
    "    \n",
    "    def milage_display(self):\n",
    "        print(\"Print milage of the car: \", self.milage)"
   ]
  },
  {
   "cell_type": "code",
   "execution_count": 70,
   "id": "4365586f",
   "metadata": {},
   "outputs": [],
   "source": [
    "tata2 = Car(20, 2001, 101, \"4c5f\")"
   ]
  },
  {
   "cell_type": "code",
   "execution_count": 71,
   "id": "c388472d",
   "metadata": {},
   "outputs": [
    {
     "data": {
      "text/plain": [
       "<bound method Car.age of <__main__.Car object at 0x00000272CE9BC250>>"
      ]
     },
     "execution_count": 71,
     "metadata": {},
     "output_type": "execute_result"
    }
   ],
   "source": [
    "tata2.age"
   ]
  },
  {
   "cell_type": "code",
   "execution_count": 72,
   "id": "c5663907",
   "metadata": {},
   "outputs": [
    {
     "data": {
      "text/plain": [
       "20"
      ]
     },
     "execution_count": 72,
     "metadata": {},
     "output_type": "execute_result"
    }
   ],
   "source": [
    "tata2.age(2021)"
   ]
  },
  {
   "cell_type": "code",
   "execution_count": 73,
   "id": "93515905",
   "metadata": {},
   "outputs": [
    {
     "name": "stdout",
     "output_type": "stream",
     "text": [
      "Print milage of the car:  20\n"
     ]
    }
   ],
   "source": [
    "tata2.milage_display()"
   ]
  },
  {
   "cell_type": "code",
   "execution_count": 74,
   "id": "8c6af77d",
   "metadata": {},
   "outputs": [
    {
     "data": {
      "text/plain": [
       "<__main__.Car at 0x272ce9bc250>"
      ]
     },
     "execution_count": 74,
     "metadata": {},
     "output_type": "execute_result"
    }
   ],
   "source": [
    "tata2"
   ]
  },
  {
   "cell_type": "code",
   "execution_count": 80,
   "id": "35a343b7",
   "metadata": {},
   "outputs": [],
   "source": [
    "class Car:\n",
    "    ## First argument behave as a pointer of the class\n",
    "    def __init__(self, milage, year, make, mod):\n",
    "        self.milage = milage\n",
    "        self.year = year\n",
    "        self.make = make\n",
    "        self.model = mod\n",
    "        self.world = \"Earth\"\n",
    "        \n",
    "    def age(self, current_year):\n",
    "        return current_year - self.year\n",
    "    \n",
    "    def milage_display(self):\n",
    "        print(\"Print milage of the car: \", self.milage)\n",
    "        \n",
    "    def __str__(self):\n",
    "        return \"This is my car class\""
   ]
  },
  {
   "cell_type": "code",
   "execution_count": 81,
   "id": "245c4478",
   "metadata": {},
   "outputs": [],
   "source": [
    "tata2 = Car(20, 2001, 101, \"4c5f\")"
   ]
  },
  {
   "cell_type": "code",
   "execution_count": 82,
   "id": "582cf32b",
   "metadata": {},
   "outputs": [
    {
     "data": {
      "text/plain": [
       "<__main__.Car at 0x272ce4b5190>"
      ]
     },
     "execution_count": 82,
     "metadata": {},
     "output_type": "execute_result"
    }
   ],
   "source": [
    "tata2"
   ]
  },
  {
   "cell_type": "code",
   "execution_count": 83,
   "id": "9840b454",
   "metadata": {},
   "outputs": [
    {
     "name": "stdout",
     "output_type": "stream",
     "text": [
      "This is my car class\n"
     ]
    }
   ],
   "source": [
    "print(tata2)"
   ]
  },
  {
   "cell_type": "markdown",
   "id": "9c33a719",
   "metadata": {},
   "source": [
    "-------------"
   ]
  },
  {
   "cell_type": "code",
   "execution_count": 142,
   "id": "f100effd",
   "metadata": {},
   "outputs": [],
   "source": [
    "class Student:\n",
    "    '''\n",
    "    Student class - It takes 4 arguments name, rollNo, joiningDate, current_topic\n",
    "    '''\n",
    "    def __init__(self, name, rollNo, joiningDate, current_topic):\n",
    "        self.name = name\n",
    "        self.joiningDate = joiningDate\n",
    "        self.rollNo = rollNo\n",
    "        self.current_topic = current_topic\n",
    "        \n",
    "    def current_topic_display(self):\n",
    "        print(\"The current topic is\", self.current_topic)\n",
    "        \n",
    "    def str_rollno(self):\n",
    "        '''\n",
    "        if type(self.rollNo) == str:\n",
    "            print(\"Doing nothing\")\n",
    "        else:\n",
    "            return str(self.rollNo)'''\n",
    "        try:\n",
    "            return \"roll no:\" + self.rollNo\n",
    "            \n",
    "        except Exception as e:\n",
    "            print(\"Error for rollNo type -\", e)\n",
    "            \n",
    "            \n",
    "    def duration(self, currentDate):\n",
    "        print(\"The duration of the student is \", currentDate - self.joiningDate, \"years\")\n",
    "        \n",
    "    def __str__(self):\n",
    "        print(\"Inside __str__ function\")"
   ]
  },
  {
   "cell_type": "code",
   "execution_count": 143,
   "id": "97f6eedd",
   "metadata": {},
   "outputs": [
    {
     "ename": "TypeError",
     "evalue": "__init__() missing 4 required positional arguments: 'name', 'rollNo', 'joiningDate', and 'current_topic'",
     "output_type": "error",
     "traceback": [
      "\u001b[1;31m---------------------------------------------------------------------------\u001b[0m",
      "\u001b[1;31mTypeError\u001b[0m                                 Traceback (most recent call last)",
      "\u001b[1;32mC:\\Users\\CHANDA~1\\AppData\\Local\\Temp/ipykernel_11624/1477255209.py\u001b[0m in \u001b[0;36m<module>\u001b[1;34m\u001b[0m\n\u001b[1;32m----> 1\u001b[1;33m \u001b[0msiri\u001b[0m \u001b[1;33m=\u001b[0m \u001b[0mStudent\u001b[0m\u001b[1;33m(\u001b[0m\u001b[1;33m)\u001b[0m\u001b[1;33m\u001b[0m\u001b[1;33m\u001b[0m\u001b[0m\n\u001b[0m",
      "\u001b[1;31mTypeError\u001b[0m: __init__() missing 4 required positional arguments: 'name', 'rollNo', 'joiningDate', and 'current_topic'"
     ]
    }
   ],
   "source": [
    "siri = Student()"
   ]
  },
  {
   "cell_type": "code",
   "execution_count": 144,
   "id": "e54b4a74",
   "metadata": {},
   "outputs": [],
   "source": [
    "siri = Student('Siri', \"21\", 2016, \"Oops\")"
   ]
  },
  {
   "cell_type": "code",
   "execution_count": 145,
   "id": "d02933fe",
   "metadata": {},
   "outputs": [
    {
     "name": "stdout",
     "output_type": "stream",
     "text": [
      "The current topic is Oops\n"
     ]
    }
   ],
   "source": [
    "siri.current_topic_display()"
   ]
  },
  {
   "cell_type": "code",
   "execution_count": 146,
   "id": "41edb8b8",
   "metadata": {},
   "outputs": [
    {
     "name": "stdout",
     "output_type": "stream",
     "text": [
      "The duration of the student is  5 years\n"
     ]
    }
   ],
   "source": [
    "siri.duration(2021)"
   ]
  },
  {
   "cell_type": "code",
   "execution_count": 147,
   "id": "dea74b1e",
   "metadata": {},
   "outputs": [
    {
     "data": {
      "text/plain": [
       "'roll no:21'"
      ]
     },
     "execution_count": 147,
     "metadata": {},
     "output_type": "execute_result"
    }
   ],
   "source": [
    "siri.str_rollno()"
   ]
  },
  {
   "cell_type": "code",
   "execution_count": 148,
   "id": "749e4057",
   "metadata": {},
   "outputs": [],
   "source": [
    "maroon = Student(\"Maroon\", 21, 2020, \"Python\")"
   ]
  },
  {
   "cell_type": "code",
   "execution_count": 149,
   "id": "3bc65ba0",
   "metadata": {},
   "outputs": [
    {
     "name": "stdout",
     "output_type": "stream",
     "text": [
      "Error for rollNo type - can only concatenate str (not \"int\") to str\n"
     ]
    }
   ],
   "source": [
    "maroon.str_rollno()"
   ]
  },
  {
   "cell_type": "code",
   "execution_count": 160,
   "id": "cf2b91b9",
   "metadata": {},
   "outputs": [],
   "source": [
    "class Student:\n",
    "    '''\n",
    "    Student class - It takes 4 arguments name, rollNo, joiningDate, current_topic\n",
    "    '''\n",
    "    def __init__(self, name, rollNo, joiningDate, current_topic):\n",
    "        self.name = name\n",
    "        self.joiningDate = joiningDate\n",
    "        self.rollNo = rollNo\n",
    "        self.current_topic = current_topic\n",
    "        \n",
    "    def name_parsing(self):\n",
    "        if type(self.name) == list:\n",
    "            print(\"Student Names:\")\n",
    "            for i in self.name:\n",
    "                print(i)\n",
    "        \n",
    "    def current_topic_display(self):\n",
    "        print(\"The current topic is\", self.current_topic)\n",
    "        \n",
    "    def str_rollno(self):\n",
    "        \n",
    "        try:\n",
    "            return \"roll no:\" + self.rollNo\n",
    "            \n",
    "        except Exception as e:\n",
    "            print(\"Error for rollNo type -\", e)\n",
    "            \n",
    "            \n",
    "    def duration(self, currentDate):\n",
    "        print(\"The duration of the student is \", currentDate - self.joiningDate, \"years\")\n",
    "        \n",
    "    def __str__(self):\n",
    "        #print(\"Inside __str__ function\")\n",
    "        return \"Returning from __str__\""
   ]
  },
  {
   "cell_type": "code",
   "execution_count": 161,
   "id": "c3ba763c",
   "metadata": {},
   "outputs": [],
   "source": [
    "class10 = Student(['Alexa', 'Siri', 'Fox', 'Monkee'], [21, 22, '23', 24], 2016, 'Python Programming')"
   ]
  },
  {
   "cell_type": "code",
   "execution_count": 162,
   "id": "0cce897b",
   "metadata": {},
   "outputs": [
    {
     "data": {
      "text/plain": [
       "['Alexa', 'Siri', 'Fox', 'Monkee']"
      ]
     },
     "execution_count": 162,
     "metadata": {},
     "output_type": "execute_result"
    }
   ],
   "source": [
    "class10.name"
   ]
  },
  {
   "cell_type": "code",
   "execution_count": 163,
   "id": "90fedc84",
   "metadata": {},
   "outputs": [
    {
     "name": "stdout",
     "output_type": "stream",
     "text": [
      "Student Names:\n",
      "Alexa\n",
      "Siri\n",
      "Fox\n",
      "Monkee\n"
     ]
    }
   ],
   "source": [
    "class10.name_parsing()"
   ]
  },
  {
   "cell_type": "code",
   "execution_count": 164,
   "id": "18076c14",
   "metadata": {},
   "outputs": [
    {
     "data": {
      "text/plain": [
       "<__main__.Student at 0x272ce17c790>"
      ]
     },
     "execution_count": 164,
     "metadata": {},
     "output_type": "execute_result"
    }
   ],
   "source": [
    "class10"
   ]
  },
  {
   "cell_type": "code",
   "execution_count": 165,
   "id": "6a6a22d7",
   "metadata": {},
   "outputs": [
    {
     "name": "stdout",
     "output_type": "stream",
     "text": [
      "Returning from __str__\n"
     ]
    }
   ],
   "source": [
    "print(class10)"
   ]
  },
  {
   "cell_type": "markdown",
   "id": "3e9404bc",
   "metadata": {},
   "source": [
    "### Exercise:\n",
    "\n",
    "- level-1\n",
    "1. Create class Data:\n",
    "2. class varibles - filename, fileType, date, size\n",
    "3. function file_open\n",
    "    - create filename if not exist\n",
    "    - write something in file\n",
    "    \n",
    "4. function file_read(filename)\n",
    "    - read\n",
    "    \n",
    "5. file append\n",
    "    - append new data\n",
    "    \n",
    "- level-2\n",
    "    - maintain log\n",
    "    - use exception handling"
   ]
  },
  {
   "cell_type": "code",
   "execution_count": 181,
   "id": "21fb1485",
   "metadata": {},
   "outputs": [],
   "source": [
    "class Data:\n",
    "    \n",
    "    def __init__(self, fileName, fileType, date, size):\n",
    "        self.fileName = fileName\n",
    "        self.fileType = fileType\n",
    "        self.date = date\n",
    "        self.size = size\n",
    "        \n",
    "    def file_open(self):\n",
    "        \n",
    "        f = open(self.fileName, 'w+')\n",
    "        write = input(\"Write you text!\")\n",
    "        f.write(write)\n",
    "        f.close()\n",
    "        \n",
    "    def file_read(self):\n",
    "        f = open(self.fileName, 'r')\n",
    "        f.seek(0)\n",
    "        print(f.read())\n",
    "        f.close()\n",
    "        \n",
    "    def file_append(self):\n",
    "        f = open(self.fileName, 'a')\n",
    "        f.write('''\n",
    "            1st line append\n",
    "            2nd line append\n",
    "            3rd line append\n",
    "        ''')\n",
    "        f.close()"
   ]
  },
  {
   "cell_type": "code",
   "execution_count": 182,
   "id": "1607df3c",
   "metadata": {},
   "outputs": [],
   "source": [
    "file1 = Data('file1', 'txt', '20-12-2020', '30KB')"
   ]
  },
  {
   "cell_type": "code",
   "execution_count": 183,
   "id": "54e8c675",
   "metadata": {},
   "outputs": [
    {
     "name": "stdout",
     "output_type": "stream",
     "text": [
      "\n",
      "            1st line\n",
      "            2nd line\n",
      "            3rd line\n",
      "        \n",
      "            1st line append\n",
      "            2nd line append\n",
      "            3rd line append\n",
      "        \n"
     ]
    }
   ],
   "source": [
    "file1.file_read()"
   ]
  },
  {
   "cell_type": "code",
   "execution_count": 177,
   "id": "f3b920ce",
   "metadata": {},
   "outputs": [],
   "source": [
    "file1.file_open()"
   ]
  },
  {
   "cell_type": "code",
   "execution_count": 178,
   "id": "8e21a3dd",
   "metadata": {},
   "outputs": [
    {
     "name": "stdout",
     "output_type": "stream",
     "text": [
      "\n",
      "            1st line\n",
      "            2nd line\n",
      "            3rd line\n",
      "        \n"
     ]
    }
   ],
   "source": [
    "file1.file_read()"
   ]
  },
  {
   "cell_type": "code",
   "execution_count": 179,
   "id": "66996e7d",
   "metadata": {},
   "outputs": [],
   "source": [
    "file1.file_append()"
   ]
  },
  {
   "cell_type": "code",
   "execution_count": 180,
   "id": "7066973f",
   "metadata": {},
   "outputs": [
    {
     "name": "stdout",
     "output_type": "stream",
     "text": [
      "\n",
      "            1st line\n",
      "            2nd line\n",
      "            3rd line\n",
      "        \n",
      "            1st line append\n",
      "            2nd line append\n",
      "            3rd line append\n",
      "        \n"
     ]
    }
   ],
   "source": [
    "file1.file_read()"
   ]
  },
  {
   "cell_type": "code",
   "execution_count": 184,
   "id": "381c5bb2",
   "metadata": {},
   "outputs": [],
   "source": [
    "file2 = Data('file2', 'txt', '20-12-2020', '30KB')"
   ]
  },
  {
   "cell_type": "code",
   "execution_count": 187,
   "id": "812d9c0d",
   "metadata": {},
   "outputs": [
    {
     "name": "stdout",
     "output_type": "stream",
     "text": [
      "Write you text!This is first line\\nNow in 2nd line\n"
     ]
    }
   ],
   "source": [
    "file2.file_open()"
   ]
  },
  {
   "cell_type": "code",
   "execution_count": 189,
   "id": "83f480d8",
   "metadata": {},
   "outputs": [
    {
     "name": "stdout",
     "output_type": "stream",
     "text": [
      "This is first line\\nNow in 2nd line\n"
     ]
    }
   ],
   "source": [
    "file2.file_read()"
   ]
  },
  {
   "cell_type": "code",
   "execution_count": 190,
   "id": "beca8c1f",
   "metadata": {},
   "outputs": [],
   "source": [
    "file2.file_append()"
   ]
  },
  {
   "cell_type": "code",
   "execution_count": 197,
   "id": "af9e7f04",
   "metadata": {},
   "outputs": [],
   "source": [
    "## lvl 2\n",
    "\n",
    "import logging as lg\n",
    "lg.basicConfig(filename = 'oops_log', level=lg.ERROR)\n",
    "\n",
    "class Data:\n",
    "    \n",
    "    def __init__(self, fileName, fileType, date, size):\n",
    "        self.fileName = fileName\n",
    "        self.fileType = fileType\n",
    "        self.date = date\n",
    "        self.size = size\n",
    "        \n",
    "    def log(self, log_text):\n",
    "        lg.ERROR(log_text)\n",
    "        \n",
    "    def file_open(self):\n",
    "        try:\n",
    "            f = open(self.fileName, 'r')\n",
    "        except Exception as e:\n",
    "            print(e)\n",
    "        else:\n",
    "            f = open(self.fileName, 'w+')\n",
    "            write = input(\"Write you text below:\\n\")\n",
    "            f.write(write)\n",
    "            f.close()\n",
    "            \n",
    "        \n",
    "    def file_read(self):\n",
    "        f = open(self.fileName, 'r')\n",
    "        f.seek(0)\n",
    "        print(f.read())\n",
    "        f.close()\n",
    "        \n",
    "    def file_append(self):\n",
    "        f = open(self.fileName, 'a')\n",
    "        f.write('''\n",
    "            1st line append\n",
    "            2nd line append\n",
    "            3rd line append\n",
    "        ''')\n",
    "        f.close()"
   ]
  },
  {
   "cell_type": "code",
   "execution_count": 198,
   "id": "de0abddb",
   "metadata": {},
   "outputs": [],
   "source": [
    "file3 = Data('file3', 'txt', '20-12-2020', '30KB')"
   ]
  },
  {
   "cell_type": "code",
   "execution_count": 199,
   "id": "6ac93655",
   "metadata": {},
   "outputs": [
    {
     "name": "stdout",
     "output_type": "stream",
     "text": [
      "[Errno 2] No such file or directory: 'file3'\n"
     ]
    }
   ],
   "source": [
    "file3.file_open()"
   ]
  },
  {
   "cell_type": "code",
   "execution_count": null,
   "id": "f017e869",
   "metadata": {},
   "outputs": [],
   "source": []
  }
 ],
 "metadata": {
  "kernelspec": {
   "display_name": "Python 3 (ipykernel)",
   "language": "python",
   "name": "python3"
  },
  "language_info": {
   "codemirror_mode": {
    "name": "ipython",
    "version": 3
   },
   "file_extension": ".py",
   "mimetype": "text/x-python",
   "name": "python",
   "nbconvert_exporter": "python",
   "pygments_lexer": "ipython3",
   "version": "3.9.7"
  }
 },
 "nbformat": 4,
 "nbformat_minor": 5
}
