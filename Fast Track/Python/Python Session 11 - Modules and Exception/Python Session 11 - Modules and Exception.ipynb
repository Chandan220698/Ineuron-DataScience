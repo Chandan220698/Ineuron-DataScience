{
 "cells": [
  {
   "cell_type": "markdown",
   "id": "67087160",
   "metadata": {},
   "source": [
    "## Python Session 11\n",
    "\n",
    "### Modules and Exception\n",
    "---------------------"
   ]
  },
  {
   "cell_type": "code",
   "execution_count": 1,
   "id": "8e8ab9a5",
   "metadata": {},
   "outputs": [],
   "source": [
    "## Math standard module\n",
    "import math"
   ]
  },
  {
   "cell_type": "code",
   "execution_count": 2,
   "id": "769d7655",
   "metadata": {},
   "outputs": [
    {
     "data": {
      "text/plain": [
       "0.8939966636005579"
      ]
     },
     "execution_count": 2,
     "metadata": {},
     "output_type": "execute_result"
    }
   ],
   "source": [
    "math.sin(90)"
   ]
  },
  {
   "cell_type": "code",
   "execution_count": 3,
   "id": "1c7b47b3",
   "metadata": {},
   "outputs": [
    {
     "data": {
      "text/plain": [
       "4.0"
      ]
     },
     "execution_count": 3,
     "metadata": {},
     "output_type": "execute_result"
    }
   ],
   "source": [
    "math.sqrt(16)"
   ]
  },
  {
   "cell_type": "code",
   "execution_count": 4,
   "id": "aa446270",
   "metadata": {},
   "outputs": [
    {
     "ename": "NameError",
     "evalue": "name 'sqrt' is not defined",
     "output_type": "error",
     "traceback": [
      "\u001b[1;31m---------------------------------------------------------------------------\u001b[0m",
      "\u001b[1;31mNameError\u001b[0m                                 Traceback (most recent call last)",
      "\u001b[1;32mC:\\Users\\CHANDA~1\\AppData\\Local\\Temp/ipykernel_2760/1103852951.py\u001b[0m in \u001b[0;36m<module>\u001b[1;34m\u001b[0m\n\u001b[1;32m----> 1\u001b[1;33m \u001b[0msqrt\u001b[0m\u001b[1;33m(\u001b[0m\u001b[1;36m4\u001b[0m\u001b[1;33m)\u001b[0m\u001b[1;33m\u001b[0m\u001b[1;33m\u001b[0m\u001b[0m\n\u001b[0m",
      "\u001b[1;31mNameError\u001b[0m: name 'sqrt' is not defined"
     ]
    }
   ],
   "source": [
    "sqrt(4)"
   ]
  },
  {
   "cell_type": "code",
   "execution_count": 5,
   "id": "f83312ce",
   "metadata": {},
   "outputs": [],
   "source": [
    "## using module math and importing sqrt function\n",
    "from math import sqrt"
   ]
  },
  {
   "cell_type": "code",
   "execution_count": 6,
   "id": "bb3fb64c",
   "metadata": {},
   "outputs": [
    {
     "data": {
      "text/plain": [
       "2.0"
      ]
     },
     "execution_count": 6,
     "metadata": {},
     "output_type": "execute_result"
    }
   ],
   "source": [
    "sqrt(4)"
   ]
  },
  {
   "cell_type": "code",
   "execution_count": 7,
   "id": "0ebf5e45",
   "metadata": {},
   "outputs": [],
   "source": [
    "## Importing multiple functions\n",
    "\n",
    "from math import sqrt, pi"
   ]
  },
  {
   "cell_type": "code",
   "execution_count": 8,
   "id": "2fa939bb",
   "metadata": {},
   "outputs": [
    {
     "data": {
      "text/plain": [
       "3.141592653589793"
      ]
     },
     "execution_count": 8,
     "metadata": {},
     "output_type": "execute_result"
    }
   ],
   "source": [
    "pi"
   ]
  },
  {
   "cell_type": "code",
   "execution_count": 9,
   "id": "127803a4",
   "metadata": {},
   "outputs": [
    {
     "data": {
      "text/plain": [
       "1.2246467991473532e-16"
      ]
     },
     "execution_count": 9,
     "metadata": {},
     "output_type": "execute_result"
    }
   ],
   "source": [
    "math.sin(pi)"
   ]
  },
  {
   "cell_type": "code",
   "execution_count": 10,
   "id": "259b084e",
   "metadata": {},
   "outputs": [],
   "source": [
    "## Import all the functions from math module\n",
    "\n",
    "from math import *"
   ]
  },
  {
   "cell_type": "code",
   "execution_count": 11,
   "id": "107f37c0",
   "metadata": {},
   "outputs": [
    {
     "data": {
      "text/plain": [
       "'C:\\\\Users\\\\Chandan Kumar\\\\Documents\\\\Ineuron Data Science\\\\Fast Track\\\\Python'"
      ]
     },
     "execution_count": 11,
     "metadata": {},
     "output_type": "execute_result"
    }
   ],
   "source": [
    "pwd()"
   ]
  },
  {
   "cell_type": "code",
   "execution_count": 12,
   "id": "c84335d2",
   "metadata": {},
   "outputs": [],
   "source": [
    "## Created a py file .py manually"
   ]
  },
  {
   "cell_type": "code",
   "execution_count": 13,
   "id": "e1ad74c0",
   "metadata": {},
   "outputs": [
    {
     "name": "stdout",
     "output_type": "stream",
     "text": [
      "My first module inside Custom_Module1\n"
     ]
    }
   ],
   "source": [
    "import Custom_Module1"
   ]
  },
  {
   "cell_type": "code",
   "execution_count": 15,
   "id": "9f6941f6",
   "metadata": {},
   "outputs": [],
   "source": [
    "import Custom_Module1\n",
    "\n",
    "## No output after first import"
   ]
  },
  {
   "cell_type": "code",
   "execution_count": 16,
   "id": "13b07146",
   "metadata": {},
   "outputs": [],
   "source": [
    "import imp"
   ]
  },
  {
   "cell_type": "code",
   "execution_count": 17,
   "id": "a6138715",
   "metadata": {},
   "outputs": [
    {
     "name": "stdout",
     "output_type": "stream",
     "text": [
      "My first module inside Custom_Module1\n"
     ]
    },
    {
     "data": {
      "text/plain": [
       "<module 'Custom_Module1' from 'C:\\\\Users\\\\Chandan Kumar\\\\Documents\\\\Ineuron Data Science\\\\Fast Track\\\\Python\\\\Custom_Module1.py'>"
      ]
     },
     "execution_count": 17,
     "metadata": {},
     "output_type": "execute_result"
    }
   ],
   "source": [
    "imp.reload(Custom_Module1)"
   ]
  },
  {
   "cell_type": "code",
   "execution_count": 18,
   "id": "0d6c0e62",
   "metadata": {},
   "outputs": [],
   "source": [
    "## Created Custom_Addition_Module manually"
   ]
  },
  {
   "cell_type": "code",
   "execution_count": 22,
   "id": "08e8c393",
   "metadata": {},
   "outputs": [],
   "source": [
    "import Custom_Addition_Module"
   ]
  },
  {
   "cell_type": "code",
   "execution_count": 23,
   "id": "03abd66f",
   "metadata": {},
   "outputs": [
    {
     "ename": "TypeError",
     "evalue": "addition() missing 2 required positional arguments: 'a' and 'b'",
     "output_type": "error",
     "traceback": [
      "\u001b[1;31m---------------------------------------------------------------------------\u001b[0m",
      "\u001b[1;31mTypeError\u001b[0m                                 Traceback (most recent call last)",
      "\u001b[1;32mC:\\Users\\CHANDA~1\\AppData\\Local\\Temp/ipykernel_2760/2154341235.py\u001b[0m in \u001b[0;36m<module>\u001b[1;34m\u001b[0m\n\u001b[1;32m----> 1\u001b[1;33m \u001b[0mCustom_Addition_Module\u001b[0m\u001b[1;33m.\u001b[0m\u001b[0maddition\u001b[0m\u001b[1;33m(\u001b[0m\u001b[1;33m)\u001b[0m\u001b[1;33m\u001b[0m\u001b[1;33m\u001b[0m\u001b[0m\n\u001b[0m",
      "\u001b[1;31mTypeError\u001b[0m: addition() missing 2 required positional arguments: 'a' and 'b'"
     ]
    }
   ],
   "source": [
    "Custom_Addition_Module.addition()"
   ]
  },
  {
   "cell_type": "code",
   "execution_count": 24,
   "id": "c42f31c6",
   "metadata": {},
   "outputs": [
    {
     "data": {
      "text/plain": [
       "(11+5j)"
      ]
     },
     "execution_count": 24,
     "metadata": {},
     "output_type": "execute_result"
    }
   ],
   "source": [
    "Custom_Addition_Module.addition(3+5j, 8)"
   ]
  },
  {
   "cell_type": "code",
   "execution_count": 26,
   "id": "f9a557be",
   "metadata": {},
   "outputs": [],
   "source": [
    "## Added function docstring now\n",
    "\n",
    "## To see the changes of module file here, we need to imp.reload()"
   ]
  },
  {
   "cell_type": "code",
   "execution_count": 31,
   "id": "2b357551",
   "metadata": {},
   "outputs": [
    {
     "data": {
      "text/plain": [
       "<module 'Custom_Addition_Module' from 'C:\\\\Users\\\\Chandan Kumar\\\\Documents\\\\Ineuron Data Science\\\\Fast Track\\\\Python\\\\Custom_Addition_Module.py'>"
      ]
     },
     "execution_count": 31,
     "metadata": {},
     "output_type": "execute_result"
    }
   ],
   "source": [
    "imp.reload(Custom_Addition_Module)"
   ]
  },
  {
   "cell_type": "code",
   "execution_count": 32,
   "id": "802e5668",
   "metadata": {},
   "outputs": [],
   "source": [
    "import Custom_Addition_Module"
   ]
  },
  {
   "cell_type": "code",
   "execution_count": 33,
   "id": "9ae96970",
   "metadata": {},
   "outputs": [
    {
     "data": {
      "text/plain": [
       "1111"
      ]
     },
     "execution_count": 33,
     "metadata": {},
     "output_type": "execute_result"
    }
   ],
   "source": [
    "## Now shift+tab on the function, docstring information is available\n",
    "Custom_Addition_Module.addition(111, 1000)"
   ]
  },
  {
   "cell_type": "code",
   "execution_count": 34,
   "id": "de166295",
   "metadata": {},
   "outputs": [],
   "source": [
    "## Created a Custom_Math_Module.py"
   ]
  },
  {
   "cell_type": "code",
   "execution_count": 35,
   "id": "aab9d797",
   "metadata": {},
   "outputs": [],
   "source": [
    "import Custom_Math_Module"
   ]
  },
  {
   "cell_type": "code",
   "execution_count": 36,
   "id": "b0b7cb3e",
   "metadata": {},
   "outputs": [
    {
     "data": {
      "text/plain": [
       "-24"
      ]
     },
     "execution_count": 36,
     "metadata": {},
     "output_type": "execute_result"
    }
   ],
   "source": [
    "Custom_Math_Module.mul(4, -6)"
   ]
  },
  {
   "cell_type": "code",
   "execution_count": 37,
   "id": "36482b03",
   "metadata": {},
   "outputs": [
    {
     "data": {
      "text/plain": [
       "1296"
      ]
     },
     "execution_count": 37,
     "metadata": {},
     "output_type": "execute_result"
    }
   ],
   "source": [
    "Custom_Math_Module.power(-6, 4)"
   ]
  },
  {
   "cell_type": "code",
   "execution_count": 38,
   "id": "5437ea82",
   "metadata": {},
   "outputs": [],
   "source": [
    "## Created a Custom_Module2.py"
   ]
  },
  {
   "cell_type": "code",
   "execution_count": 45,
   "id": "8c40b95d",
   "metadata": {},
   "outputs": [],
   "source": [
    "import Custom_Module2"
   ]
  },
  {
   "cell_type": "code",
   "execution_count": 46,
   "id": "ac85ad0a",
   "metadata": {},
   "outputs": [
    {
     "data": {
      "text/plain": [
       "'This is my custom class'"
      ]
     },
     "execution_count": 46,
     "metadata": {},
     "output_type": "execute_result"
    }
   ],
   "source": [
    "Custom_Module2.msg()"
   ]
  },
  {
   "cell_type": "code",
   "execution_count": 48,
   "id": "3b52cfd7",
   "metadata": {},
   "outputs": [
    {
     "ename": "TypeError",
     "evalue": "'dict' object is not callable",
     "output_type": "error",
     "traceback": [
      "\u001b[1;31m---------------------------------------------------------------------------\u001b[0m",
      "\u001b[1;31mTypeError\u001b[0m                                 Traceback (most recent call last)",
      "\u001b[1;32mC:\\Users\\CHANDA~1\\AppData\\Local\\Temp/ipykernel_2760/776170216.py\u001b[0m in \u001b[0;36m<module>\u001b[1;34m\u001b[0m\n\u001b[1;32m----> 1\u001b[1;33m \u001b[0mCustom_Module2\u001b[0m\u001b[1;33m.\u001b[0m\u001b[0mdata\u001b[0m\u001b[1;33m(\u001b[0m\u001b[1;33m)\u001b[0m\u001b[1;33m\u001b[0m\u001b[1;33m\u001b[0m\u001b[0m\n\u001b[0m",
      "\u001b[1;31mTypeError\u001b[0m: 'dict' object is not callable"
     ]
    }
   ],
   "source": [
    "Custom_Module2.data()"
   ]
  },
  {
   "cell_type": "code",
   "execution_count": 49,
   "id": "f8bafa82",
   "metadata": {},
   "outputs": [
    {
     "data": {
      "text/plain": [
       "{'name': 'Chandan',\n",
       " 'courses': ['MLAI', 'Stats', 'Math', 'CV'],\n",
       " 'msg': 'This is my custom class'}"
      ]
     },
     "execution_count": 49,
     "metadata": {},
     "output_type": "execute_result"
    }
   ],
   "source": [
    "Custom_Module2.data"
   ]
  },
  {
   "cell_type": "code",
   "execution_count": 50,
   "id": "e85622ce",
   "metadata": {},
   "outputs": [
    {
     "data": {
      "text/plain": [
       "['MLAI', 'Stats', 'Math', 'CV']"
      ]
     },
     "execution_count": 50,
     "metadata": {},
     "output_type": "execute_result"
    }
   ],
   "source": [
    "Custom_Module2.get_course()"
   ]
  },
  {
   "attachments": {
    "image-2.png": {
     "image/png": "[encoded data removed]"
    }
   },
   "cell_type": "markdown",
   "id": "29fafd62",
   "metadata": {},
   "source": [
    "### Exercise 1\n",
    "\n",
    "1. create a directory with 3 files mod1,2,3.py\n",
    "2. with function fn11,12,13 and fn21,22 and fn31\n",
    "3. create a ipynb file also and import all the functions\n",
    "\n",
    "4. create a another ipynb file at 1 outer level and import all the functions\n",
    "\n",
    "![image-2.png](attachment:image-2.png)"
   ]
  },
  {
   "cell_type": "code",
   "execution_count": 51,
   "id": "66c467dd",
   "metadata": {},
   "outputs": [
    {
     "data": {
      "text/plain": [
       "'C:\\\\Users\\\\Chandan Kumar\\\\Documents\\\\Ineuron Data Science\\\\Fast Track\\\\Python'"
      ]
     },
     "execution_count": 51,
     "metadata": {},
     "output_type": "execute_result"
    }
   ],
   "source": [
    "pwd()"
   ]
  },
  {
   "cell_type": "code",
   "execution_count": 52,
   "id": "61bfebaf",
   "metadata": {},
   "outputs": [],
   "source": [
    "import os"
   ]
  },
  {
   "cell_type": "code",
   "execution_count": 53,
   "id": "7115849b",
   "metadata": {},
   "outputs": [],
   "source": [
    "os.mkdir('folder')"
   ]
  },
  {
   "cell_type": "code",
   "execution_count": 54,
   "id": "eaf9c04f",
   "metadata": {},
   "outputs": [
    {
     "data": {
      "text/plain": [
       "'C:\\\\Users\\\\Chandan Kumar\\\\Documents\\\\Ineuron Data Science\\\\Fast Track\\\\Python'"
      ]
     },
     "execution_count": 54,
     "metadata": {},
     "output_type": "execute_result"
    }
   ],
   "source": [
    "pwd()"
   ]
  },
  {
   "cell_type": "code",
   "execution_count": 55,
   "id": "bd3ee951",
   "metadata": {},
   "outputs": [],
   "source": [
    "os.mkdir('C:\\\\Users\\\\Chandan Kumar\\\\Documents\\\\Ineuron Data Science\\\\Fast Track\\\\Python\\\\folder\\\\sub_folder')"
   ]
  },
  {
   "cell_type": "markdown",
   "id": "d4cc484b",
   "metadata": {},
   "source": [
    "### Ans: Check the Folder directory for the solution"
   ]
  },
  {
   "cell_type": "markdown",
   "id": "c4a3cba6",
   "metadata": {},
   "source": [
    "---------------------------------------"
   ]
  },
  {
   "cell_type": "markdown",
   "id": "f2aabbf5",
   "metadata": {},
   "source": [
    "### Exception Handling"
   ]
  },
  {
   "cell_type": "code",
   "execution_count": 5,
   "id": "75c42623",
   "metadata": {},
   "outputs": [
    {
     "ename": "NameError",
     "evalue": "name 'asdfgh' is not defined",
     "output_type": "error",
     "traceback": [
      "\u001b[1;31m---------------------------------------------------------------------------\u001b[0m",
      "\u001b[1;31mNameError\u001b[0m                                 Traceback (most recent call last)",
      "\u001b[1;32mC:\\Users\\CHANDA~1\\AppData\\Local\\Temp/ipykernel_5816/2397664756.py\u001b[0m in \u001b[0;36m<module>\u001b[1;34m\u001b[0m\n\u001b[0;32m      1\u001b[0m \u001b[1;31m## Compile time error\u001b[0m\u001b[1;33m\u001b[0m\u001b[1;33m\u001b[0m\u001b[0m\n\u001b[1;32m----> 2\u001b[1;33m \u001b[0mprint\u001b[0m\u001b[1;33m(\u001b[0m\u001b[0masdfgh\u001b[0m\u001b[1;33m)\u001b[0m\u001b[1;33m\u001b[0m\u001b[1;33m\u001b[0m\u001b[0m\n\u001b[0m",
      "\u001b[1;31mNameError\u001b[0m: name 'asdfgh' is not defined"
     ]
    }
   ],
   "source": [
    "## Compile time error\n",
    "print(asdfgh)"
   ]
  },
  {
   "cell_type": "code",
   "execution_count": 6,
   "id": "c48f5d67",
   "metadata": {},
   "outputs": [],
   "source": [
    "def test(a, b):\n",
    "    return a/b"
   ]
  },
  {
   "cell_type": "code",
   "execution_count": 7,
   "id": "0ae5df7b",
   "metadata": {},
   "outputs": [
    {
     "data": {
      "text/plain": [
       "0.8333333333333334"
      ]
     },
     "execution_count": 7,
     "metadata": {},
     "output_type": "execute_result"
    }
   ],
   "source": [
    "test(5, 6)"
   ]
  },
  {
   "cell_type": "code",
   "execution_count": 8,
   "id": "b21b48ee",
   "metadata": {},
   "outputs": [
    {
     "ename": "ZeroDivisionError",
     "evalue": "division by zero",
     "output_type": "error",
     "traceback": [
      "\u001b[1;31m---------------------------------------------------------------------------\u001b[0m",
      "\u001b[1;31mZeroDivisionError\u001b[0m                         Traceback (most recent call last)",
      "\u001b[1;32mC:\\Users\\CHANDA~1\\AppData\\Local\\Temp/ipykernel_5816/1548443909.py\u001b[0m in \u001b[0;36m<module>\u001b[1;34m\u001b[0m\n\u001b[0;32m      1\u001b[0m \u001b[1;31m## Runtime error\u001b[0m\u001b[1;33m\u001b[0m\u001b[1;33m\u001b[0m\u001b[0m\n\u001b[1;32m----> 2\u001b[1;33m \u001b[0mtest\u001b[0m\u001b[1;33m(\u001b[0m\u001b[1;36m5\u001b[0m\u001b[1;33m,\u001b[0m\u001b[1;36m0\u001b[0m\u001b[1;33m)\u001b[0m\u001b[1;33m\u001b[0m\u001b[1;33m\u001b[0m\u001b[0m\n\u001b[0m",
      "\u001b[1;32mC:\\Users\\CHANDA~1\\AppData\\Local\\Temp/ipykernel_5816/1347854233.py\u001b[0m in \u001b[0;36mtest\u001b[1;34m(a, b)\u001b[0m\n\u001b[0;32m      1\u001b[0m \u001b[1;32mdef\u001b[0m \u001b[0mtest\u001b[0m\u001b[1;33m(\u001b[0m\u001b[0ma\u001b[0m\u001b[1;33m,\u001b[0m \u001b[0mb\u001b[0m\u001b[1;33m)\u001b[0m\u001b[1;33m:\u001b[0m\u001b[1;33m\u001b[0m\u001b[1;33m\u001b[0m\u001b[0m\n\u001b[1;32m----> 2\u001b[1;33m     \u001b[1;32mreturn\u001b[0m \u001b[0ma\u001b[0m\u001b[1;33m/\u001b[0m\u001b[0mb\u001b[0m\u001b[1;33m\u001b[0m\u001b[1;33m\u001b[0m\u001b[0m\n\u001b[0m",
      "\u001b[1;31mZeroDivisionError\u001b[0m: division by zero"
     ]
    }
   ],
   "source": [
    "## Runtime error\n",
    "test(5,0)"
   ]
  },
  {
   "cell_type": "code",
   "execution_count": 9,
   "id": "e48e938d",
   "metadata": {},
   "outputs": [
    {
     "ename": "FileNotFoundError",
     "evalue": "[Errno 2] No such file or directory: 'Exception1.txt'",
     "output_type": "error",
     "traceback": [
      "\u001b[1;31m---------------------------------------------------------------------------\u001b[0m",
      "\u001b[1;31mFileNotFoundError\u001b[0m                         Traceback (most recent call last)",
      "\u001b[1;32mC:\\Users\\CHANDA~1\\AppData\\Local\\Temp/ipykernel_5816/1695647261.py\u001b[0m in \u001b[0;36m<module>\u001b[1;34m\u001b[0m\n\u001b[1;32m----> 1\u001b[1;33m \u001b[0mf\u001b[0m \u001b[1;33m=\u001b[0m \u001b[0mopen\u001b[0m\u001b[1;33m(\u001b[0m\u001b[1;34m'Exception1.txt'\u001b[0m\u001b[1;33m)\u001b[0m\u001b[1;33m\u001b[0m\u001b[1;33m\u001b[0m\u001b[0m\n\u001b[0m",
      "\u001b[1;31mFileNotFoundError\u001b[0m: [Errno 2] No such file or directory: 'Exception1.txt'"
     ]
    }
   ],
   "source": [
    "f = open('Exception1.txt')"
   ]
  },
  {
   "cell_type": "code",
   "execution_count": 10,
   "id": "e03ac06b",
   "metadata": {},
   "outputs": [],
   "source": [
    "try:\n",
    "    f = open('Exception1.txt')\n",
    "except:\n",
    "    pass"
   ]
  },
  {
   "cell_type": "code",
   "execution_count": 12,
   "id": "9578e82d",
   "metadata": {},
   "outputs": [
    {
     "name": "stdout",
     "output_type": "stream",
     "text": [
      "There are some error, maybe file don't exist\n"
     ]
    }
   ],
   "source": [
    "try:\n",
    "    f = open('Exception1.txt')\n",
    "except:\n",
    "    print(\"There are some error, maybe file don't exist\")"
   ]
  },
  {
   "cell_type": "code",
   "execution_count": 14,
   "id": "57353129",
   "metadata": {},
   "outputs": [
    {
     "name": "stdout",
     "output_type": "stream",
     "text": [
      "There are some error, maybe file don't exist\n"
     ]
    }
   ],
   "source": [
    "try:\n",
    "    f = open('Exception1.txt')\n",
    "except IOError:\n",
    "    print(\"There are some error, maybe file don't exist\")"
   ]
  },
  {
   "cell_type": "code",
   "execution_count": 15,
   "id": "28e09d8b",
   "metadata": {},
   "outputs": [
    {
     "ename": "ZeroDivisionError",
     "evalue": "division by zero",
     "output_type": "error",
     "traceback": [
      "\u001b[1;31m---------------------------------------------------------------------------\u001b[0m",
      "\u001b[1;31mZeroDivisionError\u001b[0m                         Traceback (most recent call last)",
      "\u001b[1;32mC:\\Users\\CHANDA~1\\AppData\\Local\\Temp/ipykernel_5816/20226051.py\u001b[0m in \u001b[0;36m<module>\u001b[1;34m\u001b[0m\n\u001b[0;32m      1\u001b[0m \u001b[1;32mtry\u001b[0m\u001b[1;33m:\u001b[0m\u001b[1;33m\u001b[0m\u001b[1;33m\u001b[0m\u001b[0m\n\u001b[1;32m----> 2\u001b[1;33m     \u001b[0ma\u001b[0m \u001b[1;33m=\u001b[0m \u001b[1;36m5\u001b[0m\u001b[1;33m/\u001b[0m\u001b[1;36m0\u001b[0m\u001b[1;33m\u001b[0m\u001b[1;33m\u001b[0m\u001b[0m\n\u001b[0m\u001b[0;32m      3\u001b[0m \u001b[1;32mexcept\u001b[0m \u001b[0mIOError\u001b[0m\u001b[1;33m:\u001b[0m\u001b[1;33m\u001b[0m\u001b[1;33m\u001b[0m\u001b[0m\n\u001b[0;32m      4\u001b[0m     \u001b[0mprint\u001b[0m\u001b[1;33m(\u001b[0m\u001b[1;34m\"There are some error, maybe file don't exist\"\u001b[0m\u001b[1;33m)\u001b[0m\u001b[1;33m\u001b[0m\u001b[1;33m\u001b[0m\u001b[0m\n",
      "\u001b[1;31mZeroDivisionError\u001b[0m: division by zero"
     ]
    }
   ],
   "source": [
    "try:\n",
    "    a = 5/0\n",
    "except IOError:\n",
    "    print(\"There are some error, maybe file don't exist\")"
   ]
  },
  {
   "cell_type": "code",
   "execution_count": 17,
   "id": "f8371bc6",
   "metadata": {},
   "outputs": [
    {
     "name": "stdout",
     "output_type": "stream",
     "text": [
      "There are some error\n"
     ]
    }
   ],
   "source": [
    "try:\n",
    "    a = 5/0\n",
    "except ArithmeticError:\n",
    "    print(\"There are some error\")"
   ]
  },
  {
   "cell_type": "code",
   "execution_count": 19,
   "id": "742f354e",
   "metadata": {},
   "outputs": [
    {
     "name": "stdout",
     "output_type": "stream",
     "text": [
      "There are some error! division by zero\n"
     ]
    }
   ],
   "source": [
    "try:\n",
    "    a = 5/0\n",
    "except ArithmeticError as e:\n",
    "    print(\"There are some error!\", e)"
   ]
  },
  {
   "cell_type": "code",
   "execution_count": 22,
   "id": "85fd2054",
   "metadata": {},
   "outputs": [
    {
     "name": "stdout",
     "output_type": "stream",
     "text": [
      "Code is working 5.0\n"
     ]
    }
   ],
   "source": [
    "try:\n",
    "    a = 5/1\n",
    "except ArithmeticError as e:\n",
    "    print(\"There are some error!\", e)\n",
    "else:\n",
    "    print(\"Code is working\", a)"
   ]
  },
  {
   "cell_type": "code",
   "execution_count": 23,
   "id": "bac685f1",
   "metadata": {},
   "outputs": [
    {
     "name": "stdout",
     "output_type": "stream",
     "text": [
      "Code is working 5.0\n"
     ]
    },
    {
     "ename": "FileNotFoundError",
     "evalue": "[Errno 2] No such file or directory: 'Exception1.txt'",
     "output_type": "error",
     "traceback": [
      "\u001b[1;31m---------------------------------------------------------------------------\u001b[0m",
      "\u001b[1;31mFileNotFoundError\u001b[0m                         Traceback (most recent call last)",
      "\u001b[1;32mC:\\Users\\CHANDA~1\\AppData\\Local\\Temp/ipykernel_5816/1039060423.py\u001b[0m in \u001b[0;36m<module>\u001b[1;34m\u001b[0m\n\u001b[0;32m      5\u001b[0m \u001b[1;32melse\u001b[0m\u001b[1;33m:\u001b[0m\u001b[1;33m\u001b[0m\u001b[1;33m\u001b[0m\u001b[0m\n\u001b[0;32m      6\u001b[0m     \u001b[0mprint\u001b[0m\u001b[1;33m(\u001b[0m\u001b[1;34m\"Code is working\"\u001b[0m\u001b[1;33m,\u001b[0m \u001b[0ma\u001b[0m\u001b[1;33m)\u001b[0m\u001b[1;33m\u001b[0m\u001b[1;33m\u001b[0m\u001b[0m\n\u001b[1;32m----> 7\u001b[1;33m     \u001b[0mf\u001b[0m \u001b[1;33m=\u001b[0m \u001b[0mopen\u001b[0m\u001b[1;33m(\u001b[0m\u001b[1;34m'Exception1.txt'\u001b[0m\u001b[1;33m)\u001b[0m\u001b[1;33m\u001b[0m\u001b[1;33m\u001b[0m\u001b[0m\n\u001b[0m",
      "\u001b[1;31mFileNotFoundError\u001b[0m: [Errno 2] No such file or directory: 'Exception1.txt'"
     ]
    }
   ],
   "source": [
    "try:\n",
    "    a = 5/1\n",
    "except ArithmeticError as e:\n",
    "    print(\"There are some error!\", e)\n",
    "else:\n",
    "    print(\"Code is working\", a)\n",
    "    f = open('Exception1.txt')"
   ]
  },
  {
   "cell_type": "code",
   "execution_count": 24,
   "id": "9729ecce",
   "metadata": {},
   "outputs": [
    {
     "name": "stdout",
     "output_type": "stream",
     "text": [
      "Code is working 5.0\n",
      "Some internal Issue\n"
     ]
    }
   ],
   "source": [
    "try:\n",
    "    a = 5/1\n",
    "except ArithmeticError as e:\n",
    "    print(\"There are some error!\", e)\n",
    "else:\n",
    "    print(\"Code is working\", a)\n",
    "    try:\n",
    "        f = open('Exception1.txt')\n",
    "    except:\n",
    "        print(\"Some internal Issue\")"
   ]
  },
  {
   "cell_type": "code",
   "execution_count": 25,
   "id": "9c2842a6",
   "metadata": {},
   "outputs": [],
   "source": [
    "l = [1, 2, 3, 4]"
   ]
  },
  {
   "cell_type": "code",
   "execution_count": 26,
   "id": "d1793ff6",
   "metadata": {},
   "outputs": [
    {
     "data": {
      "text/plain": [
       "2"
      ]
     },
     "execution_count": 26,
     "metadata": {},
     "output_type": "execute_result"
    }
   ],
   "source": [
    "l[1]"
   ]
  },
  {
   "cell_type": "code",
   "execution_count": 27,
   "id": "e1410faa",
   "metadata": {},
   "outputs": [
    {
     "ename": "IndexError",
     "evalue": "list index out of range",
     "output_type": "error",
     "traceback": [
      "\u001b[1;31m---------------------------------------------------------------------------\u001b[0m",
      "\u001b[1;31mIndexError\u001b[0m                                Traceback (most recent call last)",
      "\u001b[1;32mC:\\Users\\CHANDA~1\\AppData\\Local\\Temp/ipykernel_5816/3396954880.py\u001b[0m in \u001b[0;36m<module>\u001b[1;34m\u001b[0m\n\u001b[1;32m----> 1\u001b[1;33m \u001b[0ml\u001b[0m\u001b[1;33m[\u001b[0m\u001b[1;36m123\u001b[0m\u001b[1;33m]\u001b[0m\u001b[1;33m\u001b[0m\u001b[1;33m\u001b[0m\u001b[0m\n\u001b[0m",
      "\u001b[1;31mIndexError\u001b[0m: list index out of range"
     ]
    }
   ],
   "source": [
    "l[123]"
   ]
  },
  {
   "cell_type": "code",
   "execution_count": 29,
   "id": "076d205c",
   "metadata": {},
   "outputs": [
    {
     "ename": "IndexError",
     "evalue": "list index out of range",
     "output_type": "error",
     "traceback": [
      "\u001b[1;31m---------------------------------------------------------------------------\u001b[0m",
      "\u001b[1;31mIndexError\u001b[0m                                Traceback (most recent call last)",
      "\u001b[1;32mC:\\Users\\CHANDA~1\\AppData\\Local\\Temp/ipykernel_5816/2596362611.py\u001b[0m in \u001b[0;36m<module>\u001b[1;34m\u001b[0m\n\u001b[0;32m      1\u001b[0m \u001b[0ml1\u001b[0m \u001b[1;33m=\u001b[0m \u001b[1;33m[\u001b[0m\u001b[1;36m1\u001b[0m\u001b[1;33m,\u001b[0m\u001b[1;36m2\u001b[0m\u001b[1;33m,\u001b[0m\u001b[1;36m3\u001b[0m\u001b[1;33m,\u001b[0m\u001b[1;36m4\u001b[0m\u001b[1;33m]\u001b[0m\u001b[1;33m\u001b[0m\u001b[1;33m\u001b[0m\u001b[0m\n\u001b[1;32m----> 2\u001b[1;33m \u001b[0mprint\u001b[0m\u001b[1;33m(\u001b[0m\u001b[0ml\u001b[0m\u001b[1;33m[\u001b[0m\u001b[1;36m100\u001b[0m\u001b[1;33m]\u001b[0m\u001b[1;33m)\u001b[0m\u001b[1;33m\u001b[0m\u001b[1;33m\u001b[0m\u001b[0m\n\u001b[0m\u001b[0;32m      3\u001b[0m \u001b[0mt\u001b[0m \u001b[1;33m=\u001b[0m \u001b[1;33m(\u001b[0m\u001b[1;36m1\u001b[0m\u001b[1;33m,\u001b[0m\u001b[1;36m2\u001b[0m\u001b[1;33m,\u001b[0m\u001b[1;36m3\u001b[0m\u001b[1;33m,\u001b[0m\u001b[1;36m4\u001b[0m\u001b[1;33m,\u001b[0m\u001b[1;36m5\u001b[0m\u001b[1;33m,\u001b[0m\u001b[1;36m6\u001b[0m\u001b[1;33m)\u001b[0m\u001b[1;33m\u001b[0m\u001b[1;33m\u001b[0m\u001b[0m\n\u001b[0;32m      4\u001b[0m \u001b[0mprint\u001b[0m\u001b[1;33m(\u001b[0m\u001b[0mt\u001b[0m\u001b[1;33m)\u001b[0m\u001b[1;33m\u001b[0m\u001b[1;33m\u001b[0m\u001b[0m\n\u001b[0;32m      5\u001b[0m \u001b[1;33m\u001b[0m\u001b[0m\n",
      "\u001b[1;31mIndexError\u001b[0m: list index out of range"
     ]
    }
   ],
   "source": [
    "l1 = [1,2,3,4]\n",
    "print(l[100])\n",
    "t = (1,2,3,4,5,6)\n",
    "print(t)\n",
    "\n",
    "## tuple will not print because of error in line-2"
   ]
  },
  {
   "cell_type": "code",
   "execution_count": 32,
   "id": "0afee58a",
   "metadata": {},
   "outputs": [
    {
     "name": "stdout",
     "output_type": "stream",
     "text": [
      "There is some issue with list\n",
      "tuple (1, 2, 3, 4, 5, 6)\n"
     ]
    }
   ],
   "source": [
    "try:\n",
    "    l1 = [1,2,3,4]\n",
    "    print(l[100])\n",
    "except:\n",
    "    print(\"There is some issue with list\")\n",
    "    t = (1,2,3,4,5,6)\n",
    "    print('tuple', t)"
   ]
  },
  {
   "cell_type": "code",
   "execution_count": 1,
   "id": "e3850f80",
   "metadata": {},
   "outputs": [
    {
     "name": "stdout",
     "output_type": "stream",
     "text": [
      "Inside finally\n"
     ]
    },
    {
     "ename": "FileNotFoundError",
     "evalue": "[Errno 2] No such file or directory: 'exception2.txt'",
     "output_type": "error",
     "traceback": [
      "\u001b[1;31m---------------------------------------------------------------------------\u001b[0m",
      "\u001b[1;31mFileNotFoundError\u001b[0m                         Traceback (most recent call last)",
      "\u001b[1;32mC:\\Users\\CHANDA~1\\AppData\\Local\\Temp/ipykernel_340/178173501.py\u001b[0m in \u001b[0;36m<module>\u001b[1;34m\u001b[0m\n\u001b[0;32m      1\u001b[0m \u001b[1;32mtry\u001b[0m\u001b[1;33m:\u001b[0m\u001b[1;33m\u001b[0m\u001b[1;33m\u001b[0m\u001b[0m\n\u001b[1;32m----> 2\u001b[1;33m     \u001b[0mf\u001b[0m \u001b[1;33m=\u001b[0m \u001b[0mopen\u001b[0m\u001b[1;33m(\u001b[0m\u001b[1;34m'exception2.txt'\u001b[0m\u001b[1;33m,\u001b[0m \u001b[1;34m'r'\u001b[0m\u001b[1;33m)\u001b[0m\u001b[1;33m\u001b[0m\u001b[1;33m\u001b[0m\u001b[0m\n\u001b[0m\u001b[0;32m      3\u001b[0m \u001b[1;32mfinally\u001b[0m\u001b[1;33m:\u001b[0m\u001b[1;33m\u001b[0m\u001b[1;33m\u001b[0m\u001b[0m\n\u001b[0;32m      4\u001b[0m     \u001b[0mprint\u001b[0m\u001b[1;33m(\u001b[0m\u001b[1;34m\"Inside finally\"\u001b[0m\u001b[1;33m)\u001b[0m\u001b[1;33m\u001b[0m\u001b[1;33m\u001b[0m\u001b[0m\n",
      "\u001b[1;31mFileNotFoundError\u001b[0m: [Errno 2] No such file or directory: 'exception2.txt'"
     ]
    }
   ],
   "source": [
    "try:\n",
    "    f = open('exception2.txt', 'r')\n",
    "finally:\n",
    "    print(\"Inside finally\")"
   ]
  },
  {
   "cell_type": "code",
   "execution_count": 2,
   "id": "f011e22d",
   "metadata": {},
   "outputs": [
    {
     "name": "stdout",
     "output_type": "stream",
     "text": [
      "Inside finally\n",
      "4\n"
     ]
    },
    {
     "ename": "FileNotFoundError",
     "evalue": "[Errno 2] No such file or directory: 'exception2.txt'",
     "output_type": "error",
     "traceback": [
      "\u001b[1;31m---------------------------------------------------------------------------\u001b[0m",
      "\u001b[1;31mFileNotFoundError\u001b[0m                         Traceback (most recent call last)",
      "\u001b[1;32mC:\\Users\\CHANDA~1\\AppData\\Local\\Temp/ipykernel_340/1348331138.py\u001b[0m in \u001b[0;36m<module>\u001b[1;34m\u001b[0m\n\u001b[0;32m      1\u001b[0m \u001b[1;32mtry\u001b[0m\u001b[1;33m:\u001b[0m\u001b[1;33m\u001b[0m\u001b[1;33m\u001b[0m\u001b[0m\n\u001b[1;32m----> 2\u001b[1;33m     \u001b[0mf\u001b[0m \u001b[1;33m=\u001b[0m \u001b[0mopen\u001b[0m\u001b[1;33m(\u001b[0m\u001b[1;34m'exception2.txt'\u001b[0m\u001b[1;33m,\u001b[0m \u001b[1;34m'r'\u001b[0m\u001b[1;33m)\u001b[0m\u001b[1;33m\u001b[0m\u001b[1;33m\u001b[0m\u001b[0m\n\u001b[0m\u001b[0;32m      3\u001b[0m \u001b[1;32mfinally\u001b[0m\u001b[1;33m:\u001b[0m\u001b[1;33m\u001b[0m\u001b[1;33m\u001b[0m\u001b[0m\n\u001b[0;32m      4\u001b[0m     \u001b[0mprint\u001b[0m\u001b[1;33m(\u001b[0m\u001b[1;34m\"Inside finally\"\u001b[0m\u001b[1;33m)\u001b[0m\u001b[1;33m\u001b[0m\u001b[1;33m\u001b[0m\u001b[0m\n\u001b[0;32m      5\u001b[0m     \u001b[0ml\u001b[0m \u001b[1;33m=\u001b[0m \u001b[1;33m[\u001b[0m\u001b[1;36m2\u001b[0m\u001b[1;33m,\u001b[0m \u001b[1;36m4\u001b[0m\u001b[1;33m,\u001b[0m \u001b[1;36m5\u001b[0m\u001b[1;33m,\u001b[0m \u001b[1;36m1\u001b[0m\u001b[1;33m]\u001b[0m\u001b[1;33m\u001b[0m\u001b[1;33m\u001b[0m\u001b[0m\n",
      "\u001b[1;31mFileNotFoundError\u001b[0m: [Errno 2] No such file or directory: 'exception2.txt'"
     ]
    }
   ],
   "source": [
    "try:\n",
    "    f = open('exception2.txt', 'r')\n",
    "finally:\n",
    "    print(\"Inside finally\")\n",
    "    l = [2, 4, 5, 1]\n",
    "    print(l[1])"
   ]
  },
  {
   "cell_type": "code",
   "execution_count": 4,
   "id": "6002cdb4",
   "metadata": {},
   "outputs": [
    {
     "name": "stdout",
     "output_type": "stream",
     "text": [
      "Inside finally\n"
     ]
    },
    {
     "ename": "IndexError",
     "evalue": "list index out of range",
     "output_type": "error",
     "traceback": [
      "\u001b[1;31m---------------------------------------------------------------------------\u001b[0m",
      "\u001b[1;31mIndexError\u001b[0m                                Traceback (most recent call last)",
      "\u001b[1;32mC:\\Users\\CHANDA~1\\AppData\\Local\\Temp/ipykernel_340/89767051.py\u001b[0m in \u001b[0;36m<module>\u001b[1;34m\u001b[0m\n\u001b[0;32m      6\u001b[0m     \u001b[0mprint\u001b[0m\u001b[1;33m(\u001b[0m\u001b[1;34m\"Inside finally\"\u001b[0m\u001b[1;33m)\u001b[0m\u001b[1;33m\u001b[0m\u001b[1;33m\u001b[0m\u001b[0m\n\u001b[0;32m      7\u001b[0m     \u001b[0ml\u001b[0m \u001b[1;33m=\u001b[0m \u001b[1;33m[\u001b[0m\u001b[1;36m2\u001b[0m\u001b[1;33m,\u001b[0m \u001b[1;36m4\u001b[0m\u001b[1;33m,\u001b[0m \u001b[1;36m5\u001b[0m\u001b[1;33m,\u001b[0m \u001b[1;36m1\u001b[0m\u001b[1;33m]\u001b[0m\u001b[1;33m\u001b[0m\u001b[1;33m\u001b[0m\u001b[0m\n\u001b[1;32m----> 8\u001b[1;33m     \u001b[0mprint\u001b[0m\u001b[1;33m(\u001b[0m\u001b[0ml\u001b[0m\u001b[1;33m[\u001b[0m\u001b[1;36m10\u001b[0m\u001b[1;33m]\u001b[0m\u001b[1;33m)\u001b[0m\u001b[1;33m\u001b[0m\u001b[1;33m\u001b[0m\u001b[0m\n\u001b[0m",
      "\u001b[1;31mIndexError\u001b[0m: list index out of range"
     ]
    }
   ],
   "source": [
    "try:\n",
    "    f = open('exception2.txt', 'r')\n",
    "except:\n",
    "    pass\n",
    "finally:\n",
    "    print(\"Inside finally\")\n",
    "    l = [2, 4, 5, 1]\n",
    "    print(l[10])"
   ]
  },
  {
   "cell_type": "code",
   "execution_count": 9,
   "id": "6ff97d27",
   "metadata": {},
   "outputs": [
    {
     "name": "stdout",
     "output_type": "stream",
     "text": [
      "Some error !\n",
      "Inside finally\n",
      "2\n"
     ]
    }
   ],
   "source": [
    "try:\n",
    "    f = open('exception2.txt', 'r')\n",
    "except:\n",
    "    print(\"Some error !\")\n",
    "else:\n",
    "    print(\"else will execute when try will execute with success\")\n",
    "finally:\n",
    "    print(\"Inside finally\")\n",
    "    l = [2, 4, 5, 1]\n",
    "    print(l[0])\n",
    "    try:\n",
    "        print(l[10])\n",
    "    except:\n",
    "        pass\n"
   ]
  },
  {
   "cell_type": "code",
   "execution_count": 10,
   "id": "0babdf9f",
   "metadata": {},
   "outputs": [
    {
     "name": "stdout",
     "output_type": "stream",
     "text": [
      "else will execute when try will execute with success\n",
      "Inside finally\n",
      "2\n"
     ]
    }
   ],
   "source": [
    "try:\n",
    "    f = open('exception2.txt', 'w+')\n",
    "except:\n",
    "    print(\"Some error !\")\n",
    "else:\n",
    "    print(\"else will execute when try will execute with success\")\n",
    "finally:\n",
    "    print(\"Inside finally\")\n",
    "    l = [2, 4, 5, 1]\n",
    "    print(l[0])\n",
    "    try:\n",
    "        print(l[10])\n",
    "    except:\n",
    "        pass\n"
   ]
  },
  {
   "cell_type": "code",
   "execution_count": 11,
   "id": "9873c5fd",
   "metadata": {},
   "outputs": [
    {
     "ename": "ZeroDivisionError",
     "evalue": "division by zero",
     "output_type": "error",
     "traceback": [
      "\u001b[1;31m---------------------------------------------------------------------------\u001b[0m",
      "\u001b[1;31mZeroDivisionError\u001b[0m                         Traceback (most recent call last)",
      "\u001b[1;32mC:\\Users\\CHANDA~1\\AppData\\Local\\Temp/ipykernel_340/2874912419.py\u001b[0m in \u001b[0;36m<module>\u001b[1;34m\u001b[0m\n\u001b[1;32m----> 1\u001b[1;33m \u001b[1;36m5\u001b[0m\u001b[1;33m/\u001b[0m\u001b[1;36m0\u001b[0m\u001b[1;33m\u001b[0m\u001b[1;33m\u001b[0m\u001b[0m\n\u001b[0m",
      "\u001b[1;31mZeroDivisionError\u001b[0m: division by zero"
     ]
    }
   ],
   "source": [
    "5/0"
   ]
  },
  {
   "cell_type": "code",
   "execution_count": 13,
   "id": "86e60c08",
   "metadata": {},
   "outputs": [
    {
     "name": "stdout",
     "output_type": "stream",
     "text": [
      "Error occured:  [Errno 2] No such file or directory: 'exception3.txt'\n"
     ]
    }
   ],
   "source": [
    "try:\n",
    "    f = open('exception3.txt', 'r')\n",
    "except IOError as e:\n",
    "    print(\"Error occured: \", e)"
   ]
  },
  {
   "cell_type": "code",
   "execution_count": 16,
   "id": "be0a59e6",
   "metadata": {},
   "outputs": [],
   "source": [
    "def askforint():\n",
    "    while True:\n",
    "        try:\n",
    "            a = int(input(\"Enter an integer: \"))\n",
    "        except Exception as e:   ## Exception is superclass of all the exception (parent class)\n",
    "            print(\"Error occured: \", e)\n",
    "        else:\n",
    "            print(\"Number: \", a)\n",
    "            break\n",
    "        finally:\n",
    "            print(\"Close this issue\")"
   ]
  },
  {
   "cell_type": "code",
   "execution_count": 17,
   "id": "42e30243",
   "metadata": {},
   "outputs": [
    {
     "name": "stdout",
     "output_type": "stream",
     "text": [
      "Enter an integer: 123f\n",
      "Error occured:  invalid literal for int() with base 10: '123f'\n",
      "Close this issue\n",
      "Enter an integer: asdqwe\n",
      "Error occured:  invalid literal for int() with base 10: 'asdqwe'\n",
      "Close this issue\n",
      "Enter an integer: cxz\n",
      "Error occured:  invalid literal for int() with base 10: 'cxz'\n",
      "Close this issue\n",
      "Enter an integer: 12.3\n",
      "Error occured:  invalid literal for int() with base 10: '12.3'\n",
      "Close this issue\n",
      "Enter an integer: 12\n",
      "Number:  12\n",
      "Close this issue\n"
     ]
    }
   ],
   "source": [
    "askforint()"
   ]
  },
  {
   "cell_type": "code",
   "execution_count": 18,
   "id": "4e2949c7",
   "metadata": {},
   "outputs": [],
   "source": [
    "def askforint1():\n",
    "    while True:\n",
    "        flag = 1\n",
    "        try:\n",
    "            a = int(input(\"Enter an integer: \"))\n",
    "        except Exception as e:   ## Exception is superclass of all the exception (parent class)\n",
    "            print(\"Error occured: \", e)\n",
    "        else:\n",
    "            print(\"Number: \", a)\n",
    "            flag = 0\n",
    "        finally:\n",
    "            if flag == 0:\n",
    "                print(\"Close this issue\")\n",
    "                break\n",
    "            else:\n",
    "                pass"
   ]
  },
  {
   "cell_type": "code",
   "execution_count": 19,
   "id": "65220efa",
   "metadata": {},
   "outputs": [
    {
     "name": "stdout",
     "output_type": "stream",
     "text": [
      "Enter an integer: 123d\n",
      "Error occured:  invalid literal for int() with base 10: '123d'\n",
      "Enter an integer: 123\n",
      "Number:  123\n",
      "Close this issue\n"
     ]
    }
   ],
   "source": [
    "askforint1()"
   ]
  },
  {
   "cell_type": "markdown",
   "id": "63ebf270",
   "metadata": {},
   "source": [
    "--------------------\n",
    "### Generating own exception"
   ]
  },
  {
   "cell_type": "code",
   "execution_count": 20,
   "id": "9eef6565",
   "metadata": {},
   "outputs": [
    {
     "data": {
      "text/plain": [
       "0.8333333333333334"
      ]
     },
     "execution_count": 20,
     "metadata": {},
     "output_type": "execute_result"
    }
   ],
   "source": [
    "5/6"
   ]
  },
  {
   "cell_type": "code",
   "execution_count": 22,
   "id": "1dcf69b6",
   "metadata": {},
   "outputs": [],
   "source": [
    "## if we want to raise an exception for division by 6\n",
    "## We can solve this problem by generating custom exception"
   ]
  },
  {
   "cell_type": "code",
   "execution_count": 30,
   "id": "36117863",
   "metadata": {},
   "outputs": [],
   "source": [
    "def custom_exception(a):\n",
    "    if a == 6:\n",
    "        raise Exception(a)\n",
    "    else:\n",
    "        print(\"a: \", a)\n",
    "    return a*a"
   ]
  },
  {
   "cell_type": "code",
   "execution_count": 31,
   "id": "2ca5be9e",
   "metadata": {},
   "outputs": [
    {
     "name": "stdout",
     "output_type": "stream",
     "text": [
      "a:  4\n"
     ]
    },
    {
     "data": {
      "text/plain": [
       "16"
      ]
     },
     "execution_count": 31,
     "metadata": {},
     "output_type": "execute_result"
    }
   ],
   "source": [
    "custom_exception(4)"
   ]
  },
  {
   "cell_type": "code",
   "execution_count": 32,
   "id": "4610f131",
   "metadata": {},
   "outputs": [
    {
     "name": "stdout",
     "output_type": "stream",
     "text": [
      "a:  7\n"
     ]
    }
   ],
   "source": [
    "a = custom_exception(7)"
   ]
  },
  {
   "cell_type": "code",
   "execution_count": 33,
   "id": "d8b2fef9",
   "metadata": {},
   "outputs": [
    {
     "data": {
      "text/plain": [
       "49"
      ]
     },
     "execution_count": 33,
     "metadata": {},
     "output_type": "execute_result"
    }
   ],
   "source": [
    "a"
   ]
  },
  {
   "cell_type": "code",
   "execution_count": 34,
   "id": "c6dbdb07",
   "metadata": {},
   "outputs": [
    {
     "ename": "Exception",
     "evalue": "6",
     "output_type": "error",
     "traceback": [
      "\u001b[1;31m---------------------------------------------------------------------------\u001b[0m",
      "\u001b[1;31mException\u001b[0m                                 Traceback (most recent call last)",
      "\u001b[1;32mC:\\Users\\CHANDA~1\\AppData\\Local\\Temp/ipykernel_340/1860172196.py\u001b[0m in \u001b[0;36m<module>\u001b[1;34m\u001b[0m\n\u001b[1;32m----> 1\u001b[1;33m \u001b[0ma\u001b[0m \u001b[1;33m=\u001b[0m \u001b[0mcustom_exception\u001b[0m\u001b[1;33m(\u001b[0m\u001b[1;36m6\u001b[0m\u001b[1;33m)\u001b[0m\u001b[1;33m\u001b[0m\u001b[1;33m\u001b[0m\u001b[0m\n\u001b[0m",
      "\u001b[1;32mC:\\Users\\CHANDA~1\\AppData\\Local\\Temp/ipykernel_340/3932761776.py\u001b[0m in \u001b[0;36mcustom_exception\u001b[1;34m(a)\u001b[0m\n\u001b[0;32m      1\u001b[0m \u001b[1;32mdef\u001b[0m \u001b[0mcustom_exception\u001b[0m\u001b[1;33m(\u001b[0m\u001b[0ma\u001b[0m\u001b[1;33m)\u001b[0m\u001b[1;33m:\u001b[0m\u001b[1;33m\u001b[0m\u001b[1;33m\u001b[0m\u001b[0m\n\u001b[0;32m      2\u001b[0m     \u001b[1;32mif\u001b[0m \u001b[0ma\u001b[0m \u001b[1;33m==\u001b[0m \u001b[1;36m6\u001b[0m\u001b[1;33m:\u001b[0m\u001b[1;33m\u001b[0m\u001b[1;33m\u001b[0m\u001b[0m\n\u001b[1;32m----> 3\u001b[1;33m         \u001b[1;32mraise\u001b[0m \u001b[0mException\u001b[0m\u001b[1;33m(\u001b[0m\u001b[0ma\u001b[0m\u001b[1;33m)\u001b[0m\u001b[1;33m\u001b[0m\u001b[1;33m\u001b[0m\u001b[0m\n\u001b[0m\u001b[0;32m      4\u001b[0m     \u001b[1;32melse\u001b[0m\u001b[1;33m:\u001b[0m\u001b[1;33m\u001b[0m\u001b[1;33m\u001b[0m\u001b[0m\n\u001b[0;32m      5\u001b[0m         \u001b[0mprint\u001b[0m\u001b[1;33m(\u001b[0m\u001b[1;34m\"a: \"\u001b[0m\u001b[1;33m,\u001b[0m \u001b[0ma\u001b[0m\u001b[1;33m)\u001b[0m\u001b[1;33m\u001b[0m\u001b[1;33m\u001b[0m\u001b[0m\n",
      "\u001b[1;31mException\u001b[0m: 6"
     ]
    }
   ],
   "source": [
    "a = custom_exception(6)"
   ]
  },
  {
   "cell_type": "code",
   "execution_count": 44,
   "id": "b4f8416d",
   "metadata": {},
   "outputs": [
    {
     "name": "stdout",
     "output_type": "stream",
     "text": [
      "6\n"
     ]
    }
   ],
   "source": [
    "try:\n",
    "    custom_exception(6)\n",
    "except Exception as e:\n",
    "    print(e)"
   ]
  },
  {
   "cell_type": "code",
   "execution_count": 45,
   "id": "895f89d8",
   "metadata": {},
   "outputs": [
    {
     "data": {
      "text/plain": [
       "49"
      ]
     },
     "execution_count": 45,
     "metadata": {},
     "output_type": "execute_result"
    }
   ],
   "source": [
    "a"
   ]
  },
  {
   "cell_type": "code",
   "execution_count": 48,
   "id": "4110c79d",
   "metadata": {},
   "outputs": [],
   "source": [
    "def custom_exception(a):\n",
    "    if a > 6:\n",
    "        raise Exception('Error is: ', a)\n",
    "    else:\n",
    "        print(\"a: \", a)\n",
    "    return a*a"
   ]
  },
  {
   "cell_type": "code",
   "execution_count": 49,
   "id": "8abb3045",
   "metadata": {},
   "outputs": [
    {
     "name": "stdout",
     "output_type": "stream",
     "text": [
      "('Error is: ', 123)\n"
     ]
    }
   ],
   "source": [
    "try:\n",
    "    custom_exception(123)\n",
    "except Exception as e:\n",
    "    print(e)"
   ]
  },
  {
   "cell_type": "code",
   "execution_count": null,
   "id": "1f233b88",
   "metadata": {},
   "outputs": [],
   "source": []
  }
 ],
 "metadata": {
  "kernelspec": {
   "display_name": "Python 3 (ipykernel)",
   "language": "python",
   "name": "python3"
  },
  "language_info": {
   "codemirror_mode": {
    "name": "ipython",
    "version": 3
   },
   "file_extension": ".py",
   "mimetype": "text/x-python",
   "name": "python",
   "nbconvert_exporter": "python",
   "pygments_lexer": "ipython3",
   "version": "3.9.7"
  }
 },
 "nbformat": 4,
 "nbformat_minor": 5
}
