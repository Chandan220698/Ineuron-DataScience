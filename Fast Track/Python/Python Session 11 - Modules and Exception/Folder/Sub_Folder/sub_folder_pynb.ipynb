{
 "cells": [
  {
   "cell_type": "code",
   "execution_count": 1,
   "id": "d162ecfb",
   "metadata": {},
   "outputs": [],
   "source": [
    "import Mod1\n",
    "import Mod2\n",
    "import Mod3"
   ]
  },
  {
   "cell_type": "code",
   "execution_count": 2,
   "id": "18b7adbf",
   "metadata": {},
   "outputs": [
    {
     "name": "stdout",
     "output_type": "stream",
     "text": [
      "This is function-1 inside Mod1\n"
     ]
    }
   ],
   "source": [
    "Mod1.fn11()"
   ]
  },
  {
   "cell_type": "code",
   "execution_count": 3,
   "id": "abebdccc",
   "metadata": {},
   "outputs": [
    {
     "name": "stdout",
     "output_type": "stream",
     "text": [
      "This is function-2 inside Mod2\n"
     ]
    }
   ],
   "source": [
    "Mod2.fn22()"
   ]
  },
  {
   "cell_type": "code",
   "execution_count": 4,
   "id": "281c8dec",
   "metadata": {},
   "outputs": [
    {
     "name": "stdout",
     "output_type": "stream",
     "text": [
      "This is function-1 inside Mod3\n"
     ]
    }
   ],
   "source": [
    "Mod3.fn31()"
   ]
  },
  {
   "cell_type": "code",
   "execution_count": 5,
   "id": "df2acbb7",
   "metadata": {},
   "outputs": [
    {
     "ename": "ModuleNotFoundError",
     "evalue": "No module named 'test1_Mod'",
     "output_type": "error",
     "traceback": [
      "\u001b[1;31m---------------------------------------------------------------------------\u001b[0m",
      "\u001b[1;31mModuleNotFoundError\u001b[0m                       Traceback (most recent call last)",
      "\u001b[1;32mC:\\Users\\CHANDA~1\\AppData\\Local\\Temp/ipykernel_10000/3052589874.py\u001b[0m in \u001b[0;36m<module>\u001b[1;34m\u001b[0m\n\u001b[1;32m----> 1\u001b[1;33m \u001b[1;32mimport\u001b[0m \u001b[0mtest1_Mod\u001b[0m\u001b[1;33m\u001b[0m\u001b[1;33m\u001b[0m\u001b[0m\n\u001b[0m",
      "\u001b[1;31mModuleNotFoundError\u001b[0m: No module named 'test1_Mod'"
     ]
    }
   ],
   "source": [
    "import test1_Mod"
   ]
  },
  {
   "cell_type": "code",
   "execution_count": null,
   "id": "e902750c",
   "metadata": {},
   "outputs": [],
   "source": []
  }
 ],
 "metadata": {
  "kernelspec": {
   "display_name": "Python 3 (ipykernel)",
   "language": "python",
   "name": "python3"
  },
  "language_info": {
   "codemirror_mode": {
    "name": "ipython",
    "version": 3
   },
   "file_extension": ".py",
   "mimetype": "text/x-python",
   "name": "python",
   "nbconvert_exporter": "python",
   "pygments_lexer": "ipython3",
   "version": "3.9.7"
  }
 },
 "nbformat": 4,
 "nbformat_minor": 5
}
