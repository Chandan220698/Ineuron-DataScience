{
 "cells": [
  {
   "cell_type": "code",
   "execution_count": 1,
   "id": "608cb8f3",
   "metadata": {},
   "outputs": [
    {
     "ename": "ModuleNotFoundError",
     "evalue": "No module named 'Mod1'",
     "output_type": "error",
     "traceback": [
      "\u001b[1;31m---------------------------------------------------------------------------\u001b[0m",
      "\u001b[1;31mModuleNotFoundError\u001b[0m                       Traceback (most recent call last)",
      "\u001b[1;32mC:\\Users\\CHANDA~1\\AppData\\Local\\Temp/ipykernel_9880/3097897461.py\u001b[0m in \u001b[0;36m<module>\u001b[1;34m\u001b[0m\n\u001b[1;32m----> 1\u001b[1;33m \u001b[1;32mimport\u001b[0m \u001b[0mMod1\u001b[0m\u001b[1;33m\u001b[0m\u001b[1;33m\u001b[0m\u001b[0m\n\u001b[0m\u001b[0;32m      2\u001b[0m \u001b[1;32mimport\u001b[0m \u001b[0mMod2\u001b[0m\u001b[1;33m\u001b[0m\u001b[1;33m\u001b[0m\u001b[0m\n\u001b[0;32m      3\u001b[0m \u001b[1;32mimport\u001b[0m \u001b[0mMod3\u001b[0m\u001b[1;33m\u001b[0m\u001b[1;33m\u001b[0m\u001b[0m\n",
      "\u001b[1;31mModuleNotFoundError\u001b[0m: No module named 'Mod1'"
     ]
    }
   ],
   "source": [
    "import Mod1\n",
    "import Mod2\n",
    "import Mod3"
   ]
  },
  {
   "cell_type": "code",
   "execution_count": 2,
   "id": "25bc7a6d",
   "metadata": {},
   "outputs": [],
   "source": [
    "import test1_Mod"
   ]
  },
  {
   "cell_type": "code",
   "execution_count": 3,
   "id": "f0b86c44",
   "metadata": {},
   "outputs": [
    {
     "name": "stdout",
     "output_type": "stream",
     "text": [
      "Inside main directory in test1_Mod\n"
     ]
    }
   ],
   "source": [
    "test1_Mod.fn1()"
   ]
  },
  {
   "cell_type": "code",
   "execution_count": 7,
   "id": "319afa54",
   "metadata": {},
   "outputs": [],
   "source": [
    "import Sub_Folder.Mod1"
   ]
  },
  {
   "cell_type": "code",
   "execution_count": 8,
   "id": "02bc9c85",
   "metadata": {},
   "outputs": [
    {
     "name": "stdout",
     "output_type": "stream",
     "text": [
      "This is function-1 inside Mod1\n"
     ]
    }
   ],
   "source": [
    "Mod1.fn11()"
   ]
  },
  {
   "cell_type": "code",
   "execution_count": 9,
   "id": "b7e178cd",
   "metadata": {},
   "outputs": [],
   "source": [
    "from  Sub_Folder import Mod2"
   ]
  },
  {
   "cell_type": "code",
   "execution_count": 10,
   "id": "2848d899",
   "metadata": {},
   "outputs": [
    {
     "name": "stdout",
     "output_type": "stream",
     "text": [
      "This is function-2 inside Mod2\n"
     ]
    }
   ],
   "source": [
    "Mod2.fn22()"
   ]
  },
  {
   "cell_type": "code",
   "execution_count": null,
   "id": "f55423d8",
   "metadata": {},
   "outputs": [],
   "source": []
  }
 ],
 "metadata": {
  "kernelspec": {
   "display_name": "Python 3 (ipykernel)",
   "language": "python",
   "name": "python3"
  },
  "language_info": {
   "codemirror_mode": {
    "name": "ipython",
    "version": 3
   },
   "file_extension": ".py",
   "mimetype": "text/x-python",
   "name": "python",
   "nbconvert_exporter": "python",
   "pygments_lexer": "ipython3",
   "version": "3.9.7"
  }
 },
 "nbformat": 4,
 "nbformat_minor": 5
}
