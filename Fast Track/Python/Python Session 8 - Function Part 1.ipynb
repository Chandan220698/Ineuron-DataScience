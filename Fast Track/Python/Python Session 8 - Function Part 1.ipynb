{
 "cells": [
  {
   "cell_type": "markdown",
   "id": "95674fdc",
   "metadata": {},
   "source": [
    "## Function"
   ]
  },
  {
   "cell_type": "code",
   "execution_count": 1,
   "id": "778991cf",
   "metadata": {},
   "outputs": [
    {
     "data": {
      "text/plain": [
       "3"
      ]
     },
     "execution_count": 1,
     "metadata": {},
     "output_type": "execute_result"
    }
   ],
   "source": [
    "a, b = 1, 2\n",
    "a+b"
   ]
  },
  {
   "cell_type": "code",
   "execution_count": 2,
   "id": "f9f4727a",
   "metadata": {},
   "outputs": [],
   "source": [
    "def test(x, y):\n",
    "    pass"
   ]
  },
  {
   "cell_type": "code",
   "execution_count": 3,
   "id": "e9ddcb0f",
   "metadata": {},
   "outputs": [
    {
     "data": {
      "text/plain": [
       "<function __main__.test(x, y)>"
      ]
     },
     "execution_count": 3,
     "metadata": {},
     "output_type": "execute_result"
    }
   ],
   "source": [
    "test"
   ]
  },
  {
   "cell_type": "code",
   "execution_count": 4,
   "id": "69bf8e2b",
   "metadata": {},
   "outputs": [],
   "source": [
    "def test(x, y):\n",
    "    print(x+y)"
   ]
  },
  {
   "cell_type": "code",
   "execution_count": 5,
   "id": "cede8f14",
   "metadata": {},
   "outputs": [
    {
     "name": "stdout",
     "output_type": "stream",
     "text": [
      "46\n"
     ]
    }
   ],
   "source": [
    "test(12, 34)"
   ]
  },
  {
   "cell_type": "code",
   "execution_count": 6,
   "id": "92bd20bc",
   "metadata": {},
   "outputs": [
    {
     "name": "stdout",
     "output_type": "stream",
     "text": [
      "135\n"
     ]
    }
   ],
   "source": [
    "test (-234, 369)"
   ]
  },
  {
   "cell_type": "code",
   "execution_count": 8,
   "id": "c6ec7ce8",
   "metadata": {},
   "outputs": [
    {
     "name": "stdout",
     "output_type": "stream",
     "text": [
      "(20-18j)\n"
     ]
    }
   ],
   "source": [
    "test(10+5j, 10-23j)"
   ]
  },
  {
   "cell_type": "code",
   "execution_count": 9,
   "id": "c3c323c0",
   "metadata": {},
   "outputs": [],
   "source": [
    "def test1(m, n):\n",
    "    return m * n"
   ]
  },
  {
   "cell_type": "code",
   "execution_count": 11,
   "id": "b12b06ec",
   "metadata": {},
   "outputs": [
    {
     "data": {
      "text/plain": [
       "1111"
      ]
     },
     "execution_count": 11,
     "metadata": {},
     "output_type": "execute_result"
    }
   ],
   "source": [
    "test1(11, 101)"
   ]
  },
  {
   "cell_type": "code",
   "execution_count": 12,
   "id": "96d3d0a8",
   "metadata": {},
   "outputs": [
    {
     "name": "stdout",
     "output_type": "stream",
     "text": [
      "20\n"
     ]
    },
    {
     "ename": "TypeError",
     "evalue": "unsupported operand type(s) for +: 'NoneType' and 'int'",
     "output_type": "error",
     "traceback": [
      "\u001b[1;31m---------------------------------------------------------------------------\u001b[0m",
      "\u001b[1;31mTypeError\u001b[0m                                 Traceback (most recent call last)",
      "\u001b[1;32mC:\\Users\\CHANDA~1\\AppData\\Local\\Temp/ipykernel_9372/194615318.py\u001b[0m in \u001b[0;36m<module>\u001b[1;34m\u001b[0m\n\u001b[1;32m----> 1\u001b[1;33m \u001b[0mtest\u001b[0m\u001b[1;33m(\u001b[0m\u001b[1;36m10\u001b[0m\u001b[1;33m,\u001b[0m \u001b[1;36m10\u001b[0m\u001b[1;33m)\u001b[0m \u001b[1;33m+\u001b[0m \u001b[1;36m1\u001b[0m\u001b[1;33m\u001b[0m\u001b[1;33m\u001b[0m\u001b[0m\n\u001b[0m",
      "\u001b[1;31mTypeError\u001b[0m: unsupported operand type(s) for +: 'NoneType' and 'int'"
     ]
    }
   ],
   "source": [
    "test(10, 10) + 1"
   ]
  },
  {
   "cell_type": "code",
   "execution_count": 13,
   "id": "bbec4fa6",
   "metadata": {},
   "outputs": [
    {
     "data": {
      "text/plain": [
       "101"
      ]
     },
     "execution_count": 13,
     "metadata": {},
     "output_type": "execute_result"
    }
   ],
   "source": [
    "test1(10, 10) + 1"
   ]
  },
  {
   "cell_type": "code",
   "execution_count": 15,
   "id": "cb2499e5",
   "metadata": {},
   "outputs": [
    {
     "name": "stdout",
     "output_type": "stream",
     "text": [
      "11\n"
     ]
    },
    {
     "data": {
      "text/plain": [
       "NoneType"
      ]
     },
     "execution_count": 15,
     "metadata": {},
     "output_type": "execute_result"
    }
   ],
   "source": [
    "type(test(10, 1))"
   ]
  },
  {
   "cell_type": "code",
   "execution_count": 16,
   "id": "340a8e74",
   "metadata": {},
   "outputs": [
    {
     "data": {
      "text/plain": [
       "int"
      ]
     },
     "execution_count": 16,
     "metadata": {},
     "output_type": "execute_result"
    }
   ],
   "source": [
    "type(test1(10, 2))"
   ]
  },
  {
   "cell_type": "code",
   "execution_count": 17,
   "id": "233a22bb",
   "metadata": {},
   "outputs": [],
   "source": [
    "def test2(a, b, c):\n",
    "    return b + c"
   ]
  },
  {
   "cell_type": "code",
   "execution_count": 18,
   "id": "79a78075",
   "metadata": {},
   "outputs": [
    {
     "data": {
      "text/plain": [
       "5"
      ]
     },
     "execution_count": 18,
     "metadata": {},
     "output_type": "execute_result"
    }
   ],
   "source": [
    "test2(1, 2, 3)"
   ]
  },
  {
   "cell_type": "code",
   "execution_count": 19,
   "id": "484a09df",
   "metadata": {},
   "outputs": [],
   "source": [
    "def test3(a, b):\n",
    "    return a*a, b*21, a*b*10, a+b+101"
   ]
  },
  {
   "cell_type": "code",
   "execution_count": 20,
   "id": "2484cc9d",
   "metadata": {},
   "outputs": [
    {
     "data": {
      "text/plain": [
       "(4, 147, 140, 110)"
      ]
     },
     "execution_count": 20,
     "metadata": {},
     "output_type": "execute_result"
    }
   ],
   "source": [
    "test3(2,7)"
   ]
  },
  {
   "cell_type": "code",
   "execution_count": 21,
   "id": "5ca9daa2",
   "metadata": {},
   "outputs": [
    {
     "data": {
      "text/plain": [
       "function"
      ]
     },
     "execution_count": 21,
     "metadata": {},
     "output_type": "execute_result"
    }
   ],
   "source": [
    "type(test3)"
   ]
  },
  {
   "cell_type": "code",
   "execution_count": 26,
   "id": "0df64e60",
   "metadata": {},
   "outputs": [],
   "source": [
    "result = list(test3(2, 7))"
   ]
  },
  {
   "cell_type": "code",
   "execution_count": 27,
   "id": "d2d53fd0",
   "metadata": {},
   "outputs": [
    {
     "data": {
      "text/plain": [
       "[4, 147, 140, 110]"
      ]
     },
     "execution_count": 27,
     "metadata": {},
     "output_type": "execute_result"
    }
   ],
   "source": [
    "result"
   ]
  },
  {
   "cell_type": "code",
   "execution_count": 30,
   "id": "24a0a1c2",
   "metadata": {},
   "outputs": [],
   "source": [
    "a, b, c, d = test3(1, 21)"
   ]
  },
  {
   "cell_type": "code",
   "execution_count": 31,
   "id": "3dc07ba0",
   "metadata": {},
   "outputs": [
    {
     "data": {
      "text/plain": [
       "(1, 441, 210, 123)"
      ]
     },
     "execution_count": 31,
     "metadata": {},
     "output_type": "execute_result"
    }
   ],
   "source": [
    "a, b, c, d"
   ]
  },
  {
   "cell_type": "code",
   "execution_count": 32,
   "id": "b5b248ca",
   "metadata": {},
   "outputs": [
    {
     "data": {
      "text/plain": [
       "(1, 441, 210, 123)"
      ]
     },
     "execution_count": 32,
     "metadata": {},
     "output_type": "execute_result"
    }
   ],
   "source": [
    "a, b, c, _ = test3(1, 21)\n",
    "a, b, c, _"
   ]
  },
  {
   "cell_type": "code",
   "execution_count": 33,
   "id": "644f5927",
   "metadata": {},
   "outputs": [
    {
     "data": {
      "text/plain": [
       "(1, 441, 123, 123)"
      ]
     },
     "execution_count": 33,
     "metadata": {},
     "output_type": "execute_result"
    }
   ],
   "source": [
    "a, b, c, _ = test3(1, 21)\n",
    "a, b,_ , _"
   ]
  },
  {
   "cell_type": "code",
   "execution_count": 34,
   "id": "92a1fe58",
   "metadata": {},
   "outputs": [
    {
     "data": {
      "text/plain": [
       "(123, 441, 123, 123)"
      ]
     },
     "execution_count": 34,
     "metadata": {},
     "output_type": "execute_result"
    }
   ],
   "source": [
    "a, b, c, _ = test3(1, 21)\n",
    "_, b,_ , _"
   ]
  },
  {
   "cell_type": "code",
   "execution_count": 35,
   "id": "69b9e498",
   "metadata": {},
   "outputs": [],
   "source": [
    "def test4(n):\n",
    "    return n*2"
   ]
  },
  {
   "cell_type": "code",
   "execution_count": 37,
   "id": "638eb2fd",
   "metadata": {},
   "outputs": [
    {
     "data": {
      "text/plain": [
       "[1, 2, 3, 1, 2, 3]"
      ]
     },
     "execution_count": 37,
     "metadata": {},
     "output_type": "execute_result"
    }
   ],
   "source": [
    "test4([1,2,3])"
   ]
  },
  {
   "cell_type": "markdown",
   "id": "e29dc754",
   "metadata": {},
   "source": [
    "--------------------"
   ]
  },
  {
   "cell_type": "code",
   "execution_count": 38,
   "id": "266913da",
   "metadata": {},
   "outputs": [],
   "source": [
    "def test5(n, m = 90):\n",
    "    return n + m"
   ]
  },
  {
   "cell_type": "code",
   "execution_count": 39,
   "id": "18c24a95",
   "metadata": {},
   "outputs": [
    {
     "data": {
      "text/plain": [
       "99"
      ]
     },
     "execution_count": 39,
     "metadata": {},
     "output_type": "execute_result"
    }
   ],
   "source": [
    "test5(9)"
   ]
  },
  {
   "cell_type": "code",
   "execution_count": 40,
   "id": "24cae167",
   "metadata": {},
   "outputs": [
    {
     "data": {
      "text/plain": [
       "108"
      ]
     },
     "execution_count": 40,
     "metadata": {},
     "output_type": "execute_result"
    }
   ],
   "source": [
    "test5(9, 99)"
   ]
  },
  {
   "cell_type": "code",
   "execution_count": 41,
   "id": "c10b3e3a",
   "metadata": {},
   "outputs": [],
   "source": [
    "def boolx(x = True, y = False):\n",
    "    return x + y"
   ]
  },
  {
   "cell_type": "code",
   "execution_count": 42,
   "id": "4b6c5fb2",
   "metadata": {},
   "outputs": [
    {
     "data": {
      "text/plain": [
       "1"
      ]
     },
     "execution_count": 42,
     "metadata": {},
     "output_type": "execute_result"
    }
   ],
   "source": [
    "boolx()"
   ]
  },
  {
   "cell_type": "code",
   "execution_count": 43,
   "id": "868da0e9",
   "metadata": {},
   "outputs": [
    {
     "data": {
      "text/plain": [
       "0"
      ]
     },
     "execution_count": 43,
     "metadata": {},
     "output_type": "execute_result"
    }
   ],
   "source": [
    "boolx(False)"
   ]
  },
  {
   "cell_type": "code",
   "execution_count": 44,
   "id": "163633aa",
   "metadata": {},
   "outputs": [
    {
     "data": {
      "text/plain": [
       "2"
      ]
     },
     "execution_count": 44,
     "metadata": {},
     "output_type": "execute_result"
    }
   ],
   "source": [
    "boolx(True, True)"
   ]
  },
  {
   "cell_type": "code",
   "execution_count": 45,
   "id": "eaf5e0f7",
   "metadata": {},
   "outputs": [
    {
     "data": {
      "text/plain": [
       "5"
      ]
     },
     "execution_count": 45,
     "metadata": {},
     "output_type": "execute_result"
    }
   ],
   "source": [
    "boolx(5)"
   ]
  },
  {
   "cell_type": "code",
   "execution_count": 46,
   "id": "b2cd93f4",
   "metadata": {},
   "outputs": [
    {
     "data": {
      "text/plain": [
       "6"
      ]
     },
     "execution_count": 46,
     "metadata": {},
     "output_type": "execute_result"
    }
   ],
   "source": [
    "boolx(True, 5)"
   ]
  },
  {
   "cell_type": "markdown",
   "id": "b55a4e09",
   "metadata": {},
   "source": [
    "----------------------------------"
   ]
  },
  {
   "cell_type": "code",
   "execution_count": 47,
   "id": "fec572e6",
   "metadata": {},
   "outputs": [],
   "source": [
    "def travel(bike = True, car = False):\n",
    "    plan_travel = bike or car\n",
    "    return bike, car, plan_travel"
   ]
  },
  {
   "cell_type": "code",
   "execution_count": 48,
   "id": "6c64cd80",
   "metadata": {},
   "outputs": [
    {
     "data": {
      "text/plain": [
       "(True, False, True)"
      ]
     },
     "execution_count": 48,
     "metadata": {},
     "output_type": "execute_result"
    }
   ],
   "source": [
    "travel()"
   ]
  },
  {
   "cell_type": "code",
   "execution_count": 52,
   "id": "26843fc0",
   "metadata": {},
   "outputs": [
    {
     "data": {
      "text/plain": [
       "(True, False, True)"
      ]
     },
     "execution_count": 52,
     "metadata": {},
     "output_type": "execute_result"
    }
   ],
   "source": [
    "travel(True)"
   ]
  },
  {
   "cell_type": "code",
   "execution_count": 53,
   "id": "f1881af3",
   "metadata": {},
   "outputs": [
    {
     "data": {
      "text/plain": [
       "(True, True, True)"
      ]
     },
     "execution_count": 53,
     "metadata": {},
     "output_type": "execute_result"
    }
   ],
   "source": [
    "travel(car = True)"
   ]
  },
  {
   "cell_type": "code",
   "execution_count": 54,
   "id": "a2b94b2e",
   "metadata": {},
   "outputs": [
    {
     "data": {
      "text/plain": [
       "(False, True, True)"
      ]
     },
     "execution_count": 54,
     "metadata": {},
     "output_type": "execute_result"
    }
   ],
   "source": [
    "travel(False, car = True)"
   ]
  },
  {
   "cell_type": "markdown",
   "id": "4c661ac8",
   "metadata": {},
   "source": [
    "------------------"
   ]
  },
  {
   "cell_type": "markdown",
   "id": "c3bb14ab",
   "metadata": {},
   "source": [
    "### *args "
   ]
  },
  {
   "cell_type": "code",
   "execution_count": 62,
   "id": "d1ed1223",
   "metadata": {},
   "outputs": [],
   "source": [
    "def test11(*args):\n",
    "    return args"
   ]
  },
  {
   "cell_type": "code",
   "execution_count": 63,
   "id": "cd1fd7b9",
   "metadata": {},
   "outputs": [
    {
     "data": {
      "text/plain": [
       "()"
      ]
     },
     "execution_count": 63,
     "metadata": {},
     "output_type": "execute_result"
    }
   ],
   "source": [
    "test11()"
   ]
  },
  {
   "cell_type": "code",
   "execution_count": 64,
   "id": "b48c69c9",
   "metadata": {},
   "outputs": [
    {
     "data": {
      "text/plain": [
       "(1, 'ck', 'Data Science', True)"
      ]
     },
     "execution_count": 64,
     "metadata": {},
     "output_type": "execute_result"
    }
   ],
   "source": [
    "test11(1, 'ck', 'Data Science', True)"
   ]
  },
  {
   "cell_type": "code",
   "execution_count": 72,
   "id": "1371bc8f",
   "metadata": {},
   "outputs": [],
   "source": [
    "def task(*args):\n",
    "    l = []\n",
    "    for i in args:\n",
    "        l.append(i)\n",
    "    return l"
   ]
  },
  {
   "cell_type": "code",
   "execution_count": 76,
   "id": "fe8edd3a",
   "metadata": {},
   "outputs": [
    {
     "data": {
      "text/plain": [
       "[[1, 2, 3], ['ck'], [5, 6, 1], [-2, -1, 11]]"
      ]
     },
     "execution_count": 76,
     "metadata": {},
     "output_type": "execute_result"
    }
   ],
   "source": [
    "task([1,2,3], [\"ck\"], [5, 6, 1,], [-2, -1, 11])"
   ]
  },
  {
   "cell_type": "code",
   "execution_count": 79,
   "id": "28ae4a32",
   "metadata": {},
   "outputs": [],
   "source": [
    "def task1(*args):\n",
    "    li = []\n",
    "    for i in args:\n",
    "        li = li + i\n",
    "    return li"
   ]
  },
  {
   "cell_type": "code",
   "execution_count": 80,
   "id": "7c4d13ae",
   "metadata": {},
   "outputs": [
    {
     "data": {
      "text/plain": [
       "[1, 2, 3, 'ck', 5, 6, 1, -2, -1, 11]"
      ]
     },
     "execution_count": 80,
     "metadata": {},
     "output_type": "execute_result"
    }
   ],
   "source": [
    "task1([1,2,3], [\"ck\"], [5, 6, 1,], [-2, -1, 11])"
   ]
  },
  {
   "cell_type": "code",
   "execution_count": 81,
   "id": "aa815efa",
   "metadata": {},
   "outputs": [],
   "source": [
    "def task2(*args):\n",
    "    sum = 0\n",
    "    for i in args:\n",
    "        sum = sum + i\n",
    "    return sum"
   ]
  },
  {
   "cell_type": "code",
   "execution_count": 82,
   "id": "c2459be7",
   "metadata": {},
   "outputs": [
    {
     "data": {
      "text/plain": [
       "10"
      ]
     },
     "execution_count": 82,
     "metadata": {},
     "output_type": "execute_result"
    }
   ],
   "source": [
    "task2(1,2,3,4)"
   ]
  },
  {
   "cell_type": "code",
   "execution_count": 84,
   "id": "ffbebd36",
   "metadata": {},
   "outputs": [],
   "source": [
    "def task3(*args):\n",
    "    sum = ''\n",
    "    for i in args:\n",
    "        sum = sum + i\n",
    "    return sum"
   ]
  },
  {
   "cell_type": "code",
   "execution_count": 87,
   "id": "bff917b9",
   "metadata": {},
   "outputs": [
    {
     "data": {
      "text/plain": [
       "'ck data scientist'"
      ]
     },
     "execution_count": 87,
     "metadata": {},
     "output_type": "execute_result"
    }
   ],
   "source": [
    "task3(\"ck \", \"data scientist\")"
   ]
  },
  {
   "cell_type": "markdown",
   "id": "87f4ab4a",
   "metadata": {},
   "source": [
    "--------------------------"
   ]
  },
  {
   "cell_type": "markdown",
   "id": "46079a9c",
   "metadata": {},
   "source": [
    "### *kwargs"
   ]
  },
  {
   "cell_type": "code",
   "execution_count": 88,
   "id": "eccd4b89",
   "metadata": {},
   "outputs": [],
   "source": [
    "def test21(**kwargs):\n",
    "    return kwargs"
   ]
  },
  {
   "cell_type": "code",
   "execution_count": 89,
   "id": "8f18dc55",
   "metadata": {},
   "outputs": [
    {
     "ename": "TypeError",
     "evalue": "test21() takes 0 positional arguments but 3 were given",
     "output_type": "error",
     "traceback": [
      "\u001b[1;31m---------------------------------------------------------------------------\u001b[0m",
      "\u001b[1;31mTypeError\u001b[0m                                 Traceback (most recent call last)",
      "\u001b[1;32mC:\\Users\\CHANDA~1\\AppData\\Local\\Temp/ipykernel_9372/4113598330.py\u001b[0m in \u001b[0;36m<module>\u001b[1;34m\u001b[0m\n\u001b[1;32m----> 1\u001b[1;33m \u001b[0mtest21\u001b[0m\u001b[1;33m(\u001b[0m\u001b[1;36m4\u001b[0m\u001b[1;33m,\u001b[0m \u001b[1;36m56\u001b[0m\u001b[1;33m,\u001b[0m \u001b[1;36m56\u001b[0m\u001b[1;33m)\u001b[0m\u001b[1;33m\u001b[0m\u001b[1;33m\u001b[0m\u001b[0m\n\u001b[0m",
      "\u001b[1;31mTypeError\u001b[0m: test21() takes 0 positional arguments but 3 were given"
     ]
    }
   ],
   "source": [
    "test21(4, 56, 56)"
   ]
  },
  {
   "cell_type": "code",
   "execution_count": 90,
   "id": "dd794e73",
   "metadata": {},
   "outputs": [
    {
     "data": {
      "text/plain": [
       "{'a': 4, 'b': 56, 'c': 56}"
      ]
     },
     "execution_count": 90,
     "metadata": {},
     "output_type": "execute_result"
    }
   ],
   "source": [
    "test21(a = 4, b = 56, c = 56)"
   ]
  },
  {
   "cell_type": "code",
   "execution_count": 91,
   "id": "a828c132",
   "metadata": {},
   "outputs": [
    {
     "data": {
      "text/plain": [
       "dict"
      ]
     },
     "execution_count": 91,
     "metadata": {},
     "output_type": "execute_result"
    }
   ],
   "source": [
    "type(test21(a = 4, b = 56, c = 56))"
   ]
  },
  {
   "cell_type": "code",
   "execution_count": 98,
   "id": "35d2cb33",
   "metadata": {},
   "outputs": [],
   "source": [
    "## Exercise\n",
    "\n",
    "def ex1(*args):\n",
    "    output = {}\n",
    "\n",
    "    for i in args:\n",
    "        if type(i) in output:\n",
    "            output[type(i)].append(i)\n",
    "        else:\n",
    "            output[type(i)] = [i]\n",
    "            \n",
    "    return output"
   ]
  },
  {
   "cell_type": "code",
   "execution_count": 99,
   "id": "734b3bc8",
   "metadata": {},
   "outputs": [
    {
     "data": {
      "text/plain": [
       "{int: [1, 2, 3],\n",
       " list: [[5, 6, 7]],\n",
       " str: ['Hi', 'CK'],\n",
       " complex: [(6+7j), (-15-3j)]}"
      ]
     },
     "execution_count": 99,
     "metadata": {},
     "output_type": "execute_result"
    }
   ],
   "source": [
    "ex1(1, 2, 3, [5, 6, 7], 'Hi', 'CK', 6+7j, -15-3j)"
   ]
  },
  {
   "cell_type": "code",
   "execution_count": null,
   "id": "cb646de8",
   "metadata": {},
   "outputs": [],
   "source": []
  }
 ],
 "metadata": {
  "kernelspec": {
   "display_name": "Python 3 (ipykernel)",
   "language": "python",
   "name": "python3"
  },
  "language_info": {
   "codemirror_mode": {
    "name": "ipython",
    "version": 3
   },
   "file_extension": ".py",
   "mimetype": "text/x-python",
   "name": "python",
   "nbconvert_exporter": "python",
   "pygments_lexer": "ipython3",
   "version": "3.9.7"
  }
 },
 "nbformat": 4,
 "nbformat_minor": 5
}
