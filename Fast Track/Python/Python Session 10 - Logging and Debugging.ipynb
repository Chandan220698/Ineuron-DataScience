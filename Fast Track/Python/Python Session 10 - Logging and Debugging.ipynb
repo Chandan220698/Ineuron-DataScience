{
 "cells": [
  {
   "cell_type": "markdown",
   "id": "80527305",
   "metadata": {},
   "source": [
    "## Logging and Debugging"
   ]
  },
  {
   "cell_type": "markdown",
   "id": "321d1a2d",
   "metadata": {},
   "source": [
    "-------------------------\n",
    "### Logging"
   ]
  },
  {
   "cell_type": "code",
   "execution_count": 1,
   "id": "b9069d58",
   "metadata": {},
   "outputs": [],
   "source": [
    "import logging as lg"
   ]
  },
  {
   "cell_type": "code",
   "execution_count": 2,
   "id": "182c8ec8",
   "metadata": {},
   "outputs": [],
   "source": [
    "import os"
   ]
  },
  {
   "cell_type": "code",
   "execution_count": 3,
   "id": "dac00ca2",
   "metadata": {},
   "outputs": [
    {
     "data": {
      "text/plain": [
       "'C:\\\\Users\\\\Chandan Kumar\\\\Documents\\\\Ineuron Data Science\\\\Fast Track\\\\Python'"
      ]
     },
     "execution_count": 3,
     "metadata": {},
     "output_type": "execute_result"
    }
   ],
   "source": [
    "pwd()"
   ]
  },
  {
   "cell_type": "code",
   "execution_count": 4,
   "id": "8dceff1f",
   "metadata": {},
   "outputs": [],
   "source": [
    "os.mkdir('Log Folder')"
   ]
  },
  {
   "cell_type": "code",
   "execution_count": 5,
   "id": "e7f0b016",
   "metadata": {},
   "outputs": [
    {
     "data": {
      "text/plain": [
       "'C:\\\\Users\\\\Chandan Kumar\\\\Documents\\\\Ineuron Data Science\\\\Fast Track\\\\Python'"
      ]
     },
     "execution_count": 5,
     "metadata": {},
     "output_type": "execute_result"
    }
   ],
   "source": [
    "pwd()"
   ]
  },
  {
   "cell_type": "code",
   "execution_count": 6,
   "id": "69153e2e",
   "metadata": {},
   "outputs": [],
   "source": [
    "os.chdir(os.getcwd() + '/' + \"Log Folder\")"
   ]
  },
  {
   "cell_type": "code",
   "execution_count": 7,
   "id": "3c5fd304",
   "metadata": {},
   "outputs": [
    {
     "data": {
      "text/plain": [
       "'C:\\\\Users\\\\Chandan Kumar\\\\Documents\\\\Ineuron Data Science\\\\Fast Track\\\\Python\\\\Log Folder'"
      ]
     },
     "execution_count": 7,
     "metadata": {},
     "output_type": "execute_result"
    }
   ],
   "source": [
    "pwd()"
   ]
  },
  {
   "cell_type": "code",
   "execution_count": 8,
   "id": "4f336732",
   "metadata": {},
   "outputs": [],
   "source": [
    "## All log will be Log Folder(current working directory)"
   ]
  },
  {
   "cell_type": "code",
   "execution_count": 9,
   "id": "837b8668",
   "metadata": {},
   "outputs": [],
   "source": [
    "## lg.basicConfig(filename = 'test.log', level = lg.INFO)\n",
    "lg.basicConfig(filename='test.log' , level = lg.INFO , format  = '%(asctime)s %(message)s')"
   ]
  },
  {
   "cell_type": "code",
   "execution_count": 10,
   "id": "b838ba25",
   "metadata": {},
   "outputs": [],
   "source": [
    "lg.info(\"I am going to start my program\")"
   ]
  },
  {
   "cell_type": "code",
   "execution_count": 11,
   "id": "99483884",
   "metadata": {},
   "outputs": [],
   "source": [
    "lg.warning(\"This is first warning of my program, So modify it.\")"
   ]
  },
  {
   "cell_type": "code",
   "execution_count": 12,
   "id": "9bb979ce",
   "metadata": {},
   "outputs": [],
   "source": [
    "lg.error(\"This is msg for error\")"
   ]
  },
  {
   "cell_type": "code",
   "execution_count": 13,
   "id": "a47bb61f",
   "metadata": {},
   "outputs": [],
   "source": [
    "## lg.basicConfig(filename='test.log' , level = lg.ERROR , format  = '%(asctime)s %(message)s')"
   ]
  },
  {
   "cell_type": "code",
   "execution_count": 14,
   "id": "ac0f178f",
   "metadata": {},
   "outputs": [],
   "source": [
    "lg.info(\"Time of program\")\n",
    "lg.warning(\"Warning time, So modify it.\")\n",
    "lg.error(\"ErrorTime, This is msg for error\")"
   ]
  },
  {
   "cell_type": "code",
   "execution_count": 15,
   "id": "bce6390f",
   "metadata": {},
   "outputs": [],
   "source": [
    "def test(a, b):\n",
    "    div = a / b\n",
    "    return div"
   ]
  },
  {
   "cell_type": "code",
   "execution_count": 16,
   "id": "ac5a692e",
   "metadata": {},
   "outputs": [
    {
     "data": {
      "text/plain": [
       "2.0"
      ]
     },
     "execution_count": 16,
     "metadata": {},
     "output_type": "execute_result"
    }
   ],
   "source": [
    "test(4, 2)"
   ]
  },
  {
   "cell_type": "code",
   "execution_count": 17,
   "id": "d005ad92",
   "metadata": {},
   "outputs": [
    {
     "ename": "ZeroDivisionError",
     "evalue": "division by zero",
     "output_type": "error",
     "traceback": [
      "\u001b[1;31m---------------------------------------------------------------------------\u001b[0m",
      "\u001b[1;31mZeroDivisionError\u001b[0m                         Traceback (most recent call last)",
      "\u001b[1;32mC:\\Users\\CHANDA~1\\AppData\\Local\\Temp/ipykernel_12024/396328802.py\u001b[0m in \u001b[0;36m<module>\u001b[1;34m\u001b[0m\n\u001b[1;32m----> 1\u001b[1;33m \u001b[0mtest\u001b[0m\u001b[1;33m(\u001b[0m\u001b[1;36m4\u001b[0m\u001b[1;33m,\u001b[0m \u001b[1;36m0\u001b[0m\u001b[1;33m)\u001b[0m\u001b[1;33m\u001b[0m\u001b[1;33m\u001b[0m\u001b[0m\n\u001b[0m",
      "\u001b[1;32mC:\\Users\\CHANDA~1\\AppData\\Local\\Temp/ipykernel_12024/2874747423.py\u001b[0m in \u001b[0;36mtest\u001b[1;34m(a, b)\u001b[0m\n\u001b[0;32m      1\u001b[0m \u001b[1;32mdef\u001b[0m \u001b[0mtest\u001b[0m\u001b[1;33m(\u001b[0m\u001b[0ma\u001b[0m\u001b[1;33m,\u001b[0m \u001b[0mb\u001b[0m\u001b[1;33m)\u001b[0m\u001b[1;33m:\u001b[0m\u001b[1;33m\u001b[0m\u001b[1;33m\u001b[0m\u001b[0m\n\u001b[1;32m----> 2\u001b[1;33m     \u001b[0mdiv\u001b[0m \u001b[1;33m=\u001b[0m \u001b[0ma\u001b[0m \u001b[1;33m/\u001b[0m \u001b[0mb\u001b[0m\u001b[1;33m\u001b[0m\u001b[1;33m\u001b[0m\u001b[0m\n\u001b[0m\u001b[0;32m      3\u001b[0m     \u001b[1;32mreturn\u001b[0m \u001b[0mdiv\u001b[0m\u001b[1;33m\u001b[0m\u001b[1;33m\u001b[0m\u001b[0m\n",
      "\u001b[1;31mZeroDivisionError\u001b[0m: division by zero"
     ]
    }
   ],
   "source": [
    "test(4, 0)"
   ]
  },
  {
   "cell_type": "code",
   "execution_count": 18,
   "id": "48118a22",
   "metadata": {},
   "outputs": [],
   "source": [
    "def test_div(a, b):\n",
    "    \n",
    "    try:\n",
    "        div = a / b\n",
    "        return div\n",
    "    except Exception as e:\n",
    "        print(\"You can check log for more information, If your code will fail\")\n",
    "        lg.error(\"error has occured \")\n",
    "        lg.exception(str(e))"
   ]
  },
  {
   "cell_type": "code",
   "execution_count": 19,
   "id": "79ffaffa",
   "metadata": {},
   "outputs": [
    {
     "name": "stdout",
     "output_type": "stream",
     "text": [
      "You can check log for more information, If your code will fail\n"
     ]
    }
   ],
   "source": [
    "test_div(4, 0)"
   ]
  },
  {
   "cell_type": "code",
   "execution_count": 20,
   "id": "d45c6645",
   "metadata": {},
   "outputs": [],
   "source": [
    "def test_div2(a, b):\n",
    "    \n",
    "    try:\n",
    "        lg.info(str(a) + '/' + str(b))\n",
    "        div = a / b\n",
    "        return div\n",
    "    except Exception as e:\n",
    "        print(\"You can check log for more information, If your code will fail\")\n",
    "        lg.error(\"error has occured \")\n",
    "        lg.exception(str(e))"
   ]
  },
  {
   "cell_type": "code",
   "execution_count": 21,
   "id": "88b1c574",
   "metadata": {},
   "outputs": [
    {
     "data": {
      "text/plain": [
       "2.0"
      ]
     },
     "execution_count": 21,
     "metadata": {},
     "output_type": "execute_result"
    }
   ],
   "source": [
    "test_div2(4,2)"
   ]
  },
  {
   "cell_type": "code",
   "execution_count": 22,
   "id": "5fdd5270",
   "metadata": {},
   "outputs": [
    {
     "name": "stdout",
     "output_type": "stream",
     "text": [
      "You can check log for more information, If your code will fail\n"
     ]
    }
   ],
   "source": [
    "test_div2(4,0)"
   ]
  },
  {
   "cell_type": "markdown",
   "id": "ae28f6ac",
   "metadata": {},
   "source": [
    "--------------------"
   ]
  },
  {
   "cell_type": "code",
   "execution_count": 23,
   "id": "0074582a",
   "metadata": {},
   "outputs": [],
   "source": [
    "## lg.basicConfig(filename = 'test1.log')"
   ]
  },
  {
   "cell_type": "code",
   "execution_count": 24,
   "id": "7db64c16",
   "metadata": {},
   "outputs": [],
   "source": [
    "def test(a, b):\n",
    "    lg.info('Start of the addition function')\n",
    "    return a+b"
   ]
  },
  {
   "cell_type": "code",
   "execution_count": 25,
   "id": "41a9da6b",
   "metadata": {},
   "outputs": [
    {
     "data": {
      "text/plain": [
       "3"
      ]
     },
     "execution_count": 25,
     "metadata": {},
     "output_type": "execute_result"
    }
   ],
   "source": [
    "test(1,2)"
   ]
  },
  {
   "cell_type": "code",
   "execution_count": 26,
   "id": "4695c9a5",
   "metadata": {},
   "outputs": [],
   "source": [
    "lg.shutdown()"
   ]
  },
  {
   "cell_type": "code",
   "execution_count": 27,
   "id": "7afb7285",
   "metadata": {},
   "outputs": [
    {
     "data": {
      "text/plain": [
       "'C:\\\\Users\\\\Chandan Kumar\\\\Documents\\\\Ineuron Data Science\\\\Fast Track\\\\Python\\\\Log Folder'"
      ]
     },
     "execution_count": 27,
     "metadata": {},
     "output_type": "execute_result"
    }
   ],
   "source": [
    "pwd()"
   ]
  },
  {
   "cell_type": "code",
   "execution_count": 29,
   "id": "f45804d3",
   "metadata": {},
   "outputs": [],
   "source": [
    "lg.basicConfig(filename='test.log' , level = lg.INFO , format  = '%(asctime)s %(message)s')"
   ]
  },
  {
   "cell_type": "code",
   "execution_count": 30,
   "id": "354835e5",
   "metadata": {},
   "outputs": [],
   "source": [
    "lg.debug(\"Debugging\")\n",
    "lg.warning(\"Warning\")\n",
    "lg.exception(\"Ths is exception log\")"
   ]
  },
  {
   "cell_type": "code",
   "execution_count": 31,
   "id": "273e680e",
   "metadata": {},
   "outputs": [],
   "source": [
    "lg.critical(\"Critical error\")"
   ]
  },
  {
   "cell_type": "code",
   "execution_count": 32,
   "id": "5c164297",
   "metadata": {},
   "outputs": [],
   "source": [
    "lg.info(\"---------------------------------------------------------------------------\")"
   ]
  },
  {
   "cell_type": "code",
   "execution_count": 33,
   "id": "64f63775",
   "metadata": {},
   "outputs": [],
   "source": [
    "lg.shutdown()"
   ]
  },
  {
   "cell_type": "markdown",
   "id": "9cc0c156",
   "metadata": {},
   "source": [
    "### Exercise 1\n",
    "1. Create a logger\n",
    "2. Create one function which can take any number of arguments and it will return the sum\n",
    "3. capture the user input in the log\n",
    "4. give user instruction in the log file\n",
    "5. read log file from python code and show all the loggin console."
   ]
  },
  {
   "cell_type": "code",
   "execution_count": 34,
   "id": "e4fd1ffb",
   "metadata": {},
   "outputs": [],
   "source": [
    "## Step 1\n",
    "lg.basicConfig(filename='test.log' , level = lg.INFO , format  = '%(asctime)s %(message)s')"
   ]
  },
  {
   "cell_type": "code",
   "execution_count": 35,
   "id": "dbfe2547",
   "metadata": {},
   "outputs": [],
   "source": [
    "lg.info(\"Exercise 1\")"
   ]
  },
  {
   "cell_type": "code",
   "execution_count": 37,
   "id": "5a9e0ffa",
   "metadata": {},
   "outputs": [],
   "source": [
    "def add(*args): ## step 2\n",
    "    '''\n",
    "    Function for Addition\n",
    "    Return the adddition of variable argument\n",
    "    '''\n",
    "    lg.info(\"Capturing the Inputs\") ## Step 4\n",
    "    total_sum = 0\n",
    "    log_string = ''\n",
    "    for i in args:\n",
    "        total_sum += i\n",
    "        log_string = log_string + str(i) + ', '\n",
    "        \n",
    "    lg.info(\"Inputs: \") ## Step 4\n",
    "    lg.info(log_string) ## step 3\n",
    "\n",
    "    return total_sum"
   ]
  },
  {
   "cell_type": "code",
   "execution_count": 39,
   "id": "e9864030",
   "metadata": {},
   "outputs": [
    {
     "data": {
      "text/plain": [
       "15"
      ]
     },
     "execution_count": 39,
     "metadata": {},
     "output_type": "execute_result"
    }
   ],
   "source": [
    "add(1, 2, 3, 4, 5, 6, -3, -2, -1)"
   ]
  },
  {
   "cell_type": "code",
   "execution_count": 40,
   "id": "1449b6ba",
   "metadata": {},
   "outputs": [],
   "source": [
    "f = open('test.log', 'r')"
   ]
  },
  {
   "cell_type": "code",
   "execution_count": 46,
   "id": "6d154389",
   "metadata": {},
   "outputs": [
    {
     "name": "stdout",
     "output_type": "stream",
     "text": [
      "2021-12-14 11:38:15,624 I am going to start my program\n",
      "2021-12-14 11:38:17,529 This is first warning of my program, So modify it.\n",
      "2021-12-14 11:38:17,795 This is msg for error\n",
      "2021-12-14 11:38:56,728 Time of program\n",
      "2021-12-14 11:38:56,728 Warning time, So modify it.\n",
      "2021-12-14 11:38:56,729 ErrorTime, This is msg for error\n",
      "2021-12-14 11:40:48,069 error has occured \n",
      "2021-12-14 11:40:48,069 division by zero\n",
      "Traceback (most recent call last):\n",
      "  File \"C:\\Users\\CHANDA~1\\AppData\\Local\\Temp/ipykernel_12024/1461633245.py\", line 4, in test_div\n",
      "    div = a / b\n",
      "ZeroDivisionError: division by zero\n",
      "2021-12-14 11:43:24,152 4/2\n",
      "2021-12-14 11:43:31,182 4/0\n",
      "2021-12-14 11:43:31,182 error has occured \n",
      "2021-12-14 11:43:31,182 division by zero\n",
      "Traceback (most recent call last):\n",
      "  File \"C:\\Users\\CHANDA~1\\AppData\\Local\\Temp/ipykernel_12024/4206414248.py\", line 5, in test_div2\n",
      "    div = a / b\n",
      "ZeroDivisionError: division by zero\n",
      "2021-12-14 11:51:48,751 Start of the addition function\n",
      "2021-12-14 11:58:01,189 Warning\n",
      "2021-12-14 11:58:01,189 Ths is exception log\n",
      "NoneType: None\n",
      "2021-12-14 11:58:41,787 Critical error\n",
      "2021-12-14 12:00:08,678 ---------------------------------------------------------------------------\n",
      "2021-12-14 12:03:56,874 Exercise 1\n",
      "2021-12-14 12:13:18,643 Capturing the Inputs\n",
      "2021-12-14 12:13:18,643 Inputs: \n",
      "2021-12-14 12:13:18,643 1, 2, 3, 4, 5, 6, -3, -2, -1, \n",
      "\n"
     ]
    }
   ],
   "source": [
    "f.seek(0)\n",
    "print(f.read())"
   ]
  },
  {
   "cell_type": "markdown",
   "id": "5e79e2b5",
   "metadata": {},
   "source": [
    "-----------------------\n",
    "### Logger Advance"
   ]
  },
  {
   "cell_type": "code",
   "execution_count": 18,
   "id": "1e80471d",
   "metadata": {},
   "outputs": [],
   "source": [
    "import logging"
   ]
  },
  {
   "cell_type": "code",
   "execution_count": 19,
   "id": "a69eb5c4",
   "metadata": {},
   "outputs": [],
   "source": [
    "logging.basicConfig(filename = 'test3.log', level = logging.DEBUG, format = '%(asctime)s %(levelname) %(message)s')"
   ]
  },
  {
   "cell_type": "code",
   "execution_count": 20,
   "id": "d92519f5",
   "metadata": {},
   "outputs": [],
   "source": [
    "console_log = logging.StreamHandler() ## To print loggin information in console\n",
    "console_log.setLevel(logging.INFO)    ## Type of information"
   ]
  },
  {
   "cell_type": "code",
   "execution_count": 21,
   "id": "04c9277b",
   "metadata": {},
   "outputs": [],
   "source": [
    "format = '%(asctime)s %(levelname) %(message)s' ## Setting the format"
   ]
  },
  {
   "cell_type": "code",
   "execution_count": 22,
   "id": "0aa6d4cd",
   "metadata": {},
   "outputs": [],
   "source": [
    "console_log.setFormatter(format) ## ## Setting the output format"
   ]
  },
  {
   "cell_type": "code",
   "execution_count": 23,
   "id": "2df5b710",
   "metadata": {},
   "outputs": [],
   "source": [
    "logging.getLogger('').addHandler(console_log)"
   ]
  },
  {
   "cell_type": "code",
   "execution_count": 24,
   "id": "a686bf3b",
   "metadata": {},
   "outputs": [
    {
     "name": "stderr",
     "output_type": "stream",
     "text": [
      "--- Logging error ---\n",
      "Traceback (most recent call last):\n",
      "  File \"C:\\Users\\Chandan Kumar\\anaconda3\\lib\\logging\\__init__.py\", line 1083, in emit\n",
      "    msg = self.format(record)\n",
      "  File \"C:\\Users\\Chandan Kumar\\anaconda3\\lib\\logging\\__init__.py\", line 927, in format\n",
      "    return fmt.format(record)\n",
      "  File \"C:\\Users\\Chandan Kumar\\anaconda3\\lib\\logging\\__init__.py\", line 666, in format\n",
      "    s = self.formatMessage(record)\n",
      "  File \"C:\\Users\\Chandan Kumar\\anaconda3\\lib\\logging\\__init__.py\", line 635, in formatMessage\n",
      "    return self._style.format(record)\n",
      "  File \"C:\\Users\\Chandan Kumar\\anaconda3\\lib\\logging\\__init__.py\", line 434, in format\n",
      "    return self._format(record)\n",
      "  File \"C:\\Users\\Chandan Kumar\\anaconda3\\lib\\logging\\__init__.py\", line 430, in _format\n",
      "    return self._fmt % record.__dict__\n",
      "ValueError: unsupported format character '%' (0x25) at index 25\n",
      "Call stack:\n",
      "  File \"C:\\Users\\Chandan Kumar\\anaconda3\\lib\\runpy.py\", line 197, in _run_module_as_main\n",
      "    return _run_code(code, main_globals, None,\n",
      "  File \"C:\\Users\\Chandan Kumar\\anaconda3\\lib\\runpy.py\", line 87, in _run_code\n",
      "    exec(code, run_globals)\n",
      "  File \"C:\\Users\\Chandan Kumar\\anaconda3\\lib\\site-packages\\ipykernel_launcher.py\", line 16, in <module>\n",
      "    app.launch_new_instance()\n",
      "  File \"C:\\Users\\Chandan Kumar\\anaconda3\\lib\\site-packages\\traitlets\\config\\application.py\", line 846, in launch_instance\n",
      "    app.start()\n",
      "  File \"C:\\Users\\Chandan Kumar\\anaconda3\\lib\\site-packages\\ipykernel\\kernelapp.py\", line 677, in start\n",
      "    self.io_loop.start()\n",
      "  File \"C:\\Users\\Chandan Kumar\\anaconda3\\lib\\site-packages\\tornado\\platform\\asyncio.py\", line 199, in start\n",
      "    self.asyncio_loop.run_forever()\n",
      "  File \"C:\\Users\\Chandan Kumar\\anaconda3\\lib\\asyncio\\base_events.py\", line 596, in run_forever\n",
      "    self._run_once()\n",
      "  File \"C:\\Users\\Chandan Kumar\\anaconda3\\lib\\asyncio\\base_events.py\", line 1890, in _run_once\n",
      "    handle._run()\n",
      "  File \"C:\\Users\\Chandan Kumar\\anaconda3\\lib\\asyncio\\events.py\", line 80, in _run\n",
      "    self._context.run(self._callback, *self._args)\n",
      "  File \"C:\\Users\\Chandan Kumar\\anaconda3\\lib\\site-packages\\ipykernel\\kernelbase.py\", line 457, in dispatch_queue\n",
      "    await self.process_one()\n",
      "  File \"C:\\Users\\Chandan Kumar\\anaconda3\\lib\\site-packages\\ipykernel\\kernelbase.py\", line 446, in process_one\n",
      "    await dispatch(*args)\n",
      "  File \"C:\\Users\\Chandan Kumar\\anaconda3\\lib\\site-packages\\ipykernel\\kernelbase.py\", line 353, in dispatch_shell\n",
      "    await result\n",
      "  File \"C:\\Users\\Chandan Kumar\\anaconda3\\lib\\site-packages\\ipykernel\\kernelbase.py\", line 648, in execute_request\n",
      "    reply_content = await reply_content\n",
      "  File \"C:\\Users\\Chandan Kumar\\anaconda3\\lib\\site-packages\\ipykernel\\ipkernel.py\", line 353, in do_execute\n",
      "    res = shell.run_cell(code, store_history=store_history, silent=silent)\n",
      "  File \"C:\\Users\\Chandan Kumar\\anaconda3\\lib\\site-packages\\ipykernel\\zmqshell.py\", line 533, in run_cell\n",
      "    return super(ZMQInteractiveShell, self).run_cell(*args, **kwargs)\n",
      "  File \"C:\\Users\\Chandan Kumar\\anaconda3\\lib\\site-packages\\IPython\\core\\interactiveshell.py\", line 2901, in run_cell\n",
      "    result = self._run_cell(\n",
      "  File \"C:\\Users\\Chandan Kumar\\anaconda3\\lib\\site-packages\\IPython\\core\\interactiveshell.py\", line 2947, in _run_cell\n",
      "    return runner(coro)\n",
      "  File \"C:\\Users\\Chandan Kumar\\anaconda3\\lib\\site-packages\\IPython\\core\\async_helpers.py\", line 68, in _pseudo_sync_runner\n",
      "    coro.send(None)\n",
      "  File \"C:\\Users\\Chandan Kumar\\anaconda3\\lib\\site-packages\\IPython\\core\\interactiveshell.py\", line 3172, in run_cell_async\n",
      "    has_raised = await self.run_ast_nodes(code_ast.body, cell_name,\n",
      "  File \"C:\\Users\\Chandan Kumar\\anaconda3\\lib\\site-packages\\IPython\\core\\interactiveshell.py\", line 3364, in run_ast_nodes\n",
      "    if (await self.run_code(code, result,  async_=asy)):\n",
      "  File \"C:\\Users\\Chandan Kumar\\anaconda3\\lib\\site-packages\\IPython\\core\\interactiveshell.py\", line 3444, in run_code\n",
      "    exec(code_obj, self.user_global_ns, self.user_ns)\n",
      "  File \"C:\\Users\\CHANDA~1\\AppData\\Local\\Temp/ipykernel_11704/3367838152.py\", line 1, in <module>\n",
      "    logging.info(\"This is first test code in log\")\n",
      "Message: 'This is first test code in log'\n",
      "Arguments: ()\n",
      "%(asctime)s %(levelname) %(message)s\n",
      "%(asctime)s %(levelname) %(message)s\n",
      "%(asctime)s %(levelname) %(message)s\n"
     ]
    }
   ],
   "source": [
    "logging.info(\"This is first test code in log\")"
   ]
  },
  {
   "cell_type": "code",
   "execution_count": null,
   "id": "72e78cd4",
   "metadata": {},
   "outputs": [],
   "source": []
  },
  {
   "cell_type": "code",
   "execution_count": null,
   "id": "d8f97dd8",
   "metadata": {},
   "outputs": [],
   "source": []
  }
 ],
 "metadata": {
  "kernelspec": {
   "display_name": "Python 3 (ipykernel)",
   "language": "python",
   "name": "python3"
  },
  "language_info": {
   "codemirror_mode": {
    "name": "ipython",
    "version": 3
   },
   "file_extension": ".py",
   "mimetype": "text/x-python",
   "name": "python",
   "nbconvert_exporter": "python",
   "pygments_lexer": "ipython3",
   "version": "3.9.7"
  }
 },
 "nbformat": 4,
 "nbformat_minor": 5
}
