{
 "cells": [
  {
   "cell_type": "markdown",
   "id": "299e8a9b",
   "metadata": {},
   "source": [
    "## Tuple, Sets and Dictionary"
   ]
  },
  {
   "cell_type": "markdown",
   "id": "96448eec",
   "metadata": {},
   "source": [
    "### Tuple\n",
    "- Immutable object"
   ]
  },
  {
   "cell_type": "code",
   "execution_count": 1,
   "id": "f89db4cb",
   "metadata": {},
   "outputs": [],
   "source": [
    "t = ()"
   ]
  },
  {
   "cell_type": "code",
   "execution_count": 2,
   "id": "0a66f159",
   "metadata": {},
   "outputs": [
    {
     "data": {
      "text/plain": [
       "tuple"
      ]
     },
     "execution_count": 2,
     "metadata": {},
     "output_type": "execute_result"
    }
   ],
   "source": [
    "type(t)"
   ]
  },
  {
   "cell_type": "code",
   "execution_count": 3,
   "id": "eb186ccf",
   "metadata": {},
   "outputs": [
    {
     "data": {
      "text/plain": [
       "(134, 34, 'data', 3.45, True)"
      ]
     },
     "execution_count": 3,
     "metadata": {},
     "output_type": "execute_result"
    }
   ],
   "source": [
    "t1 = (134, 34, \"data\", 3.45, True)\n",
    "t1"
   ]
  },
  {
   "cell_type": "code",
   "execution_count": 5,
   "id": "60981310",
   "metadata": {},
   "outputs": [
    {
     "data": {
      "text/plain": [
       "[134, 34, 'data', 3.45, True]"
      ]
     },
     "execution_count": 5,
     "metadata": {},
     "output_type": "execute_result"
    }
   ],
   "source": [
    "l1 = [134, 34, \"data\", 3.45, True]\n",
    "l1"
   ]
  },
  {
   "cell_type": "code",
   "execution_count": 6,
   "id": "c5a16de8",
   "metadata": {},
   "outputs": [
    {
     "data": {
      "text/plain": [
       "34"
      ]
     },
     "execution_count": 6,
     "metadata": {},
     "output_type": "execute_result"
    }
   ],
   "source": [
    "t1[1]"
   ]
  },
  {
   "cell_type": "code",
   "execution_count": 7,
   "id": "80c1a5d0",
   "metadata": {},
   "outputs": [
    {
     "data": {
      "text/plain": [
       "'data'"
      ]
     },
     "execution_count": 7,
     "metadata": {},
     "output_type": "execute_result"
    }
   ],
   "source": [
    "t1[2]"
   ]
  },
  {
   "cell_type": "code",
   "execution_count": 8,
   "id": "a84dee96",
   "metadata": {},
   "outputs": [
    {
     "ename": "IndexError",
     "evalue": "tuple index out of range",
     "output_type": "error",
     "traceback": [
      "\u001b[1;31m---------------------------------------------------------------------------\u001b[0m",
      "\u001b[1;31mIndexError\u001b[0m                                Traceback (most recent call last)",
      "\u001b[1;32mC:\\Users\\CHANDA~1\\AppData\\Local\\Temp/ipykernel_9648/2699939442.py\u001b[0m in \u001b[0;36m<module>\u001b[1;34m\u001b[0m\n\u001b[1;32m----> 1\u001b[1;33m \u001b[0mt1\u001b[0m\u001b[1;33m[\u001b[0m\u001b[1;36m5\u001b[0m\u001b[1;33m]\u001b[0m\u001b[1;33m\u001b[0m\u001b[1;33m\u001b[0m\u001b[0m\n\u001b[0m",
      "\u001b[1;31mIndexError\u001b[0m: tuple index out of range"
     ]
    }
   ],
   "source": [
    "t1[5]"
   ]
  },
  {
   "cell_type": "code",
   "execution_count": 9,
   "id": "4ff1a5c4",
   "metadata": {},
   "outputs": [
    {
     "data": {
      "text/plain": [
       "(134, 34, 'data', 3.45)"
      ]
     },
     "execution_count": 9,
     "metadata": {},
     "output_type": "execute_result"
    }
   ],
   "source": [
    "t1[0:4]"
   ]
  },
  {
   "cell_type": "code",
   "execution_count": 10,
   "id": "62b88fa9",
   "metadata": {},
   "outputs": [
    {
     "data": {
      "text/plain": [
       "(134, 34, 'data', 3.45, True)"
      ]
     },
     "execution_count": 10,
     "metadata": {},
     "output_type": "execute_result"
    }
   ],
   "source": [
    "t1[0:5]"
   ]
  },
  {
   "cell_type": "code",
   "execution_count": 11,
   "id": "a7551285",
   "metadata": {},
   "outputs": [
    {
     "data": {
      "text/plain": [
       "(True, 3.45, 'data', 34, 134)"
      ]
     },
     "execution_count": 11,
     "metadata": {},
     "output_type": "execute_result"
    }
   ],
   "source": [
    "t1[::-1]"
   ]
  },
  {
   "cell_type": "code",
   "execution_count": 12,
   "id": "99ddb946",
   "metadata": {},
   "outputs": [
    {
     "data": {
      "text/plain": [
       "[134, 34, 'data', 3.45, True]"
      ]
     },
     "execution_count": 12,
     "metadata": {},
     "output_type": "execute_result"
    }
   ],
   "source": [
    "l1"
   ]
  },
  {
   "cell_type": "code",
   "execution_count": 14,
   "id": "484092d0",
   "metadata": {},
   "outputs": [
    {
     "data": {
      "text/plain": [
       "['kumar', 34, 'data', 3.45, True]"
      ]
     },
     "execution_count": 14,
     "metadata": {},
     "output_type": "execute_result"
    }
   ],
   "source": [
    "## List is mutable\n",
    "l1[0] = 'kumar'\n",
    "l1"
   ]
  },
  {
   "cell_type": "code",
   "execution_count": 15,
   "id": "556729ed",
   "metadata": {},
   "outputs": [
    {
     "data": {
      "text/plain": [
       "(134, 34, 'data', 3.45, True)"
      ]
     },
     "execution_count": 15,
     "metadata": {},
     "output_type": "execute_result"
    }
   ],
   "source": [
    "t1"
   ]
  },
  {
   "cell_type": "code",
   "execution_count": 16,
   "id": "0b95adeb",
   "metadata": {},
   "outputs": [
    {
     "ename": "TypeError",
     "evalue": "'tuple' object does not support item assignment",
     "output_type": "error",
     "traceback": [
      "\u001b[1;31m---------------------------------------------------------------------------\u001b[0m",
      "\u001b[1;31mTypeError\u001b[0m                                 Traceback (most recent call last)",
      "\u001b[1;32mC:\\Users\\CHANDA~1\\AppData\\Local\\Temp/ipykernel_9648/3903255441.py\u001b[0m in \u001b[0;36m<module>\u001b[1;34m\u001b[0m\n\u001b[1;32m----> 1\u001b[1;33m \u001b[0mt1\u001b[0m\u001b[1;33m[\u001b[0m\u001b[1;36m0\u001b[0m\u001b[1;33m]\u001b[0m \u001b[1;33m=\u001b[0m \u001b[1;34m'kumar'\u001b[0m\u001b[1;33m\u001b[0m\u001b[1;33m\u001b[0m\u001b[0m\n\u001b[0m",
      "\u001b[1;31mTypeError\u001b[0m: 'tuple' object does not support item assignment"
     ]
    }
   ],
   "source": [
    "## Tuple is immutable object.\n",
    "t1[0] = 'kumar'"
   ]
  },
  {
   "cell_type": "code",
   "execution_count": 17,
   "id": "7ad970b7",
   "metadata": {},
   "outputs": [
    {
     "data": {
      "text/plain": [
       "(134, 34, 'data', 3.45, True)"
      ]
     },
     "execution_count": 17,
     "metadata": {},
     "output_type": "execute_result"
    }
   ],
   "source": [
    "t1"
   ]
  },
  {
   "cell_type": "code",
   "execution_count": 18,
   "id": "f6e1707a",
   "metadata": {},
   "outputs": [
    {
     "data": {
      "text/plain": [
       "(1.69, 'kumar', 'True')"
      ]
     },
     "execution_count": 18,
     "metadata": {},
     "output_type": "execute_result"
    }
   ],
   "source": [
    "t2 = (1.69, \"kumar\", 'True')\n",
    "t2"
   ]
  },
  {
   "cell_type": "code",
   "execution_count": 19,
   "id": "fed7dfeb",
   "metadata": {},
   "outputs": [
    {
     "data": {
      "text/plain": [
       "(134, 34, 'data', 3.45, True, 1.69, 'kumar', 'True')"
      ]
     },
     "execution_count": 19,
     "metadata": {},
     "output_type": "execute_result"
    }
   ],
   "source": [
    "t1 + t2"
   ]
  },
  {
   "cell_type": "code",
   "execution_count": 23,
   "id": "4425df2b",
   "metadata": {},
   "outputs": [],
   "source": [
    "ta = (1,2)\n",
    "tb = (3, 4)"
   ]
  },
  {
   "cell_type": "code",
   "execution_count": 24,
   "id": "4c42df98",
   "metadata": {},
   "outputs": [
    {
     "data": {
      "text/plain": [
       "(1, 2, 3, 4)"
      ]
     },
     "execution_count": 24,
     "metadata": {},
     "output_type": "execute_result"
    }
   ],
   "source": [
    "ta = ta + tb\n",
    "ta"
   ]
  },
  {
   "cell_type": "code",
   "execution_count": 26,
   "id": "fb386856",
   "metadata": {},
   "outputs": [
    {
     "data": {
      "text/plain": [
       "(134, 34, 'data', 3.45, True, 134, 34, 'data', 3.45, True)"
      ]
     },
     "execution_count": 26,
     "metadata": {},
     "output_type": "execute_result"
    }
   ],
   "source": [
    "t1 * 2"
   ]
  },
  {
   "cell_type": "code",
   "execution_count": 27,
   "id": "f4eeae78",
   "metadata": {},
   "outputs": [
    {
     "ename": "TypeError",
     "evalue": "'>' not supported between instances of 'str' and 'int'",
     "output_type": "error",
     "traceback": [
      "\u001b[1;31m---------------------------------------------------------------------------\u001b[0m",
      "\u001b[1;31mTypeError\u001b[0m                                 Traceback (most recent call last)",
      "\u001b[1;32mC:\\Users\\CHANDA~1\\AppData\\Local\\Temp/ipykernel_9648/3099455752.py\u001b[0m in \u001b[0;36m<module>\u001b[1;34m\u001b[0m\n\u001b[1;32m----> 1\u001b[1;33m \u001b[0mmax\u001b[0m\u001b[1;33m(\u001b[0m\u001b[0mt1\u001b[0m\u001b[1;33m)\u001b[0m\u001b[1;33m\u001b[0m\u001b[1;33m\u001b[0m\u001b[0m\n\u001b[0m",
      "\u001b[1;31mTypeError\u001b[0m: '>' not supported between instances of 'str' and 'int'"
     ]
    }
   ],
   "source": [
    "max(t1)"
   ]
  },
  {
   "cell_type": "code",
   "execution_count": 28,
   "id": "e1a40d83",
   "metadata": {},
   "outputs": [
    {
     "data": {
      "text/plain": [
       "3"
      ]
     },
     "execution_count": 28,
     "metadata": {},
     "output_type": "execute_result"
    }
   ],
   "source": [
    "max((1,2,3))"
   ]
  },
  {
   "cell_type": "code",
   "execution_count": 30,
   "id": "156476cd",
   "metadata": {},
   "outputs": [
    {
     "data": {
      "text/plain": [
       "(1, 1, 1, 3, 4)"
      ]
     },
     "execution_count": 30,
     "metadata": {},
     "output_type": "execute_result"
    }
   ],
   "source": [
    "t6 = (1,1,1, 3, 4)\n",
    "t6"
   ]
  },
  {
   "cell_type": "code",
   "execution_count": 31,
   "id": "e642cdad",
   "metadata": {},
   "outputs": [
    {
     "data": {
      "text/plain": [
       "(134, 34, 'data', 3.45, True)"
      ]
     },
     "execution_count": 31,
     "metadata": {},
     "output_type": "execute_result"
    }
   ],
   "source": [
    "t1"
   ]
  },
  {
   "cell_type": "code",
   "execution_count": 32,
   "id": "1b088c9a",
   "metadata": {},
   "outputs": [
    {
     "data": {
      "text/plain": [
       "0"
      ]
     },
     "execution_count": 32,
     "metadata": {},
     "output_type": "execute_result"
    }
   ],
   "source": [
    "t1.index(134)"
   ]
  },
  {
   "cell_type": "code",
   "execution_count": 33,
   "id": "f6280a28",
   "metadata": {},
   "outputs": [
    {
     "data": {
      "text/plain": [
       "2"
      ]
     },
     "execution_count": 33,
     "metadata": {},
     "output_type": "execute_result"
    }
   ],
   "source": [
    "t1.index('data')"
   ]
  },
  {
   "cell_type": "code",
   "execution_count": 34,
   "id": "e669e1a2",
   "metadata": {},
   "outputs": [
    {
     "ename": "ValueError",
     "evalue": "tuple.index(x): x not in tuple",
     "output_type": "error",
     "traceback": [
      "\u001b[1;31m---------------------------------------------------------------------------\u001b[0m",
      "\u001b[1;31mValueError\u001b[0m                                Traceback (most recent call last)",
      "\u001b[1;32mC:\\Users\\CHANDA~1\\AppData\\Local\\Temp/ipykernel_9648/2951116743.py\u001b[0m in \u001b[0;36m<module>\u001b[1;34m\u001b[0m\n\u001b[1;32m----> 1\u001b[1;33m \u001b[0mt1\u001b[0m\u001b[1;33m.\u001b[0m\u001b[0mindex\u001b[0m\u001b[1;33m(\u001b[0m\u001b[1;34m'Data'\u001b[0m\u001b[1;33m)\u001b[0m\u001b[1;33m\u001b[0m\u001b[1;33m\u001b[0m\u001b[0m\n\u001b[0m",
      "\u001b[1;31mValueError\u001b[0m: tuple.index(x): x not in tuple"
     ]
    }
   ],
   "source": [
    "t1.index('Data')"
   ]
  },
  {
   "cell_type": "code",
   "execution_count": 35,
   "id": "a1f7197a",
   "metadata": {},
   "outputs": [
    {
     "ename": "ValueError",
     "evalue": "tuple.index(x): x not in tuple",
     "output_type": "error",
     "traceback": [
      "\u001b[1;31m---------------------------------------------------------------------------\u001b[0m",
      "\u001b[1;31mValueError\u001b[0m                                Traceback (most recent call last)",
      "\u001b[1;32mC:\\Users\\CHANDA~1\\AppData\\Local\\Temp/ipykernel_9648/3983739386.py\u001b[0m in \u001b[0;36m<module>\u001b[1;34m\u001b[0m\n\u001b[1;32m----> 1\u001b[1;33m \u001b[0mt1\u001b[0m\u001b[1;33m.\u001b[0m\u001b[0mindex\u001b[0m\u001b[1;33m(\u001b[0m\u001b[1;33m-\u001b[0m\u001b[1;36m23\u001b[0m\u001b[1;33m)\u001b[0m\u001b[1;33m\u001b[0m\u001b[1;33m\u001b[0m\u001b[0m\n\u001b[0m",
      "\u001b[1;31mValueError\u001b[0m: tuple.index(x): x not in tuple"
     ]
    }
   ],
   "source": [
    "t1.index(-23)"
   ]
  },
  {
   "cell_type": "code",
   "execution_count": 36,
   "id": "7739ddc3",
   "metadata": {},
   "outputs": [
    {
     "data": {
      "text/plain": [
       "(1, 1, 1, 3, 4)"
      ]
     },
     "execution_count": 36,
     "metadata": {},
     "output_type": "execute_result"
    }
   ],
   "source": [
    "t6"
   ]
  },
  {
   "cell_type": "code",
   "execution_count": 37,
   "id": "346b0115",
   "metadata": {},
   "outputs": [
    {
     "data": {
      "text/plain": [
       "3"
      ]
     },
     "execution_count": 37,
     "metadata": {},
     "output_type": "execute_result"
    }
   ],
   "source": [
    "t6.count(1)"
   ]
  },
  {
   "cell_type": "code",
   "execution_count": 38,
   "id": "f0ac7846",
   "metadata": {},
   "outputs": [
    {
     "data": {
      "text/plain": [
       "((1, 2, 4, 6), (True, (3+5j), 'ck'), (369, -1234, 'data'))"
      ]
     },
     "execution_count": 38,
     "metadata": {},
     "output_type": "execute_result"
    }
   ],
   "source": [
    "t = ((1,2,4,6), (True, 3+5j, 'ck'), (369, -1234, 'data'))\n",
    "t"
   ]
  },
  {
   "cell_type": "code",
   "execution_count": 39,
   "id": "9cc99f47",
   "metadata": {},
   "outputs": [
    {
     "data": {
      "text/plain": [
       "((1, 2, 4, 6),\n",
       " (True, (3+5j), 'ck'),\n",
       " 3,\n",
       " 4,\n",
       " 5,\n",
       " (369, -1234, 'data'),\n",
       " [7, -4, 6, -1])"
      ]
     },
     "execution_count": 39,
     "metadata": {},
     "output_type": "execute_result"
    }
   ],
   "source": [
    "t7 = ((1,2,4,6), (True, 3+5j, 'ck'), 3, 4, 5, (369, -1234, 'data'), [7, -4, 6, -1])\n",
    "t7"
   ]
  },
  {
   "cell_type": "code",
   "execution_count": 40,
   "id": "07f422bd",
   "metadata": {},
   "outputs": [
    {
     "data": {
      "text/plain": [
       "'ck'"
      ]
     },
     "execution_count": 40,
     "metadata": {},
     "output_type": "execute_result"
    }
   ],
   "source": [
    "t7[1][2]"
   ]
  },
  {
   "cell_type": "code",
   "execution_count": 43,
   "id": "6629ff08",
   "metadata": {},
   "outputs": [
    {
     "data": {
      "text/plain": [
       "[-4, 6, -1]"
      ]
     },
     "execution_count": 43,
     "metadata": {},
     "output_type": "execute_result"
    }
   ],
   "source": [
    "t7[6][1:]"
   ]
  },
  {
   "cell_type": "code",
   "execution_count": 44,
   "id": "07093b1f",
   "metadata": {},
   "outputs": [
    {
     "data": {
      "text/plain": [
       "('ck', (3+5j), True)"
      ]
     },
     "execution_count": 44,
     "metadata": {},
     "output_type": "execute_result"
    }
   ],
   "source": [
    "t7[1][::-1]"
   ]
  },
  {
   "cell_type": "code",
   "execution_count": 45,
   "id": "f9fd1758",
   "metadata": {},
   "outputs": [
    {
     "name": "stdout",
     "output_type": "stream",
     "text": [
      "(1, 2, 4, 6)\n",
      "(True, (3+5j), 'ck')\n",
      "3\n",
      "4\n",
      "5\n",
      "(369, -1234, 'data')\n",
      "[7, -4, 6, -1]\n"
     ]
    }
   ],
   "source": [
    "for element in t7:\n",
    "    print(element)"
   ]
  },
  {
   "cell_type": "code",
   "execution_count": 46,
   "id": "02af365b",
   "metadata": {},
   "outputs": [
    {
     "name": "stdout",
     "output_type": "stream",
     "text": [
      "2\n",
      "(3+5j)\n",
      "-1234\n"
     ]
    }
   ],
   "source": [
    "## if tuple then give data at first index\n",
    "\n",
    "for tup in t7:\n",
    "    if type(tup) == tuple:\n",
    "        print(tup[1])"
   ]
  },
  {
   "cell_type": "code",
   "execution_count": 47,
   "id": "d01743a5",
   "metadata": {},
   "outputs": [
    {
     "data": {
      "text/plain": [
       "(134, 34, 'data', 3.45, True)"
      ]
     },
     "execution_count": 47,
     "metadata": {},
     "output_type": "execute_result"
    }
   ],
   "source": [
    "t1"
   ]
  },
  {
   "cell_type": "code",
   "execution_count": 48,
   "id": "1af3708b",
   "metadata": {},
   "outputs": [
    {
     "data": {
      "text/plain": [
       "(1.69, 'kumar', 'True')"
      ]
     },
     "execution_count": 48,
     "metadata": {},
     "output_type": "execute_result"
    }
   ],
   "source": [
    "t2"
   ]
  },
  {
   "cell_type": "code",
   "execution_count": 49,
   "id": "6e5b03e5",
   "metadata": {},
   "outputs": [
    {
     "name": "stdout",
     "output_type": "stream",
     "text": [
      "Not same\n"
     ]
    }
   ],
   "source": [
    "if len(t1) == len(t2):\n",
    "    print(\"Same Length!\")\n",
    "else:\n",
    "    print(\"Not same\")"
   ]
  },
  {
   "cell_type": "code",
   "execution_count": 50,
   "id": "a7780747",
   "metadata": {},
   "outputs": [
    {
     "data": {
      "text/plain": [
       "(134, 34, 'data', 3.45, True)"
      ]
     },
     "execution_count": 50,
     "metadata": {},
     "output_type": "execute_result"
    }
   ],
   "source": [
    "t1"
   ]
  },
  {
   "cell_type": "code",
   "execution_count": 51,
   "id": "aa3d5a12",
   "metadata": {},
   "outputs": [
    {
     "data": {
      "text/plain": [
       "(1, 1, 1, 3, 4)"
      ]
     },
     "execution_count": 51,
     "metadata": {},
     "output_type": "execute_result"
    }
   ],
   "source": [
    "t6"
   ]
  },
  {
   "cell_type": "code",
   "execution_count": 52,
   "id": "5f4cba41",
   "metadata": {},
   "outputs": [],
   "source": [
    "del(t6)"
   ]
  },
  {
   "cell_type": "code",
   "execution_count": 53,
   "id": "c509b702",
   "metadata": {},
   "outputs": [
    {
     "ename": "NameError",
     "evalue": "name 't6' is not defined",
     "output_type": "error",
     "traceback": [
      "\u001b[1;31m---------------------------------------------------------------------------\u001b[0m",
      "\u001b[1;31mNameError\u001b[0m                                 Traceback (most recent call last)",
      "\u001b[1;32mC:\\Users\\CHANDA~1\\AppData\\Local\\Temp/ipykernel_9648/2192863500.py\u001b[0m in \u001b[0;36m<module>\u001b[1;34m\u001b[0m\n\u001b[1;32m----> 1\u001b[1;33m \u001b[0mt6\u001b[0m\u001b[1;33m\u001b[0m\u001b[1;33m\u001b[0m\u001b[0m\n\u001b[0m",
      "\u001b[1;31mNameError\u001b[0m: name 't6' is not defined"
     ]
    }
   ],
   "source": [
    "t6"
   ]
  },
  {
   "cell_type": "markdown",
   "id": "90ce531f",
   "metadata": {},
   "source": [
    "### Set"
   ]
  },
  {
   "cell_type": "code",
   "execution_count": 54,
   "id": "9e256d26",
   "metadata": {},
   "outputs": [
    {
     "data": {
      "text/plain": [
       "set"
      ]
     },
     "execution_count": 54,
     "metadata": {},
     "output_type": "execute_result"
    }
   ],
   "source": [
    "x = set()\n",
    "type(x)"
   ]
  },
  {
   "cell_type": "code",
   "execution_count": 66,
   "id": "5f51588a",
   "metadata": {},
   "outputs": [
    {
     "data": {
      "text/plain": [
       "[1, 2, 3, 3, 3, -4, 6, 6, 7, 'ck', '2x', '2x', 'DataSci', 'data', True, True]"
      ]
     },
     "execution_count": 66,
     "metadata": {},
     "output_type": "execute_result"
    }
   ],
   "source": [
    "l2 = [1,2,3,3,3,-4,6,6,7, 'ck', '2x', '2x', 'DataSci', 'data', True, True]\n",
    "l2"
   ]
  },
  {
   "cell_type": "code",
   "execution_count": 67,
   "id": "0a65dadd",
   "metadata": {},
   "outputs": [
    {
     "data": {
      "text/plain": [
       "list"
      ]
     },
     "execution_count": 67,
     "metadata": {},
     "output_type": "execute_result"
    }
   ],
   "source": [
    "type(l2)"
   ]
  },
  {
   "cell_type": "code",
   "execution_count": 71,
   "id": "43a26c2e",
   "metadata": {},
   "outputs": [],
   "source": [
    "s = set(l2)"
   ]
  },
  {
   "cell_type": "code",
   "execution_count": 72,
   "id": "e992f0e8",
   "metadata": {},
   "outputs": [
    {
     "data": {
      "text/plain": [
       "{-4, 1, 2, '2x', 3, 6, 7, 'DataSci', 'ck', 'data'}"
      ]
     },
     "execution_count": 72,
     "metadata": {},
     "output_type": "execute_result"
    }
   ],
   "source": [
    "s"
   ]
  },
  {
   "cell_type": "code",
   "execution_count": 73,
   "id": "f9314422",
   "metadata": {},
   "outputs": [
    {
     "name": "stdout",
     "output_type": "stream",
     "text": [
      "1\n",
      "2\n",
      "3\n",
      "6\n",
      "7\n",
      "ck\n",
      "data\n",
      "DataSci\n",
      "2x\n",
      "-4\n"
     ]
    }
   ],
   "source": [
    "for i in s:\n",
    "    print(i)"
   ]
  },
  {
   "cell_type": "code",
   "execution_count": 74,
   "id": "498fef73",
   "metadata": {},
   "outputs": [
    {
     "data": {
      "text/plain": [
       "True"
      ]
     },
     "execution_count": 74,
     "metadata": {},
     "output_type": "execute_result"
    }
   ],
   "source": [
    "'2x' in s"
   ]
  },
  {
   "cell_type": "code",
   "execution_count": 75,
   "id": "d1c5ddde",
   "metadata": {},
   "outputs": [
    {
     "data": {
      "text/plain": [
       "False"
      ]
     },
     "execution_count": 75,
     "metadata": {},
     "output_type": "execute_result"
    }
   ],
   "source": [
    "'Data' in s"
   ]
  },
  {
   "cell_type": "code",
   "execution_count": 76,
   "id": "456c0190",
   "metadata": {},
   "outputs": [
    {
     "data": {
      "text/plain": [
       "{-4, 1, 2, '2x', 3, 6, 7, 'DataSci', 'ck', 'data'}"
      ]
     },
     "execution_count": 76,
     "metadata": {},
     "output_type": "execute_result"
    }
   ],
   "source": [
    "s"
   ]
  },
  {
   "cell_type": "code",
   "execution_count": 77,
   "id": "352c9bfb",
   "metadata": {},
   "outputs": [
    {
     "ename": "TypeError",
     "evalue": "'set' object is not subscriptable",
     "output_type": "error",
     "traceback": [
      "\u001b[1;31m---------------------------------------------------------------------------\u001b[0m",
      "\u001b[1;31mTypeError\u001b[0m                                 Traceback (most recent call last)",
      "\u001b[1;32mC:\\Users\\CHANDA~1\\AppData\\Local\\Temp/ipykernel_9648/243613605.py\u001b[0m in \u001b[0;36m<module>\u001b[1;34m\u001b[0m\n\u001b[1;32m----> 1\u001b[1;33m \u001b[0ms\u001b[0m\u001b[1;33m[\u001b[0m\u001b[1;36m0\u001b[0m\u001b[1;33m]\u001b[0m\u001b[1;33m\u001b[0m\u001b[1;33m\u001b[0m\u001b[0m\n\u001b[0m",
      "\u001b[1;31mTypeError\u001b[0m: 'set' object is not subscriptable"
     ]
    }
   ],
   "source": [
    "s[0]"
   ]
  },
  {
   "cell_type": "code",
   "execution_count": 79,
   "id": "e1c49b03",
   "metadata": {},
   "outputs": [
    {
     "data": {
      "text/plain": [
       "{1, 11, 111, 2, 3, 36, 369, 'ck', 'data scientist'}"
      ]
     },
     "execution_count": 79,
     "metadata": {},
     "output_type": "execute_result"
    }
   ],
   "source": [
    "set([1, 11, 111, 2, 3, 3, 36, 369,'ck', 'data scientist'])"
   ]
  },
  {
   "cell_type": "code",
   "execution_count": 80,
   "id": "f176fb95",
   "metadata": {},
   "outputs": [
    {
     "data": {
      "text/plain": [
       "{-4, 1, 2, '2x', 3, 6, 7, 'DataSci', 'ck', 'data'}"
      ]
     },
     "execution_count": 80,
     "metadata": {},
     "output_type": "execute_result"
    }
   ],
   "source": [
    "s"
   ]
  },
  {
   "cell_type": "code",
   "execution_count": 81,
   "id": "fad4cb3b",
   "metadata": {},
   "outputs": [],
   "source": [
    "s2 = set()"
   ]
  },
  {
   "cell_type": "code",
   "execution_count": 82,
   "id": "c8b87e22",
   "metadata": {},
   "outputs": [
    {
     "data": {
      "text/plain": [
       "set()"
      ]
     },
     "execution_count": 82,
     "metadata": {},
     "output_type": "execute_result"
    }
   ],
   "source": [
    "s2"
   ]
  },
  {
   "cell_type": "code",
   "execution_count": 83,
   "id": "63253c43",
   "metadata": {},
   "outputs": [],
   "source": [
    "s2.add(45)"
   ]
  },
  {
   "cell_type": "code",
   "execution_count": 84,
   "id": "43404797",
   "metadata": {},
   "outputs": [
    {
     "data": {
      "text/plain": [
       "{45}"
      ]
     },
     "execution_count": 84,
     "metadata": {},
     "output_type": "execute_result"
    }
   ],
   "source": [
    "s2"
   ]
  },
  {
   "cell_type": "code",
   "execution_count": 87,
   "id": "82de91b4",
   "metadata": {},
   "outputs": [
    {
     "data": {
      "text/plain": [
       "{45}"
      ]
     },
     "execution_count": 87,
     "metadata": {},
     "output_type": "execute_result"
    }
   ],
   "source": [
    "s2.add(45)\n",
    "s2"
   ]
  },
  {
   "cell_type": "code",
   "execution_count": 88,
   "id": "0af52e7e",
   "metadata": {},
   "outputs": [],
   "source": [
    "s2.add(55)"
   ]
  },
  {
   "cell_type": "code",
   "execution_count": 89,
   "id": "35cc93ef",
   "metadata": {},
   "outputs": [
    {
     "data": {
      "text/plain": [
       "{45, 55, 'ck'}"
      ]
     },
     "execution_count": 89,
     "metadata": {},
     "output_type": "execute_result"
    }
   ],
   "source": [
    "s2.add('ck')\n",
    "s2"
   ]
  },
  {
   "cell_type": "code",
   "execution_count": 90,
   "id": "ac171ed3",
   "metadata": {},
   "outputs": [
    {
     "ename": "TypeError",
     "evalue": "set.add() takes exactly one argument (2 given)",
     "output_type": "error",
     "traceback": [
      "\u001b[1;31m---------------------------------------------------------------------------\u001b[0m",
      "\u001b[1;31mTypeError\u001b[0m                                 Traceback (most recent call last)",
      "\u001b[1;32mC:\\Users\\CHANDA~1\\AppData\\Local\\Temp/ipykernel_9648/4271228269.py\u001b[0m in \u001b[0;36m<module>\u001b[1;34m\u001b[0m\n\u001b[1;32m----> 1\u001b[1;33m \u001b[0ms2\u001b[0m\u001b[1;33m.\u001b[0m\u001b[0madd\u001b[0m\u001b[1;33m(\u001b[0m\u001b[1;36m24\u001b[0m\u001b[1;33m,\u001b[0m \u001b[1;36m21\u001b[0m\u001b[1;33m)\u001b[0m\u001b[1;33m\u001b[0m\u001b[1;33m\u001b[0m\u001b[0m\n\u001b[0m",
      "\u001b[1;31mTypeError\u001b[0m: set.add() takes exactly one argument (2 given)"
     ]
    }
   ],
   "source": [
    "s2.add(24, 21)"
   ]
  },
  {
   "cell_type": "code",
   "execution_count": 91,
   "id": "02fad19b",
   "metadata": {},
   "outputs": [
    {
     "ename": "TypeError",
     "evalue": "unhashable type: 'list'",
     "output_type": "error",
     "traceback": [
      "\u001b[1;31m---------------------------------------------------------------------------\u001b[0m",
      "\u001b[1;31mTypeError\u001b[0m                                 Traceback (most recent call last)",
      "\u001b[1;32mC:\\Users\\CHANDA~1\\AppData\\Local\\Temp/ipykernel_9648/1580840973.py\u001b[0m in \u001b[0;36m<module>\u001b[1;34m\u001b[0m\n\u001b[1;32m----> 1\u001b[1;33m \u001b[0ms2\u001b[0m\u001b[1;33m.\u001b[0m\u001b[0madd\u001b[0m\u001b[1;33m(\u001b[0m\u001b[1;33m[\u001b[0m\u001b[1;36m24\u001b[0m\u001b[1;33m,\u001b[0m \u001b[1;36m21\u001b[0m\u001b[1;33m]\u001b[0m\u001b[1;33m)\u001b[0m\u001b[1;33m\u001b[0m\u001b[1;33m\u001b[0m\u001b[0m\n\u001b[0m",
      "\u001b[1;31mTypeError\u001b[0m: unhashable type: 'list'"
     ]
    }
   ],
   "source": [
    "s2.add([24, 21])"
   ]
  },
  {
   "cell_type": "code",
   "execution_count": 92,
   "id": "4ce3fd4a",
   "metadata": {},
   "outputs": [
    {
     "data": {
      "text/plain": [
       "{45, 55, 'ck'}"
      ]
     },
     "execution_count": 92,
     "metadata": {},
     "output_type": "execute_result"
    }
   ],
   "source": [
    "s2"
   ]
  },
  {
   "cell_type": "code",
   "execution_count": 96,
   "id": "ed527d3e",
   "metadata": {},
   "outputs": [],
   "source": [
    "s2.remove(45)"
   ]
  },
  {
   "cell_type": "code",
   "execution_count": 98,
   "id": "1623e291",
   "metadata": {},
   "outputs": [
    {
     "data": {
      "text/plain": [
       "{-4, 1, 2, '2x', 3, 6, 7, 'DataSci', 'ck', 'data'}"
      ]
     },
     "execution_count": 98,
     "metadata": {},
     "output_type": "execute_result"
    }
   ],
   "source": [
    "s"
   ]
  },
  {
   "cell_type": "code",
   "execution_count": 99,
   "id": "03435592",
   "metadata": {},
   "outputs": [
    {
     "data": {
      "text/plain": [
       "{55, 'ck'}"
      ]
     },
     "execution_count": 99,
     "metadata": {},
     "output_type": "execute_result"
    }
   ],
   "source": [
    "s2"
   ]
  },
  {
   "cell_type": "code",
   "execution_count": 100,
   "id": "4941d244",
   "metadata": {},
   "outputs": [
    {
     "ename": "TypeError",
     "evalue": "unsupported operand type(s) for +: 'set' and 'set'",
     "output_type": "error",
     "traceback": [
      "\u001b[1;31m---------------------------------------------------------------------------\u001b[0m",
      "\u001b[1;31mTypeError\u001b[0m                                 Traceback (most recent call last)",
      "\u001b[1;32mC:\\Users\\CHANDA~1\\AppData\\Local\\Temp/ipykernel_9648/2676797907.py\u001b[0m in \u001b[0;36m<module>\u001b[1;34m\u001b[0m\n\u001b[1;32m----> 1\u001b[1;33m \u001b[0ms\u001b[0m \u001b[1;33m+\u001b[0m \u001b[0ms2\u001b[0m\u001b[1;33m\u001b[0m\u001b[1;33m\u001b[0m\u001b[0m\n\u001b[0m",
      "\u001b[1;31mTypeError\u001b[0m: unsupported operand type(s) for +: 'set' and 'set'"
     ]
    }
   ],
   "source": [
    "s + s2"
   ]
  },
  {
   "cell_type": "code",
   "execution_count": 101,
   "id": "7eb7e378",
   "metadata": {},
   "outputs": [
    {
     "ename": "TypeError",
     "evalue": "unsupported operand type(s) for *: 'set' and 'int'",
     "output_type": "error",
     "traceback": [
      "\u001b[1;31m---------------------------------------------------------------------------\u001b[0m",
      "\u001b[1;31mTypeError\u001b[0m                                 Traceback (most recent call last)",
      "\u001b[1;32mC:\\Users\\CHANDA~1\\AppData\\Local\\Temp/ipykernel_9648/3015146729.py\u001b[0m in \u001b[0;36m<module>\u001b[1;34m\u001b[0m\n\u001b[1;32m----> 1\u001b[1;33m \u001b[0ms2\u001b[0m \u001b[1;33m*\u001b[0m \u001b[1;36m3\u001b[0m\u001b[1;33m\u001b[0m\u001b[1;33m\u001b[0m\u001b[0m\n\u001b[0m",
      "\u001b[1;31mTypeError\u001b[0m: unsupported operand type(s) for *: 'set' and 'int'"
     ]
    }
   ],
   "source": [
    "s2 * 3"
   ]
  },
  {
   "cell_type": "markdown",
   "id": "8b69d6bb",
   "metadata": {},
   "source": [
    "### Dictionary"
   ]
  },
  {
   "cell_type": "code",
   "execution_count": 102,
   "id": "3ab5eb45",
   "metadata": {},
   "outputs": [
    {
     "data": {
      "text/plain": [
       "dict"
      ]
     },
     "execution_count": 102,
     "metadata": {},
     "output_type": "execute_result"
    }
   ],
   "source": [
    "x = {}\n",
    "type(x)"
   ]
  },
  {
   "cell_type": "code",
   "execution_count": 103,
   "id": "6de4b975",
   "metadata": {},
   "outputs": [
    {
     "data": {
      "text/plain": [
       "set"
      ]
     },
     "execution_count": 103,
     "metadata": {},
     "output_type": "execute_result"
    }
   ],
   "source": [
    "d = {1, 2}\n",
    "type(d)"
   ]
  },
  {
   "cell_type": "code",
   "execution_count": 104,
   "id": "383921b9",
   "metadata": {},
   "outputs": [
    {
     "data": {
      "text/plain": [
       "{'name': 'Chandan', 'age': 23}"
      ]
     },
     "execution_count": 104,
     "metadata": {},
     "output_type": "execute_result"
    }
   ],
   "source": [
    "d1 = {\"name\": \"Chandan\", \"age\": 23}\n",
    "d1"
   ]
  },
  {
   "cell_type": "code",
   "execution_count": 105,
   "id": "c6f7467b",
   "metadata": {},
   "outputs": [
    {
     "data": {
      "text/plain": [
       "dict"
      ]
     },
     "execution_count": 105,
     "metadata": {},
     "output_type": "execute_result"
    }
   ],
   "source": [
    "type(d1)"
   ]
  },
  {
   "cell_type": "code",
   "execution_count": 106,
   "id": "a60e5b16",
   "metadata": {},
   "outputs": [
    {
     "data": {
      "text/plain": [
       "{'name': 'Chandan',\n",
       " 'age': 23,\n",
       " 111: 'universe',\n",
       " True: 'yes',\n",
       " (3+5j): [1, 2, 3, 4]}"
      ]
     },
     "execution_count": 106,
     "metadata": {},
     "output_type": "execute_result"
    }
   ],
   "source": [
    "d2 = {\"name\": \"Chandan\", \"age\": 23, 111: 'universe', True: \"yes\", 3+5j: [1,2,3,4]}\n",
    "d2"
   ]
  },
  {
   "cell_type": "code",
   "execution_count": 116,
   "id": "b540a51d",
   "metadata": {},
   "outputs": [
    {
     "data": {
      "text/plain": [
       "{'id': {'id1': 111, 'id2': 222},\n",
       " 'name': 'Chandan',\n",
       " 'age': 23,\n",
       " 111: 'universe',\n",
       " True: 'yes',\n",
       " 'list1': [1, 2, 3, 4]}"
      ]
     },
     "execution_count": 116,
     "metadata": {},
     "output_type": "execute_result"
    }
   ],
   "source": [
    "d3 = {\"id\": {\"id1\": 111, \"id2\":222}, \"name\": \"Chandan\", \"age\": 23, 111: 'universe', True: \"yes\", \"list1\": [1,2,3,4]}\n",
    "d3"
   ]
  },
  {
   "cell_type": "code",
   "execution_count": 117,
   "id": "a334a531",
   "metadata": {},
   "outputs": [
    {
     "data": {
      "text/plain": [
       "23"
      ]
     },
     "execution_count": 117,
     "metadata": {},
     "output_type": "execute_result"
    }
   ],
   "source": [
    "d3['age']"
   ]
  },
  {
   "cell_type": "code",
   "execution_count": 118,
   "id": "45763d6f",
   "metadata": {},
   "outputs": [
    {
     "data": {
      "text/plain": [
       "{'id1': 111, 'id2': 222}"
      ]
     },
     "execution_count": 118,
     "metadata": {},
     "output_type": "execute_result"
    }
   ],
   "source": [
    "d3[\"id\"]"
   ]
  },
  {
   "cell_type": "code",
   "execution_count": 121,
   "id": "5e6f492f",
   "metadata": {},
   "outputs": [
    {
     "data": {
      "text/plain": [
       "([1, 2, 3, 4], list)"
      ]
     },
     "execution_count": 121,
     "metadata": {},
     "output_type": "execute_result"
    }
   ],
   "source": [
    "d3[\"list1\"], type(d3[\"list1\"])"
   ]
  },
  {
   "cell_type": "code",
   "execution_count": 122,
   "id": "f53aee29",
   "metadata": {},
   "outputs": [
    {
     "data": {
      "text/plain": [
       "3"
      ]
     },
     "execution_count": 122,
     "metadata": {},
     "output_type": "execute_result"
    }
   ],
   "source": [
    "d3[\"list1\"][2]"
   ]
  },
  {
   "cell_type": "code",
   "execution_count": 124,
   "id": "b574c9bf",
   "metadata": {},
   "outputs": [
    {
     "data": {
      "text/plain": [
       "{'id1': 111, 'id2': 222}"
      ]
     },
     "execution_count": 124,
     "metadata": {},
     "output_type": "execute_result"
    }
   ],
   "source": [
    "d3['id']"
   ]
  },
  {
   "cell_type": "code",
   "execution_count": 125,
   "id": "a9fb0e83",
   "metadata": {},
   "outputs": [
    {
     "data": {
      "text/plain": [
       "222"
      ]
     },
     "execution_count": 125,
     "metadata": {},
     "output_type": "execute_result"
    }
   ],
   "source": [
    "d3['id']['id2']"
   ]
  },
  {
   "cell_type": "code",
   "execution_count": 126,
   "id": "eb7f21ff",
   "metadata": {},
   "outputs": [
    {
     "data": {
      "text/plain": [
       "{'name': 'Chandan',\n",
       " 'age': 23,\n",
       " 111: 'universe',\n",
       " True: 'yes',\n",
       " (3+5j): [1, 2, 3, 4]}"
      ]
     },
     "execution_count": 126,
     "metadata": {},
     "output_type": "execute_result"
    }
   ],
   "source": [
    "d2"
   ]
  },
  {
   "cell_type": "code",
   "execution_count": 128,
   "id": "2bfdbe7d",
   "metadata": {},
   "outputs": [
    {
     "data": {
      "text/plain": [
       "{'name': 'Chandan',\n",
       " 'age': 23,\n",
       " 111: 'Universe Sign',\n",
       " True: 'yes',\n",
       " (3+5j): [1, 2, 3, 4]}"
      ]
     },
     "execution_count": 128,
     "metadata": {},
     "output_type": "execute_result"
    }
   ],
   "source": [
    "d2[111] = 'Universe Sign'\n",
    "d2"
   ]
  },
  {
   "cell_type": "code",
   "execution_count": 130,
   "id": "9b08db1f",
   "metadata": {},
   "outputs": [
    {
     "data": {
      "text/plain": [
       "{'name': 'Chandan',\n",
       " 'age': 23,\n",
       " 111: 'Universe Sign',\n",
       " True: 'YES',\n",
       " (3+5j): [1, 2, 3, 4]}"
      ]
     },
     "execution_count": 130,
     "metadata": {},
     "output_type": "execute_result"
    }
   ],
   "source": [
    "d2[True] = \"YES\"\n",
    "d2"
   ]
  },
  {
   "cell_type": "code",
   "execution_count": 131,
   "id": "238d16e6",
   "metadata": {},
   "outputs": [
    {
     "data": {
      "text/plain": [
       "{'id': {'id1': 111, 'id2': 222},\n",
       " 'name': 'Chandan',\n",
       " 'age': 23,\n",
       " 111: 'universe',\n",
       " True: 'yes',\n",
       " 'list1': [1, 2, 3, 4]}"
      ]
     },
     "execution_count": 131,
     "metadata": {},
     "output_type": "execute_result"
    }
   ],
   "source": [
    "d3"
   ]
  },
  {
   "cell_type": "code",
   "execution_count": 132,
   "id": "2447d166",
   "metadata": {},
   "outputs": [
    {
     "data": {
      "text/plain": [
       "dict_keys(['id', 'name', 'age', 111, True, 'list1'])"
      ]
     },
     "execution_count": 132,
     "metadata": {},
     "output_type": "execute_result"
    }
   ],
   "source": [
    "d3.keys()"
   ]
  },
  {
   "cell_type": "code",
   "execution_count": 133,
   "id": "ead09cd6",
   "metadata": {},
   "outputs": [
    {
     "data": {
      "text/plain": [
       "dict_values([{'id1': 111, 'id2': 222}, 'Chandan', 23, 'universe', 'yes', [1, 2, 3, 4]])"
      ]
     },
     "execution_count": 133,
     "metadata": {},
     "output_type": "execute_result"
    }
   ],
   "source": [
    "d3.values()"
   ]
  },
  {
   "cell_type": "code",
   "execution_count": 139,
   "id": "efa3b90e",
   "metadata": {},
   "outputs": [
    {
     "data": {
      "text/plain": [
       "dict_items([('id', {'id1': 111, 'id2': 222}), ('name', 'Chandan'), ('age', 23), (111, 'universe'), (True, 'yes'), ('list1', [1, 2, 3, 4])])"
      ]
     },
     "execution_count": 139,
     "metadata": {},
     "output_type": "execute_result"
    }
   ],
   "source": [
    "d3.items()"
   ]
  },
  {
   "cell_type": "code",
   "execution_count": 134,
   "id": "0931aa0a",
   "metadata": {},
   "outputs": [
    {
     "data": {
      "text/plain": [
       "{'name': 'Chandan',\n",
       " 'age': 23,\n",
       " 111: 'Universe Sign',\n",
       " True: 'YES',\n",
       " (3+5j): [1, 2, 3, 4]}"
      ]
     },
     "execution_count": 134,
     "metadata": {},
     "output_type": "execute_result"
    }
   ],
   "source": [
    "d2"
   ]
  },
  {
   "cell_type": "code",
   "execution_count": 135,
   "id": "27ac1403",
   "metadata": {},
   "outputs": [
    {
     "name": "stdout",
     "output_type": "stream",
     "text": [
      "name\n",
      "age\n",
      "111\n",
      "True\n",
      "(3+5j)\n"
     ]
    }
   ],
   "source": [
    "for i in d2:\n",
    "    print(i)"
   ]
  },
  {
   "cell_type": "code",
   "execution_count": 136,
   "id": "423c66e1",
   "metadata": {},
   "outputs": [
    {
     "name": "stdout",
     "output_type": "stream",
     "text": [
      "Chandan\n",
      "23\n",
      "Universe Sign\n",
      "YES\n",
      "[1, 2, 3, 4]\n"
     ]
    }
   ],
   "source": [
    "for i in d2:\n",
    "    print(d2[i])"
   ]
  },
  {
   "cell_type": "code",
   "execution_count": 137,
   "id": "b49f663f",
   "metadata": {},
   "outputs": [
    {
     "name": "stdout",
     "output_type": "stream",
     "text": [
      "Chandan\n",
      "23\n",
      "Universe Sign\n",
      "YES\n",
      "[1, 2, 3, 4]\n"
     ]
    }
   ],
   "source": [
    "for i in d2.keys():\n",
    "    print(d2[i])"
   ]
  },
  {
   "cell_type": "code",
   "execution_count": 138,
   "id": "6e1482b3",
   "metadata": {},
   "outputs": [
    {
     "name": "stdout",
     "output_type": "stream",
     "text": [
      "Chandan <class 'str'>\n",
      "23 <class 'int'>\n",
      "Universe Sign <class 'str'>\n",
      "YES <class 'str'>\n",
      "[1, 2, 3, 4] <class 'list'>\n"
     ]
    }
   ],
   "source": [
    "for i in d2.keys():\n",
    "    print(d2[i], type(d2[i]))"
   ]
  },
  {
   "cell_type": "code",
   "execution_count": 140,
   "id": "d0ee9ff0",
   "metadata": {},
   "outputs": [
    {
     "data": {
      "text/plain": [
       "{'name': 'Chandan',\n",
       " 'age': 23,\n",
       " 111: 'Universe Sign',\n",
       " True: 'YES',\n",
       " (3+5j): [1, 2, 3, 4]}"
      ]
     },
     "execution_count": 140,
     "metadata": {},
     "output_type": "execute_result"
    }
   ],
   "source": [
    "d2"
   ]
  },
  {
   "cell_type": "code",
   "execution_count": 141,
   "id": "a8ad3302",
   "metadata": {},
   "outputs": [
    {
     "data": {
      "text/plain": [
       "5"
      ]
     },
     "execution_count": 141,
     "metadata": {},
     "output_type": "execute_result"
    }
   ],
   "source": [
    "len(d2)"
   ]
  },
  {
   "cell_type": "code",
   "execution_count": 142,
   "id": "1e5b7331",
   "metadata": {},
   "outputs": [],
   "source": [
    "## Exercise"
   ]
  },
  {
   "cell_type": "code",
   "execution_count": 143,
   "id": "774f5a7f",
   "metadata": {},
   "outputs": [
    {
     "name": "stdout",
     "output_type": "stream",
     "text": [
      "The Zen of Python, by Tim Peters\n",
      "\n",
      "Beautiful is better than ugly.\n",
      "Explicit is better than implicit.\n",
      "Simple is better than complex.\n",
      "Complex is better than complicated.\n",
      "Flat is better than nested.\n",
      "Sparse is better than dense.\n",
      "Readability counts.\n",
      "Special cases aren't special enough to break the rules.\n",
      "Although practicality beats purity.\n",
      "Errors should never pass silently.\n",
      "Unless explicitly silenced.\n",
      "In the face of ambiguity, refuse the temptation to guess.\n",
      "There should be one-- and preferably only one --obvious way to do it.\n",
      "Although that way may not be obvious at first unless you're Dutch.\n",
      "Now is better than never.\n",
      "Although never is often better than *right* now.\n",
      "If the implementation is hard to explain, it's a bad idea.\n",
      "If the implementation is easy to explain, it may be a good idea.\n",
      "Namespaces are one honking great idea -- let's do more of those!\n"
     ]
    }
   ],
   "source": [
    "## part1: take input\n",
    "import this"
   ]
  },
  {
   "cell_type": "code",
   "execution_count": 171,
   "id": "616514d7",
   "metadata": {},
   "outputs": [
    {
     "name": "stdout",
     "output_type": "stream",
     "text": [
      "Enter the para\"he Zen of Python, by Tim Peters  Beautiful is better than ugly. Explicit is better than implicit. Simple is better than complex. Complex is better than complicated. Flat is better than nested. Sparse is better than dense. Readability counts. Special cases aren't special enough to break the rules. Although practicality beats purity. Errors should never pass silently. Unless explicitly silenced.\"\n"
     ]
    }
   ],
   "source": [
    "para = input(\"Enter the para\")"
   ]
  },
  {
   "cell_type": "code",
   "execution_count": 172,
   "id": "386cab1e",
   "metadata": {},
   "outputs": [
    {
     "data": {
      "text/plain": [
       "'\"he Zen of Python, by Tim Peters  Beautiful is better than ugly. Explicit is better than implicit. Simple is better than complex. Complex is better than complicated. Flat is better than nested. Sparse is better than dense. Readability counts. Special cases aren\\'t special enough to break the rules. Although practicality beats purity. Errors should never pass silently. Unless explicitly silenced.\"'"
      ]
     },
     "execution_count": 172,
     "metadata": {},
     "output_type": "execute_result"
    }
   ],
   "source": [
    "para"
   ]
  },
  {
   "cell_type": "code",
   "execution_count": 173,
   "id": "a08d91a7",
   "metadata": {},
   "outputs": [
    {
     "data": {
      "text/plain": [
       "['\"he',\n",
       " 'Zen',\n",
       " 'of',\n",
       " 'Python,',\n",
       " 'by',\n",
       " 'Tim',\n",
       " 'Peters',\n",
       " 'Beautiful',\n",
       " 'is',\n",
       " 'better',\n",
       " 'than',\n",
       " 'ugly.',\n",
       " 'Explicit',\n",
       " 'is',\n",
       " 'better',\n",
       " 'than',\n",
       " 'implicit.',\n",
       " 'Simple',\n",
       " 'is',\n",
       " 'better',\n",
       " 'than',\n",
       " 'complex.',\n",
       " 'Complex',\n",
       " 'is',\n",
       " 'better',\n",
       " 'than',\n",
       " 'complicated.',\n",
       " 'Flat',\n",
       " 'is',\n",
       " 'better',\n",
       " 'than',\n",
       " 'nested.',\n",
       " 'Sparse',\n",
       " 'is',\n",
       " 'better',\n",
       " 'than',\n",
       " 'dense.',\n",
       " 'Readability',\n",
       " 'counts.',\n",
       " 'Special',\n",
       " 'cases',\n",
       " \"aren't\",\n",
       " 'special',\n",
       " 'enough',\n",
       " 'to',\n",
       " 'break',\n",
       " 'the',\n",
       " 'rules.',\n",
       " 'Although',\n",
       " 'practicality',\n",
       " 'beats',\n",
       " 'purity.',\n",
       " 'Errors',\n",
       " 'should',\n",
       " 'never',\n",
       " 'pass',\n",
       " 'silently.',\n",
       " 'Unless',\n",
       " 'explicitly',\n",
       " 'silenced.\"']"
      ]
     },
     "execution_count": 173,
     "metadata": {},
     "output_type": "execute_result"
    }
   ],
   "source": [
    "## Part2: convert para into list\n",
    "\n",
    "para_list = para.split()\n",
    "para_list"
   ]
  },
  {
   "cell_type": "code",
   "execution_count": 174,
   "id": "1c31ca2d",
   "metadata": {},
   "outputs": [
    {
     "data": {
      "text/plain": [
       "60"
      ]
     },
     "execution_count": 174,
     "metadata": {},
     "output_type": "execute_result"
    }
   ],
   "source": [
    "len(para_list)"
   ]
  },
  {
   "cell_type": "code",
   "execution_count": 175,
   "id": "18b723ed",
   "metadata": {},
   "outputs": [
    {
     "data": {
      "text/plain": [
       "{'\"he',\n",
       " 'Although',\n",
       " 'Beautiful',\n",
       " 'Complex',\n",
       " 'Errors',\n",
       " 'Explicit',\n",
       " 'Flat',\n",
       " 'Peters',\n",
       " 'Python,',\n",
       " 'Readability',\n",
       " 'Simple',\n",
       " 'Sparse',\n",
       " 'Special',\n",
       " 'Tim',\n",
       " 'Unless',\n",
       " 'Zen',\n",
       " \"aren't\",\n",
       " 'beats',\n",
       " 'better',\n",
       " 'break',\n",
       " 'by',\n",
       " 'cases',\n",
       " 'complex.',\n",
       " 'complicated.',\n",
       " 'counts.',\n",
       " 'dense.',\n",
       " 'enough',\n",
       " 'explicitly',\n",
       " 'implicit.',\n",
       " 'is',\n",
       " 'nested.',\n",
       " 'never',\n",
       " 'of',\n",
       " 'pass',\n",
       " 'practicality',\n",
       " 'purity.',\n",
       " 'rules.',\n",
       " 'should',\n",
       " 'silenced.\"',\n",
       " 'silently.',\n",
       " 'special',\n",
       " 'than',\n",
       " 'the',\n",
       " 'to',\n",
       " 'ugly.'}"
      ]
     },
     "execution_count": 175,
     "metadata": {},
     "output_type": "execute_result"
    }
   ],
   "source": [
    "## part3: remove duplicates\n",
    "para_unique = set(para_list)\n",
    "para_unique"
   ]
  },
  {
   "cell_type": "code",
   "execution_count": 176,
   "id": "88e9adca",
   "metadata": {},
   "outputs": [
    {
     "data": {
      "text/plain": [
       "45"
      ]
     },
     "execution_count": 176,
     "metadata": {},
     "output_type": "execute_result"
    }
   ],
   "source": [
    "len(para_unique)"
   ]
  },
  {
   "cell_type": "code",
   "execution_count": 177,
   "id": "ce7379e3",
   "metadata": {},
   "outputs": [],
   "source": [
    "## part4\n",
    "\n",
    "para_dict = {}\n",
    "key_itr = 0\n",
    "for i in para_unique:\n",
    "    para_dict[i] = 'Chandan Kumar'"
   ]
  },
  {
   "cell_type": "code",
   "execution_count": 178,
   "id": "be976ca8",
   "metadata": {},
   "outputs": [
    {
     "data": {
      "text/plain": [
       "{'special': 'Chandan Kumar',\n",
       " 'nested.': 'Chandan Kumar',\n",
       " 'Peters': 'Chandan Kumar',\n",
       " 'the': 'Chandan Kumar',\n",
       " 'never': 'Chandan Kumar',\n",
       " 'complicated.': 'Chandan Kumar',\n",
       " 'complex.': 'Chandan Kumar',\n",
       " 'Beautiful': 'Chandan Kumar',\n",
       " 'Complex': 'Chandan Kumar',\n",
       " 'practicality': 'Chandan Kumar',\n",
       " 'Python,': 'Chandan Kumar',\n",
       " 'Sparse': 'Chandan Kumar',\n",
       " 'Simple': 'Chandan Kumar',\n",
       " 'should': 'Chandan Kumar',\n",
       " 'is': 'Chandan Kumar',\n",
       " 'Readability': 'Chandan Kumar',\n",
       " 'better': 'Chandan Kumar',\n",
       " 'dense.': 'Chandan Kumar',\n",
       " 'silently.': 'Chandan Kumar',\n",
       " 'Tim': 'Chandan Kumar',\n",
       " 'purity.': 'Chandan Kumar',\n",
       " 'than': 'Chandan Kumar',\n",
       " 'Explicit': 'Chandan Kumar',\n",
       " \"aren't\": 'Chandan Kumar',\n",
       " 'of': 'Chandan Kumar',\n",
       " 'ugly.': 'Chandan Kumar',\n",
       " 'break': 'Chandan Kumar',\n",
       " 'Flat': 'Chandan Kumar',\n",
       " 'Zen': 'Chandan Kumar',\n",
       " 'rules.': 'Chandan Kumar',\n",
       " 'counts.': 'Chandan Kumar',\n",
       " 'Unless': 'Chandan Kumar',\n",
       " 'Special': 'Chandan Kumar',\n",
       " 'Errors': 'Chandan Kumar',\n",
       " 'to': 'Chandan Kumar',\n",
       " 'explicitly': 'Chandan Kumar',\n",
       " 'pass': 'Chandan Kumar',\n",
       " '\"he': 'Chandan Kumar',\n",
       " 'beats': 'Chandan Kumar',\n",
       " 'Although': 'Chandan Kumar',\n",
       " 'enough': 'Chandan Kumar',\n",
       " 'cases': 'Chandan Kumar',\n",
       " 'silenced.\"': 'Chandan Kumar',\n",
       " 'by': 'Chandan Kumar',\n",
       " 'implicit.': 'Chandan Kumar'}"
      ]
     },
     "execution_count": 178,
     "metadata": {},
     "output_type": "execute_result"
    }
   ],
   "source": [
    "para_dict"
   ]
  },
  {
   "cell_type": "code",
   "execution_count": 179,
   "id": "678219af",
   "metadata": {},
   "outputs": [
    {
     "data": {
      "text/plain": [
       "45"
      ]
     },
     "execution_count": 179,
     "metadata": {},
     "output_type": "execute_result"
    }
   ],
   "source": [
    "len(para_dict)"
   ]
  },
  {
   "cell_type": "code",
   "execution_count": 180,
   "id": "ca3825bc",
   "metadata": {},
   "outputs": [
    {
     "data": {
      "text/plain": [
       "dict_values(['Chandan Kumar', 'Chandan Kumar', 'Chandan Kumar', 'Chandan Kumar', 'Chandan Kumar', 'Chandan Kumar', 'Chandan Kumar', 'Chandan Kumar', 'Chandan Kumar', 'Chandan Kumar', 'Chandan Kumar', 'Chandan Kumar', 'Chandan Kumar', 'Chandan Kumar', 'Chandan Kumar', 'Chandan Kumar', 'Chandan Kumar', 'Chandan Kumar', 'Chandan Kumar', 'Chandan Kumar', 'Chandan Kumar', 'Chandan Kumar', 'Chandan Kumar', 'Chandan Kumar', 'Chandan Kumar', 'Chandan Kumar', 'Chandan Kumar', 'Chandan Kumar', 'Chandan Kumar', 'Chandan Kumar', 'Chandan Kumar', 'Chandan Kumar', 'Chandan Kumar', 'Chandan Kumar', 'Chandan Kumar', 'Chandan Kumar', 'Chandan Kumar', 'Chandan Kumar', 'Chandan Kumar', 'Chandan Kumar', 'Chandan Kumar', 'Chandan Kumar', 'Chandan Kumar', 'Chandan Kumar', 'Chandan Kumar'])"
      ]
     },
     "execution_count": 180,
     "metadata": {},
     "output_type": "execute_result"
    }
   ],
   "source": [
    "para_dict.values()"
   ]
  },
  {
   "cell_type": "code",
   "execution_count": 181,
   "id": "675a286e",
   "metadata": {},
   "outputs": [
    {
     "data": {
      "text/plain": [
       "('Chandan Kumar',\n",
       " 'Chandan Kumar',\n",
       " 'Chandan Kumar',\n",
       " 'Chandan Kumar',\n",
       " 'Chandan Kumar',\n",
       " 'Chandan Kumar',\n",
       " 'Chandan Kumar',\n",
       " 'Chandan Kumar',\n",
       " 'Chandan Kumar',\n",
       " 'Chandan Kumar',\n",
       " 'Chandan Kumar',\n",
       " 'Chandan Kumar',\n",
       " 'Chandan Kumar',\n",
       " 'Chandan Kumar',\n",
       " 'Chandan Kumar',\n",
       " 'Chandan Kumar',\n",
       " 'Chandan Kumar',\n",
       " 'Chandan Kumar',\n",
       " 'Chandan Kumar',\n",
       " 'Chandan Kumar',\n",
       " 'Chandan Kumar',\n",
       " 'Chandan Kumar',\n",
       " 'Chandan Kumar',\n",
       " 'Chandan Kumar',\n",
       " 'Chandan Kumar',\n",
       " 'Chandan Kumar',\n",
       " 'Chandan Kumar',\n",
       " 'Chandan Kumar',\n",
       " 'Chandan Kumar',\n",
       " 'Chandan Kumar',\n",
       " 'Chandan Kumar',\n",
       " 'Chandan Kumar',\n",
       " 'Chandan Kumar',\n",
       " 'Chandan Kumar',\n",
       " 'Chandan Kumar',\n",
       " 'Chandan Kumar',\n",
       " 'Chandan Kumar',\n",
       " 'Chandan Kumar',\n",
       " 'Chandan Kumar',\n",
       " 'Chandan Kumar',\n",
       " 'Chandan Kumar',\n",
       " 'Chandan Kumar',\n",
       " 'Chandan Kumar',\n",
       " 'Chandan Kumar',\n",
       " 'Chandan Kumar')"
      ]
     },
     "execution_count": 181,
     "metadata": {},
     "output_type": "execute_result"
    }
   ],
   "source": [
    "tuple(para_dict.values())"
   ]
  },
  {
   "cell_type": "code",
   "execution_count": 182,
   "id": "4fd2c59d",
   "metadata": {},
   "outputs": [
    {
     "name": "stdout",
     "output_type": "stream",
     "text": [
      "dict_keys(['special', 'nested.', 'Peters', 'the', 'never', 'complicated.', 'complex.', 'Beautiful', 'Complex', 'practicality', 'Python,', 'Sparse', 'Simple', 'should', 'is', 'Readability', 'better', 'dense.', 'silently.', 'Tim', 'purity.', 'than', 'Explicit', \"aren't\", 'of', 'ugly.', 'break', 'Flat', 'Zen', 'rules.', 'counts.', 'Unless', 'Special', 'Errors', 'to', 'explicitly', 'pass', '\"he', 'beats', 'Although', 'enough', 'cases', 'silenced.\"', 'by', 'implicit.'])\n"
     ]
    }
   ],
   "source": [
    "print(para_dict.keys())"
   ]
  },
  {
   "cell_type": "code",
   "execution_count": 183,
   "id": "ec5e13d2",
   "metadata": {},
   "outputs": [
    {
     "ename": "KeyError",
     "evalue": "'special'",
     "output_type": "error",
     "traceback": [
      "\u001b[1;31m---------------------------------------------------------------------------\u001b[0m",
      "\u001b[1;31mKeyError\u001b[0m                                  Traceback (most recent call last)",
      "\u001b[1;32mC:\\Users\\CHANDA~1\\AppData\\Local\\Temp/ipykernel_9648/3790274728.py\u001b[0m in \u001b[0;36m<module>\u001b[1;34m\u001b[0m\n\u001b[0;32m      2\u001b[0m \u001b[1;33m\u001b[0m\u001b[0m\n\u001b[0;32m      3\u001b[0m \u001b[0mpara_dict1\u001b[0m \u001b[1;33m=\u001b[0m \u001b[1;33m{\u001b[0m\u001b[1;33m}\u001b[0m\u001b[1;33m\u001b[0m\u001b[1;33m\u001b[0m\u001b[0m\n\u001b[1;32m----> 4\u001b[1;33m \u001b[1;33m{\u001b[0m\u001b[0mpara_dict1\u001b[0m\u001b[1;33m[\u001b[0m\u001b[0mi\u001b[0m\u001b[1;33m]\u001b[0m \u001b[1;33m:\u001b[0m \u001b[1;34m'Chandan Kumar'\u001b[0m \u001b[1;32mfor\u001b[0m \u001b[0mi\u001b[0m \u001b[1;32min\u001b[0m \u001b[0mpara_unique\u001b[0m\u001b[1;33m}\u001b[0m\u001b[1;33m\u001b[0m\u001b[1;33m\u001b[0m\u001b[0m\n\u001b[0m",
      "\u001b[1;32mC:\\Users\\CHANDA~1\\AppData\\Local\\Temp/ipykernel_9648/3790274728.py\u001b[0m in \u001b[0;36m<dictcomp>\u001b[1;34m(.0)\u001b[0m\n\u001b[0;32m      2\u001b[0m \u001b[1;33m\u001b[0m\u001b[0m\n\u001b[0;32m      3\u001b[0m \u001b[0mpara_dict1\u001b[0m \u001b[1;33m=\u001b[0m \u001b[1;33m{\u001b[0m\u001b[1;33m}\u001b[0m\u001b[1;33m\u001b[0m\u001b[1;33m\u001b[0m\u001b[0m\n\u001b[1;32m----> 4\u001b[1;33m \u001b[1;33m{\u001b[0m\u001b[0mpara_dict1\u001b[0m\u001b[1;33m[\u001b[0m\u001b[0mi\u001b[0m\u001b[1;33m]\u001b[0m \u001b[1;33m:\u001b[0m \u001b[1;34m'Chandan Kumar'\u001b[0m \u001b[1;32mfor\u001b[0m \u001b[0mi\u001b[0m \u001b[1;32min\u001b[0m \u001b[0mpara_unique\u001b[0m\u001b[1;33m}\u001b[0m\u001b[1;33m\u001b[0m\u001b[1;33m\u001b[0m\u001b[0m\n\u001b[0m",
      "\u001b[1;31mKeyError\u001b[0m: 'special'"
     ]
    }
   ],
   "source": [
    "## Comperhension\n",
    "\n",
    "para_dict1 = {}\n",
    "{para_dict1[i] : 'Chandan Kumar' for i in para_unique}"
   ]
  },
  {
   "cell_type": "code",
   "execution_count": null,
   "id": "8f6175da",
   "metadata": {},
   "outputs": [],
   "source": []
  }
 ],
 "metadata": {
  "kernelspec": {
   "display_name": "Python 3 (ipykernel)",
   "language": "python",
   "name": "python3"
  },
  "language_info": {
   "codemirror_mode": {
    "name": "ipython",
    "version": 3
   },
   "file_extension": ".py",
   "mimetype": "text/x-python",
   "name": "python",
   "nbconvert_exporter": "python",
   "pygments_lexer": "ipython3",
   "version": "3.9.7"
  }
 },
 "nbformat": 4,
 "nbformat_minor": 5
}
