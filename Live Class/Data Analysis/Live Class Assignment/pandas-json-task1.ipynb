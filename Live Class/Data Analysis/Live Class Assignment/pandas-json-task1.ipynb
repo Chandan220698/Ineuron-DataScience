{
 "cells": [
  {
   "cell_type": "markdown",
   "id": "62fc2235",
   "metadata": {},
   "source": [
    "### Importing Libraires"
   ]
  },
  {
   "cell_type": "code",
   "execution_count": 2,
   "id": "c1863a7b",
   "metadata": {},
   "outputs": [],
   "source": [
    "import pandas as pd\n",
    "import requests"
   ]
  },
  {
   "cell_type": "code",
   "execution_count": 3,
   "id": "00f30874",
   "metadata": {},
   "outputs": [],
   "source": [
    "url = 'https://api.github.com/repos/pandas-dev/pandas/issues'"
   ]
  },
  {
   "cell_type": "code",
   "execution_count": 5,
   "id": "cb87999d",
   "metadata": {},
   "outputs": [
    {
     "data": {
      "text/plain": [
       "<Response [200]>"
      ]
     },
     "execution_count": 5,
     "metadata": {},
     "output_type": "execute_result"
    }
   ],
   "source": [
    "data = requests.get(url)\n",
    "data"
   ]
  },
  {
   "cell_type": "code",
   "execution_count": 12,
   "id": "59921f7c",
   "metadata": {},
   "outputs": [],
   "source": [
    "data1 = data.json()"
   ]
  },
  {
   "cell_type": "markdown",
   "id": "a01bb2dc",
   "metadata": {},
   "source": [
    "### Total dicts"
   ]
  },
  {
   "cell_type": "code",
   "execution_count": 13,
   "id": "9deaa3bc",
   "metadata": {},
   "outputs": [
    {
     "data": {
      "text/plain": [
       "30"
      ]
     },
     "execution_count": 13,
     "metadata": {},
     "output_type": "execute_result"
    }
   ],
   "source": [
    "len(data1)"
   ]
  },
  {
   "cell_type": "markdown",
   "id": "d040e591",
   "metadata": {},
   "source": [
    "### Preview first dict"
   ]
  },
  {
   "cell_type": "code",
   "execution_count": 22,
   "id": "accd1a4f",
   "metadata": {},
   "outputs": [
    {
     "data": {
      "text/plain": [
       "{'url': 'https://api.github.com/repos/pandas-dev/pandas/issues/46166',\n",
       " 'repository_url': 'https://api.github.com/repos/pandas-dev/pandas',\n",
       " 'labels_url': 'https://api.github.com/repos/pandas-dev/pandas/issues/46166/labels{/name}',\n",
       " 'comments_url': 'https://api.github.com/repos/pandas-dev/pandas/issues/46166/comments',\n",
       " 'events_url': 'https://api.github.com/repos/pandas-dev/pandas/issues/46166/events',\n",
       " 'html_url': 'https://github.com/pandas-dev/pandas/pull/46166',\n",
       " 'id': 1152939467,\n",
       " 'node_id': 'PR_kwDOAA0YD84zmo39',\n",
       " 'number': 46166,\n",
       " 'title': 'Enable server side cursors',\n",
       " 'user': {'login': 'J0',\n",
       "  'id': 8011761,\n",
       "  'node_id': 'MDQ6VXNlcjgwMTE3NjE=',\n",
       "  'avatar_url': 'https://avatars.githubusercontent.com/u/8011761?v=4',\n",
       "  'gravatar_id': '',\n",
       "  'url': 'https://api.github.com/users/J0',\n",
       "  'html_url': 'https://github.com/J0',\n",
       "  'followers_url': 'https://api.github.com/users/J0/followers',\n",
       "  'following_url': 'https://api.github.com/users/J0/following{/other_user}',\n",
       "  'gists_url': 'https://api.github.com/users/J0/gists{/gist_id}',\n",
       "  'starred_url': 'https://api.github.com/users/J0/starred{/owner}{/repo}',\n",
       "  'subscriptions_url': 'https://api.github.com/users/J0/subscriptions',\n",
       "  'organizations_url': 'https://api.github.com/users/J0/orgs',\n",
       "  'repos_url': 'https://api.github.com/users/J0/repos',\n",
       "  'events_url': 'https://api.github.com/users/J0/events{/privacy}',\n",
       "  'received_events_url': 'https://api.github.com/users/J0/received_events',\n",
       "  'type': 'User',\n",
       "  'site_admin': False},\n",
       " 'labels': [],\n",
       " 'state': 'open',\n",
       " 'locked': False,\n",
       " 'assignee': None,\n",
       " 'assignees': [],\n",
       " 'milestone': None,\n",
       " 'comments': 0,\n",
       " 'created_at': '2022-02-27T06:48:36Z',\n",
       " 'updated_at': '2022-02-27T07:40:05Z',\n",
       " 'closed_at': None,\n",
       " 'author_association': 'NONE',\n",
       " 'active_lock_reason': None,\n",
       " 'draft': False,\n",
       " 'pull_request': {'url': 'https://api.github.com/repos/pandas-dev/pandas/pulls/46166',\n",
       "  'html_url': 'https://github.com/pandas-dev/pandas/pull/46166',\n",
       "  'diff_url': 'https://github.com/pandas-dev/pandas/pull/46166.diff',\n",
       "  'patch_url': 'https://github.com/pandas-dev/pandas/pull/46166.patch',\n",
       "  'merged_at': None},\n",
       " 'body': \"The old PR went stale and I ended up busy for a year so had to re-open in a new branch. Hoping to finally push this through\\r\\n\\r\\nThis pull request attempts to fix #35689.  I read an article by @itamarst and decided to look further into the codebase. After noticing that the fix semed to be simple I decided file a PR. The fix is naive and I'm not sure the true solution is as simple as I imagine it to be. There are probably many things I'm missing as I've not read the codebase in detail so do let me know what else needs to be addressed.\\r\\n\\r\\n- [x] closes #35689\\r\\n- [x] tests added / passed\\r\\n- [x] Ensure all linting tests pass, see [here](https://pandas.pydata.org/pandas-docs/dev/development/contributing.html#code-standards) for how to run them\\r\\n- [x] whatsnew entry(N.A.)\",\n",
       " 'reactions': {'url': 'https://api.github.com/repos/pandas-dev/pandas/issues/46166/reactions',\n",
       "  'total_count': 0,\n",
       "  '+1': 0,\n",
       "  '-1': 0,\n",
       "  'laugh': 0,\n",
       "  'hooray': 0,\n",
       "  'confused': 0,\n",
       "  'heart': 0,\n",
       "  'rocket': 0,\n",
       "  'eyes': 0},\n",
       " 'timeline_url': 'https://api.github.com/repos/pandas-dev/pandas/issues/46166/timeline',\n",
       " 'performed_via_github_app': None}"
      ]
     },
     "execution_count": 22,
     "metadata": {},
     "output_type": "execute_result"
    }
   ],
   "source": [
    "data1[0]"
   ]
  },
  {
   "cell_type": "markdown",
   "id": "eef9ac2e",
   "metadata": {},
   "source": [
    "### Preview of Top 4 Records"
   ]
  },
  {
   "cell_type": "code",
   "execution_count": 18,
   "id": "6ea3741b",
   "metadata": {},
   "outputs": [
    {
     "data": {
      "text/html": [
       "<div>\n",
       "<style scoped>\n",
       "    .dataframe tbody tr th:only-of-type {\n",
       "        vertical-align: middle;\n",
       "    }\n",
       "\n",
       "    .dataframe tbody tr th {\n",
       "        vertical-align: top;\n",
       "    }\n",
       "\n",
       "    .dataframe thead th {\n",
       "        text-align: right;\n",
       "    }\n",
       "</style>\n",
       "<table border=\"1\" class=\"dataframe\">\n",
       "  <thead>\n",
       "    <tr style=\"text-align: right;\">\n",
       "      <th></th>\n",
       "      <th>id</th>\n",
       "      <th>url</th>\n",
       "      <th>repository_url</th>\n",
       "      <th>labels_url</th>\n",
       "      <th>user</th>\n",
       "    </tr>\n",
       "  </thead>\n",
       "  <tbody>\n",
       "    <tr>\n",
       "      <th>0</th>\n",
       "      <td>1152939467</td>\n",
       "      <td>https://api.github.com/repos/pandas-dev/pandas...</td>\n",
       "      <td>https://api.github.com/repos/pandas-dev/pandas</td>\n",
       "      <td>https://api.github.com/repos/pandas-dev/pandas...</td>\n",
       "      <td>{'login': 'J0', 'id': 8011761, 'node_id': 'MDQ...</td>\n",
       "    </tr>\n",
       "    <tr>\n",
       "      <th>1</th>\n",
       "      <td>1152726057</td>\n",
       "      <td>https://api.github.com/repos/pandas-dev/pandas...</td>\n",
       "      <td>https://api.github.com/repos/pandas-dev/pandas</td>\n",
       "      <td>https://api.github.com/repos/pandas-dev/pandas...</td>\n",
       "      <td>{'login': 'mroeschke', 'id': 10647082, 'node_i...</td>\n",
       "    </tr>\n",
       "    <tr>\n",
       "      <th>2</th>\n",
       "      <td>1152647346</td>\n",
       "      <td>https://api.github.com/repos/pandas-dev/pandas...</td>\n",
       "      <td>https://api.github.com/repos/pandas-dev/pandas</td>\n",
       "      <td>https://api.github.com/repos/pandas-dev/pandas...</td>\n",
       "      <td>{'login': 'lukemanley', 'id': 8519523, 'node_i...</td>\n",
       "    </tr>\n",
       "    <tr>\n",
       "      <th>3</th>\n",
       "      <td>1152408767</td>\n",
       "      <td>https://api.github.com/repos/pandas-dev/pandas...</td>\n",
       "      <td>https://api.github.com/repos/pandas-dev/pandas</td>\n",
       "      <td>https://api.github.com/repos/pandas-dev/pandas...</td>\n",
       "      <td>{'login': 'jbrockmendel', 'id': 8078968, 'node...</td>\n",
       "    </tr>\n",
       "  </tbody>\n",
       "</table>\n",
       "</div>"
      ],
      "text/plain": [
       "           id                                                url  \\\n",
       "0  1152939467  https://api.github.com/repos/pandas-dev/pandas...   \n",
       "1  1152726057  https://api.github.com/repos/pandas-dev/pandas...   \n",
       "2  1152647346  https://api.github.com/repos/pandas-dev/pandas...   \n",
       "3  1152408767  https://api.github.com/repos/pandas-dev/pandas...   \n",
       "\n",
       "                                   repository_url  \\\n",
       "0  https://api.github.com/repos/pandas-dev/pandas   \n",
       "1  https://api.github.com/repos/pandas-dev/pandas   \n",
       "2  https://api.github.com/repos/pandas-dev/pandas   \n",
       "3  https://api.github.com/repos/pandas-dev/pandas   \n",
       "\n",
       "                                          labels_url  \\\n",
       "0  https://api.github.com/repos/pandas-dev/pandas...   \n",
       "1  https://api.github.com/repos/pandas-dev/pandas...   \n",
       "2  https://api.github.com/repos/pandas-dev/pandas...   \n",
       "3  https://api.github.com/repos/pandas-dev/pandas...   \n",
       "\n",
       "                                                user  \n",
       "0  {'login': 'J0', 'id': 8011761, 'node_id': 'MDQ...  \n",
       "1  {'login': 'mroeschke', 'id': 10647082, 'node_i...  \n",
       "2  {'login': 'lukemanley', 'id': 8519523, 'node_i...  \n",
       "3  {'login': 'jbrockmendel', 'id': 8078968, 'node...  "
      ]
     },
     "execution_count": 18,
     "metadata": {},
     "output_type": "execute_result"
    }
   ],
   "source": [
    "df = pd.DataFrame(data1, columns=['id', 'url', 'repository_url', 'labels_url', 'user'])\n",
    "df.head(4)"
   ]
  },
  {
   "cell_type": "markdown",
   "id": "1d4a4768",
   "metadata": {},
   "source": [
    "#### Printing the rough result"
   ]
  },
  {
   "cell_type": "code",
   "execution_count": null,
   "id": "5647f0fc",
   "metadata": {},
   "outputs": [],
   "source": [
    "#for i in range(len(df['user'].iloc[0])):\n",
    "for k in df['user'].iloc[0]:\n",
    "    print(k, '---------------')\n",
    "    for i in range(len(df)):\n",
    "        if k =='id':\n",
    "            #k = 'user-id'\n",
    "            print(df['user'].iloc[i][k])\n",
    "        elif k=='url':\n",
    "            #k = 'url=id'\n",
    "            print(df['user'].iloc[i][k])\n",
    "        #df[k]\n",
    "        print(df['user'].iloc[i][k])"
   ]
  },
  {
   "cell_type": "markdown",
   "id": "4d01f5d9",
   "metadata": {},
   "source": [
    "## Final Code to Create Seperate Columns "
   ]
  },
  {
   "cell_type": "code",
   "execution_count": 19,
   "id": "69ae2f86",
   "metadata": {},
   "outputs": [],
   "source": [
    "for k in df['user'].iloc[0]:\n",
    "    lst = []\n",
    "    for i in range(len(df)):\n",
    "        lst.append(df['user'].iloc[i][k])\n",
    "        \n",
    "    if k =='id':\n",
    "        df['user-id'] = lst  # Renaming the id to user-id so that we dont overwrite the existing id column\n",
    "    elif k =='url':\n",
    "        df['user-url'] = lst # Renaming the id to user-ur so that we dont overwrite the existing url column\n",
    "        \n",
    "    df[k] = lst  # Inserting all the values to respective column"
   ]
  },
  {
   "cell_type": "markdown",
   "id": "b7483f66",
   "metadata": {},
   "source": [
    "## Preview of final Data Frame"
   ]
  },
  {
   "cell_type": "code",
   "execution_count": 20,
   "id": "82e4247e",
   "metadata": {},
   "outputs": [
    {
     "data": {
      "text/html": [
       "<div>\n",
       "<style scoped>\n",
       "    .dataframe tbody tr th:only-of-type {\n",
       "        vertical-align: middle;\n",
       "    }\n",
       "\n",
       "    .dataframe tbody tr th {\n",
       "        vertical-align: top;\n",
       "    }\n",
       "\n",
       "    .dataframe thead th {\n",
       "        text-align: right;\n",
       "    }\n",
       "</style>\n",
       "<table border=\"1\" class=\"dataframe\">\n",
       "  <thead>\n",
       "    <tr style=\"text-align: right;\">\n",
       "      <th></th>\n",
       "      <th>id</th>\n",
       "      <th>url</th>\n",
       "      <th>repository_url</th>\n",
       "      <th>labels_url</th>\n",
       "      <th>user</th>\n",
       "      <th>login</th>\n",
       "      <th>user-id</th>\n",
       "      <th>node_id</th>\n",
       "      <th>avatar_url</th>\n",
       "      <th>gravatar_id</th>\n",
       "      <th>...</th>\n",
       "      <th>following_url</th>\n",
       "      <th>gists_url</th>\n",
       "      <th>starred_url</th>\n",
       "      <th>subscriptions_url</th>\n",
       "      <th>organizations_url</th>\n",
       "      <th>repos_url</th>\n",
       "      <th>events_url</th>\n",
       "      <th>received_events_url</th>\n",
       "      <th>type</th>\n",
       "      <th>site_admin</th>\n",
       "    </tr>\n",
       "  </thead>\n",
       "  <tbody>\n",
       "    <tr>\n",
       "      <th>0</th>\n",
       "      <td>8011761</td>\n",
       "      <td>https://api.github.com/users/J0</td>\n",
       "      <td>https://api.github.com/repos/pandas-dev/pandas</td>\n",
       "      <td>https://api.github.com/repos/pandas-dev/pandas...</td>\n",
       "      <td>{'login': 'J0', 'id': 8011761, 'node_id': 'MDQ...</td>\n",
       "      <td>J0</td>\n",
       "      <td>8011761</td>\n",
       "      <td>MDQ6VXNlcjgwMTE3NjE=</td>\n",
       "      <td>https://avatars.githubusercontent.com/u/801176...</td>\n",
       "      <td></td>\n",
       "      <td>...</td>\n",
       "      <td>https://api.github.com/users/J0/following{/oth...</td>\n",
       "      <td>https://api.github.com/users/J0/gists{/gist_id}</td>\n",
       "      <td>https://api.github.com/users/J0/starred{/owner...</td>\n",
       "      <td>https://api.github.com/users/J0/subscriptions</td>\n",
       "      <td>https://api.github.com/users/J0/orgs</td>\n",
       "      <td>https://api.github.com/users/J0/repos</td>\n",
       "      <td>https://api.github.com/users/J0/events{/privacy}</td>\n",
       "      <td>https://api.github.com/users/J0/received_events</td>\n",
       "      <td>User</td>\n",
       "      <td>False</td>\n",
       "    </tr>\n",
       "    <tr>\n",
       "      <th>1</th>\n",
       "      <td>10647082</td>\n",
       "      <td>https://api.github.com/users/mroeschke</td>\n",
       "      <td>https://api.github.com/repos/pandas-dev/pandas</td>\n",
       "      <td>https://api.github.com/repos/pandas-dev/pandas...</td>\n",
       "      <td>{'login': 'mroeschke', 'id': 10647082, 'node_i...</td>\n",
       "      <td>mroeschke</td>\n",
       "      <td>10647082</td>\n",
       "      <td>MDQ6VXNlcjEwNjQ3MDgy</td>\n",
       "      <td>https://avatars.githubusercontent.com/u/106470...</td>\n",
       "      <td></td>\n",
       "      <td>...</td>\n",
       "      <td>https://api.github.com/users/mroeschke/followi...</td>\n",
       "      <td>https://api.github.com/users/mroeschke/gists{/...</td>\n",
       "      <td>https://api.github.com/users/mroeschke/starred...</td>\n",
       "      <td>https://api.github.com/users/mroeschke/subscri...</td>\n",
       "      <td>https://api.github.com/users/mroeschke/orgs</td>\n",
       "      <td>https://api.github.com/users/mroeschke/repos</td>\n",
       "      <td>https://api.github.com/users/mroeschke/events{...</td>\n",
       "      <td>https://api.github.com/users/mroeschke/receive...</td>\n",
       "      <td>User</td>\n",
       "      <td>False</td>\n",
       "    </tr>\n",
       "    <tr>\n",
       "      <th>2</th>\n",
       "      <td>8519523</td>\n",
       "      <td>https://api.github.com/users/lukemanley</td>\n",
       "      <td>https://api.github.com/repos/pandas-dev/pandas</td>\n",
       "      <td>https://api.github.com/repos/pandas-dev/pandas...</td>\n",
       "      <td>{'login': 'lukemanley', 'id': 8519523, 'node_i...</td>\n",
       "      <td>lukemanley</td>\n",
       "      <td>8519523</td>\n",
       "      <td>MDQ6VXNlcjg1MTk1MjM=</td>\n",
       "      <td>https://avatars.githubusercontent.com/u/851952...</td>\n",
       "      <td></td>\n",
       "      <td>...</td>\n",
       "      <td>https://api.github.com/users/lukemanley/follow...</td>\n",
       "      <td>https://api.github.com/users/lukemanley/gists{...</td>\n",
       "      <td>https://api.github.com/users/lukemanley/starre...</td>\n",
       "      <td>https://api.github.com/users/lukemanley/subscr...</td>\n",
       "      <td>https://api.github.com/users/lukemanley/orgs</td>\n",
       "      <td>https://api.github.com/users/lukemanley/repos</td>\n",
       "      <td>https://api.github.com/users/lukemanley/events...</td>\n",
       "      <td>https://api.github.com/users/lukemanley/receiv...</td>\n",
       "      <td>User</td>\n",
       "      <td>False</td>\n",
       "    </tr>\n",
       "    <tr>\n",
       "      <th>3</th>\n",
       "      <td>8078968</td>\n",
       "      <td>https://api.github.com/users/jbrockmendel</td>\n",
       "      <td>https://api.github.com/repos/pandas-dev/pandas</td>\n",
       "      <td>https://api.github.com/repos/pandas-dev/pandas...</td>\n",
       "      <td>{'login': 'jbrockmendel', 'id': 8078968, 'node...</td>\n",
       "      <td>jbrockmendel</td>\n",
       "      <td>8078968</td>\n",
       "      <td>MDQ6VXNlcjgwNzg5Njg=</td>\n",
       "      <td>https://avatars.githubusercontent.com/u/807896...</td>\n",
       "      <td></td>\n",
       "      <td>...</td>\n",
       "      <td>https://api.github.com/users/jbrockmendel/foll...</td>\n",
       "      <td>https://api.github.com/users/jbrockmendel/gist...</td>\n",
       "      <td>https://api.github.com/users/jbrockmendel/star...</td>\n",
       "      <td>https://api.github.com/users/jbrockmendel/subs...</td>\n",
       "      <td>https://api.github.com/users/jbrockmendel/orgs</td>\n",
       "      <td>https://api.github.com/users/jbrockmendel/repos</td>\n",
       "      <td>https://api.github.com/users/jbrockmendel/even...</td>\n",
       "      <td>https://api.github.com/users/jbrockmendel/rece...</td>\n",
       "      <td>User</td>\n",
       "      <td>False</td>\n",
       "    </tr>\n",
       "    <tr>\n",
       "      <th>4</th>\n",
       "      <td>36619387</td>\n",
       "      <td>https://api.github.com/users/weikhor</td>\n",
       "      <td>https://api.github.com/repos/pandas-dev/pandas</td>\n",
       "      <td>https://api.github.com/repos/pandas-dev/pandas...</td>\n",
       "      <td>{'login': 'weikhor', 'id': 36619387, 'node_id'...</td>\n",
       "      <td>weikhor</td>\n",
       "      <td>36619387</td>\n",
       "      <td>MDQ6VXNlcjM2NjE5Mzg3</td>\n",
       "      <td>https://avatars.githubusercontent.com/u/366193...</td>\n",
       "      <td></td>\n",
       "      <td>...</td>\n",
       "      <td>https://api.github.com/users/weikhor/following...</td>\n",
       "      <td>https://api.github.com/users/weikhor/gists{/gi...</td>\n",
       "      <td>https://api.github.com/users/weikhor/starred{/...</td>\n",
       "      <td>https://api.github.com/users/weikhor/subscript...</td>\n",
       "      <td>https://api.github.com/users/weikhor/orgs</td>\n",
       "      <td>https://api.github.com/users/weikhor/repos</td>\n",
       "      <td>https://api.github.com/users/weikhor/events{/p...</td>\n",
       "      <td>https://api.github.com/users/weikhor/received_...</td>\n",
       "      <td>User</td>\n",
       "      <td>False</td>\n",
       "    </tr>\n",
       "  </tbody>\n",
       "</table>\n",
       "<p>5 rows × 23 columns</p>\n",
       "</div>"
      ],
      "text/plain": [
       "         id                                        url  \\\n",
       "0   8011761            https://api.github.com/users/J0   \n",
       "1  10647082     https://api.github.com/users/mroeschke   \n",
       "2   8519523    https://api.github.com/users/lukemanley   \n",
       "3   8078968  https://api.github.com/users/jbrockmendel   \n",
       "4  36619387       https://api.github.com/users/weikhor   \n",
       "\n",
       "                                   repository_url  \\\n",
       "0  https://api.github.com/repos/pandas-dev/pandas   \n",
       "1  https://api.github.com/repos/pandas-dev/pandas   \n",
       "2  https://api.github.com/repos/pandas-dev/pandas   \n",
       "3  https://api.github.com/repos/pandas-dev/pandas   \n",
       "4  https://api.github.com/repos/pandas-dev/pandas   \n",
       "\n",
       "                                          labels_url  \\\n",
       "0  https://api.github.com/repos/pandas-dev/pandas...   \n",
       "1  https://api.github.com/repos/pandas-dev/pandas...   \n",
       "2  https://api.github.com/repos/pandas-dev/pandas...   \n",
       "3  https://api.github.com/repos/pandas-dev/pandas...   \n",
       "4  https://api.github.com/repos/pandas-dev/pandas...   \n",
       "\n",
       "                                                user         login   user-id  \\\n",
       "0  {'login': 'J0', 'id': 8011761, 'node_id': 'MDQ...            J0   8011761   \n",
       "1  {'login': 'mroeschke', 'id': 10647082, 'node_i...     mroeschke  10647082   \n",
       "2  {'login': 'lukemanley', 'id': 8519523, 'node_i...    lukemanley   8519523   \n",
       "3  {'login': 'jbrockmendel', 'id': 8078968, 'node...  jbrockmendel   8078968   \n",
       "4  {'login': 'weikhor', 'id': 36619387, 'node_id'...       weikhor  36619387   \n",
       "\n",
       "                node_id                                         avatar_url  \\\n",
       "0  MDQ6VXNlcjgwMTE3NjE=  https://avatars.githubusercontent.com/u/801176...   \n",
       "1  MDQ6VXNlcjEwNjQ3MDgy  https://avatars.githubusercontent.com/u/106470...   \n",
       "2  MDQ6VXNlcjg1MTk1MjM=  https://avatars.githubusercontent.com/u/851952...   \n",
       "3  MDQ6VXNlcjgwNzg5Njg=  https://avatars.githubusercontent.com/u/807896...   \n",
       "4  MDQ6VXNlcjM2NjE5Mzg3  https://avatars.githubusercontent.com/u/366193...   \n",
       "\n",
       "  gravatar_id  ...                                      following_url  \\\n",
       "0              ...  https://api.github.com/users/J0/following{/oth...   \n",
       "1              ...  https://api.github.com/users/mroeschke/followi...   \n",
       "2              ...  https://api.github.com/users/lukemanley/follow...   \n",
       "3              ...  https://api.github.com/users/jbrockmendel/foll...   \n",
       "4              ...  https://api.github.com/users/weikhor/following...   \n",
       "\n",
       "                                           gists_url  \\\n",
       "0    https://api.github.com/users/J0/gists{/gist_id}   \n",
       "1  https://api.github.com/users/mroeschke/gists{/...   \n",
       "2  https://api.github.com/users/lukemanley/gists{...   \n",
       "3  https://api.github.com/users/jbrockmendel/gist...   \n",
       "4  https://api.github.com/users/weikhor/gists{/gi...   \n",
       "\n",
       "                                         starred_url  \\\n",
       "0  https://api.github.com/users/J0/starred{/owner...   \n",
       "1  https://api.github.com/users/mroeschke/starred...   \n",
       "2  https://api.github.com/users/lukemanley/starre...   \n",
       "3  https://api.github.com/users/jbrockmendel/star...   \n",
       "4  https://api.github.com/users/weikhor/starred{/...   \n",
       "\n",
       "                                   subscriptions_url  \\\n",
       "0      https://api.github.com/users/J0/subscriptions   \n",
       "1  https://api.github.com/users/mroeschke/subscri...   \n",
       "2  https://api.github.com/users/lukemanley/subscr...   \n",
       "3  https://api.github.com/users/jbrockmendel/subs...   \n",
       "4  https://api.github.com/users/weikhor/subscript...   \n",
       "\n",
       "                                organizations_url  \\\n",
       "0            https://api.github.com/users/J0/orgs   \n",
       "1     https://api.github.com/users/mroeschke/orgs   \n",
       "2    https://api.github.com/users/lukemanley/orgs   \n",
       "3  https://api.github.com/users/jbrockmendel/orgs   \n",
       "4       https://api.github.com/users/weikhor/orgs   \n",
       "\n",
       "                                         repos_url  \\\n",
       "0            https://api.github.com/users/J0/repos   \n",
       "1     https://api.github.com/users/mroeschke/repos   \n",
       "2    https://api.github.com/users/lukemanley/repos   \n",
       "3  https://api.github.com/users/jbrockmendel/repos   \n",
       "4       https://api.github.com/users/weikhor/repos   \n",
       "\n",
       "                                          events_url  \\\n",
       "0   https://api.github.com/users/J0/events{/privacy}   \n",
       "1  https://api.github.com/users/mroeschke/events{...   \n",
       "2  https://api.github.com/users/lukemanley/events...   \n",
       "3  https://api.github.com/users/jbrockmendel/even...   \n",
       "4  https://api.github.com/users/weikhor/events{/p...   \n",
       "\n",
       "                                 received_events_url  type site_admin  \n",
       "0    https://api.github.com/users/J0/received_events  User      False  \n",
       "1  https://api.github.com/users/mroeschke/receive...  User      False  \n",
       "2  https://api.github.com/users/lukemanley/receiv...  User      False  \n",
       "3  https://api.github.com/users/jbrockmendel/rece...  User      False  \n",
       "4  https://api.github.com/users/weikhor/received_...  User      False  \n",
       "\n",
       "[5 rows x 23 columns]"
      ]
     },
     "execution_count": 20,
     "metadata": {},
     "output_type": "execute_result"
    }
   ],
   "source": [
    "df.head(5)"
   ]
  },
  {
   "cell_type": "markdown",
   "id": "a4a69c02",
   "metadata": {},
   "source": [
    "### Cross Check Final Data Frame with index 1 Record"
   ]
  },
  {
   "cell_type": "code",
   "execution_count": 21,
   "id": "0bf81e11",
   "metadata": {},
   "outputs": [
    {
     "data": {
      "text/plain": [
       "{'login': 'mroeschke',\n",
       " 'id': 10647082,\n",
       " 'node_id': 'MDQ6VXNlcjEwNjQ3MDgy',\n",
       " 'avatar_url': 'https://avatars.githubusercontent.com/u/10647082?v=4',\n",
       " 'gravatar_id': '',\n",
       " 'url': 'https://api.github.com/users/mroeschke',\n",
       " 'html_url': 'https://github.com/mroeschke',\n",
       " 'followers_url': 'https://api.github.com/users/mroeschke/followers',\n",
       " 'following_url': 'https://api.github.com/users/mroeschke/following{/other_user}',\n",
       " 'gists_url': 'https://api.github.com/users/mroeschke/gists{/gist_id}',\n",
       " 'starred_url': 'https://api.github.com/users/mroeschke/starred{/owner}{/repo}',\n",
       " 'subscriptions_url': 'https://api.github.com/users/mroeschke/subscriptions',\n",
       " 'organizations_url': 'https://api.github.com/users/mroeschke/orgs',\n",
       " 'repos_url': 'https://api.github.com/users/mroeschke/repos',\n",
       " 'events_url': 'https://api.github.com/users/mroeschke/events{/privacy}',\n",
       " 'received_events_url': 'https://api.github.com/users/mroeschke/received_events',\n",
       " 'type': 'User',\n",
       " 'site_admin': False}"
      ]
     },
     "execution_count": 21,
     "metadata": {},
     "output_type": "execute_result"
    }
   ],
   "source": [
    "df['user'].iloc[1]"
   ]
  },
  {
   "cell_type": "code",
   "execution_count": null,
   "id": "3ba24de7",
   "metadata": {},
   "outputs": [],
   "source": []
  }
 ],
 "metadata": {
  "kernelspec": {
   "display_name": "Python 3 (ipykernel)",
   "language": "python",
   "name": "python3"
  },
  "language_info": {
   "codemirror_mode": {
    "name": "ipython",
    "version": 3
   },
   "file_extension": ".py",
   "mimetype": "text/x-python",
   "name": "python",
   "nbconvert_exporter": "python",
   "pygments_lexer": "ipython3",
   "version": "3.9.7"
  }
 },
 "nbformat": 4,
 "nbformat_minor": 5
}
