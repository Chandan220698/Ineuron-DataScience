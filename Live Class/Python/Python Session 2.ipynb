{
 "cells": [
  {
   "cell_type": "code",
   "execution_count": 1,
   "id": "4a7ba78d",
   "metadata": {},
   "outputs": [],
   "source": [
    "s = \"kumar\""
   ]
  },
  {
   "cell_type": "code",
   "execution_count": 2,
   "id": "deb0cded",
   "metadata": {},
   "outputs": [
    {
     "data": {
      "text/plain": [
       "'kumar'"
      ]
     },
     "execution_count": 2,
     "metadata": {},
     "output_type": "execute_result"
    }
   ],
   "source": [
    "s"
   ]
  },
  {
   "cell_type": "code",
   "execution_count": 3,
   "id": "ed43d061",
   "metadata": {},
   "outputs": [
    {
     "data": {
      "text/plain": [
       "str"
      ]
     },
     "execution_count": 3,
     "metadata": {},
     "output_type": "execute_result"
    }
   ],
   "source": [
    "type(s)"
   ]
  },
  {
   "cell_type": "code",
   "execution_count": 4,
   "id": "a7acf59b",
   "metadata": {},
   "outputs": [
    {
     "data": {
      "text/plain": [
       "('k', 'u', 'm', 'r')"
      ]
     },
     "execution_count": 4,
     "metadata": {},
     "output_type": "execute_result"
    }
   ],
   "source": [
    "s[0], s[1], s[2], s[4]"
   ]
  },
  {
   "cell_type": "code",
   "execution_count": 5,
   "id": "6225f1e1",
   "metadata": {},
   "outputs": [
    {
     "data": {
      "text/plain": [
       "'r'"
      ]
     },
     "execution_count": 5,
     "metadata": {},
     "output_type": "execute_result"
    }
   ],
   "source": [
    "s[-1]"
   ]
  },
  {
   "cell_type": "code",
   "execution_count": 6,
   "id": "b3fe28d4",
   "metadata": {},
   "outputs": [],
   "source": [
    "Job = \"Data Science\""
   ]
  },
  {
   "cell_type": "code",
   "execution_count": 7,
   "id": "de8d9423",
   "metadata": {},
   "outputs": [
    {
     "data": {
      "text/plain": [
       "'e'"
      ]
     },
     "execution_count": 7,
     "metadata": {},
     "output_type": "execute_result"
    }
   ],
   "source": [
    "Job[-1]"
   ]
  },
  {
   "cell_type": "code",
   "execution_count": 10,
   "id": "96193dd6",
   "metadata": {},
   "outputs": [
    {
     "data": {
      "text/plain": [
       "'Data Sci'"
      ]
     },
     "execution_count": 10,
     "metadata": {},
     "output_type": "execute_result"
    }
   ],
   "source": [
    "Job[0:8] ## Exculding upper bound index"
   ]
  },
  {
   "cell_type": "code",
   "execution_count": 11,
   "id": "03dc29f2",
   "metadata": {},
   "outputs": [
    {
     "data": {
      "text/plain": [
       "'Data Science'"
      ]
     },
     "execution_count": 11,
     "metadata": {},
     "output_type": "execute_result"
    }
   ],
   "source": [
    "Job[0:3000]"
   ]
  },
  {
   "cell_type": "code",
   "execution_count": 13,
   "id": "4918c14f",
   "metadata": {},
   "outputs": [],
   "source": [
    "## Out of bound error only for indiviual indexing\n",
    "## No error in case of range "
   ]
  },
  {
   "cell_type": "code",
   "execution_count": 16,
   "id": "8accaf80",
   "metadata": {},
   "outputs": [],
   "source": [
    "b = \"ineuron\""
   ]
  },
  {
   "cell_type": "code",
   "execution_count": 17,
   "id": "bec1c87e",
   "metadata": {},
   "outputs": [
    {
     "ename": "IndexError",
     "evalue": "string index out of range",
     "output_type": "error",
     "traceback": [
      "\u001b[1;31m---------------------------------------------------------------------------\u001b[0m",
      "\u001b[1;31mIndexError\u001b[0m                                Traceback (most recent call last)",
      "\u001b[1;32mC:\\Users\\CHANDA~1\\AppData\\Local\\Temp/ipykernel_10884/3754256487.py\u001b[0m in \u001b[0;36m<module>\u001b[1;34m\u001b[0m\n\u001b[1;32m----> 1\u001b[1;33m \u001b[0mb\u001b[0m\u001b[1;33m[\u001b[0m\u001b[1;36m3000\u001b[0m\u001b[1;33m]\u001b[0m\u001b[1;33m\u001b[0m\u001b[1;33m\u001b[0m\u001b[0m\n\u001b[0m",
      "\u001b[1;31mIndexError\u001b[0m: string index out of range"
     ]
    }
   ],
   "source": [
    "b[3000]"
   ]
  },
  {
   "cell_type": "code",
   "execution_count": 18,
   "id": "1945d5de",
   "metadata": {},
   "outputs": [
    {
     "data": {
      "text/plain": [
       "''"
      ]
     },
     "execution_count": 18,
     "metadata": {},
     "output_type": "execute_result"
    }
   ],
   "source": [
    "b[-1:-4]"
   ]
  },
  {
   "cell_type": "code",
   "execution_count": 20,
   "id": "d9a512f7",
   "metadata": {},
   "outputs": [
    {
     "data": {
      "text/plain": [
       "'ineu'"
      ]
     },
     "execution_count": 20,
     "metadata": {},
     "output_type": "execute_result"
    }
   ],
   "source": [
    "b[0:4]"
   ]
  },
  {
   "cell_type": "code",
   "execution_count": 21,
   "id": "16213046",
   "metadata": {},
   "outputs": [
    {
     "data": {
      "text/plain": [
       "'kumar'"
      ]
     },
     "execution_count": 21,
     "metadata": {},
     "output_type": "execute_result"
    }
   ],
   "source": [
    "s"
   ]
  },
  {
   "cell_type": "code",
   "execution_count": 22,
   "id": "2224a60c",
   "metadata": {},
   "outputs": [
    {
     "data": {
      "text/plain": [
       "'kumar'"
      ]
     },
     "execution_count": 22,
     "metadata": {},
     "output_type": "execute_result"
    }
   ],
   "source": [
    "s[0:300]"
   ]
  },
  {
   "cell_type": "code",
   "execution_count": 24,
   "id": "14ad2033",
   "metadata": {},
   "outputs": [
    {
     "data": {
      "text/plain": [
       "'kumar'"
      ]
     },
     "execution_count": 24,
     "metadata": {},
     "output_type": "execute_result"
    }
   ],
   "source": [
    "## start [end] step_size\n",
    "s[0:300:1]"
   ]
  },
  {
   "cell_type": "code",
   "execution_count": 26,
   "id": "405457a0",
   "metadata": {},
   "outputs": [
    {
     "data": {
      "text/plain": [
       "'kmr'"
      ]
     },
     "execution_count": 26,
     "metadata": {},
     "output_type": "execute_result"
    }
   ],
   "source": [
    "s[0:300:2]"
   ]
  },
  {
   "cell_type": "code",
   "execution_count": 27,
   "id": "1be7ee53",
   "metadata": {},
   "outputs": [
    {
     "data": {
      "text/plain": [
       "''"
      ]
     },
     "execution_count": 27,
     "metadata": {},
     "output_type": "execute_result"
    }
   ],
   "source": [
    "s[0:100:-1]"
   ]
  },
  {
   "cell_type": "code",
   "execution_count": 28,
   "id": "a8d89769",
   "metadata": {},
   "outputs": [
    {
     "data": {
      "text/plain": [
       "''"
      ]
     },
     "execution_count": 28,
     "metadata": {},
     "output_type": "execute_result"
    }
   ],
   "source": [
    "s[-1:-4]"
   ]
  },
  {
   "cell_type": "code",
   "execution_count": 30,
   "id": "7225c789",
   "metadata": {},
   "outputs": [
    {
     "data": {
      "text/plain": [
       "'ram'"
      ]
     },
     "execution_count": 30,
     "metadata": {},
     "output_type": "execute_result"
    }
   ],
   "source": [
    "s[-1:-4:-1]"
   ]
  },
  {
   "cell_type": "code",
   "execution_count": 47,
   "id": "80bf02ff",
   "metadata": {},
   "outputs": [
    {
     "data": {
      "text/plain": [
       "''"
      ]
     },
     "execution_count": 47,
     "metadata": {},
     "output_type": "execute_result"
    }
   ],
   "source": [
    "## discountinity in s[-3:1] string\n",
    "s[-3:1] "
   ]
  },
  {
   "cell_type": "code",
   "execution_count": 48,
   "id": "8bb8ade4",
   "metadata": {},
   "outputs": [
    {
     "data": {
      "text/plain": [
       "'k'"
      ]
     },
     "execution_count": 48,
     "metadata": {},
     "output_type": "execute_result"
    }
   ],
   "source": [
    "s[0:-8:-1]"
   ]
  },
  {
   "cell_type": "code",
   "execution_count": 49,
   "id": "a607a42d",
   "metadata": {},
   "outputs": [
    {
     "data": {
      "text/plain": [
       "'kumar'"
      ]
     },
     "execution_count": 49,
     "metadata": {},
     "output_type": "execute_result"
    }
   ],
   "source": [
    "s[::]"
   ]
  },
  {
   "cell_type": "code",
   "execution_count": 50,
   "id": "aace5e6f",
   "metadata": {},
   "outputs": [
    {
     "data": {
      "text/plain": [
       "'ramuk'"
      ]
     },
     "execution_count": 50,
     "metadata": {},
     "output_type": "execute_result"
    }
   ],
   "source": [
    "s[::-1]"
   ]
  },
  {
   "cell_type": "code",
   "execution_count": 51,
   "id": "f3c2544a",
   "metadata": {},
   "outputs": [
    {
     "data": {
      "text/plain": [
       "'ramuk'"
      ]
     },
     "execution_count": 51,
     "metadata": {},
     "output_type": "execute_result"
    }
   ],
   "source": [
    "s[-1::-1]"
   ]
  },
  {
   "cell_type": "code",
   "execution_count": 52,
   "id": "37a77603",
   "metadata": {},
   "outputs": [],
   "source": [
    "msg = \"I am working with Ineuron\""
   ]
  },
  {
   "cell_type": "code",
   "execution_count": 53,
   "id": "cf7cd692",
   "metadata": {},
   "outputs": [
    {
     "data": {
      "text/plain": [
       "'noruenI htiw gnikrow ma I'"
      ]
     },
     "execution_count": 53,
     "metadata": {},
     "output_type": "execute_result"
    }
   ],
   "source": [
    "msg[::-1]"
   ]
  },
  {
   "cell_type": "code",
   "execution_count": 54,
   "id": "283a8151",
   "metadata": {},
   "outputs": [
    {
     "data": {
      "text/plain": [
       "'ith In'"
      ]
     },
     "execution_count": 54,
     "metadata": {},
     "output_type": "execute_result"
    }
   ],
   "source": [
    "msg[-11:20]"
   ]
  },
  {
   "cell_type": "code",
   "execution_count": 55,
   "id": "24cfbb48",
   "metadata": {},
   "outputs": [
    {
     "data": {
      "text/plain": [
       "'ck ck ck '"
      ]
     },
     "execution_count": 55,
     "metadata": {},
     "output_type": "execute_result"
    }
   ],
   "source": [
    "\"ck \" * 3"
   ]
  },
  {
   "cell_type": "code",
   "execution_count": 56,
   "id": "ba3091a8",
   "metadata": {},
   "outputs": [
    {
     "data": {
      "text/plain": [
       "3"
      ]
     },
     "execution_count": 56,
     "metadata": {},
     "output_type": "execute_result"
    }
   ],
   "source": [
    "True * 3"
   ]
  },
  {
   "cell_type": "code",
   "execution_count": 57,
   "id": "926c03c7",
   "metadata": {},
   "outputs": [
    {
     "data": {
      "text/plain": [
       "'I am working with Ineuron'"
      ]
     },
     "execution_count": 57,
     "metadata": {},
     "output_type": "execute_result"
    }
   ],
   "source": [
    "msg"
   ]
  },
  {
   "cell_type": "code",
   "execution_count": 60,
   "id": "6541dfcb",
   "metadata": {},
   "outputs": [
    {
     "data": {
      "text/plain": [
       "25"
      ]
     },
     "execution_count": 60,
     "metadata": {},
     "output_type": "execute_result"
    }
   ],
   "source": [
    "len(msg)"
   ]
  },
  {
   "cell_type": "code",
   "execution_count": 61,
   "id": "816c5610",
   "metadata": {},
   "outputs": [
    {
     "data": {
      "text/plain": [
       "2"
      ]
     },
     "execution_count": 61,
     "metadata": {},
     "output_type": "execute_result"
    }
   ],
   "source": [
    "msg.find('a')"
   ]
  },
  {
   "cell_type": "code",
   "execution_count": 62,
   "id": "bb9f12c0",
   "metadata": {},
   "outputs": [
    {
     "data": {
      "text/plain": [
       "13"
      ]
     },
     "execution_count": 62,
     "metadata": {},
     "output_type": "execute_result"
    }
   ],
   "source": [
    "msg.find('with')"
   ]
  },
  {
   "cell_type": "code",
   "execution_count": 63,
   "id": "b8493aeb",
   "metadata": {},
   "outputs": [
    {
     "data": {
      "text/plain": [
       "2"
      ]
     },
     "execution_count": 63,
     "metadata": {},
     "output_type": "execute_result"
    }
   ],
   "source": [
    "msg.count('i')"
   ]
  },
  {
   "cell_type": "code",
   "execution_count": 64,
   "id": "867a9e35",
   "metadata": {},
   "outputs": [
    {
     "data": {
      "text/plain": [
       "['I', 'am', 'working', 'with', 'Ineuron']"
      ]
     },
     "execution_count": 64,
     "metadata": {},
     "output_type": "execute_result"
    }
   ],
   "source": [
    "msg.split()"
   ]
  },
  {
   "cell_type": "code",
   "execution_count": 65,
   "id": "f53814e0",
   "metadata": {},
   "outputs": [
    {
     "data": {
      "text/plain": [
       "['I am work', 'ng w', 'th Ineuron']"
      ]
     },
     "execution_count": 65,
     "metadata": {},
     "output_type": "execute_result"
    }
   ],
   "source": [
    "msg.split(sep = 'i')"
   ]
  },
  {
   "cell_type": "code",
   "execution_count": 66,
   "id": "92a4c0e2",
   "metadata": {},
   "outputs": [
    {
     "data": {
      "text/plain": [
       "'I am working with Ineuron'"
      ]
     },
     "execution_count": 66,
     "metadata": {},
     "output_type": "execute_result"
    }
   ],
   "source": [
    "msg"
   ]
  },
  {
   "cell_type": "code",
   "execution_count": 67,
   "id": "b1adb1f3",
   "metadata": {},
   "outputs": [
    {
     "data": {
      "text/plain": [
       "'I AM WORKING WITH INEURON'"
      ]
     },
     "execution_count": 67,
     "metadata": {},
     "output_type": "execute_result"
    }
   ],
   "source": [
    "msg.upper()"
   ]
  },
  {
   "cell_type": "code",
   "execution_count": 68,
   "id": "2ec96982",
   "metadata": {},
   "outputs": [],
   "source": [
    "name = 'Chandan Kumar'"
   ]
  },
  {
   "cell_type": "code",
   "execution_count": 69,
   "id": "010becfb",
   "metadata": {},
   "outputs": [
    {
     "data": {
      "text/plain": [
       "'cHANDAN kUMAR'"
      ]
     },
     "execution_count": 69,
     "metadata": {},
     "output_type": "execute_result"
    }
   ],
   "source": [
    "name.swapcase()"
   ]
  },
  {
   "cell_type": "code",
   "execution_count": 70,
   "id": "2defd6e7",
   "metadata": {},
   "outputs": [
    {
     "data": {
      "text/plain": [
       "'I Am Working With Ineuron'"
      ]
     },
     "execution_count": 70,
     "metadata": {},
     "output_type": "execute_result"
    }
   ],
   "source": [
    "msg.title()"
   ]
  },
  {
   "cell_type": "code",
   "execution_count": 71,
   "id": "386df338",
   "metadata": {},
   "outputs": [
    {
     "data": {
      "text/plain": [
       "'I am working with ineuron'"
      ]
     },
     "execution_count": 71,
     "metadata": {},
     "output_type": "execute_result"
    }
   ],
   "source": [
    "msg.capitalize()"
   ]
  },
  {
   "cell_type": "code",
   "execution_count": 72,
   "id": "9cbd99ea",
   "metadata": {},
   "outputs": [],
   "source": [
    "s1 = \"This is new string. Hello wOrld!\""
   ]
  },
  {
   "cell_type": "code",
   "execution_count": 73,
   "id": "c9bed973",
   "metadata": {},
   "outputs": [
    {
     "data": {
      "text/plain": [
       "'This is new string. hello world!'"
      ]
     },
     "execution_count": 73,
     "metadata": {},
     "output_type": "execute_result"
    }
   ],
   "source": [
    "s1.capitalize()"
   ]
  },
  {
   "cell_type": "code",
   "execution_count": 75,
   "id": "1a772b36",
   "metadata": {},
   "outputs": [
    {
     "data": {
      "text/plain": [
       "'K u m a r'"
      ]
     },
     "execution_count": 75,
     "metadata": {},
     "output_type": "execute_result"
    }
   ],
   "source": [
    "\" \".join(\"Kumar\")"
   ]
  },
  {
   "cell_type": "code",
   "execution_count": 76,
   "id": "48881cf5",
   "metadata": {},
   "outputs": [
    {
     "data": {
      "text/plain": [
       "'C$h$a$n$d$a$n'"
      ]
     },
     "execution_count": 76,
     "metadata": {},
     "output_type": "execute_result"
    }
   ],
   "source": [
    "\"$\".join(\"Chandan\")"
   ]
  },
  {
   "cell_type": "code",
   "execution_count": 81,
   "id": "1ab2818c",
   "metadata": {},
   "outputs": [
    {
     "data": {
      "text/plain": [
       "'#I am working with Ineuron#I am working with Ineuron#'"
      ]
     },
     "execution_count": 81,
     "metadata": {},
     "output_type": "execute_result"
    }
   ],
   "source": [
    "msg.join(\"###\")"
   ]
  },
  {
   "cell_type": "code",
   "execution_count": 82,
   "id": "11531ad5",
   "metadata": {},
   "outputs": [
    {
     "data": {
      "text/plain": [
       "<reversed at 0x1d83f0e57c0>"
      ]
     },
     "execution_count": 82,
     "metadata": {},
     "output_type": "execute_result"
    }
   ],
   "source": [
    "reversed(msg)"
   ]
  },
  {
   "cell_type": "code",
   "execution_count": 85,
   "id": "831dcf61",
   "metadata": {},
   "outputs": [
    {
     "data": {
      "text/plain": [
       "'<reversed object at 0x000001D83F456DF0>'"
      ]
     },
     "execution_count": 85,
     "metadata": {},
     "output_type": "execute_result"
    }
   ],
   "source": [
    "## why not giving string\n",
    "str(reversed(msg))"
   ]
  },
  {
   "cell_type": "code",
   "execution_count": 86,
   "id": "be140bdb",
   "metadata": {},
   "outputs": [
    {
     "data": {
      "text/plain": [
       "''"
      ]
     },
     "execution_count": 86,
     "metadata": {},
     "output_type": "execute_result"
    }
   ],
   "source": [
    "str()"
   ]
  },
  {
   "cell_type": "code",
   "execution_count": 87,
   "id": "07dedc4c",
   "metadata": {},
   "outputs": [
    {
     "data": {
      "text/plain": [
       "'  Lets try to      strip the string        '"
      ]
     },
     "execution_count": 87,
     "metadata": {},
     "output_type": "execute_result"
    }
   ],
   "source": [
    "s2 = \"  Lets try to      strip the string        \"\n",
    "s2"
   ]
  },
  {
   "cell_type": "code",
   "execution_count": 88,
   "id": "0c083fcb",
   "metadata": {},
   "outputs": [
    {
     "data": {
      "text/plain": [
       "'Lets try to      strip the string        '"
      ]
     },
     "execution_count": 88,
     "metadata": {},
     "output_type": "execute_result"
    }
   ],
   "source": [
    "s2.lstrip()"
   ]
  },
  {
   "cell_type": "code",
   "execution_count": 89,
   "id": "def44a54",
   "metadata": {},
   "outputs": [
    {
     "data": {
      "text/plain": [
       "'  Lets try to      strip the string'"
      ]
     },
     "execution_count": 89,
     "metadata": {},
     "output_type": "execute_result"
    }
   ],
   "source": [
    "s2.rstrip()"
   ]
  },
  {
   "cell_type": "code",
   "execution_count": 90,
   "id": "66aea029",
   "metadata": {},
   "outputs": [
    {
     "data": {
      "text/plain": [
       "'Lets try to      strip the string'"
      ]
     },
     "execution_count": 90,
     "metadata": {},
     "output_type": "execute_result"
    }
   ],
   "source": [
    "s2.strip()"
   ]
  },
  {
   "cell_type": "code",
   "execution_count": 93,
   "id": "3161192e",
   "metadata": {},
   "outputs": [
    {
     "data": {
      "text/plain": [
       "'Chandan\\tKumar'"
      ]
     },
     "execution_count": 93,
     "metadata": {},
     "output_type": "execute_result"
    }
   ],
   "source": [
    "\"Chandan\\tKumar\""
   ]
  },
  {
   "cell_type": "code",
   "execution_count": 95,
   "id": "a98695d2",
   "metadata": {},
   "outputs": [
    {
     "data": {
      "text/plain": [
       "'Chandan Kumar'"
      ]
     },
     "execution_count": 95,
     "metadata": {},
     "output_type": "execute_result"
    }
   ],
   "source": [
    "\"Chandan\\tKumar\".expandtabs()"
   ]
  },
  {
   "cell_type": "code",
   "execution_count": 96,
   "id": "6cf4ea41",
   "metadata": {},
   "outputs": [
    {
     "data": {
      "text/plain": [
       "True"
      ]
     },
     "execution_count": 96,
     "metadata": {},
     "output_type": "execute_result"
    }
   ],
   "source": [
    "\"CHANDAN\".isupper()"
   ]
  },
  {
   "cell_type": "code",
   "execution_count": 98,
   "id": "913eaa6f",
   "metadata": {},
   "outputs": [],
   "source": [
    "s3 = \"Case\""
   ]
  },
  {
   "cell_type": "code",
   "execution_count": 99,
   "id": "d67b5c5d",
   "metadata": {},
   "outputs": [
    {
     "data": {
      "text/plain": [
       "False"
      ]
     },
     "execution_count": 99,
     "metadata": {},
     "output_type": "execute_result"
    }
   ],
   "source": [
    "s3.islower()"
   ]
  },
  {
   "cell_type": "code",
   "execution_count": 100,
   "id": "8854ef70",
   "metadata": {},
   "outputs": [
    {
     "data": {
      "text/plain": [
       "False"
      ]
     },
     "execution_count": 100,
     "metadata": {},
     "output_type": "execute_result"
    }
   ],
   "source": [
    "s2.isspace()"
   ]
  },
  {
   "cell_type": "code",
   "execution_count": 101,
   "id": "036e3d16",
   "metadata": {},
   "outputs": [
    {
     "data": {
      "text/plain": [
       "True"
      ]
     },
     "execution_count": 101,
     "metadata": {},
     "output_type": "execute_result"
    }
   ],
   "source": [
    "\" \".isspace()"
   ]
  },
  {
   "cell_type": "code",
   "execution_count": 102,
   "id": "dae3ae6a",
   "metadata": {},
   "outputs": [
    {
     "data": {
      "text/plain": [
       "True"
      ]
     },
     "execution_count": 102,
     "metadata": {},
     "output_type": "execute_result"
    }
   ],
   "source": [
    "\"1234\".isdigit()"
   ]
  },
  {
   "cell_type": "code",
   "execution_count": 103,
   "id": "1da211b1",
   "metadata": {},
   "outputs": [
    {
     "data": {
      "text/plain": [
       "['Chandan', 2222, 12.34, True, (3+69j)]"
      ]
     },
     "execution_count": 103,
     "metadata": {},
     "output_type": "execute_result"
    }
   ],
   "source": [
    "l = [\"Chandan\", 2222, 12.34, True, 3 + 69j]\n",
    "l"
   ]
  },
  {
   "cell_type": "code",
   "execution_count": 104,
   "id": "a28292be",
   "metadata": {},
   "outputs": [
    {
     "data": {
      "text/plain": [
       "2222"
      ]
     },
     "execution_count": 104,
     "metadata": {},
     "output_type": "execute_result"
    }
   ],
   "source": [
    "l[1]"
   ]
  },
  {
   "cell_type": "code",
   "execution_count": 105,
   "id": "2e10acfb",
   "metadata": {},
   "outputs": [
    {
     "data": {
      "text/plain": [
       "[(3+69j), True, 12.34, 2222, 'Chandan']"
      ]
     },
     "execution_count": 105,
     "metadata": {},
     "output_type": "execute_result"
    }
   ],
   "source": [
    "l[::-1]"
   ]
  },
  {
   "cell_type": "code",
   "execution_count": 109,
   "id": "203dfefc",
   "metadata": {},
   "outputs": [
    {
     "data": {
      "text/plain": [
       "[(3+69j)]"
      ]
     },
     "execution_count": 109,
     "metadata": {},
     "output_type": "execute_result"
    }
   ],
   "source": [
    "l[4:5]"
   ]
  },
  {
   "cell_type": "code",
   "execution_count": 110,
   "id": "d91a5a42",
   "metadata": {},
   "outputs": [
    {
     "data": {
      "text/plain": [
       "[(3+69j)]"
      ]
     },
     "execution_count": 110,
     "metadata": {},
     "output_type": "execute_result"
    }
   ],
   "source": [
    "l[-1:5]"
   ]
  },
  {
   "cell_type": "code",
   "execution_count": null,
   "id": "a44909e5",
   "metadata": {},
   "outputs": [],
   "source": []
  }
 ],
 "metadata": {
  "kernelspec": {
   "display_name": "Python 3 (ipykernel)",
   "language": "python",
   "name": "python3"
  },
  "language_info": {
   "codemirror_mode": {
    "name": "ipython",
    "version": 3
   },
   "file_extension": ".py",
   "mimetype": "text/x-python",
   "name": "python",
   "nbconvert_exporter": "python",
   "pygments_lexer": "ipython3",
   "version": "3.9.7"
  }
 },
 "nbformat": 4,
 "nbformat_minor": 5
}
